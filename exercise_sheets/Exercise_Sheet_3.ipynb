{
 "cells": [
  {
   "cell_type": "markdown",
   "source": [
    "# Natural Language Processing\n",
    "\n",
    "## Exercise Sheet 3"
   ],
   "metadata": {}
  },
  {
   "cell_type": "code",
   "execution_count": 41,
   "source": [
    "#imports for all exercises\r\n",
    "import random,re\r\n",
    "from nltk.corpus import brown\r\n"
   ],
   "outputs": [],
   "metadata": {}
  },
  {
   "cell_type": "markdown",
   "source": [
    "### Exercise 1\n",
    "\n",
    "Rewrite the following loop as a list comprehension:"
   ],
   "metadata": {}
  },
  {
   "cell_type": "code",
   "execution_count": 1,
   "source": [
    "sent = ['The', 'dog', 'gave', 'John', 'the', 'newspaper'] \r\n",
    "result = [] \r\n",
    "for word in sent: \r\n",
    "    word_len = (word, len(word)) \r\n",
    "    result.append(word_len) \r\n",
    "result"
   ],
   "outputs": [
    {
     "output_type": "execute_result",
     "data": {
      "text/plain": [
       "[('The', 3),\n",
       " ('dog', 3),\n",
       " ('gave', 4),\n",
       " ('John', 4),\n",
       " ('the', 3),\n",
       " ('newspaper', 9)]"
      ]
     },
     "metadata": {},
     "execution_count": 1
    }
   ],
   "metadata": {}
  },
  {
   "cell_type": "code",
   "execution_count": 1,
   "source": [
    "sent = ['The', 'dog', 'gave', 'John', 'the', 'newspaper'] \r\n",
    "result = [(x,len(x)) for x in sent ]\r\n",
    "\r\n",
    "result"
   ],
   "outputs": [
    {
     "output_type": "execute_result",
     "data": {
      "text/plain": [
       "[('The', 3),\n",
       " ('dog', 3),\n",
       " ('gave', 4),\n",
       " ('John', 4),\n",
       " ('the', 3),\n",
       " ('newspaper', 9)]"
      ]
     },
     "metadata": {},
     "execution_count": 1
    }
   ],
   "metadata": {}
  },
  {
   "cell_type": "markdown",
   "source": [
    "### Exercise 2\n",
    "\n",
    "Pig Latin is a simple transformation of English text. Each word of the text is converted as follows: move any consonant (or consonant cluster) that appears at the start of the word to the end, then append \"ay\", e.g. \"string\" $\\rightarrow$ \"ingstray\". If a word starts with a vowel, just add \"way\" to the end, e.g. \"idle\" $\\rightarrow$ \"idleway\". \n",
    "\n",
    "Write a function to convert a word to Pig Latin. Test it with the words \"pig\", \"cheers\", and \"omelet\".\n"
   ],
   "metadata": {}
  },
  {
   "cell_type": "code",
   "execution_count": 11,
   "source": [
    "# first check if word starts with vowel; yes? -> return word + way\r\n",
    "# no? -> slice the first char and put it to the end, check again\r\n",
    "\r\n",
    "def to_pig_latin(word) :\r\n",
    "    vowel = ['a','e','i','o','u']\r\n",
    "    for char in vowel :\r\n",
    "        if word.startswith(char):\r\n",
    "            return (word + 'way')\r\n",
    "\r\n",
    "    try:\r\n",
    "        for char in word:\r\n",
    "            if char in vowel:\r\n",
    "                return word + 'ay'\r\n",
    "            else:\r\n",
    "                word = word[1:] + char\r\n",
    "    except:\r\n",
    "        return \"Cannot transform to pig latin\"\r\n",
    "    return word\r\n",
    "\r\n",
    "to_pig_latin('cheers')"
   ],
   "outputs": [
    {
     "output_type": "execute_result",
     "data": {
      "text/plain": [
       "'eerschay'"
      ]
     },
     "metadata": {},
     "execution_count": 11
    }
   ],
   "metadata": {}
  },
  {
   "cell_type": "markdown",
   "source": [
    "### Exercise 3\n",
    "\n",
    "Python's `random` module includes a function `choice()` which randomly chooses an item from a sequence, e.g. `choice('aehh ')` will produce one of four possible characters, with the letter \"h\" being twice as frequent as the others. Write a generator expression that produces a sequence of 500 randomly chosen letters drawn from the string \"aehh \", and put this expression inside a call to the `''.join()` function, to concatenate them into one long string. You should get a result that looks like uncontrolled sneezing or maniacal laughter: \"he  haha ee  heheeh eha\". Use `split()` and `join()` again to normalize the whitespace in this string."
   ],
   "metadata": {}
  },
  {
   "cell_type": "code",
   "execution_count": 36,
   "source": [
    "# create a number of random characters, join them to a string, split them again to remove multiple white spaces and join them back to one string\r\n",
    "\r\n",
    "def random_expression(string, number=500):\r\n",
    "    counter = 0\r\n",
    "    list_ = []\r\n",
    "    while counter < number:\r\n",
    "        list_.append(random.choice(string))\r\n",
    "        counter += 1\r\n",
    "    returnString = ''.join(list_)\r\n",
    "    list_ = re.split(r'[ \\t\\n]+',returnString)\r\n",
    "    return ' '.join(list_)\r\n",
    "\r\n",
    "random_expression('aehh ')"
   ],
   "outputs": [
    {
     "output_type": "execute_result",
     "data": {
      "text/plain": [
       "'hehah hea ahehhaheh hheaaehahah e a e eaeeehha a ea a hhh e hha hhhheahhea a aa hhehhh ha heee he hhha hehahehaae haeaeaah eaaheae hhah hhhh hhhhehehaaheeheeahhhh ahaeh haeehaea eeaaah aeahhehhe hahhehhh hahah hhhhha hh eh heehaa eeh eaa aaehah aahhaahh e h hh eheh eaehahahaeh aheahhheee ehhh ehaehaaae ehheehhaaa ha hahhhhaeah hhhhh eahheeeah h a heaehhhehehh hehae e e hh ahheh hhh ahhaa a aeaeeha aheah aeeh hah hhaaehheah hhehae a ah he hheeee haahhhhh heae e h hae eaea e a e'"
      ]
     },
     "metadata": {},
     "execution_count": 36
    }
   ],
   "metadata": {}
  },
  {
   "cell_type": "markdown",
   "source": [
    "### Exercise 4\n",
    "\n",
    "Readability measures are used to score the reading difficulty of a text, for the purposes of selecting texts of appropriate difficulty for language learners. Let us define $\\mu_w$ to be the average number of letters per word, and $\\mu_s$ to be the average number of words per sentence, in a given text. The Automated Readability Index (ARI) of the text is defined to be: $4.71 \\mu_w + 0.5 \\mu_s - 21.43$. Compute the ARI score for the \"lore\" and \"learned\" genre of the Brown Corpus. Make use of the fact that `nltk.corpus.brown.words()` produces a sequence of words, while `nltk.corpus.brown.sents()` produces a sequence of sentences.\n"
   ],
   "metadata": {}
  },
  {
   "cell_type": "code",
   "execution_count": 57,
   "source": [
    "def ari_score(genre,text=brown):\r\n",
    "    #yw = sum of the length of all chars of all words divided by the number of words\r\n",
    "    yw = sum(len(word) for word in text.words(categories=genre) if word.isalpha()) /  len(list(word for word in text.words(categories=genre) if word.isalpha()))\r\n",
    "    #ys = sum of all words divided through the number of sentences\r\n",
    "    ys = len(list(word for word in text.words(categories=genre) if word.isalpha())) / len(brown.sents(categories=genre))\r\n",
    "    return 4.71*yw + 0.5*ys - 21.43\r\n",
    "\r\n",
    "print('Ari score from lore: ' + str(ari_score('lore')))\r\n",
    "print('Ari score from learned: ' + str(ari_score('learned')))"
   ],
   "outputs": [
    {
     "output_type": "stream",
     "name": "stdout",
     "text": [
      "Ari score from lore: 10.378538563176782\n",
      "Ari score from learned: 12.188958374204795\n"
     ]
    }
   ],
   "metadata": {}
  },
  {
   "cell_type": "markdown",
   "source": [
    "### Exercise 5\r\n",
    "\r\n",
    "Define a variable `silly` to contain the string: 'newly formed bland ideas are inexpressible in an infuriating way'. Now write code to perform the following tasks:\r\n",
    "\r\n",
    "a) Split `silly` into a list of strings, one per word, using Python's `split()` operation, and save this to a variable called `bland`.  \r\n",
    "b) Extract the second letter of each word in `silly` and join them into a string, to get 'eoldrnnnna'.  \r\n",
    "c) Combine the words in `bland` back into a single string, using `join()`. Make sure the words in the resulting string are separated with whitespace.  \r\n",
    "d) Print the words of `silly` in alphabetical order, one per line.  "
   ],
   "metadata": {}
  },
  {
   "cell_type": "code",
   "execution_count": 15,
   "source": [
    "silly = \"newly formed bland ideas are inexpressible in an infuriating way\"\r\n",
    "#a)\r\n",
    "bland = silly.split()\r\n",
    "bland\r\n",
    "\r\n"
   ],
   "outputs": [
    {
     "output_type": "execute_result",
     "data": {
      "text/plain": [
       "['newly',\n",
       " 'formed',\n",
       " 'bland',\n",
       " 'ideas',\n",
       " 'are',\n",
       " 'inexpressible',\n",
       " 'in',\n",
       " 'an',\n",
       " 'infuriating',\n",
       " 'way']"
      ]
     },
     "metadata": {},
     "execution_count": 15
    }
   ],
   "metadata": {}
  },
  {
   "cell_type": "code",
   "execution_count": 16,
   "source": [
    "#b)\r\n",
    "string = ''.join(list(char[1] for char in silly.split()))\r\n",
    "string"
   ],
   "outputs": [
    {
     "output_type": "execute_result",
     "data": {
      "text/plain": [
       "'eoldrnnnna'"
      ]
     },
     "metadata": {},
     "execution_count": 16
    }
   ],
   "metadata": {}
  },
  {
   "cell_type": "code",
   "execution_count": 14,
   "source": [
    "#b alternative with deleting the chars from silly)\r\n",
    "extracted_chars = \"\"\r\n",
    "temp = \"\"\r\n",
    "for word in silly.split():\r\n",
    "    extracted_chars += word[1]\r\n",
    "    temp += ''.join([word[i] for i in range(len(word)) if i  != 1])\r\n",
    "    temp += \" \"\r\n",
    "\r\n",
    "silly = temp\r\n",
    "silly"
   ],
   "outputs": [
    {
     "output_type": "execute_result",
     "data": {
      "text/plain": [
       "'nwly frmed band ieas ae iexpressible i a ifuriating wy '"
      ]
     },
     "metadata": {},
     "execution_count": 14
    }
   ],
   "metadata": {}
  },
  {
   "cell_type": "code",
   "execution_count": 166,
   "source": [
    "#c)\r\n",
    "' '.join(bland)"
   ],
   "outputs": [
    {
     "output_type": "execute_result",
     "data": {
      "text/plain": [
       "'newly formed bland ideas are inexpressible in an infuriating way'"
      ]
     },
     "metadata": {},
     "execution_count": 166
    }
   ],
   "metadata": {}
  },
  {
   "cell_type": "code",
   "execution_count": null,
   "source": [
    "#d)\r\n",
    "for string in sorted(silly.split()):\r\n",
    "    print(string)"
   ],
   "outputs": [],
   "metadata": {}
  },
  {
   "cell_type": "markdown",
   "source": [
    "### Exercise 6\n",
    "\n",
    "Rewrite the following nested loop as a nested list comprehension:"
   ],
   "metadata": {}
  },
  {
   "cell_type": "code",
   "execution_count": 74,
   "source": [
    "words = ['attribution', 'confabulation', 'tenacious', 'elocution',\r\n",
    "         'sequoia', 'tenacious', 'unidirectional']\r\n",
    "vsequences = set()\r\n",
    "for word in words:\r\n",
    "    vowels = []\r\n",
    "    for char in word:\r\n",
    "        if char in 'aeiou':\r\n",
    "            vowels.append(char)\r\n",
    "    vsequences.add(''.join(vowels))\r\n",
    "sorted(vsequences)"
   ],
   "outputs": [
    {
     "output_type": "execute_result",
     "data": {
      "text/plain": [
       "['aiuio', 'eaiou', 'eouio', 'euoia', 'oauaio', 'uiieioa']"
      ]
     },
     "metadata": {},
     "execution_count": 74
    }
   ],
   "metadata": {}
  },
  {
   "cell_type": "code",
   "execution_count": 217,
   "source": [
    "# it took me way too long to figure this out\r\n",
    "# read it from the outside: for each word in words check if each char in this word is in aeiou and if yes join it\r\n",
    "# creat a list out of this joined characters, create a set out of this list and finally sort this set\r\n",
    "words = ['attribution', 'confabulation', 'tenacious', 'elocution',\r\n",
    "         'sequoia', 'tenacious', 'unidirectional']\r\n",
    "sorted(set(list(''.join(char for char in word if char in 'aeiou') for word in words)))"
   ],
   "outputs": [
    {
     "output_type": "execute_result",
     "data": {
      "text/plain": [
       "['aiuio', 'eaiou', 'eouio', 'euoia', 'oauaio', 'uiieioa']"
      ]
     },
     "metadata": {},
     "execution_count": 217
    }
   ],
   "metadata": {}
  }
 ],
 "metadata": {
  "kernelspec": {
   "name": "python3",
   "display_name": "Python 3.9.7 64-bit"
  },
  "language_info": {
   "codemirror_mode": {
    "name": "ipython",
    "version": 3
   },
   "file_extension": ".py",
   "mimetype": "text/x-python",
   "name": "python",
   "nbconvert_exporter": "python",
   "pygments_lexer": "ipython3",
   "version": "3.9.7"
  },
  "interpreter": {
   "hash": "7691dc7e968cae2c1305b7cd748cf3c51f27e2f981106cfee5b02ab727978e13"
  }
 },
 "nbformat": 4,
 "nbformat_minor": 2
}