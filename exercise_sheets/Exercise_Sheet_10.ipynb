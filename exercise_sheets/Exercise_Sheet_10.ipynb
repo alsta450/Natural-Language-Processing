{
 "cells": [
  {
   "cell_type": "markdown",
   "metadata": {},
   "source": [
    "# Natural Language Processing\n",
    "\n",
    "## Exercise Sheet 10"
   ]
  },
  {
   "cell_type": "code",
   "execution_count": 1,
   "metadata": {},
   "outputs": [],
   "source": [
    "#imports for all exercises\n",
    "import nltk"
   ]
  },
  {
   "cell_type": "markdown",
   "metadata": {},
   "source": [
    "### Exercise 1\n",
    "\n",
    "Translate the following sentences into propositional logic and verify that they can be processed with `Expression.fromstring()`. \n",
    "\n",
    "1. If Angus sings, it is not the case that Bertie sulks.\n",
    "2. Cyril runs and barks.\n",
    "3. It will snow if it doesn't rain.\n",
    "4. It's not the case that Irene will be happy if Olive or Tofu comes.\n",
    "5. Pat didn't cough or sneeze.\n",
    "6. If you don't come if I call, I won't come if you call.\n"
   ]
  },
  {
   "cell_type": "code",
   "execution_count": null,
   "metadata": {},
   "outputs": [],
   "source": []
  },
  {
   "cell_type": "markdown",
   "metadata": {},
   "source": [
    "### Exercise 2\n",
    "\n",
    "Translate the following sentences into predicate-argument formula of first order logic and verify that they can be processed with `Expression.fromstring()`. \n",
    "\n",
    "1. Angus likes Cyril and Irene hates Cyril.\n",
    "2. Tofu is taller than Bertie.\n",
    "3. Bruce loves himself and Pat does too.\n",
    "4. Cyril saw Bertie, but Angus didn't.\n",
    "5. Cyril is a fourlegged friend.\n",
    "6. Tofu and Olive are near each other."
   ]
  },
  {
   "cell_type": "code",
   "execution_count": null,
   "metadata": {},
   "outputs": [],
   "source": []
  },
  {
   "cell_type": "markdown",
   "metadata": {},
   "source": [
    "### Exercise 3\n",
    "\n",
    "Translate the following sentences into quantified formulas of first order logic and verify that they can be processed with `Expression.fromstring()`. \n",
    "\n",
    "1. Angus likes someone and someone likes Julia.\n",
    "2. Angus loves a dog who loves him.\n",
    "3. Nobody smiles at Pat.\n",
    "4. Somebody coughs and sneezes.\n",
    "5. Nobody coughed or sneezed.\n",
    "6. Bruce loves somebody other than Bruce.\n",
    "7. Nobody other than Matthew loves somebody Pat.\n",
    "8. Cyril likes everyone except for Irene.\n",
    "9. Exactly one person is asleep."
   ]
  },
  {
   "cell_type": "code",
   "execution_count": null,
   "metadata": {},
   "outputs": [],
   "source": []
  },
  {
   "cell_type": "markdown",
   "metadata": {},
   "source": [
    "### Exercise 4\n",
    "\n",
    "Translate the following verb phrases using $\\lambda$-abstracts quantified formulas of first order logic and verify that they can be processed with `Expression.fromstring()`. \n",
    "\n",
    "1. feed Cyril and give a capuccino to Angus\n",
    "2. be given 'War and Peace' by Pat\n",
    "3. be loved by everyone\n",
    "4. be loved or detested by everyone\n",
    "5. be loved by everyone and detested by no-one"
   ]
  },
  {
   "cell_type": "code",
   "execution_count": 15,
   "metadata": {},
   "outputs": [],
   "source": []
  },
  {
   "cell_type": "markdown",
   "metadata": {},
   "source": [
    "### Exercise 5\n",
    "\n",
    "Consider the following statements:\n",
    "\n",
    "    read_expr = nltk.sem.Expression.fromstring\n",
    "    e2 = read_expr('pat')\n",
    "    e3 = nltk.sem.ApplicationExpression(e1, e2)\n",
    "    print(e3.simplify())\n",
    "        exists y.love(pat, y) \n",
    "\n",
    "Clearly something is missing here, namely a declaration of the value of `e1`. In order for `ApplicationExpression(e1, e2)` to be $\\beta$-convertible to `exists y.love(pat, y)`, `e1` must be a $\\lambda$-abstract which can take `pat` as an argument. Your task is to construct such an abstract, bind it to `e1`, and satisfy yourself that the statements above are all satisfied (up to alphabetic variance). \n",
    "\n",
    "Now carry on doing this same task for the further cases of `e3.simplify()` shown below.\n",
    "\n",
    "    print(e3.simplify())\n",
    "        exists y.(love(pat,y) | love(y,pat))\n",
    "\n",
    "    print(e3.simplify())\n",
    "        walk(pat)"
   ]
  },
  {
   "cell_type": "code",
   "execution_count": null,
   "metadata": {},
   "outputs": [],
   "source": [
    "#e1 = \n",
    "#e2 = read_expr('pat')\n",
    "#e3 = nltk.sem.ApplicationExpression(e1, e2)\n",
    "#print(e3.simplify())"
   ]
  },
  {
   "cell_type": "code",
   "execution_count": null,
   "metadata": {},
   "outputs": [],
   "source": [
    "#e1 = \n",
    "#e2 = read_expr('pat')\n",
    "#e3 = nltk.sem.ApplicationExpression(e1, e2)\n",
    "#print(e3.simplify())"
   ]
  },
  {
   "cell_type": "code",
   "execution_count": null,
   "metadata": {},
   "outputs": [],
   "source": [
    "#e1 = \n",
    "#e2 = read_expr('pat')\n",
    "#e3 = nltk.sem.ApplicationExpression(e1, e2)\n",
    "#print(e3.simplify())"
   ]
  },
  {
   "cell_type": "markdown",
   "metadata": {},
   "source": [
    "### Exercise 6\n",
    "\n",
    "As in the preceding exercise, find a $\\lambda$-abstract `e1` that yields results equivalent to those shown below.\n",
    "\n",
    "    e2 = read_expr('chase')\n",
    "    e3 = nltk.sem.ApplicationExpression(e1, e2)\n",
    "    print(e3.simplify())\n",
    "        \\x.all y.(dog(y) -> chase(x,pat))\n",
    "\n",
    "    e2 = read_expr('chase')\n",
    "    e3 = nltk.sem.ApplicationExpression(e1, e2)\n",
    "    print(e3.simplify())\n",
    "        \\x.exists y.(dog(y) & chase(pat,x))\n",
    "\n",
    "    e2 = read_expr('give')\n",
    "    e3 = nltk.sem.ApplicationExpression(e1, e2)\n",
    "    print(e3.simplify())\n",
    "        \\x0 x1.exists y.(present(y) & give(x1,y,x0))"
   ]
  },
  {
   "cell_type": "code",
   "execution_count": null,
   "metadata": {},
   "outputs": [],
   "source": [
    "#e1 = \n",
    "#e2 = read_expr('chase')\n",
    "#e3 = nltk.sem.ApplicationExpression(e1, e2)\n",
    "#print(e3.simplify())"
   ]
  },
  {
   "cell_type": "code",
   "execution_count": null,
   "metadata": {},
   "outputs": [],
   "source": [
    "#e1 = \n",
    "#e2 = read_expr('chase')\n",
    "#e3 = nltk.sem.ApplicationExpression(e1, e2)\n",
    "#print(e3.simplify())"
   ]
  },
  {
   "cell_type": "code",
   "execution_count": null,
   "metadata": {},
   "outputs": [],
   "source": [
    "#e1 = \n",
    "#e2 = read_expr('give')\n",
    "#e3 = nltk.sem.ApplicationExpression(e1, e2)\n",
    "#print(e3.simplify())"
   ]
  },
  {
   "cell_type": "markdown",
   "metadata": {},
   "source": [
    "### Exercise 7\n",
    "\n",
    "As in the preceding exercise, find a $\\lambda$-abstract `e1` that yields results equivalent to those shown below.\n",
    " \t\n",
    "    e2 = read_expr('bark')\n",
    "    e3 = nltk.sem.ApplicationExpression(e1, e2)\n",
    "    print(e3.simplify())\n",
    "        exists y.(dog(x) & bark(x))\n",
    "\n",
    "    e2 = read_expr('bark')\n",
    "    e3 = nltk.sem.ApplicationExpression(e1, e2)\n",
    "    print(e3.simplify())\n",
    "        bark(fido)\n",
    "\n",
    "    e2 = read_expr('\\\\P. all x. (dog(x) -> P(x))')\n",
    "    e3 = nltk.sem.ApplicationExpression(e1, e2)\n",
    "    print(e3.simplify())\n",
    "        all x.(dog(x) -> bark(x)) "
   ]
  },
  {
   "cell_type": "code",
   "execution_count": null,
   "metadata": {},
   "outputs": [],
   "source": [
    "#e1 =\n",
    "#e2 = read_expr('bark')\n",
    "#e3 = nltk.sem.ApplicationExpression(e1, e2)\n",
    "#print(e3.simplify())"
   ]
  },
  {
   "cell_type": "code",
   "execution_count": null,
   "metadata": {},
   "outputs": [],
   "source": [
    "#e1 =\n",
    "#e2 = read_expr('bark')\n",
    "#e3 = nltk.sem.ApplicationExpression(e1, e2)\n",
    "#print(e3.simplify())"
   ]
  },
  {
   "cell_type": "code",
   "execution_count": null,
   "metadata": {},
   "outputs": [],
   "source": [
    "#e1 =\n",
    "#e2 = read_expr('\\\\P. all x. (dog(x) -> P(x))')\n",
    "#e3 = nltk.sem.ApplicationExpression(e1, e2)\n",
    "#print(e3.simplify())"
   ]
  }
 ],
 "metadata": {
  "kernelspec": {
   "display_name": "Python 3",
   "language": "python",
   "name": "python3"
  },
  "language_info": {
   "codemirror_mode": {
    "name": "ipython",
    "version": 3
   },
   "file_extension": ".py",
   "mimetype": "text/x-python",
   "name": "python",
   "nbconvert_exporter": "python",
   "pygments_lexer": "ipython3",
   "version": "3.7.8"
  }
 },
 "nbformat": 4,
 "nbformat_minor": 2
}
