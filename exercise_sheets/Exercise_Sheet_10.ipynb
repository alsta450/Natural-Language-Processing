{
 "cells": [
  {
   "cell_type": "markdown",
   "metadata": {},
   "source": [
    "# Natural Language Processing\n",
    "\n",
    "## Exercise Sheet 10"
   ]
  },
  {
   "cell_type": "code",
   "execution_count": 1,
   "metadata": {},
   "outputs": [],
   "source": [
    "#imports for all exercises\n",
    "import nltk"
   ]
  },
  {
   "cell_type": "markdown",
   "metadata": {},
   "source": [
    "### Exercise 1\n",
    "\n",
    "Translate the following sentences into propositional logic and verify that they can be processed with `Expression.fromstring()`. \n",
    "\n",
    "1. If Angus sings, it is not the case that Bertie sulks.\n",
    "2. Cyril runs and barks.\n",
    "3. It will snow if it doesn't rain.\n",
    "4. It's not the case that Irene will be happy if Olive or Tofu comes.\n",
    "5. Pat didn't cough or sneeze.\n",
    "6. If you don't come if I call, I won't come if you call.\n"
   ]
  },
  {
   "cell_type": "code",
   "execution_count": 2,
   "metadata": {},
   "outputs": [
    {
     "data": {
      "text/plain": [
       "<ImpExpression (Asi -> -Bsu)>"
      ]
     },
     "execution_count": 2,
     "metadata": {},
     "output_type": "execute_result"
    }
   ],
   "source": [
    "#Angus sings = Asi\n",
    "#Bertie sulks = Bsu\n",
    "read_expr = nltk.sem.Expression.fromstring\n",
    "read_expr('Asi -> -Bsu')"
   ]
  },
  {
   "cell_type": "code",
   "execution_count": 3,
   "metadata": {},
   "outputs": [
    {
     "data": {
      "text/plain": [
       "<AndExpression (Cru & Cba)>"
      ]
     },
     "execution_count": 3,
     "metadata": {},
     "output_type": "execute_result"
    }
   ],
   "source": [
    "#Cyril runs = Cru\n",
    "#Cyril barks = Cba\n",
    "read_expr = nltk.sem.Expression.fromstring\n",
    "read_expr('Cru & Cba')"
   ]
  },
  {
   "cell_type": "code",
   "execution_count": 4,
   "metadata": {},
   "outputs": [
    {
     "data": {
      "text/plain": [
       "<ImpExpression (-ira -> isn)>"
      ]
     },
     "execution_count": 4,
     "metadata": {},
     "output_type": "execute_result"
    }
   ],
   "source": [
    "#it snows = isn\n",
    "#it rains = ira\n",
    "read_expr = nltk.sem.Expression.fromstring\n",
    "read_expr('-ira -> isn')\n",
    "#equivalent to:\n",
    "read_expr('ira | isn')\n"
   ]
  },
  {
   "cell_type": "code",
   "execution_count": 5,
   "metadata": {},
   "outputs": [
    {
     "data": {
      "text/plain": [
       "<ImpExpression ((Oco | Tco) -> -Iwh)>"
      ]
     },
     "execution_count": 5,
     "metadata": {},
     "output_type": "execute_result"
    }
   ],
   "source": [
    "#Olive comes = Oco\n",
    "#Tofu comes = Tco\n",
    "#Irene will be happy = Iwh\n",
    "read_expr('(Oco | Tco) -> -Iwh')"
   ]
  },
  {
   "cell_type": "code",
   "execution_count": 7,
   "metadata": {},
   "outputs": [
    {
     "data": {
      "text/plain": [
       "<NegatedExpression -(Pco | Psn)>"
      ]
     },
     "execution_count": 7,
     "metadata": {},
     "output_type": "execute_result"
    }
   ],
   "source": [
    "#Pat cough = Pco\n",
    "#Pat sneeze = Psn\n",
    "read_expr('-(Pco | Psn)')"
   ]
  },
  {
   "cell_type": "code",
   "execution_count": 6,
   "metadata": {},
   "outputs": [
    {
     "data": {
      "text/plain": [
       "<ImpExpression ((Ica -> -yco) -> (yca -> -Ico))>"
      ]
     },
     "execution_count": 6,
     "metadata": {},
     "output_type": "execute_result"
    }
   ],
   "source": [
    "#you come = yco\n",
    "#I call = Ica\n",
    "#you call = yca\n",
    "#I come = Ico\n",
    "read_expr(' (Ica -> -yco) -> (yca -> -Ico)')"
   ]
  },
  {
   "cell_type": "markdown",
   "metadata": {},
   "source": [
    "### Exercise 2\n",
    "\n",
    "Translate the following sentences into predicate-argument formula of first order logic and verify that they can be processed with `Expression.fromstring()`. \n",
    "\n",
    "1. Angus likes Cyril and Irene hates Cyril.\n",
    "2. Tofu is taller than Bertie.\n",
    "3. Bruce loves himself and Pat does too.\n",
    "4. Cyril saw Bertie, but Angus didn't.\n",
    "5. Cyril is a fourlegged friend.\n",
    "6. Tofu and Olive are near each other."
   ]
  },
  {
   "cell_type": "code",
   "execution_count": 11,
   "metadata": {},
   "outputs": [
    {
     "data": {
      "text/plain": [
       "<AndExpression (likes(Angus,Cyril) & hates(Irene,Cyril))>"
      ]
     },
     "execution_count": 11,
     "metadata": {},
     "output_type": "execute_result"
    }
   ],
   "source": [
    "read_expr = nltk.sem.Expression.fromstring\n",
    "read_expr('likes(Angus,Cyril) & hates(Irene,Cyril)')"
   ]
  },
  {
   "cell_type": "code",
   "execution_count": 12,
   "metadata": {},
   "outputs": [
    {
     "data": {
      "text/plain": [
       "<ApplicationExpression taller(Tofi,Bertie)>"
      ]
     },
     "execution_count": 12,
     "metadata": {},
     "output_type": "execute_result"
    }
   ],
   "source": [
    "read_expr('taller(Tofi,Bertie)')"
   ]
  },
  {
   "cell_type": "code",
   "execution_count": 13,
   "metadata": {},
   "outputs": [
    {
     "data": {
      "text/plain": [
       "<AndExpression (loves(Bruce,Bruce) & loves(Pat,Bruce))>"
      ]
     },
     "execution_count": 13,
     "metadata": {},
     "output_type": "execute_result"
    }
   ],
   "source": [
    "read_expr('loves(Bruce,Bruce) & loves(Pat,Bruce)')"
   ]
  },
  {
   "cell_type": "code",
   "execution_count": 14,
   "metadata": {},
   "outputs": [
    {
     "data": {
      "text/plain": [
       "<AndExpression (saw(Cyril,Bertie) & -saw(Angus,Bertie))>"
      ]
     },
     "execution_count": 14,
     "metadata": {},
     "output_type": "execute_result"
    }
   ],
   "source": [
    "read_expr('saw(Cyril,Bertie) & -saw(Angus,Bertie)')"
   ]
  },
  {
   "cell_type": "code",
   "execution_count": 15,
   "metadata": {},
   "outputs": [
    {
     "data": {
      "text/plain": [
       "<AndExpression (is(Cyril,friend) & is(Cyril,fourlegged))>"
      ]
     },
     "execution_count": 15,
     "metadata": {},
     "output_type": "execute_result"
    }
   ],
   "source": [
    "read_expr('is(Cyril,friend) & is(Cyril,fourlegged)')"
   ]
  },
  {
   "cell_type": "code",
   "execution_count": 16,
   "metadata": {},
   "outputs": [
    {
     "data": {
      "text/plain": [
       "<AndExpression (near(Tofu,Olive) & near(Olive,Tofu))>"
      ]
     },
     "execution_count": 16,
     "metadata": {},
     "output_type": "execute_result"
    }
   ],
   "source": [
    "read_expr('near(Tofu,Olive) & near(Olive,Tofu)')"
   ]
  },
  {
   "cell_type": "markdown",
   "metadata": {},
   "source": [
    "### Exercise 3\n",
    "\n",
    "Translate the following sentences into quantified formulas of first order logic and verify that they can be processed with `Expression.fromstring()`. \n",
    "\n",
    "1. Angus likes someone and someone likes Julia.\n",
    "2. Angus loves a dog who loves him.\n",
    "3. Nobody smiles at Pat.\n",
    "4. Somebody coughs and sneezes.\n",
    "5. Nobody coughed or sneezed.\n",
    "6. Bruce loves somebody other than Bruce.\n",
    "7. Nobody other than Matthew loves somebody Pat.\n",
    "8. Cyril likes everyone except for Irene.\n",
    "9. Exactly one person is asleep."
   ]
  },
  {
   "cell_type": "code",
   "execution_count": 19,
   "metadata": {},
   "outputs": [
    {
     "data": {
      "text/plain": [
       "<AndExpression (exists x.likes(Anugs,x) & exists y.likes(y,Julia))>"
      ]
     },
     "execution_count": 19,
     "metadata": {},
     "output_type": "execute_result"
    }
   ],
   "source": [
    "read_expr = nltk.sem.Expression.fromstring\n",
    "read_expr('exists x.likes(Anugs,x) & exists y.likes(y,Julia)')"
   ]
  },
  {
   "cell_type": "code",
   "execution_count": 22,
   "metadata": {},
   "outputs": [
    {
     "data": {
      "text/plain": [
       "<ExistsExpression exists x.(loves(Angus,x) & loves(x,Angus) & dog(x))>"
      ]
     },
     "execution_count": 22,
     "metadata": {},
     "output_type": "execute_result"
    }
   ],
   "source": [
    "read_expr('exists x. (loves(Angus,x) & loves(x,Angus) & dog(x))')"
   ]
  },
  {
   "cell_type": "code",
   "execution_count": 23,
   "metadata": {},
   "outputs": [
    {
     "data": {
      "text/plain": [
       "<NegatedExpression -exists x.smiles(x,Pat)>"
      ]
     },
     "execution_count": 23,
     "metadata": {},
     "output_type": "execute_result"
    }
   ],
   "source": [
    "read_expr('-exists x.smiles(x,Pat)')"
   ]
  },
  {
   "cell_type": "code",
   "execution_count": 25,
   "metadata": {},
   "outputs": [
    {
     "data": {
      "text/plain": [
       "<ExistsExpression exists x.(coughs(x) & sneezes(x))>"
      ]
     },
     "execution_count": 25,
     "metadata": {},
     "output_type": "execute_result"
    }
   ],
   "source": [
    "read_expr('exists x.(coughs(x) & sneezes(x))')"
   ]
  },
  {
   "cell_type": "code",
   "execution_count": 26,
   "metadata": {},
   "outputs": [
    {
     "data": {
      "text/plain": [
       "<NegatedExpression -exists x.(coughs(x) | sneezes(x))>"
      ]
     },
     "execution_count": 26,
     "metadata": {},
     "output_type": "execute_result"
    }
   ],
   "source": [
    "read_expr('-exists x.(coughs(x) | sneezes(x))')"
   ]
  },
  {
   "cell_type": "code",
   "execution_count": 32,
   "metadata": {},
   "outputs": [
    {
     "data": {
      "text/plain": [
       "<ExistsExpression exists x.(loves(Bruce,x) & -(Bruce = x))>"
      ]
     },
     "execution_count": 32,
     "metadata": {},
     "output_type": "execute_result"
    }
   ],
   "source": [
    "#Not 100% sure which option to use, I decided for the second line\n",
    "read_expr('exists x.(loves(Bruce,x) & -is(Bruce,x))')\n",
    "#Choose this line\n",
    "read_expr('exists x.(loves(Bruce,x) & Bruce != x)')"
   ]
  },
  {
   "cell_type": "code",
   "execution_count": 45,
   "metadata": {},
   "outputs": [
    {
     "data": {
      "text/plain": [
       "<ExistsExpression exists x.((Matthew = x) & loves(x,Pat) & -exists y.(loves(y,Pat) & (y = Matthew)))>"
      ]
     },
     "execution_count": 45,
     "metadata": {},
     "output_type": "execute_result"
    }
   ],
   "source": [
    "#Not sure how to understand this sentence Pat = somebody?\n",
    "read_expr('exists x.(Matthew = x & loves(x,Pat) & -exists y.(loves(y,Pat) & y=Matthew))')\n"
   ]
  },
  {
   "cell_type": "code",
   "execution_count": 34,
   "metadata": {},
   "outputs": [
    {
     "data": {
      "text/plain": [
       "<AllExpression all x.(loves(Cyril,x) & -(x = Irene))>"
      ]
     },
     "execution_count": 34,
     "metadata": {},
     "output_type": "execute_result"
    }
   ],
   "source": [
    "read_expr('all x.(loves(Cyril,x) & x != Irene)')"
   ]
  },
  {
   "cell_type": "code",
   "execution_count": 43,
   "metadata": {},
   "outputs": [
    {
     "data": {
      "text/plain": [
       "<ExistsExpression exists x.(asleep(x) & -exists y.(asleep(y) & (y = x)))>"
      ]
     },
     "execution_count": 43,
     "metadata": {},
     "output_type": "execute_result"
    }
   ],
   "source": [
    "read_expr('exists x.(asleep(x) & -exists y.(asleep(y) & y=x))')"
   ]
  },
  {
   "cell_type": "markdown",
   "metadata": {},
   "source": [
    "### Exercise 4\n",
    "\n",
    "Translate the following verb phrases using $\\lambda$-abstracts quantified formulas of first order logic and verify that they can be processed with `Expression.fromstring()`. \n",
    "\n",
    "1. feed Cyril and give a capuccino to Angus\n",
    "2. be given 'War and Peace' by Pat\n",
    "3. be loved by everyone\n",
    "4. be loved or detested by everyone\n",
    "5. be loved by everyone and detested by no-one"
   ]
  },
  {
   "cell_type": "code",
   "execution_count": 49,
   "metadata": {},
   "outputs": [
    {
     "name": "stdout",
     "output_type": "stream",
     "text": [
      "\\x.(feed(x,Cyril) & give(x,Capuccino,Angus))\n"
     ]
    }
   ],
   "source": [
    "read_expr = nltk.sem.Expression.fromstring\n",
    "expr = read_expr(r'\\x.(feed(x,Cyril) & give(x,Capuccino,Angus))')\n",
    "print(expr.simplify()) "
   ]
  },
  {
   "cell_type": "code",
   "execution_count": 51,
   "metadata": {},
   "outputs": [
    {
     "name": "stdout",
     "output_type": "stream",
     "text": [
      "\\x.give(Pat,WarandPiece,x)\n"
     ]
    }
   ],
   "source": [
    "expr = read_expr(r'\\x.(give(Pat,WarandPiece,x))')\n",
    "print(expr.simplify()) "
   ]
  },
  {
   "cell_type": "code",
   "execution_count": 52,
   "metadata": {},
   "outputs": [
    {
     "name": "stdout",
     "output_type": "stream",
     "text": [
      "all x.\\y.love(x,y)\n"
     ]
    }
   ],
   "source": [
    "expr = read_expr(r'all x.(\\y.love(x,y))')\n",
    "print(expr.simplify()) "
   ]
  },
  {
   "cell_type": "code",
   "execution_count": 55,
   "metadata": {},
   "outputs": [
    {
     "name": "stdout",
     "output_type": "stream",
     "text": [
      "all x.\\y.(love(x,y) | deteste(x,y))\n"
     ]
    }
   ],
   "source": [
    "expr = read_expr(r'all x.(\\y.(love(x,y) | deteste(x,y)))')\n",
    "print(expr.simplify()) "
   ]
  },
  {
   "cell_type": "code",
   "execution_count": 56,
   "metadata": {},
   "outputs": [
    {
     "name": "stdout",
     "output_type": "stream",
     "text": [
      "all x.\\y.(love(x,y) & -deteste(x,y))\n"
     ]
    }
   ],
   "source": [
    "expr = read_expr(r'all x.(\\y.(love(x,y) & -deteste(x,y)))')\n",
    "print(expr.simplify()) "
   ]
  },
  {
   "cell_type": "markdown",
   "metadata": {},
   "source": [
    "### Exercise 5\n",
    "\n",
    "Consider the following statements:\n",
    "\n",
    "    read_expr = nltk.sem.Expression.fromstring\n",
    "    e2 = read_expr('pat')\n",
    "    e3 = nltk.sem.ApplicationExpression(e1, e2)\n",
    "    print(e3.simplify())\n",
    "        exists y.love(pat, y) \n",
    "\n",
    "Clearly something is missing here, namely a declaration of the value of `e1`. In order for `ApplicationExpression(e1, e2)` to be $\\beta$-convertible to `exists y.love(pat, y)`, `e1` must be a $\\lambda$-abstract which can take `pat` as an argument. Your task is to construct such an abstract, bind it to `e1`, and satisfy yourself that the statements above are all satisfied (up to alphabetic variance). \n",
    "\n",
    "Now carry on doing this same task for the further cases of `e3.simplify()` shown below.\n",
    "\n",
    "    print(e3.simplify())\n",
    "        exists y.(love(pat,y) | love(y,pat))\n",
    "\n",
    "    print(e3.simplify())\n",
    "        walk(pat)"
   ]
  },
  {
   "cell_type": "code",
   "execution_count": 59,
   "metadata": {},
   "outputs": [
    {
     "name": "stdout",
     "output_type": "stream",
     "text": [
      "exists y.love(pat,y)\n"
     ]
    }
   ],
   "source": [
    "e1 = read_expr(r'\\x exists y.love(x,y)')\n",
    "e2 = read_expr('pat')\n",
    "e3 = nltk.sem.ApplicationExpression(e1, e2)\n",
    "print(e3.simplify())"
   ]
  },
  {
   "cell_type": "code",
   "execution_count": 60,
   "metadata": {},
   "outputs": [
    {
     "name": "stdout",
     "output_type": "stream",
     "text": [
      "exists y.(love(pat,y) | love(y,pat))\n"
     ]
    }
   ],
   "source": [
    "e1 = read_expr(r'\\x exists y.(love(x,y) | love(y,x))')\n",
    "e2 = read_expr('pat')\n",
    "e3 = nltk.sem.ApplicationExpression(e1, e2)\n",
    "print(e3.simplify())"
   ]
  },
  {
   "cell_type": "code",
   "execution_count": 62,
   "metadata": {},
   "outputs": [
    {
     "name": "stdout",
     "output_type": "stream",
     "text": [
      "walk(pat)\n"
     ]
    }
   ],
   "source": [
    "e1 = read_expr(r'\\x (walk(x))')\n",
    "e2 = read_expr('pat')\n",
    "e3 = nltk.sem.ApplicationExpression(e1, e2)\n",
    "print(e3.simplify())"
   ]
  },
  {
   "cell_type": "markdown",
   "metadata": {},
   "source": [
    "### Exercise 6\n",
    "\n",
    "As in the preceding exercise, find a $\\lambda$-abstract `e1` that yields results equivalent to those shown below.\n",
    "\n",
    "    e2 = read_expr('chase')\n",
    "    e3 = nltk.sem.ApplicationExpression(e1, e2)\n",
    "    print(e3.simplify())\n",
    "        \\x.all y.(dog(y) -> chase(x,pat))\n",
    "\n",
    "    e2 = read_expr('chase')\n",
    "    e3 = nltk.sem.ApplicationExpression(e1, e2)\n",
    "    print(e3.simplify())\n",
    "        \\x.exists y.(dog(y) & chase(pat,x))\n",
    "\n",
    "    e2 = read_expr('give')\n",
    "    e3 = nltk.sem.ApplicationExpression(e1, e2)\n",
    "    print(e3.simplify())\n",
    "        \\x0 x1.exists y.(present(y) & give(x1,y,x0))"
   ]
  },
  {
   "cell_type": "code",
   "execution_count": 79,
   "metadata": {},
   "outputs": [
    {
     "name": "stdout",
     "output_type": "stream",
     "text": [
      "all y.(dog(y) -> chase(y,pat))\n"
     ]
    }
   ],
   "source": [
    "e1 = read_expr(r'\\P all y.(\\x (dog(y) -> P(y,x))(pat))')\n",
    "e2 = read_expr('chase')\n",
    "e3 = nltk.sem.ApplicationExpression(e1, e2)\n",
    "print(e3.simplify())"
   ]
  },
  {
   "cell_type": "code",
   "execution_count": 81,
   "metadata": {},
   "outputs": [
    {
     "name": "stdout",
     "output_type": "stream",
     "text": [
      "exists y.(dog(y) & chase(pat,y))\n"
     ]
    }
   ],
   "source": [
    "e1 = read_expr(r'\\P exists y.(\\x (dog(y) & P(x,y))(pat))')\n",
    "e2 = read_expr('chase')\n",
    "e3 = nltk.sem.ApplicationExpression(e1, e2)\n",
    "print(e3.simplify())"
   ]
  },
  {
   "cell_type": "code",
   "execution_count": 82,
   "metadata": {},
   "outputs": [
    {
     "name": "stdout",
     "output_type": "stream",
     "text": [
      "\\x0 x1.exists y.(present(y) & give(x1,y,x0))\n"
     ]
    }
   ],
   "source": [
    "e1 = read_expr(r'\\P x0 x1.exists y.(present(y) & give(x1,y,x0))')\n",
    "e2 = read_expr('give')\n",
    "e3 = nltk.sem.ApplicationExpression(e1, e2)\n",
    "print(e3.simplify())"
   ]
  },
  {
   "cell_type": "markdown",
   "metadata": {},
   "source": [
    "### Exercise 7\n",
    "\n",
    "As in the preceding exercise, find a $\\lambda$-abstract `e1` that yields results equivalent to those shown below.\n",
    " \t\n",
    "    e2 = read_expr('bark')\n",
    "    e3 = nltk.sem.ApplicationExpression(e1, e2)\n",
    "    print(e3.simplify())\n",
    "        exists y.(dog(x) & bark(x))\n",
    "\n",
    "    e2 = read_expr('bark')\n",
    "    e3 = nltk.sem.ApplicationExpression(e1, e2)\n",
    "    print(e3.simplify())\n",
    "        bark(fido)\n",
    "\n",
    "    e2 = read_expr('\\\\P. all x. (dog(x) -> P(x))')\n",
    "    e3 = nltk.sem.ApplicationExpression(e1, e2)\n",
    "    print(e3.simplify())\n",
    "        all x.(dog(x) -> bark(x)) "
   ]
  },
  {
   "cell_type": "code",
   "execution_count": 86,
   "metadata": {},
   "outputs": [
    {
     "name": "stdout",
     "output_type": "stream",
     "text": [
      "exists y.(dog(x) & bark(x))\n"
     ]
    }
   ],
   "source": [
    "e1 = read_expr(r'\\P exists y.(\\x (dog(x) & P(x))(x))')\n",
    "e2 = read_expr('bark')\n",
    "e3 = nltk.sem.ApplicationExpression(e1, e2)\n",
    "print(e3.simplify())"
   ]
  },
  {
   "cell_type": "code",
   "execution_count": 85,
   "metadata": {},
   "outputs": [
    {
     "name": "stdout",
     "output_type": "stream",
     "text": [
      "bark(fido)\n"
     ]
    }
   ],
   "source": [
    "e1 = read_expr(r'\\P (\\x (P(x))(fido))')\n",
    "e2 = read_expr('bark')\n",
    "e3 = nltk.sem.ApplicationExpression(e1, e2)\n",
    "print(e3.simplify())"
   ]
  },
  {
   "cell_type": "code",
   "execution_count": 90,
   "metadata": {},
   "outputs": [
    {
     "name": "stdout",
     "output_type": "stream",
     "text": [
      "all x.(dog(x) -> bark(x))\n"
     ]
    }
   ],
   "source": [
    "e1 = read_expr(r'\\P (\\x (P(x))(bark))')\n",
    "e2 = read_expr('\\\\P. all x. (dog(x) -> P(x))')\n",
    "e3 = nltk.sem.ApplicationExpression(e1, e2)\n",
    "print(e3.simplify())"
   ]
  }
 ],
 "metadata": {
  "kernelspec": {
   "display_name": "Python 3",
   "language": "python",
   "name": "python3"
  },
  "language_info": {
   "codemirror_mode": {
    "name": "ipython",
    "version": 3
   },
   "file_extension": ".py",
   "mimetype": "text/x-python",
   "name": "python",
   "nbconvert_exporter": "python",
   "pygments_lexer": "ipython3",
   "version": "3.10.0"
  }
 },
 "nbformat": 4,
 "nbformat_minor": 2
}
