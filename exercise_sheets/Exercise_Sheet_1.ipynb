{
 "cells": [
  {
   "cell_type": "markdown",
   "metadata": {},
   "source": [
    "# Natural Language Processing\n",
    "\n",
    "## Exercise Sheet 1"
   ]
  },
  {
   "cell_type": "code",
   "execution_count": 1,
   "metadata": {},
   "outputs": [
    {
     "name": "stdout",
     "output_type": "stream",
     "text": [
      "*** Introductory Examples for the NLTK Book ***\n",
      "Loading text1, ..., text9 and sent1, ..., sent9\n",
      "Type the name of the text or sentence to view it.\n",
      "Type: 'texts()' or 'sents()' to list the materials.\n",
      "text1: Moby Dick by Herman Melville 1851\n",
      "text2: Sense and Sensibility by Jane Austen 1811\n",
      "text3: The Book of Genesis\n",
      "text4: Inaugural Address Corpus\n",
      "text5: Chat Corpus\n",
      "text6: Monty Python and the Holy Grail\n",
      "text7: Wall Street Journal\n",
      "text8: Personals Corpus\n",
      "text9: The Man Who Was Thursday by G . K . Chesterton 1908\n"
     ]
    }
   ],
   "source": [
    "#imports for all exercises\n",
    "from nltk.book import *\n",
    "import matplotlib.pylab as plt"
   ]
  },
  {
   "cell_type": "markdown",
   "metadata": {},
   "source": [
    "### Exercise 1\n",
    "\n",
    "How many words are there in `text2` from `nltk.book`? How many distinct words are there? Calculate the lexical diversity.\n"
   ]
  },
  {
   "cell_type": "code",
   "execution_count": 13,
   "metadata": {},
   "outputs": [
    {
     "data": {
      "text/plain": [
       "<Text: Sense and Sensibility by Jane Austen 1811>"
      ]
     },
     "execution_count": 13,
     "metadata": {},
     "output_type": "execute_result"
    }
   ],
   "source": [
    "text2"
   ]
  },
  {
   "cell_type": "code",
   "execution_count": 14,
   "metadata": {},
   "outputs": [
    {
     "data": {
      "text/plain": [
       "120733"
      ]
     },
     "execution_count": 14,
     "metadata": {},
     "output_type": "execute_result"
    }
   ],
   "source": [
    "# Word count\n",
    "#Eliminate all words that are not alphabetic letters e.g. ',' or '...'\n",
    "len(list(word for word in text2 if word.isalpha()))"
   ]
  },
  {
   "cell_type": "code",
   "execution_count": 15,
   "metadata": {},
   "outputs": [
    {
     "data": {
      "text/plain": [
       "6713"
      ]
     },
     "execution_count": 15,
     "metadata": {},
     "output_type": "execute_result"
    }
   ],
   "source": [
    "#Distinct word count if you count words starting with capital letters distinct\n",
    "len(set(word for word in text2 if word.isalpha()))\n"
   ]
  },
  {
   "cell_type": "code",
   "execution_count": 16,
   "metadata": {},
   "outputs": [
    {
     "data": {
      "text/plain": [
       "6283"
      ]
     },
     "execution_count": 16,
     "metadata": {},
     "output_type": "execute_result"
    }
   ],
   "source": [
    "#Distinct word count all lowercase letters\n",
    "len(set(word.lower() for word in text2 if word.isalpha()))"
   ]
  },
  {
   "cell_type": "code",
   "execution_count": 17,
   "metadata": {},
   "outputs": [],
   "source": [
    "# Lexical Diversity\n",
    "def lexical_diversity(text):\n",
    "    return   len(list(word for word in text2 if word.isalpha())) / len(set(word for word in text2 if word.isalpha()))"
   ]
  },
  {
   "cell_type": "code",
   "execution_count": 18,
   "metadata": {},
   "outputs": [
    {
     "data": {
      "text/plain": [
       "17.984954565767914"
      ]
     },
     "execution_count": 18,
     "metadata": {},
     "output_type": "execute_result"
    }
   ],
   "source": [
    "lexical_diversity(text2)"
   ]
  },
  {
   "cell_type": "markdown",
   "metadata": {},
   "source": [
    "### Exercise 2\n",
    "\n",
    "Produce a dispersion plot of the four main protagonists in Sense and Sensibility: Elinor, Marianne, Edward, and Willoughby. What can you observe about the different roles played by the males and females in this novel? Can you identify the couples?"
   ]
  },
  {
   "cell_type": "code",
   "execution_count": 19,
   "metadata": {},
   "outputs": [
    {
     "data": {
      "image/png": "[encoded data removed]",
      "text/plain": [
       "<Figure size 1440x720 with 1 Axes>"
      ]
     },
     "metadata": {
      "needs_background": "light"
     },
     "output_type": "display_data"
    }
   ],
   "source": [
    "plt.rcParams['figure.figsize'] = [20,10]\n",
    "text2.dispersion_plot([\"Elinor\", \"Marianne\", \"Edward\", \"Willoughby\"])"
   ]
  },
  {
   "cell_type": "markdown",
   "metadata": {},
   "source": [
    "### I would assume, Elinor and Marianne are the main characters, as their occurence ist pretty consistent during the whole book. Edward and Willoughby are not the main protagonists, as after occuring for some time, they will also dissapear for a while. Couples are Marianne and Willoughby, as when occurence of Marianne gets tense, Willoughby also occurs. So my second guess is that Elinor and Edward are the other couple (if even a couple at all), which is harder to identify, as Elinor occurs through the whole novel pretty constant."
   ]
  },
  {
   "cell_type": "markdown",
   "metadata": {},
   "source": [
    "### Exercise 3\n",
    "\n",
    "Find the collocations in `text6`."
   ]
  },
  {
   "cell_type": "code",
   "execution_count": 20,
   "metadata": {},
   "outputs": [
    {
     "name": "stdout",
     "output_type": "stream",
     "text": [
      "BLACK KNIGHT; clop clop; HEAD KNIGHT; mumble mumble; Holy Grail;\n",
      "squeak squeak; FRENCH GUARD; saw saw; Sir Robin; Run away; CARTOON\n",
      "CHARACTER; King Arthur; Iesu domine; Pie Iesu; DEAD PERSON; Round\n",
      "Table; clap clap; OLD MAN; dramatic chord; dona eis\n"
     ]
    }
   ],
   "source": [
    "text6.collocations()"
   ]
  },
  {
   "cell_type": "markdown",
   "metadata": {},
   "source": [
    "### Exercise 4\n",
    "\n",
    "Use only the `index()` function to find all the indexes of the word \"sunset\" in `text9`."
   ]
  },
  {
   "cell_type": "code",
   "execution_count": 21,
   "metadata": {},
   "outputs": [
    {
     "data": {
      "text/plain": [
       "[629,\n",
       " 642,\n",
       " 1432,\n",
       " 1650,\n",
       " 13335,\n",
       " 13381,\n",
       " 16313,\n",
       " 27014,\n",
       " 49340,\n",
       " 52092,\n",
       " 60857,\n",
       " 60862,\n",
       " 64721,\n",
       " 64736]"
      ]
     },
     "execution_count": 21,
     "metadata": {},
     "output_type": "execute_result"
    }
   ],
   "source": [
    "# index only finds the first occurence of a word, therefore after finding an index we need to set an offset to the index() function so it won't find the same again\n",
    "# e.g. item found on index 629 -> start searching at index 630 for the next item\n",
    "\n",
    "def get_all_indexes(text, element):\n",
    "    indexes = []\n",
    "    positions = 0\n",
    "    text = list(text)\n",
    "    while True:\n",
    "        try:\n",
    "            positions = text.index(element, positions)\n",
    "            indexes.append(positions)\n",
    "            positions += 1\n",
    "        except ValueError as e:\n",
    "            return indexes\n",
    "\n",
    "get_all_indexes(text9,\"sunset\")"
   ]
  },
  {
   "cell_type": "markdown",
   "metadata": {},
   "source": [
    "### Exercise 5\n",
    "\n",
    "What is the difference between the following two lines? Calculate the two values:\n",
    "\n",
    "    len(sorted(set(w.lower() for w in text1)))\n",
    "    len(sorted(w.lower() for w in set(text1)))"
   ]
  },
  {
   "cell_type": "code",
   "execution_count": 22,
   "metadata": {},
   "outputs": [
    {
     "data": {
      "text/plain": [
       "17231"
      ]
     },
     "execution_count": 22,
     "metadata": {},
     "output_type": "execute_result"
    }
   ],
   "source": [
    "len(sorted(set(w.lower() for w in text1)))\n"
   ]
  },
  {
   "cell_type": "code",
   "execution_count": 23,
   "metadata": {},
   "outputs": [
    {
     "data": {
      "text/plain": [
       "19317"
      ]
     },
     "execution_count": 23,
     "metadata": {},
     "output_type": "execute_result"
    }
   ],
   "source": [
    "len(sorted(w.lower() for w in set(text1)))"
   ]
  },
  {
   "cell_type": "markdown",
   "metadata": {},
   "source": [
    "### The main difference is, that in the first statement all letters in the text are formatted to lowercase and THEN added to a set, to get a distinct word count, while in the second statement the set is FIRST created and and then sorted in lowercase. Meaning in the second statement \"whale\" and \"Whale\" can be possible, while in the first statement only \"whale\" is possible and therefore the wordcount is lower."
   ]
  },
  {
   "cell_type": "markdown",
   "metadata": {},
   "source": [
    "### Exercise 6\n",
    "\n",
    "Write the slice expression that extracts the last two words of `text2`."
   ]
  },
  {
   "cell_type": "code",
   "execution_count": 24,
   "metadata": {},
   "outputs": [
    {
     "data": {
      "text/plain": [
       "['THE', 'END']"
      ]
     },
     "execution_count": 24,
     "metadata": {},
     "output_type": "execute_result"
    }
   ],
   "source": [
    "text2[-2:]"
   ]
  },
  {
   "cell_type": "markdown",
   "metadata": {},
   "source": [
    "### Exercise 7\n",
    "\n",
    "Find all the four-letter words in `text6`. With the help of a frequency distribution (`FreqDist`), show these words in decreasing order of frequency.\n"
   ]
  },
  {
   "cell_type": "code",
   "execution_count": 25,
   "metadata": {},
   "outputs": [
    {
     "data": {
      "text/plain": [
       "<filter at 0x18f56b0e8e0>"
      ]
     },
     "execution_count": 25,
     "metadata": {},
     "output_type": "execute_result"
    }
   ],
   "source": [
    "fdist6 = dict(sorted(FreqDist(text6).items(), reverse=True, key=lambda item: item[1]))\n",
    "filter(lambda item : len(item)==4, fdist6.values())\n",
    "\n"
   ]
  },
  {
   "cell_type": "markdown",
   "metadata": {},
   "source": [
    "### Sort descending as a dict"
   ]
  },
  {
   "cell_type": "code",
   "execution_count": 26,
   "metadata": {},
   "outputs": [
    {
     "data": {
      "text/plain": [
       "{'that': 84,\n",
       " 'your': 75,\n",
       " 'What': 65,\n",
       " 'this': 59,\n",
       " 'Well': 54,\n",
       " 'HEAD': 54,\n",
       " 'have': 53,\n",
       " 'boom': 45,\n",
       " 'clop': 39,\n",
       " 'with': 38,\n",
       " 'away': 38,\n",
       " 'here': 34,\n",
       " 'Burn': 32,\n",
       " 'King': 27,\n",
       " 'what': 27,\n",
       " 'Come': 26,\n",
       " 'just': 25,\n",
       " 'tell': 24,\n",
       " 'Look': 24,\n",
       " 'Holy': 24,\n",
       " 'must': 23,\n",
       " 'will': 22,\n",
       " 'That': 22,\n",
       " 'dead': 22,\n",
       " 'from': 20,\n",
       " 'they': 18,\n",
       " 'come': 18,\n",
       " 'very': 17,\n",
       " 'know': 17,\n",
       " 'name': 17,\n",
       " 'were': 16,\n",
       " 'Stop': 16,\n",
       " 'then': 15,\n",
       " 'like': 15,\n",
       " 'into': 15,\n",
       " 'clap': 15,\n",
       " 'ZOOT': 14,\n",
       " 'them': 13,\n",
       " 'CART': 13,\n",
       " 'want': 13,\n",
       " 'more': 13,\n",
       " 'when': 12,\n",
       " 'Shut': 12,\n",
       " 'make': 12,\n",
       " 'sure': 12,\n",
       " 'land': 11,\n",
       " 'mean': 11,\n",
       " 'take': 11,\n",
       " 'much': 11,\n",
       " 'didn': 11,\n",
       " 'find': 11,\n",
       " 'good': 11,\n",
       " 'time': 11,\n",
       " 'room': 11,\n",
       " 'seek': 10,\n",
       " 'back': 10,\n",
       " 'rewr': 10,\n",
       " 'king': 10,\n",
       " 'Just': 10,\n",
       " 'Iesu': 10,\n",
       " 'LEFT': 10,\n",
       " 'only': 9,\n",
       " 'Lord': 9,\n",
       " 'thou': 9,\n",
       " 'Zoot': 9,\n",
       " 'Hold': 9,\n",
       " 'They': 8,\n",
       " 'thud': 8,\n",
       " 'DEAD': 8,\n",
       " 'nice': 8,\n",
       " 'some': 8,\n",
       " 'Then': 8,\n",
       " 'does': 8,\n",
       " 'dona': 8,\n",
       " 'Yeah': 8,\n",
       " 'This': 8,\n",
       " 'well': 8,\n",
       " 'cave': 8,\n",
       " 'said': 8,\n",
       " 'join': 7,\n",
       " 'yeah': 7,\n",
       " 'down': 7,\n",
       " 'hear': 7,\n",
       " 'sing': 7,\n",
       " 'last': 7,\n",
       " 'Oooh': 7,\n",
       " 'been': 7,\n",
       " 'look': 7,\n",
       " 'seen': 7,\n",
       " 'word': 7,\n",
       " 'five': 6,\n",
       " 'feel': 6,\n",
       " 'live': 6,\n",
       " 'Back': 6,\n",
       " 'stay': 6,\n",
       " 'howl': 5,\n",
       " 'call': 5,\n",
       " 'help': 5,\n",
       " 'give': 5,\n",
       " 'stop': 5,\n",
       " 'bonk': 5,\n",
       " 'nose': 5,\n",
       " 'wood': 5,\n",
       " 'Good': 5,\n",
       " 'duck': 5,\n",
       " 'else': 5,\n",
       " 'head': 5,\n",
       " 'kill': 5,\n",
       " 'door': 5,\n",
       " 'upon': 5,\n",
       " 'roar': 5,\n",
       " 'beat': 4,\n",
       " 'Here': 4,\n",
       " 'whop': 4,\n",
       " 'over': 4,\n",
       " 'many': 4,\n",
       " 'pass': 4,\n",
       " 'kick': 4,\n",
       " 'burn': 4,\n",
       " 'ways': 4,\n",
       " 'made': 4,\n",
       " 'same': 4,\n",
       " 'life': 4,\n",
       " 'idea': 4,\n",
       " 'than': 4,\n",
       " 'each': 4,\n",
       " 'shut': 4,\n",
       " 'lies': 4,\n",
       " 'open': 4,\n",
       " 'four': 4,\n",
       " 'whom': 4,\n",
       " 'keep': 4,\n",
       " 'note': 4,\n",
       " 'most': 4,\n",
       " 'hand': 4,\n",
       " 'path': 4,\n",
       " 'Hand': 4,\n",
       " 'wind': 3,\n",
       " 'Halt': 3,\n",
       " 'lord': 3,\n",
       " 'Will': 3,\n",
       " 'says': 3,\n",
       " 'soon': 3,\n",
       " 'fine': 3,\n",
       " 'long': 3,\n",
       " 'lost': 3,\n",
       " 'ever': 3,\n",
       " 'sort': 3,\n",
       " 'case': 3,\n",
       " 'went': 3,\n",
       " 'Aaah': 3,\n",
       " 'Have': 3,\n",
       " 'Tell': 3,\n",
       " 'pond': 3,\n",
       " 'fair': 3,\n",
       " 'hall': 3,\n",
       " 'talk': 3,\n",
       " 'eyes': 3,\n",
       " 'show': 3,\n",
       " 'rrrr': 3,\n",
       " 'leap': 3,\n",
       " 'WIFE': 3,\n",
       " 'Tale': 3,\n",
       " 'Wayy': 3,\n",
       " 'need': 3,\n",
       " 'sigh': 3,\n",
       " 'oral': 3,\n",
       " 'foul': 3,\n",
       " 'sank': 3,\n",
       " 'fell': 3,\n",
       " 'Make': 3,\n",
       " 'died': 3,\n",
       " 'knew': 3,\n",
       " 'best': 3,\n",
       " 'ecky': 3,\n",
       " 'Hang': 3,\n",
       " 'Pull': 2,\n",
       " 'Wait': 2,\n",
       " 'line': 2,\n",
       " 'held': 2,\n",
       " 'such': 2,\n",
       " 'next': 2,\n",
       " 'shit': 2,\n",
       " 'lady': 2,\n",
       " 'told': 2,\n",
       " 'vote': 2,\n",
       " 'Aagh': 2,\n",
       " 'None': 2,\n",
       " 'left': 2,\n",
       " 'mine': 2,\n",
       " 'Thee': 2,\n",
       " 'Augh': 2,\n",
       " 'newt': 2,\n",
       " 'also': 2,\n",
       " 'Lead': 2,\n",
       " 'wise': 2,\n",
       " 'home': 2,\n",
       " 'able': 2,\n",
       " 'With': 2,\n",
       " 'busy': 2,\n",
       " 'push': 2,\n",
       " 'task': 2,\n",
       " 'dark': 2,\n",
       " 'Allo': 2,\n",
       " 'food': 2,\n",
       " 'sons': 2,\n",
       " 'blow': 2,\n",
       " 'Quoi': 2,\n",
       " 'Over': 2,\n",
       " 'rode': 2,\n",
       " 'work': 2,\n",
       " 'When': 2,\n",
       " 'Open': 2,\n",
       " 'rest': 2,\n",
       " 'used': 2,\n",
       " 'once': 2,\n",
       " 'real': 2,\n",
       " 'ours': 2,\n",
       " 'ARMY': 2,\n",
       " 'Neee': 2,\n",
       " 'daft': 2,\n",
       " 'girl': 2,\n",
       " 'huge': 2,\n",
       " 'even': 2,\n",
       " 'fold': 2,\n",
       " 'Tall': 2,\n",
       " 'vain': 2,\n",
       " 'pull': 2,\n",
       " 'cost': 2,\n",
       " 'Very': 2,\n",
       " 'holy': 2,\n",
       " 'test': 2,\n",
       " 'tree': 2,\n",
       " 'done': 2,\n",
       " 'high': 2,\n",
       " 'fire': 2,\n",
       " 'Fine': 2,\n",
       " 'rock': 2,\n",
       " 'Keep': 2,\n",
       " 'Bors': 2,\n",
       " 'BORS': 2,\n",
       " 'tiny': 2,\n",
       " 'Amen': 2,\n",
       " 'side': 2,\n",
       " 'Blue': 2,\n",
       " 'folk': 2,\n",
       " 'KING': 1,\n",
       " 'Whoa': 1,\n",
       " 'goes': 1,\n",
       " 'zone': 1,\n",
       " 'grip': 1,\n",
       " 'husk': 1,\n",
       " 'bird': 1,\n",
       " 'cart': 1,\n",
       " 'baby': 1,\n",
       " 'hang': 1,\n",
       " 'nine': 1,\n",
       " 'walk': 1,\n",
       " 'Must': 1,\n",
       " 'hasn': 1,\n",
       " 'self': 1,\n",
       " 'week': 1,\n",
       " 'Lady': 1,\n",
       " 'Lake': 1,\n",
       " 'clad': 1,\n",
       " 'tart': 1,\n",
       " 'bint': 1,\n",
       " 'Help': 1,\n",
       " 'stab': 1,\n",
       " 'move': 1,\n",
       " 'Your': 1,\n",
       " 'liar': 1,\n",
       " 'arms': 1,\n",
       " 'draw': 1,\n",
       " 'bite': 1,\n",
       " 'legs': 1,\n",
       " 'wart': 1,\n",
       " 'More': 1,\n",
       " 'Wood': 1,\n",
       " 'True': 1,\n",
       " 'Does': 1,\n",
       " 'sink': 1,\n",
       " 'Pure': 1,\n",
       " 'Hill': 1,\n",
       " 'film': 1,\n",
       " 'band': 1,\n",
       " 'ride': 1,\n",
       " 'dine': 1,\n",
       " 'spam': 1,\n",
       " 'pram': 1,\n",
       " 'horn': 1,\n",
       " 'keen': 1,\n",
       " 'Mind': 1,\n",
       " 'dogs': 1,\n",
       " 'boil': 1,\n",
       " 'fart': 1,\n",
       " 'mooo': 1,\n",
       " 'tear': 1,\n",
       " 'plan': 1,\n",
       " 'bang': 1,\n",
       " 'bois': 1,\n",
       " 'wait': 1,\n",
       " 'took': 1,\n",
       " 'bold': 1,\n",
       " 'pulp': 1,\n",
       " 'body': 1,\n",
       " 'lads': 1,\n",
       " 'ugly': 1,\n",
       " 'tail': 1,\n",
       " 'fled': 1,\n",
       " 'feet': 1,\n",
       " 'heeh': 1,\n",
       " 'wayy': 1,\n",
       " 'Oooo': 1,\n",
       " 'Away': 1,\n",
       " 'beds': 1,\n",
       " 'warm': 1,\n",
       " 'soft': 1,\n",
       " 'Mine': 1,\n",
       " 'seem': 1,\n",
       " 'dull': 1,\n",
       " 'half': 1,\n",
       " 'twin': 1,\n",
       " 'evil': 1,\n",
       " 'boys': 1,\n",
       " 'glad': 1,\n",
       " 'wasn': 1,\n",
       " 'deal': 1,\n",
       " 'cope': 1,\n",
       " 'nick': 1,\n",
       " 'face': 1,\n",
       " 'duty': 1,\n",
       " 'clue': 1,\n",
       " 'aren': 1,\n",
       " 'oooh': 1,\n",
       " 'Seek': 1,\n",
       " 'Peng': 1,\n",
       " 'tale': 1,\n",
       " 'song': 1,\n",
       " 'owns': 1,\n",
       " 'rich': 1,\n",
       " 'suit': 1,\n",
       " 'Most': 1,\n",
       " 'kind': 1,\n",
       " 'sign': 1,\n",
       " 'Stay': 1,\n",
       " 'send': 1,\n",
       " 'ptoo': 1,\n",
       " 'hadn': 1,\n",
       " 'jump': 1,\n",
       " 'rope': 1,\n",
       " 'Didn': 1,\n",
       " 'dear': 1,\n",
       " 'main': 1,\n",
       " 'hell': 1,\n",
       " 'bond': 1,\n",
       " 'near': 1,\n",
       " 'felt': 1,\n",
       " 'Uugh': 1,\n",
       " 'uuup': 1,\n",
       " 'Heee': 1,\n",
       " 'town': 1,\n",
       " 'sent': 1,\n",
       " 'Aggh': 1,\n",
       " 'Even': 1,\n",
       " 'sell': 1,\n",
       " 'Ecky': 1,\n",
       " 'zoop': 1,\n",
       " 'owli': 1,\n",
       " 'zhiv': 1,\n",
       " 'Said': 1,\n",
       " 'vary': 1,\n",
       " 'year': 1,\n",
       " 'gave': 1,\n",
       " 'miss': 1,\n",
       " 'snap': 1,\n",
       " 'Ages': 1,\n",
       " 'Umhm': 1,\n",
       " 'full': 1,\n",
       " 'lair': 1,\n",
       " 'sire': 1,\n",
       " 'foot': 1,\n",
       " 'late': 1,\n",
       " 'mile': 1,\n",
       " 'wide': 1,\n",
       " 'mate': 1,\n",
       " 'Chop': 1,\n",
       " 'stew': 1,\n",
       " 'lose': 1,\n",
       " 'risk': 1,\n",
       " 'Like': 1,\n",
       " 'bows': 1,\n",
       " 'Book': 1,\n",
       " 'Nine': 1,\n",
       " 'bits': 1,\n",
       " 'grin': 1,\n",
       " 'carp': 1,\n",
       " 'bats': 1,\n",
       " 'Skip': 1,\n",
       " 'less': 1,\n",
       " 'Four': 1,\n",
       " 'Five': 1,\n",
       " 'Once': 1,\n",
       " 'pure': 1,\n",
       " 'Ives': 1,\n",
       " 'eats': 1,\n",
       " 'asks': 1,\n",
       " 'cast': 1,\n",
       " 'east': 1,\n",
       " 'pray': 1,\n",
       " 'luck': 1,\n",
       " 'easy': 1,\n",
       " 'Thou': 1,\n",
       " 'hast': 1,\n",
       " 'dare': 1,\n",
       " 'bent': 1,\n",
       " 'wave': 1,\n",
       " 'tops': 1,\n",
       " 'haaa': 1,\n",
       " 'Walk': 1,\n",
       " 'gone': 1,\n",
       " 'ones': 1,\n",
       " 'pack': 1}"
      ]
     },
     "execution_count": 26,
     "metadata": {},
     "output_type": "execute_result"
    }
   ],
   "source": [
    "#additionaly check if key is in aplhabet\n",
    "\n",
    "freq = dict(FreqDist(text6))\n",
    "x = dict()\n",
    "for key,value in freq.items():\n",
    "     if key.isalpha():\n",
    "          if len(key) == 4: x[key]=value\n",
    "dict(sorted(x.items(), reverse=True, key=lambda item: item[1]))"
   ]
  },
  {
   "cell_type": "markdown",
   "metadata": {},
   "source": [
    "### Exercise 8\n",
    "\n",
    "Create a set for the words in `text6`. Use a `for` and an `if` statement to loop over the words in the set and print all titlecased words with more than one character, one per line.\n"
   ]
  },
  {
   "cell_type": "code",
   "execution_count": 5,
   "metadata": {},
   "outputs": [
    {
     "name": "stdout",
     "output_type": "stream",
     "text": [
      "Aaaaaaaaah\n",
      "Aaaaaaaah\n",
      "Aaaaaah\n",
      "Aaaah\n",
      "Aaaaugh\n",
      "Aaagh\n",
      "Aaah\n",
      "Aaauggh\n",
      "Aaaugh\n",
      "Aaauugh\n",
      "Aagh\n",
      "Aah\n",
      "Aauuggghhh\n",
      "Aauuugh\n",
      "Aauuuuugh\n",
      "Aauuuves\n",
      "Action\n",
      "Actually\n",
      "African\n",
      "Ages\n",
      "Aggh\n",
      "Agh\n",
      "Ah\n",
      "Ahh\n",
      "Alice\n",
      "All\n",
      "Allo\n",
      "Almighty\n",
      "Alright\n",
      "Am\n",
      "Amen\n",
      "An\n",
      "Anarcho\n",
      "And\n",
      "Angnor\n",
      "Anthrax\n",
      "Antioch\n",
      "Anybody\n",
      "Anyway\n",
      "Apples\n",
      "Aramaic\n",
      "Are\n",
      "Arimathea\n",
      "Armaments\n",
      "Arthur\n",
      "As\n",
      "Ask\n",
      "Assyria\n",
      "At\n",
      "Attila\n",
      "Augh\n",
      "Autumn\n",
      "Auuuuuuuugh\n",
      "Away\n",
      "Ay\n",
      "Ayy\n",
      "Back\n",
      "Bad\n",
      "Badon\n",
      "Battle\n",
      "Be\n",
      "Beast\n",
      "Bedevere\n",
      "Bedwere\n",
      "Behold\n",
      "Between\n",
      "Beyond\n",
      "Black\n",
      "Bloody\n",
      "Blue\n",
      "Bon\n",
      "Bones\n",
      "Book\n",
      "Bors\n",
      "Brave\n",
      "Bravely\n",
      "Bravest\n",
      "Bread\n",
      "Bridge\n",
      "Bring\n",
      "Bristol\n",
      "Britain\n",
      "Britons\n",
      "Brother\n",
      "Build\n",
      "Burn\n",
      "But\n",
      "By\n",
      "Caerbannog\n",
      "Camaaaaaargue\n",
      "Camelot\n",
      "Castle\n",
      "Chapter\n",
      "Charge\n",
      "Chaste\n",
      "Cherries\n",
      "Chicken\n",
      "Chickennn\n",
      "Chop\n",
      "Christ\n",
      "Churches\n",
      "Cider\n",
      "Clark\n",
      "Clear\n",
      "Come\n",
      "Concorde\n",
      "Consult\n",
      "Cornwall\n",
      "Could\n",
      "Course\n",
      "Court\n",
      "Crapper\n",
      "Cut\n",
      "Dappy\n",
      "Death\n",
      "Defeat\n",
      "Dennis\n",
      "Did\n",
      "Didn\n",
      "Dingo\n",
      "Dis\n",
      "Divine\n",
      "Do\n",
      "Doctor\n",
      "Does\n",
      "Don\n",
      "Dragon\n",
      "Dramatically\n",
      "Ecky\n",
      "Ector\n",
      "Eee\n",
      "Eh\n",
      "Enchanter\n",
      "England\n",
      "English\n",
      "Erbert\n",
      "Ere\n",
      "Erm\n",
      "Eternal\n",
      "European\n",
      "Even\n",
      "Every\n",
      "Everything\n",
      "Ewing\n",
      "Exactly\n",
      "Excalibur\n",
      "Excuse\n",
      "Explain\n",
      "Far\n",
      "Farewell\n",
      "Father\n",
      "Fetchez\n",
      "Fiends\n",
      "Fine\n",
      "First\n",
      "Firstly\n",
      "Five\n",
      "Follow\n",
      "For\n",
      "Forgive\n",
      "Forward\n",
      "Found\n",
      "Four\n",
      "France\n",
      "Frank\n",
      "French\n",
      "Gable\n",
      "Galahad\n",
      "Gallahad\n",
      "Gawain\n",
      "Get\n",
      "Go\n",
      "God\n",
      "Good\n",
      "Gorge\n",
      "Grail\n",
      "Great\n",
      "Greetings\n",
      "Grenade\n",
      "Guards\n",
      "Guy\n",
      "Ha\n",
      "Hah\n",
      "Hallo\n",
      "Halt\n",
      "Hand\n",
      "Hang\n",
      "Have\n",
      "Haw\n",
      "He\n",
      "Hee\n",
      "Heee\n",
      "Heh\n",
      "Hello\n",
      "Help\n",
      "Herbert\n",
      "Here\n",
      "Hey\n",
      "Hic\n",
      "Hill\n",
      "Himself\n",
      "His\n",
      "Hiyaah\n",
      "Hiyah\n",
      "Hiyya\n",
      "Hm\n",
      "Hmm\n",
      "Ho\n",
      "Hoa\n",
      "Hold\n",
      "Holy\n",
      "Honestly\n",
      "Hoo\n",
      "Hooray\n",
      "How\n",
      "Huh\n",
      "Hurry\n",
      "Huy\n",
      "Huyah\n",
      "Hya\n",
      "Hyy\n",
      "Idiom\n",
      "Iesu\n",
      "If\n",
      "Iiiiives\n",
      "Iiiives\n",
      "In\n",
      "Is\n",
      "Isn\n",
      "It\n",
      "Ives\n",
      "Jesus\n",
      "Joseph\n",
      "Just\n",
      "Keep\n",
      "King\n",
      "Knight\n",
      "Knights\n",
      "Lady\n",
      "Lake\n",
      "Lancelot\n",
      "Launcelot\n",
      "Lead\n",
      "Leaving\n",
      "Let\n",
      "Lie\n",
      "Like\n",
      "Listen\n",
      "Loimbard\n",
      "Look\n",
      "Looks\n",
      "Lord\n",
      "Lucky\n",
      "Make\n",
      "Man\n",
      "May\n",
      "Maynard\n",
      "Meanwhile\n",
      "Mercea\n",
      "Message\n",
      "Midget\n",
      "Mind\n",
      "Mine\n",
      "Mmm\n",
      "Monsieur\n",
      "More\n",
      "Morning\n",
      "Most\n",
      "Mother\n",
      "Mud\n",
      "Must\n",
      "My\n",
      "Nador\n",
      "Nay\n",
      "Neee\n",
      "Never\n",
      "Ni\n",
      "Nine\n",
      "Ninepence\n",
      "No\n",
      "None\n",
      "Not\n",
      "Nothing\n",
      "Now\n",
      "Nu\n",
      "Of\n",
      "Off\n",
      "Oh\n",
      "Ohh\n",
      "Old\n",
      "Olfin\n",
      "On\n",
      "Once\n",
      "One\n",
      "Ooh\n",
      "Oooh\n",
      "Oooo\n",
      "Oooohoohohooo\n",
      "Oooooooh\n",
      "Open\n",
      "Or\n",
      "Order\n",
      "Other\n",
      "Oui\n",
      "Our\n",
      "Over\n",
      "Ow\n",
      "Packing\n",
      "Patsy\n",
      "Pendragon\n",
      "Peng\n",
      "Perhaps\n",
      "Peril\n",
      "Picture\n",
      "Pie\n",
      "Piglet\n",
      "Pin\n",
      "Please\n",
      "Practice\n",
      "Prepare\n",
      "Prince\n",
      "Princess\n",
      "Providence\n",
      "Psalms\n",
      "Pull\n",
      "Pure\n",
      "Put\n",
      "Quick\n",
      "Quickly\n",
      "Quiet\n",
      "Quite\n",
      "Quoi\n",
      "Rather\n",
      "Really\n",
      "Recently\n",
      "Remove\n",
      "Rheged\n",
      "Ridden\n",
      "Right\n",
      "Riiight\n",
      "Robin\n",
      "Robinson\n",
      "Roger\n",
      "Round\n",
      "Run\n",
      "Running\n",
      "Said\n",
      "Saint\n",
      "Saxons\n",
      "Say\n",
      "Schools\n",
      "See\n",
      "Seek\n",
      "Shall\n",
      "She\n",
      "Shh\n",
      "Shrubber\n",
      "Shrubberies\n",
      "Shut\n",
      "Silence\n",
      "Silly\n",
      "Since\n",
      "Sir\n",
      "Skip\n",
      "So\n",
      "Sorry\n",
      "Speak\n",
      "Splendid\n",
      "Spring\n",
      "Stand\n",
      "Stay\n",
      "Steady\n",
      "Stop\n",
      "Summer\n",
      "Supposing\n",
      "Supreme\n",
      "Surely\n",
      "Swamp\n",
      "Table\n",
      "Tale\n",
      "Tall\n",
      "Tell\n",
      "Thank\n",
      "That\n",
      "The\n",
      "Thee\n",
      "Then\n",
      "There\n",
      "Therefore\n",
      "They\n",
      "This\n",
      "Those\n",
      "Thou\n",
      "Thpppppt\n",
      "Thppppt\n",
      "Thpppt\n",
      "Thppt\n",
      "Three\n",
      "Throw\n",
      "Thsss\n",
      "Thursday\n",
      "Thy\n",
      "Til\n",
      "Tim\n",
      "Tis\n",
      "To\n",
      "Today\n",
      "Together\n",
      "Too\n",
      "Torment\n",
      "Tower\n",
      "True\n",
      "Try\n",
      "Twenty\n",
      "Two\n",
      "Uh\n",
      "Uhh\n",
      "Ulk\n",
      "Um\n",
      "Umhm\n",
      "Umm\n",
      "Un\n",
      "Unfortunately\n",
      "Until\n",
      "Use\n",
      "Uther\n",
      "Uugh\n",
      "Uuh\n",
      "Very\n",
      "Victory\n",
      "Waa\n",
      "Wait\n",
      "Walk\n",
      "Wayy\n",
      "We\n",
      "Welcome\n",
      "Well\n",
      "What\n",
      "When\n",
      "Where\n",
      "Which\n",
      "Who\n",
      "Whoa\n",
      "Why\n",
      "Will\n",
      "Winston\n",
      "Winter\n",
      "With\n",
      "Woa\n",
      "Wood\n",
      "Would\n",
      "Yapping\n",
      "Yay\n",
      "Yeaaah\n",
      "Yeaah\n",
      "Yeah\n",
      "Yes\n",
      "You\n",
      "Your\n",
      "Yup\n",
      "Zoot\n"
     ]
    }
   ],
   "source": [
    "#Using for loop + list comprehension + if statement\n",
    "for w in sorted(set(word for word in text6 if word.isalpha())):\n",
    "    if len(w) > 1 and w.istitle(): print(w)"
   ]
  },
  {
   "cell_type": "markdown",
   "metadata": {},
   "source": [
    "### Exercise 9\n",
    "\n",
    "Write expressions for finding all words in `text6` that meet the conditions listed below:\n",
    "\n",
    "a) ending in \"ing\", \n",
    "\n",
    "b) containing the letter \"z\",\n",
    "\n",
    "c) containing the letter sequence \"pt\".\n"
   ]
  },
  {
   "cell_type": "code",
   "execution_count": 28,
   "metadata": {},
   "outputs": [
    {
     "data": {
      "text/plain": [
       "{'Bring',\n",
       " 'Everything',\n",
       " 'Ewing',\n",
       " 'King',\n",
       " 'Leaving',\n",
       " 'Morning',\n",
       " 'Nothing',\n",
       " 'Packing',\n",
       " 'Running',\n",
       " 'Spring',\n",
       " 'Supposing',\n",
       " 'Yapping',\n",
       " 'acting',\n",
       " 'advancing',\n",
       " 'anging',\n",
       " 'anything',\n",
       " 'appearing',\n",
       " 'approaching',\n",
       " 'asking',\n",
       " 'averting',\n",
       " 'bathing',\n",
       " 'being',\n",
       " 'binding',\n",
       " 'bitching',\n",
       " 'blessing',\n",
       " 'boing',\n",
       " 'bring',\n",
       " 'bringing',\n",
       " 'buggering',\n",
       " 'carrying',\n",
       " 'carving',\n",
       " 'chanting',\n",
       " 'chickening',\n",
       " 'coming',\n",
       " 'counting',\n",
       " 'crying',\n",
       " 'dancing',\n",
       " 'daring',\n",
       " 'depressing',\n",
       " 'dictating',\n",
       " 'distributing',\n",
       " 'doing',\n",
       " 'dragging',\n",
       " 'dressing',\n",
       " 'dying',\n",
       " 'enjoying',\n",
       " 'entering',\n",
       " 'everything',\n",
       " 'excepting',\n",
       " 'exciting',\n",
       " 'exploiting',\n",
       " 'fooling',\n",
       " 'getting',\n",
       " 'going',\n",
       " 'groveling',\n",
       " 'guiding',\n",
       " 'having',\n",
       " 'herring',\n",
       " 'king',\n",
       " 'kneeling',\n",
       " 'laughing',\n",
       " 'learning',\n",
       " 'living',\n",
       " 'looking',\n",
       " 'lying',\n",
       " 'making',\n",
       " 'marrying',\n",
       " 'meeting',\n",
       " 'nothing',\n",
       " 'opening',\n",
       " 'packing',\n",
       " 'passing',\n",
       " 'perpetuating',\n",
       " 'pissing',\n",
       " 'preserving',\n",
       " 'rejoicing',\n",
       " 'repressing',\n",
       " 'resting',\n",
       " 'riding',\n",
       " 'running',\n",
       " 'saying',\n",
       " 'setting',\n",
       " 'shimmering',\n",
       " 'shivering',\n",
       " 'signifying',\n",
       " 'sing',\n",
       " 'singing',\n",
       " 'smashing',\n",
       " 'sneaking',\n",
       " 'something',\n",
       " 'spanking',\n",
       " 'starling',\n",
       " 'string',\n",
       " 'suggesting',\n",
       " 'taking',\n",
       " 'taunting',\n",
       " 'telling',\n",
       " 'thing',\n",
       " 'throwing',\n",
       " 'training',\n",
       " 'understanding',\n",
       " 'undressing',\n",
       " 'using',\n",
       " 'walking',\n",
       " 'warning',\n",
       " 'wedding',\n",
       " 'wetting',\n",
       " 'whispering',\n",
       " 'working',\n",
       " 'wounding',\n",
       " 'writing',\n",
       " 'yelling'}"
      ]
     },
     "execution_count": 28,
     "metadata": {},
     "output_type": "execute_result"
    }
   ],
   "source": [
    "#a)\n",
    "def ending_with(phrase,text):\n",
    "    return set(word for word in text if word.endswith(phrase))\n",
    "\n",
    "ending_with(\"ing\",text6)"
   ]
  },
  {
   "cell_type": "code",
   "execution_count": 29,
   "metadata": {},
   "outputs": [
    {
     "data": {
      "text/plain": [
       "{'Fetchez', 'amazes', 'frozen', 'zhiv', 'zone', 'zoo', 'zoop', 'zoosh'}"
      ]
     },
     "execution_count": 29,
     "metadata": {},
     "output_type": "execute_result"
    }
   ],
   "source": [
    "#b) \n",
    "def contains_letters(letter,text):\n",
    "    return set(word for word in text if letter in word)\n",
    "\n",
    "contains_letters(\"z\",text6)\n"
   ]
  },
  {
   "cell_type": "code",
   "execution_count": 30,
   "metadata": {},
   "outputs": [
    {
     "data": {
      "text/plain": [
       "{'Chapter',\n",
       " 'Thpppppt',\n",
       " 'Thppppt',\n",
       " 'Thpppt',\n",
       " 'Thppt',\n",
       " 'aptly',\n",
       " 'empty',\n",
       " 'excepting',\n",
       " 'ptoo',\n",
       " 'temptation',\n",
       " 'temptress'}"
      ]
     },
     "execution_count": 30,
     "metadata": {},
     "output_type": "execute_result"
    }
   ],
   "source": [
    "#c)\n",
    "contains_letters(\"pt\", text6)"
   ]
  },
  {
   "cell_type": "markdown",
   "metadata": {},
   "source": [
    "### Exercise 10\n",
    "\n",
    "Define `sent` to be the list of words `['she', 'sells', 'sea', 'shells', 'by', 'the', 'sea', 'shore']`. Now write code to perform the following tasks:\n",
    "\n",
    "a) print all words beginning with \"sh\",\n",
    "\n",
    "b) print all words longer than four characters."
   ]
  },
  {
   "cell_type": "code",
   "execution_count": 31,
   "metadata": {},
   "outputs": [
    {
     "name": "stdout",
     "output_type": "stream",
     "text": [
      "she\n",
      "shells\n",
      "shore\n"
     ]
    }
   ],
   "source": [
    "#a)\n",
    "sent = ['she', 'sells', 'sea', 'shells', 'by', 'the', 'sea', 'shore']\n",
    "def print_word_start_with_string(start,list_):\n",
    "    for item in list_:\n",
    "        if item.startswith(start):\n",
    "            print(item)\n",
    "print_word_start_with_string('sh',sent)\n"
   ]
  },
  {
   "cell_type": "code",
   "execution_count": 32,
   "metadata": {},
   "outputs": [
    {
     "name": "stdout",
     "output_type": "stream",
     "text": [
      "sells\n",
      "shells\n",
      "shore\n"
     ]
    }
   ],
   "source": [
    "#b)\n",
    "def print_words_longer_than(length,list_):\n",
    "    for word in list_:\n",
    "        if len(word) > 4:\n",
    "            print(word)\n",
    "\n",
    "print_words_longer_than(4,sent)"
   ]
  },
  {
   "cell_type": "markdown",
   "metadata": {},
   "source": [
    "### Exercise 11\n",
    "\n",
    "What does the following Python code do? \n",
    "\n",
    "`sum(len(w) for w in text1)`\n",
    "\n",
    "Can you use it to work out the average word length of `text1`?"
   ]
  },
  {
   "cell_type": "markdown",
   "metadata": {},
   "source": [
    "### Prints the sum of the length of all characters (including comas,..) in a text "
   ]
  },
  {
   "cell_type": "code",
   "execution_count": 33,
   "metadata": {},
   "outputs": [
    {
     "data": {
      "text/plain": [
       "999044"
      ]
     },
     "execution_count": 33,
     "metadata": {},
     "output_type": "execute_result"
    }
   ],
   "source": [
    "sum(len(w) for w in text1)"
   ]
  },
  {
   "cell_type": "markdown",
   "metadata": {},
   "source": [
    "### We can use it but need to extend it, as we want all words and not all characters (filter for isalpha())\n",
    "### The sum of all word-characters divided by the number of all words = avg word length"
   ]
  },
  {
   "cell_type": "code",
   "execution_count": 34,
   "metadata": {},
   "outputs": [
    {
     "data": {
      "text/plain": [
       "218361"
      ]
     },
     "execution_count": 34,
     "metadata": {},
     "output_type": "execute_result"
    }
   ],
   "source": [
    "# sum up all frequences of words that are alphabetic\n",
    "\n",
    "def wordcount(text):\n",
    "    return sum(value for key,value in FreqDist(text).items() if key.isalpha() )\n",
    "\n",
    "wordcount(text1)"
   ]
  },
  {
   "cell_type": "code",
   "execution_count": 35,
   "metadata": {},
   "outputs": [
    {
     "data": {
      "text/plain": [
       "4.35945521407211"
      ]
     },
     "execution_count": 35,
     "metadata": {},
     "output_type": "execute_result"
    }
   ],
   "source": [
    "sum(len(w) for w in text1 if w.isalpha())/wordcount(text1)"
   ]
  },
  {
   "cell_type": "markdown",
   "metadata": {},
   "source": [
    "### Exercise 12\n",
    "\n",
    "Define a function `freq(word, text)` that calculates how often a given word occurs in a text, not using `count()` but a `FreqDist`. Use the function to calculate how often \"promise\" appears in `text4`."
   ]
  },
  {
   "cell_type": "code",
   "execution_count": 36,
   "metadata": {},
   "outputs": [
    {
     "data": {
      "text/plain": [
       "48"
      ]
     },
     "execution_count": 36,
     "metadata": {},
     "output_type": "execute_result"
    }
   ],
   "source": [
    "def freq(word, text):\n",
    "    return FreqDist(text)[word]\n",
    "\n",
    "freq(\"promise\",text4)"
   ]
  }
 ],
 "metadata": {
  "interpreter": {
   "hash": "7691dc7e968cae2c1305b7cd748cf3c51f27e2f981106cfee5b02ab727978e13"
  },
  "kernelspec": {
   "display_name": "Python 3.9.7 64-bit",
   "name": "python3"
  },
  "language_info": {
   "codemirror_mode": {
    "name": "ipython",
    "version": 3
   },
   "file_extension": ".py",
   "mimetype": "text/x-python",
   "name": "python",
   "nbconvert_exporter": "python",
   "pygments_lexer": "ipython3",
   "version": "3.9.7"
  }
 },
 "nbformat": 4,
 "nbformat_minor": 2
}
