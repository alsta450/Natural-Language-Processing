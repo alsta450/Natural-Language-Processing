{
 "cells": [
  {
   "cell_type": "markdown",
   "metadata": {},
   "source": [
    "# Natural Language Processing\n",
    "\n",
    "## Exercise Sheet 8"
   ]
  },
  {
   "cell_type": "code",
   "execution_count": 2,
   "metadata": {},
   "outputs": [],
   "source": [
    "#imports for all exercises\n",
    "import nltk"
   ]
  },
  {
   "cell_type": "markdown",
   "metadata": {},
   "source": [
    "### Exercise 1\n",
    "\n",
    "Write a recursive function to traverse a tree and return the depth of the tree, such that a tree with a single node would have depth zero. (Hint: the depth of a subtree is the maximum depth of its children, plus one.)\n",
    "Test your function with the two trees produced by the `ChartParser` for the `groucho_grammar` and the sentence \"I shot an elephant in my pajamas\". The result can be verified with the `Tree.height()` function.\n",
    "\n"
   ]
  },
  {
   "cell_type": "code",
   "execution_count": 53,
   "metadata": {},
   "outputs": [
    {
     "name": "stdout",
     "output_type": "stream",
     "text": [
      "6\n",
      "7\n"
     ]
    }
   ],
   "source": [
    "groucho_grammar = nltk.CFG.fromstring(\"\"\"\n",
    "S -> NP VP\n",
    "PP -> P NP\n",
    "NP -> Det N | Det N PP | 'I'\n",
    "VP -> V NP | VP PP\n",
    "Det -> 'an' | 'my'\n",
    "N -> 'elephant' | 'pajamas'\n",
    "V -> 'shot'\n",
    "P -> 'in'\n",
    "\"\"\")\n",
    "sent = ['I', 'shot', 'an', 'elephant', 'in', 'my', 'pajamas']\n",
    "parser = nltk.ChartParser(groucho_grammar)\n",
    "for tree in parser.parse(sent):\n",
    "    print(tree.height())"
   ]
  },
  {
   "cell_type": "markdown",
   "metadata": {},
   "source": []
  },
  {
   "cell_type": "code",
   "execution_count": 56,
   "metadata": {},
   "outputs": [],
   "source": [
    "def traverse(tree):\n",
    "    try:\n",
    "        tree.label()\n",
    "    except: \n",
    "        return 0\n",
    "    max_child_height = 1\n",
    "    for child in tree:\n",
    "            max_child_height = max(max_child_height, traverse(child))\n",
    "    return 1 + max_child_height"
   ]
  },
  {
   "cell_type": "code",
   "execution_count": 57,
   "metadata": {},
   "outputs": [
    {
     "name": "stdout",
     "output_type": "stream",
     "text": [
      "6\n",
      "7\n"
     ]
    }
   ],
   "source": [
    "for tree in parser.parse(sent):\n",
    "    result = traverse(tree)\n",
    "    print(result)\n"
   ]
  },
  {
   "cell_type": "code",
   "execution_count": 58,
   "metadata": {},
   "outputs": [
    {
     "name": "stdout",
     "output_type": "stream",
     "text": [
      "5\n",
      "4\n"
     ]
    }
   ],
   "source": [
    "# This version does not work\n",
    "\n",
    "def traverse(tree,depth=0):\n",
    "    try:\n",
    "        tree.label()\n",
    "    except AttributeError:\n",
    "        return depth\n",
    "    else:\n",
    "        try:\n",
    "            return  max(traverse(tree[0],depth +1),traverse(tree[1], depth+1))\n",
    "        except:\n",
    "            return  max(traverse(tree[0],depth+1),0)\n",
    "\n",
    "        \n",
    "\n",
    "\n",
    "for tree in parser.parse(sent):\n",
    "    result = traverse(tree)\n",
    "    print(result)\n"
   ]
  },
  {
   "cell_type": "code",
   "execution_count": 24,
   "metadata": {},
   "outputs": [
    {
     "name": "stdout",
     "output_type": "stream",
     "text": [
      "S\n",
      "NP\n",
      "4\n",
      "S\n",
      "NP\n",
      "4\n"
     ]
    }
   ],
   "source": [
    "def traverse(tree):\n",
    "    ret = 0\n",
    "    try:\n",
    "        print(tree.label())\n",
    "        tree.label()\n",
    "    except:\n",
    "        return ret + 1\n",
    "    else:\n",
    "        for child in tree:\n",
    "            return ret + traverse(child)\n",
    "        return ret +1\n",
    "\n",
    "\n",
    "for tree in parser.parse(sent):\n",
    "    result = traverse(tree)\n",
    "    print(result)"
   ]
  },
  {
   "cell_type": "markdown",
   "metadata": {},
   "source": [
    "### Exercise 2\n",
    "\n",
    "Write a recursive function `bracketing(tree)` that produces a nested bracketing for a `tree`, leaving out the leaf nodes, and displaying the non-terminal labels after their subtrees. Consecutive categories should be separated by space. Test your function with the tree: "
   ]
  },
  {
   "cell_type": "code",
   "execution_count": 61,
   "metadata": {
    "scrolled": true
   },
   "outputs": [
    {
     "name": "stdout",
     "output_type": "stream",
     "text": [
      "(S\n",
      "  (NP-SBJ\n",
      "    (NP (NNP Pierre) (NNP Vinken))\n",
      "    (, ,)\n",
      "    (ADJP (NP (CD 61) (NNS years)) (JJ old))\n",
      "    (, ,))\n",
      "  (VP\n",
      "    (MD will)\n",
      "    (VP\n",
      "      (VB join)\n",
      "      (NP (DT the) (NN board))\n",
      "      (PP-CLR (IN as) (NP (DT a) (JJ nonexecutive) (NN director)))\n",
      "      (NP-TMP (NNP Nov.) (CD 29))))\n",
      "  (. .))\n"
     ]
    }
   ],
   "source": [
    "from nltk.corpus import treebank\n",
    "t = treebank.parsed_sents('wsj_0001.mrg')[0]\n",
    "print(t)"
   ]
  },
  {
   "cell_type": "code",
   "execution_count": 143,
   "metadata": {},
   "outputs": [],
   "source": [
    "def bracketing(tree,string=\"\"):\n",
    "    try:\n",
    "        tree.label()\n",
    "    except: \n",
    "        return string\n",
    "    string += \"[\"\n",
    "    firstIt = False\n",
    "    for child in tree:\n",
    "        if firstIt:\n",
    "            string += \" \"\n",
    "        string += bracketing(child)\n",
    "        firstIt = True\n",
    "    firstIt = False\n",
    "    string += \"]\"\n",
    "    string += tree.label() \n",
    "    return string.replace(\"[]\",\"\")"
   ]
  },
  {
   "cell_type": "code",
   "execution_count": 144,
   "metadata": {},
   "outputs": [
    {
     "name": "stdout",
     "output_type": "stream",
     "text": [
      "[[[NNP NNP]NP , [[CD NNS]NP JJ]ADJP ,]NP-SBJ [MD [VB [DT NN]NP [IN [DT JJ NN]NP]PP-CLR [NNP CD]NP-TMP]VP]VP .]S\n"
     ]
    }
   ],
   "source": [
    "\n",
    "result = bracketing(t)\n",
    "print(result)"
   ]
  },
  {
   "cell_type": "code",
   "execution_count": 88,
   "metadata": {},
   "outputs": [
    {
     "name": "stdout",
     "output_type": "stream",
     "text": [
      "( S ) "
     ]
    }
   ],
   "source": [
    "def bracketing(t):\n",
    "    try:\n",
    "        t.label()\n",
    "    except AttributeError:\n",
    "        print(t, end=\" \")\n",
    "    else:\n",
    "        # Now we know that t.node is defined\n",
    "        print('(', t.label(), end=\" \")\n",
    "        for child in t:\n",
    "            traverse(child)\n",
    "        print(')', end=\" \")\n",
    "bracketing(t)"
   ]
  },
  {
   "cell_type": "code",
   "execution_count": 5,
   "metadata": {},
   "outputs": [],
   "source": [
    "# bracketing(t)"
   ]
  },
  {
   "cell_type": "markdown",
   "metadata": {},
   "source": [
    "    [[[NNP NNP]NP , [[CD NNS]NP JJ]ADJP ,]NP-SBJ [MD [VB [DT NN]NP \n",
    "    [IN [DT JJ NN]NP]PP-CLR [NNP CD]NP-TMP]VP]VP .]S"
   ]
  },
  {
   "cell_type": "markdown",
   "metadata": {},
   "source": [
    "### Exercise 3\n",
    "\n",
    "Modify the functions `init_wfst()` and `complete_wfst()` so that the contents of each cell in the WFST is a set of non-terminal symbols rather than a single non-terminal. Test your function with the `groucho_grammar` and the sentence \"I shot an elephant in my pajamas\". "
   ]
  },
  {
   "cell_type": "code",
   "execution_count": 183,
   "metadata": {},
   "outputs": [
    {
     "name": "stdout",
     "output_type": "stream",
     "text": [
      "[N -> 'elephant']\n",
      "[N -> 'elephant']\n",
      "[N -> 'elephant']\n",
      "[N -> 'elephant']\n",
      "[N -> 'elephant']\n",
      "[N -> 'elephant']\n",
      "[N -> 'elephant']\n",
      "\n",
      "WFST 1    2    3    4    5    6    7   \n",
      "0    NP   .    .    .    .    .    .    \n",
      "1    .    V    .    .    .    .    .    \n",
      "2    .    .    Det  .    .    .    .    \n",
      "3    .    .    .    N    .    .    .    \n",
      "4    .    .    .    .    P    .    .    \n",
      "5    .    .    .    .    .    Det  .    \n",
      "6    .    .    .    .    .    .    N    \n"
     ]
    }
   ],
   "source": [
    "groucho_grammar = nltk.CFG.fromstring(\"\"\"\n",
    "S -> NP VP\n",
    "PP -> P NP\n",
    "NP -> Det N | Det N PP | 'I'\n",
    "VP -> V NP | VP PP\n",
    "Det -> 'an' | 'my'\n",
    "N -> 'elephant' | 'pajamas'\n",
    "V -> 'shot'\n",
    "P -> 'in'\n",
    "\"\"\")\n",
    "sent = ['I', 'shot', 'an', 'elephant', 'in', 'my', 'pajamas']\n",
    "\n",
    "def init_wfst(tokens, grammar):\n",
    "    numtokens = len(tokens)\n",
    "    wfst = [[None for i in range(numtokens+1)] for j in range(numtokens+1)]\n",
    "    for i in range(numtokens):\n",
    "        productions = grammar.productions(rhs=tokens[i])\n",
    "        # print(productions)\n",
    "        wfst[i][i+1] = productions[0].lhs()\n",
    "    return wfst\n",
    "\n",
    "def complete_wfst(wfst, tokens, grammar, trace=False):\n",
    "    index = dict((p.rhs(), p.lhs()) for p in grammar.productions())\n",
    "    numtokens = len(tokens)\n",
    "    for span in range(2, numtokens+1):\n",
    "        for start in range(numtokens+1-span):\n",
    "            end = start + span\n",
    "            for mid in range(start+1, end):\n",
    "                nt1, nt2 = wfst[start][mid], wfst[mid][end]\n",
    "                if nt1 and nt2 and (nt1,nt2) in index:\n",
    "                    wfst[start][end] = index[(nt1,nt2)]\n",
    "                    if trace:\n",
    "                        print(\"[%s] %3s [%s] %3s [%s] ==> [%s] %3s [%s]\" % \\\n",
    "                        (start, nt1, mid, nt2, end, start, index[(nt1,nt2)], end))\n",
    "    return wfst\n",
    "\n",
    "def display(wfst):\n",
    "    print('\\nWFST ' + ' '.join((\"%-4d\" % i) for i in range(1, len(wfst))))\n",
    "    for i in range(len(wfst)-1):\n",
    "        print(\"%d   \" % i, end=\" \")\n",
    "        for j in range(1, len(wfst)):\n",
    "            print(\"%-4s\" % (wfst[i][j] or '.'), end=\" \")\n",
    "        print()\n",
    "\n",
    "wfst0 = init_wfst(sent, groucho_grammar)\n",
    "display(wfst0)\n",
    "# wfst = complete_wfst(wfst0, sent, groucho_grammar, True)\n",
    "# display(wfst)"
   ]
  },
  {
   "cell_type": "code",
   "execution_count": null,
   "metadata": {},
   "outputs": [],
   "source": []
  },
  {
   "cell_type": "code",
   "execution_count": null,
   "metadata": {},
   "outputs": [],
   "source": []
  },
  {
   "cell_type": "markdown",
   "metadata": {},
   "source": [
    "Change the line:\n",
    "\n",
    "    NP -> Det N | Det N PP | 'I' \n",
    "\n",
    "in `groucho_grammar` to:\n",
    "\n",
    "    NP -> Det N | NP PP | 'I' \n",
    "\n",
    "to verify in the trace of `complete_wfst()` that there are now two lines for `cell(1,7)`:\n",
    "\n",
    "    [1]   V [2]  NP [7] ==> [1]  VP [7]\n",
    "    [1]  VP [4]  PP [7] ==> [1]  VP [7]"
   ]
  },
  {
   "cell_type": "code",
   "execution_count": 146,
   "metadata": {},
   "outputs": [
    {
     "name": "stdout",
     "output_type": "stream",
     "text": [
      "\n",
      "WFST 1    2    3    4    5    6    7   \n",
      "0    NP   .    .    .    .    .    .    \n",
      "1    .    V    .    .    .    .    .    \n",
      "2    .    .    Det  .    .    .    .    \n",
      "3    .    .    .    N    .    .    .    \n",
      "4    .    .    .    .    P    .    .    \n",
      "5    .    .    .    .    .    Det  .    \n",
      "6    .    .    .    .    .    .    N    \n",
      "[2] Det [3]   N [4] ==> [2]  NP [4]\n",
      "[5] Det [6]   N [7] ==> [5]  NP [7]\n",
      "[1]   V [2]  NP [4] ==> [1]  VP [4]\n",
      "[4]   P [5]  NP [7] ==> [4]  PP [7]\n",
      "[0]  NP [1]  VP [4] ==> [0]   S [4]\n",
      "[2]  NP [4]  PP [7] ==> [2]  NP [7]\n",
      "[1]   V [2]  NP [7] ==> [1]  VP [7]\n",
      "[1]  VP [4]  PP [7] ==> [1]  VP [7]\n",
      "[0]  NP [1]  VP [7] ==> [0]   S [7]\n",
      "\n",
      "WFST 1    2    3    4    5    6    7   \n",
      "0    NP   .    .    S    .    .    S    \n",
      "1    .    V    .    VP   .    .    VP   \n",
      "2    .    .    Det  NP   .    .    NP   \n",
      "3    .    .    .    N    .    .    .    \n",
      "4    .    .    .    .    P    .    PP   \n",
      "5    .    .    .    .    .    Det  NP   \n",
      "6    .    .    .    .    .    .    N    \n"
     ]
    }
   ],
   "source": [
    "groucho_grammar = nltk.CFG.fromstring(\"\"\"\n",
    "S -> NP VP\n",
    "PP -> P NP\n",
    "NP -> Det N | NP PP | 'I'\n",
    "VP -> V NP | VP PP\n",
    "Det -> 'an' | 'my'\n",
    "N -> 'elephant' | 'pajamas'\n",
    "V -> 'shot'\n",
    "P -> 'in'\n",
    "\"\"\")\n",
    "wfst0 = init_wfst(sent, groucho_grammar)\n",
    "display(wfst0)\n",
    "wfst = complete_wfst(wfst0, sent, groucho_grammar, True)\n",
    "display(wfst)"
   ]
  },
  {
   "cell_type": "markdown",
   "metadata": {},
   "source": [
    "Change the line:\n",
    "\n",
    "    VP -> V NP | VP PP\n",
    "\n",
    "in `groucho_grammar` to: \n",
    "\n",
    "    VP -> V NP\n",
    "    VPC -> VP PP \n",
    "\n",
    "and check that `cell(1,7)` now contains `{VPC, VP}`."
   ]
  },
  {
   "cell_type": "code",
   "execution_count": 147,
   "metadata": {},
   "outputs": [
    {
     "name": "stdout",
     "output_type": "stream",
     "text": [
      "\n",
      "WFST 1    2    3    4    5    6    7   \n",
      "0    NP   .    .    .    .    .    .    \n",
      "1    .    V    .    .    .    .    .    \n",
      "2    .    .    Det  .    .    .    .    \n",
      "3    .    .    .    N    .    .    .    \n",
      "4    .    .    .    .    P    .    .    \n",
      "5    .    .    .    .    .    Det  .    \n",
      "6    .    .    .    .    .    .    N    \n",
      "[2] Det [3]   N [4] ==> [2]  NP [4]\n",
      "[5] Det [6]   N [7] ==> [5]  NP [7]\n",
      "[1]   V [2]  NP [4] ==> [1]  VP [4]\n",
      "[4]   P [5]  NP [7] ==> [4]  PP [7]\n",
      "[0]  NP [1]  VP [4] ==> [0]   S [4]\n",
      "[2]  NP [4]  PP [7] ==> [2]  NP [7]\n",
      "[1]   V [2]  NP [7] ==> [1]  VP [7]\n",
      "[1]  VP [4]  PP [7] ==> [1] VPC [7]\n",
      "\n",
      "WFST 1    2    3    4    5    6    7   \n",
      "0    NP   .    .    S    .    .    .    \n",
      "1    .    V    .    VP   .    .    VPC  \n",
      "2    .    .    Det  NP   .    .    NP   \n",
      "3    .    .    .    N    .    .    .    \n",
      "4    .    .    .    .    P    .    PP   \n",
      "5    .    .    .    .    .    Det  NP   \n",
      "6    .    .    .    .    .    .    N    \n"
     ]
    }
   ],
   "source": [
    "groucho_grammar = nltk.CFG.fromstring(\"\"\"\n",
    "S -> NP VP\n",
    "PP -> P NP\n",
    "NP -> Det N | NP PP | 'I'\n",
    "VP -> V NP \n",
    "VPC -> VP PP\n",
    "Det -> 'an' | 'my'\n",
    "N -> 'elephant' | 'pajamas'\n",
    "V -> 'shot'\n",
    "P -> 'in'\n",
    "\"\"\")\n",
    "wfst0 = init_wfst(sent, groucho_grammar)\n",
    "display(wfst0)\n",
    "wfst = complete_wfst(wfst0, sent, groucho_grammar, True)\n",
    "display(wfst)"
   ]
  },
  {
   "cell_type": "markdown",
   "metadata": {},
   "source": [
    "Finally, change the line:\n",
    "\n",
    "    S -> NP VP\n",
    "\n",
    "in `groucho_grammar` to:\n",
    "\n",
    "    S -> NP VP | NP VPC\n",
    "\n",
    "and check that now there are two lines in the trace of `complete_wfst()` for the `cell(0,7)`:\n",
    "\n",
    "    [0]  NP [1] VPC [7] ==> [0]   S [7]\n",
    "    [0]  NP [1]  VP [7] ==> [0]   S [7]"
   ]
  },
  {
   "cell_type": "code",
   "execution_count": 148,
   "metadata": {},
   "outputs": [
    {
     "name": "stdout",
     "output_type": "stream",
     "text": [
      "\n",
      "WFST 1    2    3    4    5    6    7   \n",
      "0    NP   .    .    .    .    .    .    \n",
      "1    .    V    .    .    .    .    .    \n",
      "2    .    .    Det  .    .    .    .    \n",
      "3    .    .    .    N    .    .    .    \n",
      "4    .    .    .    .    P    .    .    \n",
      "5    .    .    .    .    .    Det  .    \n",
      "6    .    .    .    .    .    .    N    \n",
      "[2] Det [3]   N [4] ==> [2]  NP [4]\n",
      "[5] Det [6]   N [7] ==> [5]  NP [7]\n",
      "[1]   V [2]  NP [4] ==> [1]  VP [4]\n",
      "[4]   P [5]  NP [7] ==> [4]  PP [7]\n",
      "[0]  NP [1]  VP [4] ==> [0]   S [4]\n",
      "[2]  NP [4]  PP [7] ==> [2]  NP [7]\n",
      "[1]   V [2]  NP [7] ==> [1]  VP [7]\n",
      "[1]  VP [4]  PP [7] ==> [1] VPC [7]\n",
      "\n",
      "WFST 1    2    3    4    5    6    7   \n",
      "0    NP   .    .    S    .    .    .    \n",
      "1    .    V    .    VP   .    .    VPC  \n",
      "2    .    .    Det  NP   .    .    NP   \n",
      "3    .    .    .    N    .    .    .    \n",
      "4    .    .    .    .    P    .    PP   \n",
      "5    .    .    .    .    .    Det  NP   \n",
      "6    .    .    .    .    .    .    N    \n"
     ]
    }
   ],
   "source": [
    "groucho_grammar = nltk.CFG.fromstring(\"\"\"\n",
    "S -> NP VP | NP VP\n",
    "PP -> P NP\n",
    "NP -> Det N | NP PP | 'I'\n",
    "VP -> V NP \n",
    "VPC -> VP PP\n",
    "Det -> 'an' | 'my'\n",
    "N -> 'elephant' | 'pajamas'\n",
    "V -> 'shot'\n",
    "P -> 'in'\n",
    "\"\"\")\n",
    "wfst0 = init_wfst(sent, groucho_grammar)\n",
    "display(wfst0)\n",
    "wfst = complete_wfst(wfst0, sent, groucho_grammar, True)\n",
    "display(wfst)"
   ]
  },
  {
   "cell_type": "markdown",
   "metadata": {},
   "source": [
    "### Exercise 4\n",
    "\n",
    "Modify the function `complete_wfst()` from Exercise 3 so that when a non-terminal symbol is added to a cell in the WFST, the content of the variable `mid` is also added, i.e. we add a tuple `(symbol, mid)`. In `init_wfst()`, use `(symbol, i+1)` instead. Change also the function `display()` accordingly. Test your implementation with the final grammar from Exercise 3 and the sentence \"I shot an elephant in my pajamas\". "
   ]
  },
  {
   "cell_type": "code",
   "execution_count": 230,
   "metadata": {},
   "outputs": [
    {
     "name": "stdout",
     "output_type": "stream",
     "text": [
      "\n",
      "WFST 1               2               3               4               5               6               7   \n",
      "0    (NP, 1)         .               .               .               .               .               .               \n",
      "1    .               (V, 2)          .               .               .               .               .               \n",
      "2    .               .               (Det, 3)        .               .               .               .               \n",
      "3    .               .               .               (N, 4)          .               .               .               \n",
      "4    .               .               .               .               (P, 5)          .               .               \n",
      "5    .               .               .               .               .               (Det, 6)        .               \n",
      "6    .               .               .               .               .               .               (N, 7)          \n",
      "[2] Det [3]   N [4] ==> [2]  NP [4]\n",
      "[5] Det [6]   N [7] ==> [5]  NP [7]\n",
      "[1]   V [2]  NP [4] ==> [1]  VP [4]\n",
      "[4]   P [5]  NP [7] ==> [4]  PP [7]\n",
      "[0]  NP [1]  VP [4] ==> [0]   S [4]\n",
      "[1]  VP [4]  PP [7] ==> [1]  VP [7]\n",
      "[0]  NP [1]  VP [7] ==> [0]   S [7]\n",
      "\n",
      "WFST 1               2               3               4               5               6               7   \n",
      "0    (NP, 1)         .               .               (S, '1')        .               .               (S, '1')        \n",
      "1    .               (V, 2)          .               (VP, '2')       .               .               (VP, '4')       \n",
      "2    .               .               (Det, 3)        (NP, '3')       .               .               .               \n",
      "3    .               .               .               (N, 4)          .               .               .               \n",
      "4    .               .               .               .               (P, 5)          .               (PP, '5')       \n",
      "5    .               .               .               .               .               (Det, 6)        (NP, '6')       \n",
      "6    .               .               .               .               .               .               (N, 7)          \n"
     ]
    }
   ],
   "source": [
    "#I comleted the exercise, the results vary from the solution as i did not finish exercise 3\n",
    "\n",
    "groucho_grammar = nltk.CFG.fromstring(\"\"\"\n",
    "S -> NP VP\n",
    "PP -> P NP\n",
    "NP -> Det N | Det N PP | 'I'\n",
    "VP -> V NP | VP PP\n",
    "Det -> 'an' | 'my'\n",
    "N -> 'elephant' | 'pajamas'\n",
    "V -> 'shot'\n",
    "P -> 'in'\n",
    "\"\"\")\n",
    "sent = ['I', 'shot', 'an', 'elephant', 'in', 'my', 'pajamas']\n",
    "\n",
    "def init_wfst(tokens, grammar):\n",
    "    numtokens = len(tokens)\n",
    "    wfst = [[None for i in range(numtokens+1)] for j in range(numtokens+1)]\n",
    "    for i in range(numtokens):\n",
    "        productions = grammar.productions(rhs=tokens[i])\n",
    "        # print(productions)\n",
    "        wfst[i][i+1] = (productions[0].lhs(),i+1)\n",
    "    return wfst\n",
    "\n",
    "def complete_wfst(wfst, tokens, grammar, trace=False):\n",
    "    index = dict((p.rhs(), p.lhs()) for p in grammar.productions())\n",
    "    numtokens = len(tokens)\n",
    "    for span in range(2, numtokens+1):\n",
    "        for start in range(numtokens+1-span):\n",
    "            end = start + span\n",
    "            for mid in range(start+1, end):\n",
    "                try:\n",
    "                    nt1, nt2 = wfst[start][mid][0], wfst[mid][end][0]\n",
    "                    if nt1 and nt2 and (nt1,nt2) in index:\n",
    "                        wfst[start][end] = (index[(nt1,nt2)],str(mid))\n",
    "                        if trace:\n",
    "                            print(\"[%s] %3s [%s] %3s [%s] ==> [%s] %3s [%s]\" % \\\n",
    "                            (start, nt1, mid, nt2, end, start, index[(nt1,nt2)], end))\n",
    "                except:\n",
    "                    \"\"\n",
    "    return wfst\n",
    "\n",
    "def display(wfst):\n",
    "    print('\\nWFST ' + '            '.join((\"%-4d\" % i) for i in range(1, len(wfst))))\n",
    "    for i in range(len(wfst)-1):\n",
    "        print(\"%d   \" % i, end=\" \")\n",
    "        for j in range(1, len(wfst)):\n",
    "            if wfst[i][j] == None:\n",
    "                print(\"%-4s\" % (wfst[i][j] or '.'), end=\"            \")\n",
    "            else:\n",
    "                end = \"\"\n",
    "                diff = 16 - len(str(wfst[i][j]))\n",
    "                for x in range(diff):\n",
    "                    end += \" \"\n",
    "                print(\"%-4s\" % (str(wfst[i][j]) or '.'), end=end)\n",
    "        print()\n",
    "\n",
    "wfst0 = init_wfst(sent, groucho_grammar)\n",
    "display(wfst0)\n",
    "wfst = complete_wfst(wfst0, sent, groucho_grammar, True)\n",
    "display(wfst)"
   ]
  },
  {
   "cell_type": "code",
   "execution_count": null,
   "metadata": {},
   "outputs": [],
   "source": []
  },
  {
   "cell_type": "markdown",
   "metadata": {},
   "source": [
    "It should produce the following output:\n",
    "\n",
    "    WFST      1          2          3          4          5          6          7         \n",
    "    0         {(NP, 1)}  .          .          {(S, 1)}   .          .          {(S, 1)}   \n",
    "    1         .          {(V, 2)}   .          {(VP, 2)}  .          .          {(VP, 2), (VPC, 4)} \n",
    "    2         .          .          {(Det, 3)} {(NP, 3)}  .          .          {(NP, 4)}  \n",
    "    3         .          .          .          {(N, 4)}   .          .          .          \n",
    "    4         .          .          .          .          {(P, 5)}   .          {(PP, 5)}  \n",
    "    5         .          .          .          .          .          {(Det, 6)} {(NP, 6)}  \n",
    "    6         .          .          .          .          .          .          {(N, 7)}    "
   ]
  },
  {
   "cell_type": "markdown",
   "metadata": {},
   "source": [
    "### Exercise 5\n",
    "\n",
    "Use the extended WFST from Exercise 4 to retrace the parse trees for our example sentence \"I shot an elephant in my pajamas''. Write a recursive function `retrace(WFST, tokens)` (the second parameter `tokens` contains the token list \\['I', 'shot', 'an', 'elephant', 'in', 'my', 'pajamas'\\] for our example sentence). Start with `cell(0,7)` (or `cell(0,len(tokens))` in general) and use the information in `mid` to follow the productions to `cell(0,mid)` and `cell(mid,7)`, and so on. If we reach a terminal symbol, i.e. a `cell(i,i+1)`, the corresponding token from `tokens` shall be displayed. "
   ]
  },
  {
   "cell_type": "code",
   "execution_count": null,
   "metadata": {},
   "outputs": [],
   "source": []
  },
  {
   "cell_type": "markdown",
   "metadata": {},
   "source": [
    "The function should produce the following output:\n",
    "\n",
    "    S    -> NP   -> I \n",
    "            VPC  -> VP   -> V    -> shot \n",
    "                            NP   -> Det  -> an \n",
    "                                    N    -> elephant \n",
    "                    PP   -> P    -> in \n",
    "                            NP   -> Det  -> my \n",
    "                                    N    -> pajamas \n",
    "            VP   -> V    -> shot \n",
    "                    NP   -> NP   -> Det  -> an \n",
    "                                    N    -> elephant \n",
    "                            PP   -> P    -> in \n",
    "                                    NP   -> Det  -> my \n",
    "                                            N    -> pajamas  "
   ]
  },
  {
   "cell_type": "markdown",
   "metadata": {},
   "source": [
    "### Exercise 6\n",
    "\n",
    "Process each tree of the Penn Treebank Corpus sample `nltk.corpus.treebank` and extract the productions with the help of `Tree.productions()`. Discard the productions that occur only once and those that are lexical (i.e. the right-hand side contains at least one terminal token). Productions with the same left-hand side can be collapsed using a dictionary with the left-hand sides as keys and sets of right-hand sides as values.\n",
    "\n",
    "Print the value for the left-hand side 'NP' using the format: \n",
    "\n",
    "    DT JJS NN NN | DT VBG NN NN | DT NNP CD NN | DT NN NNS ...\n"
   ]
  },
  {
   "cell_type": "code",
   "execution_count": null,
   "metadata": {},
   "outputs": [],
   "source": []
  }
 ],
 "metadata": {
  "kernelspec": {
   "display_name": "Python 3",
   "language": "python",
   "name": "python3"
  },
  "language_info": {
   "codemirror_mode": {
    "name": "ipython",
    "version": 3
   },
   "file_extension": ".py",
   "mimetype": "text/x-python",
   "name": "python",
   "nbconvert_exporter": "python",
   "pygments_lexer": "ipython3",
   "version": "3.10.0"
  }
 },
 "nbformat": 4,
 "nbformat_minor": 2
}
