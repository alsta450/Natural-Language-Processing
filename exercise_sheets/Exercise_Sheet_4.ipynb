{
 "cells": [
  {
   "cell_type": "markdown",
   "metadata": {},
   "source": [
    "# Natural Language Processing\n",
    "\n",
    "## Exercise Sheet 4"
   ]
  },
  {
   "cell_type": "code",
   "execution_count": 77,
   "metadata": {},
   "outputs": [],
   "source": [
    "#imports for all exercises\n",
    "import pprint\n",
    "from nltk.corpus import gutenberg,wordnet as wn\n",
    "from nltk import FreqDist\n",
    "import nltk\n",
    "from nltk import memoize\n",
    "import re\n",
    "import timeit"
   ]
  },
  {
   "cell_type": "markdown",
   "metadata": {},
   "source": [
    "### Exercise 1\n",
    "\n",
    "Write a program to initialize a two-dimensional array of sets called `word_vowels` and process a list of words, adding each word to `word_vowels[l][v]` where $l$ is the length of the word and $v$ is the number of vowels it contains. Test your program with a 10x10-array and the list `['Alice', 'hat', 'heute', 'ihren', 'freien', 'Tag']`."
   ]
  },
  {
   "cell_type": "code",
   "execution_count": 11,
   "metadata": {},
   "outputs": [
    {
     "name": "stdout",
     "output_type": "stream",
     "text": [
      "[[set(), set(), set(), set(), set(), set(), set(), set(), set(), set()],\n",
      " [set(), set(), set(), set(), set(), set(), set(), set(), set(), set()],\n",
      " [set(), set(), set(), set(), set(), set(), set(), set(), set(), set()],\n",
      " [set(),\n",
      "  {'Tag', 'hat'},\n",
      "  set(),\n",
      "  set(),\n",
      "  set(),\n",
      "  set(),\n",
      "  set(),\n",
      "  set(),\n",
      "  set(),\n",
      "  set()],\n",
      " [set(), set(), set(), set(), set(), set(), set(), set(), set(), set()],\n",
      " [set(),\n",
      "  set(),\n",
      "  {'ihren'},\n",
      "  {'Alice', 'heute'},\n",
      "  set(),\n",
      "  set(),\n",
      "  set(),\n",
      "  set(),\n",
      "  set(),\n",
      "  set()],\n",
      " [set(), set(), set(), {'freien'}, set(), set(), set(), set(), set(), set()],\n",
      " [set(), set(), set(), set(), set(), set(), set(), set(), set(), set()],\n",
      " [set(), set(), set(), set(), set(), set(), set(), set(), set(), set()],\n",
      " [set(), set(), set(), set(), set(), set(), set(), set(), set(), set()]]\n"
     ]
    }
   ],
   "source": [
    "# create array 10x10 with sets as entries\n",
    "# loop through list\n",
    "# list[l][v] l = length of the word, v = number of vowels of the word \n",
    "def two_dim_array(list_,n,m):\n",
    "    array = [[set() for i in range(n)] for j in range(m)]\n",
    "    for entry in list_:\n",
    "        array[len(entry)][len(''.join(char for char in entry if char.lower() in 'aeiou'))].add(entry)\n",
    "    \n",
    "    return array\n",
    "test_list = ['Alice', 'hat', 'heute', 'ihren', 'freien', 'Tag']\n",
    "\n",
    "\n",
    "pprint.pprint(two_dim_array(test_list,10,10))\n"
   ]
  },
  {
   "cell_type": "markdown",
   "metadata": {},
   "source": [
    "### Exercise 2\n",
    "\n",
    "Write a program that prints all words that only appear in the last 10\\% of a text. Test your code with the file `'shakespeare-macbeth.txt'` from the Gutenberg Corpus.\n"
   ]
  },
  {
   "cell_type": "code",
   "execution_count": 38,
   "metadata": {},
   "outputs": [
    {
     "name": "stdout",
     "output_type": "stream",
     "text": [
      "{'of', 'Tree', 'Attend', 'you', 'hoter', 'at', 'serue', 'see', 'measur', 'You', 'performe', 'Iugling', 'we', 'walking', 'worthy', 'cleere', 'befor', 'if', 'bear', 'hearts', 'marching', 'fighting', 'should', 'greatest', 'slaughterous', 'Dunsinane', 'next', 'downe', 'According', 'hardly', 'something', 'For', 'What', 'thoughts', 'make', 'cries', 'sides', 'Queene', 'Septima', 'Macduffe', 'vnder', 'last', 'the', 'himselfe', 'Swords', 'Or', 'ript', 'too', 'labour', 'comes', 'warre', 'a', 'thine', 'euer', 'Colours', 'Treatise', 'Erre', 'continued', 'decision', 'A', 'constrained', 'taste', 'Stage', 'watch', 'thought', 'sorrow', 'learne', 'could', 'mee', 'Some', 'Drum', 'Sold', 'armes', 'No', 'Childrens', 'day', 'heare', 'time', 'Then', 'st', 'lye', 'There', 'Candle', 'vpon', 'wee', 'Sword', 'Foole', 'least', 'begge', 'tis', 'Henceforth', 'haue', 'paid', 'note', 'Sexta', 'Shall', 'vs', 'hatefull', 'diuell', 'easie', 'Producing', 'power', 'Skreenes', 'each', 'comming', 'To', 'Bring', 'Seyton', 'liues', 'm', 'Were', 'eate', 'were', 'beene', 'start', 'blow', 'off', 'Fare', 'confirm', 'tearmes', 'Gracious', 'cool', 'need', 'clatter', 'In', 'them', 'either', 'head', 'Foes', 'many', 'beare', 'sir', 's', 'tels', 'FINIS', 'Fiend', 'forc', 'Title', 'night', 'feare', 'Retreat', 'Grace', 'Story', 'y', 'comfort', 'missing', 'cruell', 'Scena', 'Quinta', 'liu', 'approaches', 'had', 'Whose', 'bloodier', 'Groue', 'Banners', 'Knell', 'Earles', 'speech', 'Prowesse', 'Famine', 'free', 'better', 'kisse', 'lyest', 'But', 'met', 'Army', 'Villaine', 'his', 'true', 'That', 'Pull', 'are', 'Make', 'Makes', 'palter', 'by', 'Would', 'tarrying', 'Seyward', 'Castles', 'name', 'breake', 'course', 'might', 'an', 'fury', 'Equiuocation', 'proue', 'Cannot', 'loosest', 'toward', 'o', 'Sonnes', 'fled', 'body', 'not', 'Macbeths', 'must', 'lesse', 'come', 'noyse', 'dost', 'Malcolme', 'wracke', 'none', 'thee', 'her', 'Purgatiue', 'stroake', 'Harbingers', 'dismall', 'clamorous', 'Worthy', 'certaine', 'measure', 'Scone', 'vulnerable', 'part', 'desire', 'but', 'Kernes', 'voice', 'cannot', 'cause', 'vse', 'almost', 'order', 'man', 'right', 'spend', 'him', 'souldiers', 'TRAGEDIE', 'hand', 'owne', 'petty', 'newly', 'ginne', 'tongue', 'which', 'keepe', 'son', 'Fighting', 'Souldiership', 'Messenger', 'frets', 'We', 'young', 'smile', 'Soldier', 'Sun', 'yeeld', 'throw', 'Malcolmes', 'look', 'charg', 'try', 'Syllable', 'euen', 'Wife', 'vnsure', 'giuen', 'Ague', 'dy', 'forgot', 'your', 'By', 'care', 'that', 'Thanes', 'due', 'Wee', 'more', 'strength', 'was', 'let', 'Y', 'Doct', 'will', 'affraid', 'from', 'numbers', 'More', 'indure', 'Forrest', 'Feares', 'there', 'thy', 'Mal', 'blade', 'dayes', 'Kingdomes', 'hath', 'safe', 'houre', 'Staues', 'horrors', 'little', 'Industrious', 'Angus', 'Castle', 'euery', 'Front', 'no', 'hence', 'stirre', 'hopes', 'breefe', 'Fell', 'At', 'though', 'Pearle', 'alowd', 'shadow', 'would', 'shrieke', 'remaines', 'thou', 'still', 'auouches', 'Coward', 'blood', 'liue', 'pace', 'know', 'hands', 'haunt', 'scowre', 'l', 'arriu', 'planted', 'vp', 'heard', 'stroakes', 'gaze', 'after', 'poore', 'Quarta', 'weary', 'My', 'Ideot', 'in', 'three', 'hope', 'go', 'false', 'art', 'forth', 'Turne', 'Honor', 'writ', 'Marching', 'Harnesse', 'professes', 'be', 'Bane', 'Shield', 'issue', 'face', 'Birnane', 'Which', 'inuite', 'seru', 'Ring', 'gashes', 'with', 'morrow', 'Lay', 'impresse', 'may', 'Direnesse', 'Resolution', 'out', 'seuerall', 'these', 'Will', 'womb', 'euent', 'appeare', 'Trumpets', 'beard', 'where', 'walls', 'so', 'away', 'Macb', 'Comes', 'The', 'Tyranny', 'Now', 'familiar', 'draw', 'cling', 'watchfull', 'aduance', 'Those', 'way', 'how', 'rowze', 'take', 'drugge', 'Behold', 'Though', 'Reuolt', 'eare', 'Menteth', 'They', 'Syw', 'Scotland', 'Sonne', 'Cosins', 'great', 'Crown', 'hell', 'auoyded', 'Friends', 'Creepes', 'warlike', 'Charme', 'yesterdayes', 'curse', 't', 'as', 'Haile', 'Ayre', 'oppos', 'people', 'me', 'mouing', 'Thou', 'quickly', 'Had', 'Your', 'sound', 'loues', 'this', 'being', 'Signifying', 'both', 'baited', 'Whom', 'Beare', 'Hill', 'Rubarb', 'ha', 'Brandish', 'sooner', 'finde', 'wood', 'already', 'field', 'gently', 'lies', 'now', 'their', 'Alarums', 'misse', 'hyr', 'Seemes', 'report', 'beate', 'life', 'Lyar', 'Preparation', 'is', 'Slaue', 'parted', 'saw', 'large', 'Chambers', 'and', 'compast', 'English', 'This', 'abhorred', 'Malc', 'vnbattered', 'nothing', 'dead', 'As', 'truth', 'speculatiue', 'such', 'Wherefore', 'get', 'th', 'Vnkle', 'full', 'whiles', 'Leade', 'Woman', 'maine', 'wish', 'Heere', 'to', 'enough', 'Profit', 'rarer', 'do', 'Sir', 'Exeunt', 'darefull', 'fight', 'here', 'Within', 'feet', 'Cyme', 'Shadow', 'Tyrants', 'Must', 'brought', 'beleeu', 'Flourish', 'Cow', 'expence', 'Ile', 'And', 'Let', 'Roman', 'Who', 'Rosse', 'OF', 'shall', 'well', 'cursed', 'doubt', 'Hell', 'calling', 'dusty', 'nor', 'backward', 'Recorded', 'So', 'Rabbles', 'Soldiers', 'heere', 'Are', 'Macd', 'Hoast', 'abroad', 'keene', 'fall', 'Battell', 'wrath', 'Mile', 'till', 'Hang', 'stands', 'com', 'play', 'Fight', 'things', 'for', 'Cosin', 'lt', 'onely', 'Bough', 'Gods', 'fought', 'Our', 'speake', 'cry', 'Both', 'Hee', 'Winde', 'THE', 'on', 'Wood', 'Snares', 'haires', 'first', 'Warre', 'he', 'Vntimely', 'absent', 'beest', 'relate', 'bought', 'Told', 'Night', 'iust', 'tied', 'Arme', 'selfe', 'struts', 'haire', 'Of', 'ground', 'salutation', 'thereby', 'Crests', 'setting', 'it', 'score', 'all', 'moue', 'scorne', 'rendred', 'say', 'vndon', 'Macbeth', 'else', 'neere', 'vnshrinking', 'Butcher', 'can', 'Malcolm', 'laugh', 'confident', 'Ghosts', 'Am', 'charmed', 'damn', 'debt', 'strike', 'endure', 'All', 'Seywards', 'Blood', 'before', 'sences', 'world', 'Bell', 'newer', 'reckon', 'Alarum', 'King', 'Noble', 'Before', 'violent', 'Death', 'Seyw', 'leauy', 'end', 'I', 'what', 'pull', 'Keepes', 'On', 'Out', 'Tooke', 'dye', 'Kinsmen', 'Omnes', 'they', 'againe', 'Tale', 'aduantage', 'those', 'vndeeded', 'Fortune', 'yours', 'Fooles', 'd', 'women', 'hew', 'Sey', 'or', 'MACBETH', 'discouery', 'Till', 'hound', 'within', 'double', 'Censures', 'Boughes', 'knoll', 'edge', 'Tell', 'Towards', 'If', 'whose', 'cheapely', 'Well', 'pronounce', 'hast', 'owe', 'backe', 'With', 'other', 'sooth', 'Tis', 'Ment', 'worth', 'Here', 'my', 'bruited', 'exil', 'God', 'pole', 'good', 'minds', 'shew', 'began', 'hang', 'outward', 'Vsurpers', 'doo', 'stake', 'men', 'hear', 'sheath', 'Souldiers', 'voyces', 'Accursed', 'nam', 'like', 'once', 'Mothers', 'ours', 'Women', 'de', 'Drumme', 'Ministers', 'noise', 'then', 'any', 'promise', 'Siedge', 'thankes', 'She', 'whom', 'heereafter', 'speak', 'bleed', 'much', 'lighted', 'intrenchant', 'Do', 'flye', 'Why', 'He', 'our', 'aliue', 'soule', 'Tyrant', 'Enter', 'supt', 'yet', 'death', 'estate', 'It', 'Cry', 'mine', 'brauely', 'sword', 'Th', 'call', 'woman', 'flying', 'giue', 'word', 'turne', 'Angell', 'put', 'anon', 'Exit', 'Yet', 'Royall', 'Weapons', 'beaten', 'done', 'one', 'Byrnane', 'hold', 'begin', 'fearefull', 'station', 'Player', 'place', 'Life', 'breath', 'slaine', 'wretched', 'Such', 'Tongue', 'Fiends', 'fairer', 'borne', 'hurts', 'Vpon', 'did', 'arbitrate', 'Monsters', 'Mes', 'stand', 'Dispaire', 'home', 'Thoughts', 'words', 'Painted', 'Souldier', 'beside', 'sence', 'Feare', 'Cathnes', 'Lord'}\n"
     ]
    }
   ],
   "source": [
    "def percent_of_text(percent):\n",
    "    length = len(gutenberg.words('shakespeare-macbeth.txt'))\n",
    "    percentage = int(length/100*percent)\n",
    "    print(set(word for word in gutenberg.words('shakespeare-macbeth.txt')[-percentage:] if word.isalpha()))\n",
    "\n",
    "percent_of_text(10)"
   ]
  },
  {
   "cell_type": "markdown",
   "metadata": {},
   "source": [
    "### Exercise 3\n",
    "\n",
    "Write a program that takes a sentence expressed as a single string, splits it and counts up the words. Get it to print out each word and the word's frequency, one per line, in alphabetical order. Test it with the sentence: `'das ist heute wieder einmal wirklich ein sehr schöner tag das kann ich dir wieder einmal sagen'`.\n"
   ]
  },
  {
   "cell_type": "code",
   "execution_count": 52,
   "metadata": {},
   "outputs": [
    {
     "name": "stdout",
     "output_type": "stream",
     "text": [
      "There are 17 words in this sentence \n",
      "das 2\n",
      "dir 1\n",
      "ein 1\n",
      "einmal 2\n",
      "heute 1\n",
      "ich 1\n",
      "ist 1\n",
      "kann 1\n",
      "sagen 1\n",
      "schöner 1\n",
      "sehr 1\n",
      "tag 1\n",
      "wieder 2\n",
      "wirklich 1\n"
     ]
    }
   ],
   "source": [
    "def count_words(sentence):\n",
    "    word_list = re.split(\" \", sentence)\n",
    "    print(\"There are \" + str(len(word_list)) + \" words in this sentence \")\n",
    "    for pair in sorted(FreqDist(word_list).items()):\n",
    "        print(pair[0] + \" \"+ str(pair[1]))\n",
    "\n",
    "sentence = 'das ist heute wieder einmal wirklich ein sehr schöner tag das kann ich dir wieder einmal sagen'\n",
    "count_words(sentence)"
   ]
  },
  {
   "cell_type": "markdown",
   "metadata": {},
   "source": [
    "### Exercise 4\n",
    "\n",
    "Write a function `sort_dist(candidates, target)`. The `candidates` are a list of strings representing WordNet synset names, and `target` a synset name string. The function shall sort the `candidates` for proximity to the `target` synset using `shortest_path_distance()`. \n",
    "\n",
    "Test your function with `candidates=['minke_whale.n.01','orca.n.01','novel.n.01', 'tortoise.n.01']` and `target='right_whale.n.01'`."
   ]
  },
  {
   "cell_type": "code",
   "execution_count": 74,
   "metadata": {},
   "outputs": [
    {
     "data": {
      "text/plain": [
       "[(3, Synset('lesser_rorqual.n.01')),\n",
       " (5, Synset('killer_whale.n.01')),\n",
       " (12, Synset('tortoise.n.01')),\n",
       " (22, Synset('novel.n.01'))]"
      ]
     },
     "execution_count": 74,
     "metadata": {},
     "output_type": "execute_result"
    }
   ],
   "source": [
    "def sort_dist(candidates, target):\n",
    "    candidates = list(wn.synset(item) for item in candidates)\n",
    "    target = wn.synset(target)\n",
    "    return sorted(list((target.shortest_path_distance( item),item) for item in candidates))\n",
    "    \n",
    "candidates=['minke_whale.n.01','orca.n.01','novel.n.01', 'tortoise.n.01']\n",
    "target='right_whale.n.01'\n",
    "sort_dist(candidates,target)"
   ]
  },
  {
   "cell_type": "markdown",
   "metadata": {},
   "source": [
    "### Exercise 5\n",
    "\n",
    "Write a recursive function `lookup(trie, key)` that looks up a `key` in a `trie`, and returns the value it finds. The function should cover the following cases:\n",
    "\n",
    "a) it should return a corresponding message if the key is not included in the trie;  \n",
    "b) it should return a message if the key is not unique, i.e. if there are several words for this prefix;  \n",
    "c) if a word is uniquely determined by the key prefix it should be returned as result. \n",
    "\n",
    "Try your function for the following trie and test cases:"
   ]
  },
  {
   "cell_type": "code",
   "execution_count": 84,
   "metadata": {},
   "outputs": [
    {
     "name": "stdout",
     "output_type": "stream",
     "text": [
      "{'c': {'h': {'a': {'i': {'r': {'value': 'flesh'}},\n",
      "                   't': {'value': 'cat'}},\n",
      "             'e': {'v': {'a': {'l': {'value': 'horse'}}}},\n",
      "             'i': {'c': {'value': 'stylish'},\n",
      "                   'e': {'n': {'value': 'dog'}}}}}}\n"
     ]
    }
   ],
   "source": [
    "def insert(trie, key, value):\n",
    "    if key:\n",
    "        first, rest = key[0], key[1:]\n",
    "        if first not in trie:\n",
    "            trie[first] = {}\n",
    "        insert(trie[first], rest, value)\n",
    "    else:\n",
    "        trie['value'] = value\n",
    "\n",
    "trie = {}\n",
    "insert(trie, 'chat', 'cat')\n",
    "insert(trie, 'chien', 'dog')\n",
    "insert(trie, 'chair', 'flesh')\n",
    "insert(trie, 'chic', 'stylish')\n",
    "insert(trie, 'cheval','horse') \n",
    "trie = dict(trie)             \n",
    "pprint.pprint(trie, width=40)"
   ]
  },
  {
   "cell_type": "code",
   "execution_count": 60,
   "metadata": {},
   "outputs": [
    {
     "data": {
      "text/plain": [
       "'c'"
      ]
     },
     "execution_count": 60,
     "metadata": {},
     "output_type": "execute_result"
    }
   ],
   "source": [
    "list(trie.keys())[0]"
   ]
  },
  {
   "cell_type": "code",
   "execution_count": 64,
   "metadata": {},
   "outputs": [],
   "source": [
    "def lookup(trie,key):\n",
    "    ''' \n",
    "    try the first char of the key on the trie, if it fails -> return that thekey is not in the trie\n",
    "    slice the first char off the key and if there is still some part left of the key call the function recursively\n",
    "    if the key is all used up check if the length of the trie > 1 -> if yes there are more than one value for this key\n",
    "    else go as deep into the trie as possible, if not possible -> value is found -> return value\n",
    "    \n",
    "    '''\n",
    "    try:\n",
    "        trie = trie[key[0]]\n",
    "    except:\n",
    "        return \"key not in trie\"\n",
    "    key = key[1:]\n",
    "    if len(key):\n",
    "        return lookup(trie, key)\n",
    "    else:\n",
    "        if len(trie) > 1:\n",
    "            return \"There are several words for this prefix\"\n",
    "        else:\n",
    "            try:\n",
    "                while True:\n",
    "                    for key in trie.keys():\n",
    "                        trie = trie[key]\n",
    "            except:\n",
    "                return trie\n",
    "\n"
   ]
  },
  {
   "cell_type": "code",
   "execution_count": 65,
   "metadata": {},
   "outputs": [
    {
     "name": "stdout",
     "output_type": "stream",
     "text": [
      "cat\n",
      "There are several words for this prefix\n",
      "key not in trie\n",
      "horse\n",
      "horse\n",
      "horse\n"
     ]
    }
   ],
   "source": [
    "print(lookup(trie, 'chat'))\n",
    "print(lookup(trie, 'cha'))\n",
    "print(lookup(trie, 'souris'))\n",
    "print(lookup(trie, 'cheval'))\n",
    "print(lookup(trie, 'che'))\n",
    "print(lookup(trie, 'chev'))"
   ]
  },
  {
   "cell_type": "markdown",
   "metadata": {},
   "source": [
    "### Exercise 6\n",
    "\n",
    "Write a recursive function `pp_trie` that pretty prints a trie in alphabetically sorted order by replacing common prefixes with `'-'` characters.\n",
    "Test your implementation with the following example data:"
   ]
  },
  {
   "cell_type": "code",
   "execution_count": 85,
   "metadata": {},
   "outputs": [
    {
     "name": "stdout",
     "output_type": "stream",
     "text": [
      "{'c': {'h': {'a': {'i': {'r': {'value': 'flesh'}},\n",
      "                   't': {'value': 'cat'}},\n",
      "             'e': {'v': {'a': {'l': {'value': 'horse'}}}},\n",
      "             'i': {'c': {'value': 'stylish'},\n",
      "                   'e': {'n': {'value': 'dog'}}}}},\n",
      " 's': {'o': {'u': {'r': {'i': {'s': {'value': 'mouse'}}}}}}}\n"
     ]
    }
   ],
   "source": [
    "trie = {}\n",
    "insert(trie, 'chat', 'cat')\n",
    "insert(trie, 'souris', 'mouse')\n",
    "insert(trie, 'chien', 'dog')\n",
    "insert(trie, 'chair', 'flesh')\n",
    "insert(trie, 'chic', 'stylish')\n",
    "insert(trie, 'cheval','horse') \n",
    "trie = dict(trie)             \n",
    "pprint.pprint(trie, width=40)"
   ]
  },
  {
   "cell_type": "code",
   "execution_count": 73,
   "metadata": {},
   "outputs": [
    {
     "name": "stdout",
     "output_type": "stream",
     "text": [
      "c\n",
      "s\n"
     ]
    }
   ],
   "source": [
    "for key in trie.keys():\n",
    "    print(key)"
   ]
  },
  {
   "cell_type": "code",
   "execution_count": 175,
   "metadata": {},
   "outputs": [],
   "source": [
    "def pp_trie(trie):\n",
    "    dict_ = dict()\n",
    "    string = \"\"\n",
    "    for key in trie.keys():\n",
    "        if key == 'value':\n",
    "            string = \" \"+  trie[key] + \" \"\n",
    "        else:\n",
    "            string += key +  pp_trie(trie[key])\n",
    "    return string"
   ]
  },
  {
   "cell_type": "code",
   "execution_count": 176,
   "metadata": {},
   "outputs": [
    {
     "name": "stdout",
     "output_type": "stream",
     "text": [
      "chat cat ir flesh ien dog c stylish eval horse souris mouse \n"
     ]
    }
   ],
   "source": [
    "print(pp_trie(trie))"
   ]
  },
  {
   "cell_type": "code",
   "execution_count": null,
   "metadata": {},
   "outputs": [],
   "source": [
    "# pp_trie(trie)"
   ]
  },
  {
   "cell_type": "markdown",
   "metadata": {},
   "source": [
    "    chair: flesh\n",
    "    ---t: cat\n",
    "    --eval: horse\n",
    "    --ic: stylish\n",
    "    ---en: dog\n",
    "    souris: mouse"
   ]
  },
  {
   "cell_type": "markdown",
   "metadata": {},
   "source": [
    "### Exercise 7\n",
    "\n",
    "The *Catalan numbers* arise in many applications of combinatorial mathematics, including the counting of parse trees. The series can be defined as follows: $C_0 = 1$, and $C_{n+1} = \\sum_{i=0}^{n}C_iC_{n-i}$ for $n\\geq{0}$.\n",
    "\n",
    "Write:\n",
    "\n",
    "a) a recursive function `cn(n)` to compute the $n$th Catalan number $C_{n}$,  \n",
    "b) a corresponding function `cn2(n)` that uses dynamic programming by storing calculated solutions in a lookup table,  \n",
    "c) a function `cn3(n)`, which is identical to `cn(n)` but uses a `memoize` decorator.\n",
    "\n",
    "Test your functions first by calculating the Catalan numbers $C_0\\dots C_{16}$ and then by using the `timeit` module:"
   ]
  },
  {
   "cell_type": "code",
   "execution_count": 9,
   "metadata": {},
   "outputs": [],
   "source": [
    "# a)\n",
    "# if n <= 1 return 1\n",
    "# else get an index i and while it's < n call cn recursively\n",
    "\n",
    "def cn(n):\n",
    "    if n <= 1:\n",
    "        return 1\n",
    "    ret = 0\n",
    "    i = 0\n",
    "    while i < n :\n",
    "        ret += cn(i)*cn(n-i-1)\n",
    "        i+=1\n",
    "    return ret"
   ]
  },
  {
   "cell_type": "code",
   "execution_count": 79,
   "metadata": {},
   "outputs": [
    {
     "data": {
      "text/plain": [
       "14"
      ]
     },
     "execution_count": 79,
     "metadata": {},
     "output_type": "execute_result"
    }
   ],
   "source": [
    "cn(4)"
   ]
  },
  {
   "cell_type": "code",
   "execution_count": 80,
   "metadata": {},
   "outputs": [
    {
     "data": {
      "text/plain": [
       "14"
      ]
     },
     "execution_count": 80,
     "metadata": {},
     "output_type": "execute_result"
    }
   ],
   "source": [
    "#b)\n",
    "\n",
    "def cn2(n):\n",
    "    table = [0]*(n+1)\n",
    "    table[0] = 1\n",
    "    table[1] = 1\n",
    "    i = 2\n",
    "    j = 0\n",
    "\n",
    "\n",
    "    while i < n+1:\n",
    "        while j < i:\n",
    "            table[i] += table[j]*table[i-j-1]\n",
    "            j+=1\n",
    "        j=0\n",
    "        i += 1\n",
    "    return table[n]\n",
    "\n",
    "cn2(4)"
   ]
  },
  {
   "cell_type": "code",
   "execution_count": 76,
   "metadata": {},
   "outputs": [],
   "source": [
    "@memoize\n",
    "def cn3(n):\n",
    "    if n <= 1:\n",
    "        return 1\n",
    "    ret = 0\n",
    "    i = 0\n",
    "    while i < n :\n",
    "        ret += cn(i)*cn(n-i-1)\n",
    "        i+=1\n",
    "    return ret"
   ]
  },
  {
   "cell_type": "code",
   "execution_count": 78,
   "metadata": {},
   "outputs": [
    {
     "name": "stdout",
     "output_type": "stream",
     "text": [
      "24.52808789999972\n",
      "0.0005303999996613129\n",
      "6.05637489999981\n"
     ]
    }
   ],
   "source": [
    "print(timeit.timeit(\"cn(16)\", setup=\"from __main__ import cn\", number=5))\n",
    "print(timeit.timeit(\"cn2(16)\", setup=\"from __main__ import cn2\", number=5))\n",
    "print(timeit.timeit(\"cn3(16)\", setup=\"from __main__ import cn3\", number=5))"
   ]
  }
 ],
 "metadata": {
  "interpreter": {
   "hash": "7691dc7e968cae2c1305b7cd748cf3c51f27e2f981106cfee5b02ab727978e13"
  },
  "kernelspec": {
   "display_name": "Python 3.9.7 64-bit",
   "name": "python3"
  },
  "language_info": {
   "codemirror_mode": {
    "name": "ipython",
    "version": 3
   },
   "file_extension": ".py",
   "mimetype": "text/x-python",
   "name": "python",
   "nbconvert_exporter": "python",
   "pygments_lexer": "ipython3",
   "version": "3.9.7"
  }
 },
 "nbformat": 4,
 "nbformat_minor": 2
}
