{
 "cells": [
  {
   "cell_type": "markdown",
   "metadata": {},
   "source": [
    "# Natural Language Processing\n",
    "\n",
    "## Exercise Sheet 7"
   ]
  },
  {
   "cell_type": "code",
   "execution_count": 4,
   "metadata": {},
   "outputs": [],
   "source": [
    "#imports for all exercises\n",
    "import nltk"
   ]
  },
  {
   "cell_type": "markdown",
   "metadata": {},
   "source": [
    "### Exercise 1\n",
    "\n",
    "Extend the chunk grammar"
   ]
  },
  {
   "cell_type": "code",
   "execution_count": 5,
   "metadata": {},
   "outputs": [],
   "source": [
    "grammar = \"NP: {<DT>?<JJ>*<NN>}\""
   ]
  },
  {
   "cell_type": "markdown",
   "metadata": {},
   "source": [
    "to also match noun phrases containing plural head nouns. Test your grammar with the following sentences:"
   ]
  },
  {
   "cell_type": "code",
   "execution_count": 7,
   "metadata": {},
   "outputs": [],
   "source": [
    "sentence1 = [(\"many\", \"JJ\"), (\"dogs\", \"NNS\"), (\"barked\", \"VBD\"), (\"at\", \"IN\"), (\"the\", \"DT\"), (\"cat\", \"NN\")]\n",
    "sentence2 = [(\"two\", \"CD\"), (\"dogs\", \"NNS\"), (\"barked\", \"VBD\"), (\"at\", \"IN\"), (\"the\", \"DT\"), (\"cat\", \"NN\")]\n",
    "sentence3 = [(\"both\", \"DT\"), (\"new\", \"JJ\"), (\"dogs\", \"NNS\"), (\"barked\", \"VBD\"),(\"at\", \"IN\"),  (\"the\", \"DT\"), \n",
    "             (\"cat\", \"NN\")]"
   ]
  },
  {
   "cell_type": "code",
   "execution_count": 8,
   "metadata": {},
   "outputs": [
    {
     "name": "stdout",
     "output_type": "stream",
     "text": [
      "(S (NP many/JJ dogs/NNS) barked/VBD at/IN (NP the/DT cat/NN))\n",
      "(S two/CD (NP dogs/NNS) barked/VBD at/IN (NP the/DT cat/NN))\n",
      "(S (NP both/DT new/JJ dogs/NNS) barked/VBD at/IN (NP the/DT cat/NN))\n"
     ]
    }
   ],
   "source": [
    "grammar = \"NP: {<DT>?<JJ>*<NN|NNS>}\"\n",
    "cp = nltk.RegexpParser(grammar)\n",
    "print(cp.parse(sentence1))\n",
    "print(cp.parse(sentence2))\n",
    "print(cp.parse(sentence3))"
   ]
  },
  {
   "cell_type": "markdown",
   "metadata": {},
   "source": [
    "### Exercise 2\n",
    "\n",
    "Extend the grammar from Exercise 1 to also cover noun phrases that contain gerunds. Test your grammar with the following sentences and the sentences from Exercise 1:"
   ]
  },
  {
   "cell_type": "code",
   "execution_count": 9,
   "metadata": {},
   "outputs": [],
   "source": [
    "sentence4 = [(\"many\", \"JJ\"), (\"dogs\", \"NNS\"), (\"barked\", \"VBD\"), (\"at\", \"IN\"), \n",
    "             (\"the\", \"DT\"), (\"meowing\", \"VBG\"), (\"cat\", \"NN\")]\n",
    "sentence5 = [(\"the\", \"DT\"), (\"man\", \"NN\"), (\"wants\", \"VBZ\"), (\"to\", \"TO\"), (\"become\", \"VB\"), \n",
    "             (\"assistant\", \"NN\"), (\"managing\", \"VBG\"), (\"director\", \"NN\")] "
   ]
  },
  {
   "cell_type": "code",
   "execution_count": 10,
   "metadata": {},
   "outputs": [
    {
     "name": "stdout",
     "output_type": "stream",
     "text": [
      "(S\n",
      "  (NP many/JJ dogs/NNS)\n",
      "  barked/VBD\n",
      "  at/IN\n",
      "  (NP the/DT meowing/VBG)\n",
      "  (NP cat/NN))\n",
      "(S\n",
      "  (NP the/DT man/NN)\n",
      "  wants/VBZ\n",
      "  to/TO\n",
      "  become/VB\n",
      "  (NP assistant/NN)\n",
      "  (NP managing/VBG)\n",
      "  (NP director/NN))\n"
     ]
    }
   ],
   "source": [
    "grammar = \"NP: {<DT>?<JJ>*<NN|NNS|VBG>}\"\n",
    "# grammar = \"NP: {<DT>?<JJ>*<VBG>*<NN|NNS>}\"\n",
    "cp = nltk.RegexpParser(grammar)\n",
    "print(cp.parse(sentence4))\n",
    "print(cp.parse(sentence5))"
   ]
  },
  {
   "cell_type": "markdown",
   "metadata": {},
   "source": [
    "### Exercise 3\n",
    "\n",
    "Extend the grammar from Exercise 2 to also  handle coordinated noun phrases. Test your grammar with the following sentences and the sentences from Exercise 1 and 2:"
   ]
  },
  {
   "cell_type": "code",
   "execution_count": 11,
   "metadata": {},
   "outputs": [],
   "source": [
    "sentence6 = [(\"the\", \"DT\"), (\"man\", \"NN\"), (\"wants\", \"VBZ\"), (\"to\", \"TO\"), (\"leave\", \"VB\"),  (\"in\", \"IN\"), \n",
    "             (\"July\", \"NNP\"), (\"or\", \"CC\"), (\"August\", \"NNP\")]\n",
    "sentence7 = [(\"Donald\", \"NNP\"), (\"fired\", \"VBD\"), (\"all\", \"PDT\"), (\"your\", \"PRP$\"), (\"managers\", \"NNS\"), \n",
    "             (\"and\", \"CC\"), (\"supervisors\", \"NNS\")]\n",
    "sentence8 = [(\"company\", \"NN\"), (\"personnel\", \"NN\"), (\"policy\", \"NN\"), (\"has\", \"VBZ\"), (\"always\", \"RB\"), \n",
    "             (\"been\", \"VBN\"), (\"the\", \"DT\"), (\"law\", \"NN\"), (\"that\", \"WDT\"), (\"rules\", \"VBZ\"), \n",
    "             (\"company\", \"NN\"),  (\"courts\", \"NN\"), (\"and\", \"CC\"), (\"adjudicators\", \"NNS\")]"
   ]
  },
  {
   "cell_type": "code",
   "execution_count": 12,
   "metadata": {},
   "outputs": [
    {
     "name": "stdout",
     "output_type": "stream",
     "text": [
      "(S\n",
      "  the/DT\n",
      "  man/NN\n",
      "  wants/VBZ\n",
      "  to/TO\n",
      "  leave/VB\n",
      "  in/IN\n",
      "  July/NNP\n",
      "  or/CC\n",
      "  August/NNP)\n",
      "(S\n",
      "  Donald/NNP\n",
      "  fired/VBD\n",
      "  all/PDT\n",
      "  your/PRP$\n",
      "  (NP managers/NNS and/CC supervisors/NNS))\n",
      "(S\n",
      "  company/NN\n",
      "  personnel/NN\n",
      "  policy/NN\n",
      "  has/VBZ\n",
      "  always/RB\n",
      "  been/VBN\n",
      "  the/DT\n",
      "  law/NN\n",
      "  that/WDT\n",
      "  rules/VBZ\n",
      "  (NP company/NN courts/NN and/CC adjudicators/NNS))\n"
     ]
    }
   ],
   "source": [
    "grammar = \"NP: {<DT>?<JJ>*<VBG>*<NN|NNS>*<CC>+<NN|NNS>}\"\n",
    "cp = nltk.RegexpParser(grammar)\n",
    "print(cp.parse(sentence6))\n",
    "print(cp.parse(sentence7))\n",
    "print(cp.parse(sentence8))"
   ]
  },
  {
   "cell_type": "markdown",
   "metadata": {},
   "source": [
    "### Exercise 4\n",
    "\n",
    "Extend the chunk grammar from Exercise 1 to a multi-stage chunk grammar for a cascaded chunker that produces the following output for the three test sentences:\n",
    "\n",
    "    (S\n",
    "      (NP many/JJ dogs/NNS)\n",
    "      (VP barked/VBD (PP at/IN (NP the/DT cat/NN))))\n",
    "    (S\n",
    "      (NP two/CD dogs/NNS)\n",
    "      (VP barked/VBD (PP at/IN (NP the/DT cat/NN))))\n",
    "    (S\n",
    "      (NP both/DT new/JJ dogs/NNS)\n",
    "      (VP barked/VBD (PP at/IN (NP the/DT cat/NN))))"
   ]
  },
  {
   "cell_type": "code",
   "execution_count": 13,
   "metadata": {},
   "outputs": [
    {
     "name": "stdout",
     "output_type": "stream",
     "text": [
      "(S\n",
      "  (NP many/JJ dogs/NNS)\n",
      "  (VP barked/VBD (PP at/IN (NP the/DT cat/NN))))\n",
      "(S\n",
      "  (NP two/CD dogs/NNS)\n",
      "  (VP barked/VBD (PP at/IN (NP the/DT cat/NN))))\n",
      "(S\n",
      "  (NP both/DT new/JJ dogs/NNS)\n",
      "  (VP barked/VBD (PP at/IN (NP the/DT cat/NN))))\n"
     ]
    }
   ],
   "source": [
    "grammar = \"NP: {<DT>?<JJ>*<NN>}\"\n",
    "\n",
    "sentence1 = [(\"many\", \"JJ\"), (\"dogs\", \"NNS\"), (\"barked\", \"VBD\"), (\"at\", \"IN\"), (\"the\", \"DT\"), (\"cat\", \"NN\")]\n",
    "sentence2 = [(\"two\", \"CD\"), (\"dogs\", \"NNS\"), (\"barked\", \"VBD\"), (\"at\", \"IN\"), (\"the\", \"DT\"), (\"cat\", \"NN\")]\n",
    "sentence3 = [(\"both\", \"DT\"), (\"new\", \"JJ\"), (\"dogs\", \"NNS\"), (\"barked\", \"VBD\"),(\"at\", \"IN\"),  (\"the\", \"DT\"), \n",
    "             (\"cat\", \"NN\")]\n",
    "\n",
    "grammar = r\"\"\"NP: {<DT>?<JJ|CD>*<NN|NNS>}\n",
    "            PP: {<IN><NP>}\n",
    "            VP: {<VBD><PP>}\"\"\"\n",
    "cp = nltk.RegexpParser(grammar)\n",
    "print(cp.parse(sentence1))\n",
    "print(cp.parse(sentence2))\n",
    "print(cp.parse(sentence3))"
   ]
  },
  {
   "cell_type": "markdown",
   "metadata": {},
   "source": [
    "### Exercise 5\n",
    "\n",
    "Extend the multi-stage chunk grammar from Exercise 4 to also cover the test sentences from Exercise 2:\n",
    "\n",
    "    (S\n",
    "      (NP many/JJ dogs/NNS)\n",
    "      (VP barked/VBD (PP at/IN (NP the/DT meowing/VBG cat/NN))))\n",
    "    (S\n",
    "      (NP the/DT man/NN)\n",
    "      (VP\n",
    "        wants/VBZ\n",
    "        (INFCL\n",
    "          to/TO\n",
    "          (VP become/VB (NP assistant/NN managing/VBG director/NN))))) \n"
   ]
  },
  {
   "cell_type": "code",
   "execution_count": 14,
   "metadata": {},
   "outputs": [
    {
     "name": "stdout",
     "output_type": "stream",
     "text": [
      "(S\n",
      "  (NP many/JJ dogs/NNS)\n",
      "  (VP barked/VBD (PP at/IN (NP the/DT meowing/VBG cat/NN))))\n",
      "(S\n",
      "  (NP the/DT man/NN)\n",
      "  (VP\n",
      "    wants/VBZ\n",
      "    (INFCL\n",
      "      to/TO\n",
      "      (VP become/VB (NP assistant/NN managing/VBG director/NN)))))\n"
     ]
    }
   ],
   "source": [
    "\n",
    "grammar = r\"\"\"NP: {<DT>?<JJ|CD>*<NN|NNS>*<VBG>*<NN|NNS>}\n",
    "            PP: {<IN><NP>}\n",
    "            VP: {<VBD|VB><NP|PP|INFCL>}\n",
    "            INFCL: {<TO><VP>}\n",
    "            VP: {<VBZ><INFCL>}\"\"\"\n",
    "\n",
    "\n",
    "cp = nltk.RegexpParser(grammar)\n",
    "print(cp.parse(sentence4))\n",
    "print(cp.parse(sentence5))"
   ]
  },
  {
   "cell_type": "markdown",
   "metadata": {},
   "source": [
    "### Exercise 6\n",
    "\n",
    "Extend the multi-stage chunk grammar from Exercise 5 to also cover the test sentences from Exercise 3:\n",
    "\n",
    "    (S\n",
    "      (NP the/DT man/NN)\n",
    "      (VP\n",
    "        wants/VBZ\n",
    "        (INFCL\n",
    "          to/TO\n",
    "          (VP leave/VB (PP in/IN (NP July/NNP or/CC August/NNP))))))\n",
    "    (S\n",
    "      (NP Donald/NNP)\n",
    "      (VP\n",
    "        fired/VBD\n",
    "        (NP all/PDT your/PRP$ managers/NNS and/CC supervisors/NNS)))\n",
    "    (S\n",
    "      (NP company/NN personnel/NN policy/NN)\n",
    "      (VP\n",
    "        has/VBZ\n",
    "        always/RB\n",
    "        been/VBN\n",
    "        (NPRC\n",
    "          (NP the/DT law/NN)\n",
    "          (RELCL\n",
    "            that/WDT\n",
    "            (VP\n",
    "              rules/VBZ\n",
    "              (NP company/NN courts/NN and/CC adjudicators/NNS))))))"
   ]
  },
  {
   "cell_type": "code",
   "execution_count": 15,
   "metadata": {},
   "outputs": [
    {
     "name": "stdout",
     "output_type": "stream",
     "text": [
      "(S\n",
      "  (NP the/DT man/NN)\n",
      "  (VP\n",
      "    wants/VBZ\n",
      "    (INFCL\n",
      "      to/TO\n",
      "      (VP leave/VB (PP in/IN (NP July/NNP or/CC August/NNP))))))\n",
      "(S\n",
      "  (NP Donald/NNP)\n",
      "  (VP\n",
      "    fired/VBD\n",
      "    (NP all/PDT your/PRP$ managers/NNS and/CC supervisors/NNS)))\n",
      "(S\n",
      "  (NP company/NN personnel/NN policy/NN)\n",
      "  (VP\n",
      "    has/VBZ\n",
      "    always/RB\n",
      "    been/VBN\n",
      "    (NPRC\n",
      "      (NP the/DT law/NN)\n",
      "      (RELCL\n",
      "        that/WDT\n",
      "        (VP\n",
      "          rules/VBZ\n",
      "          (NP company/NN courts/NN and/CC adjudicators/NNS))))))\n"
     ]
    }
   ],
   "source": [
    "grammar = r\"\"\"\n",
    "            NP: {<DT|PDT>?<JJ|CD|PRP\\$>*<NN|NNS|NNP>*<VBG|CC>*<NN|NNS|NNP>}\n",
    "            PP: {<IN><NP>}\n",
    "            VP: {<VBD|VB|VBZ><NP|PP|INFCL>}\n",
    "            INFCL: {<TO><VP>}\n",
    "            VP: {<VBZ><INFCL>}\n",
    "            RELCL: {<WDT><VP>}\n",
    "            NPRC: {<NP><RELCL>}\n",
    "            VP: {<VBZ><RB><VBN><NPRC>}\n",
    "            \"\"\"\n",
    "\n",
    "\n",
    "cp = nltk.RegexpParser(grammar)\n",
    "print(cp.parse(sentence6))\n",
    "print(cp.parse(sentence7))\n",
    "print(cp.parse(sentence8))"
   ]
  },
  {
   "cell_type": "markdown",
   "metadata": {},
   "source": [
    "### Exercise 7\n",
    "\n",
    "Select the VP chunks from the \"train\" portion of the CoNLL 2000 Chunking Data Corpus. Create a list of all the tag sequences that occur with each instance of this chunk type. Use a `FreqDist` to display the 100 most common tag sequences.  "
   ]
  },
  {
   "cell_type": "code",
   "execution_count": 16,
   "metadata": {},
   "outputs": [],
   "source": [
    "def traverse(t):\n",
    "    try:\n",
    "        t.label()\n",
    "    except AttributeError:\n",
    "        print(t, end=\" \")\n",
    "    else:\n",
    "        # Now we know that t.node is defined\n",
    "        print('(', t.label(), end=\" \")\n",
    "        for child in t:\n",
    "            traverse(child)\n",
    "        print(')', end=\" \")"
   ]
  },
  {
   "cell_type": "code",
   "execution_count": 18,
   "metadata": {},
   "outputs": [
    {
     "name": "stderr",
     "output_type": "stream",
     "text": [
      "[nltk_data] Downloading package conll2000 to\n",
      "[nltk_data]     C:\\Users\\Alex\\AppData\\Roaming\\nltk_data...\n",
      "[nltk_data]   Unzipping corpora\\conll2000.zip.\n"
     ]
    },
    {
     "data": {
      "text/plain": [
       "True"
      ]
     },
     "execution_count": 18,
     "metadata": {},
     "output_type": "execute_result"
    }
   ],
   "source": [
    "nltk.download(\"conll2000\")"
   ]
  },
  {
   "cell_type": "code",
   "execution_count": 26,
   "metadata": {},
   "outputs": [
    {
     "name": "stdout",
     "output_type": "stream",
     "text": [
      "[Tree('S', [Tree('NP', [('Confidence', 'NN')]), ('in', 'IN'), Tree('NP', [('the', 'DT'), ('pound', 'NN')]), ('is', 'VBZ'), ('widely', 'RB'), ('expected', 'VBN'), ('to', 'TO'), ('take', 'VB'), Tree('NP', [('another', 'DT'), ('sharp', 'JJ'), ('dive', 'NN')]), ('if', 'IN'), Tree('NP', [('trade', 'NN'), ('figures', 'NNS')]), ('for', 'IN'), Tree('NP', [('September', 'NNP')]), (',', ','), ('due', 'JJ'), ('for', 'IN'), Tree('NP', [('release', 'NN')]), Tree('NP', [('tomorrow', 'NN')]), (',', ','), ('fail', 'VB'), ('to', 'TO'), ('show', 'VB'), Tree('NP', [('a', 'DT'), ('substantial', 'JJ'), ('improvement', 'NN')]), ('from', 'IN'), Tree('NP', [('July', 'NNP'), ('and', 'CC'), ('August', 'NNP')]), Tree('NP', [(\"'s\", 'POS'), ('near-record', 'JJ'), ('deficits', 'NNS')]), ('.', '.')]), Tree('S', [('Chancellor', 'NNP'), ('of', 'IN'), Tree('NP', [('the', 'DT'), ('Exchequer', 'NNP')]), Tree('NP', [('Nigel', 'NNP'), ('Lawson', 'NNP')]), Tree('NP', [(\"'s\", 'POS'), ('restated', 'VBN'), ('commitment', 'NN')]), ('to', 'TO'), Tree('NP', [('a', 'DT'), ('firm', 'NN'), ('monetary', 'JJ'), ('policy', 'NN')]), ('has', 'VBZ'), ('helped', 'VBN'), ('to', 'TO'), ('prevent', 'VB'), Tree('NP', [('a', 'DT'), ('freefall', 'NN')]), ('in', 'IN'), Tree('NP', [('sterling', 'NN')]), ('over', 'IN'), Tree('NP', [('the', 'DT'), ('past', 'JJ'), ('week', 'NN')]), ('.', '.')]), ...]\n"
     ]
    }
   ],
   "source": [
    "from nltk.chunk import conllstr2tree\n",
    "from nltk.corpus import conll2000\n",
    "\n",
    "tree = conll2000.chunked_sents('train.txt',chunk_types=['NP'])\n",
    "# traverse(tree[0])\n",
    "\n",
    "print(tree)"
   ]
  }
 ],
 "metadata": {
  "interpreter": {
   "hash": "7691dc7e968cae2c1305b7cd748cf3c51f27e2f981106cfee5b02ab727978e13"
  },
  "kernelspec": {
   "display_name": "Python 3.9.7 64-bit",
   "name": "python3"
  },
  "language_info": {
   "codemirror_mode": {
    "name": "ipython",
    "version": 3
   },
   "file_extension": ".py",
   "mimetype": "text/x-python",
   "name": "python",
   "nbconvert_exporter": "python",
   "pygments_lexer": "ipython3",
   "version": "3.10.0"
  }
 },
 "nbformat": 4,
 "nbformat_minor": 2
}
