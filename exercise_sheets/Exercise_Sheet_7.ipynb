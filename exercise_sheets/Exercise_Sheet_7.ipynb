{
 "cells": [
  {
   "cell_type": "markdown",
   "metadata": {},
   "source": [
    "# Natural Language Processing\n",
    "\n",
    "## Exercise Sheet 7"
   ]
  },
  {
   "cell_type": "code",
   "execution_count": 6,
   "metadata": {},
   "outputs": [],
   "source": [
    "#imports for all exercises\n",
    "import nltk"
   ]
  },
  {
   "cell_type": "markdown",
   "metadata": {},
   "source": [
    "### Exercise 1\n",
    "\n",
    "Extend the chunk grammar"
   ]
  },
  {
   "cell_type": "code",
   "execution_count": 8,
   "metadata": {},
   "outputs": [],
   "source": [
    "grammar = \"NP: {<DT>?<JJ>*<NN>}\""
   ]
  },
  {
   "cell_type": "markdown",
   "metadata": {},
   "source": [
    "to also match noun phrases containing plural head nouns. Test your grammar with the following sentences:"
   ]
  },
  {
   "cell_type": "code",
   "execution_count": 4,
   "metadata": {},
   "outputs": [],
   "source": [
    "sentence1 = [(\"many\", \"JJ\"), (\"dogs\", \"NNS\"), (\"barked\", \"VBD\"), (\"at\", \"IN\"), (\"the\", \"DT\"), (\"cat\", \"NN\")]\n",
    "sentence2 = [(\"two\", \"CD\"), (\"dogs\", \"NNS\"), (\"barked\", \"VBD\"), (\"at\", \"IN\"), (\"the\", \"DT\"), (\"cat\", \"NN\")]\n",
    "sentence3 = [(\"both\", \"DT\"), (\"new\", \"JJ\"), (\"dogs\", \"NNS\"), (\"barked\", \"VBD\"),(\"at\", \"IN\"),  (\"the\", \"DT\"), \n",
    "             (\"cat\", \"NN\")]"
   ]
  },
  {
   "cell_type": "code",
   "execution_count": 10,
   "metadata": {},
   "outputs": [
    {
     "name": "stdout",
     "output_type": "stream",
     "text": [
      "(S (NP many/JJ dogs/NNS) barked/VBD at/IN (NP the/DT cat/NN))\n",
      "(S two/CD (NP dogs/NNS) barked/VBD at/IN (NP the/DT cat/NN))\n",
      "(S (NP both/DT new/JJ dogs/NNS) barked/VBD at/IN (NP the/DT cat/NN))\n"
     ]
    }
   ],
   "source": [
    "grammar = \"NP: {<DT>?<JJ>*<NN|NNS>}\"\n",
    "cp = nltk.RegexpParser(grammar)\n",
    "print(cp.parse(sentence1))\n",
    "print(cp.parse(sentence2))\n",
    "print(cp.parse(sentence3))"
   ]
  },
  {
   "cell_type": "markdown",
   "metadata": {},
   "source": [
    "### Exercise 2\n",
    "\n",
    "Extend the grammar from Exercise 1 to also cover noun phrases that contain gerunds. Test your grammar with the following sentences and the sentences from Exercise 1:"
   ]
  },
  {
   "cell_type": "code",
   "execution_count": 12,
   "metadata": {},
   "outputs": [],
   "source": [
    "sentence4 = [(\"many\", \"JJ\"), (\"dogs\", \"NNS\"), (\"barked\", \"VBD\"), (\"at\", \"IN\"), \n",
    "             (\"the\", \"DT\"), (\"meowing\", \"VBG\"), (\"cat\", \"NN\")]\n",
    "sentence5 = [(\"the\", \"DT\"), (\"man\", \"NN\"), (\"wants\", \"VBZ\"), (\"to\", \"TO\"), (\"become\", \"VB\"), \n",
    "             (\"assistant\", \"NN\"), (\"managing\", \"VBG\"), (\"director\", \"NN\")] "
   ]
  },
  {
   "cell_type": "code",
   "execution_count": 16,
   "metadata": {},
   "outputs": [
    {
     "name": "stdout",
     "output_type": "stream",
     "text": [
      "(S many/JJ dogs/NNS barked/VBD at/IN the/DT meowing/VBG cat/NN)\n",
      "(S\n",
      "  the/DT\n",
      "  man/NN\n",
      "  wants/VBZ\n",
      "  to/TO\n",
      "  become/VB\n",
      "  (NP assistant/NN managing/VBG)\n",
      "  director/NN)\n"
     ]
    }
   ],
   "source": [
    "grammar = \"NP: {<DT>?<JJ>*<NN|NNS|VBG>}\"\n",
    "# grammar = \"NP: {<DT>?<JJ>*<VBG>*<NN|NNS>}\"\n",
    "cp = nltk.RegexpParser(grammar)\n",
    "print(cp.parse(sentence4))\n",
    "print(cp.parse(sentence5))"
   ]
  },
  {
   "cell_type": "markdown",
   "metadata": {},
   "source": [
    "### Exercise 3\n",
    "\n",
    "Extend the grammar from Exercise 2 to also  handle coordinated noun phrases. Test your grammar with the following sentences and the sentences from Exercise 1 and 2:"
   ]
  },
  {
   "cell_type": "code",
   "execution_count": 15,
   "metadata": {},
   "outputs": [],
   "source": [
    "sentence6 = [(\"the\", \"DT\"), (\"man\", \"NN\"), (\"wants\", \"VBZ\"), (\"to\", \"TO\"), (\"leave\", \"VB\"),  (\"in\", \"IN\"), \n",
    "             (\"July\", \"NNP\"), (\"or\", \"CC\"), (\"August\", \"NNP\")]\n",
    "sentence7 = [(\"Donald\", \"NNP\"), (\"fired\", \"VBD\"), (\"all\", \"PDT\"), (\"your\", \"PRP$\"), (\"managers\", \"NNS\"), \n",
    "             (\"and\", \"CC\"), (\"supervisors\", \"NNS\")]\n",
    "sentence8 = [(\"company\", \"NN\"), (\"personnel\", \"NN\"), (\"policy\", \"NN\"), (\"has\", \"VBZ\"), (\"always\", \"RB\"), \n",
    "             (\"been\", \"VBN\"), (\"the\", \"DT\"), (\"law\", \"NN\"), (\"that\", \"WDT\"), (\"rules\", \"VBZ\"), \n",
    "             (\"company\", \"NN\"),  (\"courts\", \"NN\"), (\"and\", \"CC\"), (\"adjudicators\", \"NNS\")]"
   ]
  },
  {
   "cell_type": "code",
   "execution_count": 19,
   "metadata": {},
   "outputs": [
    {
     "name": "stdout",
     "output_type": "stream",
     "text": [
      "(S\n",
      "  the/DT\n",
      "  man/NN\n",
      "  wants/VBZ\n",
      "  to/TO\n",
      "  leave/VB\n",
      "  in/IN\n",
      "  July/NNP\n",
      "  or/CC\n",
      "  August/NNP)\n",
      "(S\n",
      "  Donald/NNP\n",
      "  fired/VBD\n",
      "  all/PDT\n",
      "  your/PRP$\n",
      "  (NP managers/NNS and/CC supervisors/NNS))\n",
      "(S\n",
      "  company/NN\n",
      "  personnel/NN\n",
      "  policy/NN\n",
      "  has/VBZ\n",
      "  always/RB\n",
      "  been/VBN\n",
      "  the/DT\n",
      "  law/NN\n",
      "  that/WDT\n",
      "  rules/VBZ\n",
      "  (NP company/NN courts/NN and/CC adjudicators/NNS))\n"
     ]
    }
   ],
   "source": [
    "grammar = \"NP: {<DT>?<JJ>*<VBG>*<NN|NNS>*<CC>+<NN|NNS>}\"\n",
    "cp = nltk.RegexpParser(grammar)\n",
    "print(cp.parse(sentence6))\n",
    "print(cp.parse(sentence7))\n",
    "print(cp.parse(sentence8))"
   ]
  },
  {
   "cell_type": "markdown",
   "metadata": {},
   "source": [
    "### Exercise 4\n",
    "\n",
    "Extend the chunk grammar from Exercise 1 to a multi-stage chunk grammar for a cascaded chunker that produces the following output for the three test sentences:\n",
    "\n",
    "    (S\n",
    "      (NP many/JJ dogs/NNS)\n",
    "      (VP barked/VBD (PP at/IN (NP the/DT cat/NN))))\n",
    "    (S\n",
    "      (NP two/CD dogs/NNS)\n",
    "      (VP barked/VBD (PP at/IN (NP the/DT cat/NN))))\n",
    "    (S\n",
    "      (NP both/DT new/JJ dogs/NNS)\n",
    "      (VP barked/VBD (PP at/IN (NP the/DT cat/NN))))"
   ]
  },
  {
   "cell_type": "code",
   "execution_count": 27,
   "metadata": {},
   "outputs": [
    {
     "name": "stdout",
     "output_type": "stream",
     "text": [
      "(S\n",
      "  (NP many/JJ dogs/NNS)\n",
      "  (VP barked/VBD (PP at/IN (NP the/DT cat/NN))))\n",
      "(S\n",
      "  (NP two/CD dogs/NNS)\n",
      "  (VP barked/VBD (PP at/IN (NP the/DT cat/NN))))\n",
      "(S\n",
      "  (NP both/DT new/JJ dogs/NNS)\n",
      "  (VP barked/VBD (PP at/IN (NP the/DT cat/NN))))\n"
     ]
    }
   ],
   "source": [
    "grammar = \"NP: {<DT>?<JJ>*<NN>}\"\n",
    "\n",
    "sentence1 = [(\"many\", \"JJ\"), (\"dogs\", \"NNS\"), (\"barked\", \"VBD\"), (\"at\", \"IN\"), (\"the\", \"DT\"), (\"cat\", \"NN\")]\n",
    "sentence2 = [(\"two\", \"CD\"), (\"dogs\", \"NNS\"), (\"barked\", \"VBD\"), (\"at\", \"IN\"), (\"the\", \"DT\"), (\"cat\", \"NN\")]\n",
    "sentence3 = [(\"both\", \"DT\"), (\"new\", \"JJ\"), (\"dogs\", \"NNS\"), (\"barked\", \"VBD\"),(\"at\", \"IN\"),  (\"the\", \"DT\"), \n",
    "             (\"cat\", \"NN\")]\n",
    "\n",
    "grammar = r\"\"\"NP: {<DT>?<JJ|CD>*<NN|NNS>}\n",
    "            PP: {<IN><NP>}\n",
    "            VP: {<VBD><PP>}\"\"\"\n",
    "cp = nltk.RegexpParser(grammar)\n",
    "print(cp.parse(sentence1))\n",
    "print(cp.parse(sentence2))\n",
    "print(cp.parse(sentence3))"
   ]
  },
  {
   "cell_type": "markdown",
   "metadata": {},
   "source": [
    "### Exercise 5\n",
    "\n",
    "Extend the multi-stage chunk grammar from Exercise 4 to also cover the test sentences from Exercise 2:\n",
    "\n",
    "    (S\n",
    "      (NP many/JJ dogs/NNS)\n",
    "      (VP barked/VBD (PP at/IN (NP the/DT meowing/VBG cat/NN))))\n",
    "    (S\n",
    "      (NP the/DT man/NN)\n",
    "      (VP\n",
    "        wants/VBZ\n",
    "        (INFCL\n",
    "          to/TO\n",
    "          (VP become/VB (NP assistant/NN managing/VBG director/NN))))) \n"
   ]
  },
  {
   "cell_type": "code",
   "execution_count": 119,
   "metadata": {},
   "outputs": [
    {
     "name": "stdout",
     "output_type": "stream",
     "text": [
      "(S\n",
      "  (NP many/JJ dogs/NNS)\n",
      "  (VP barked/VBD (PP at/IN (NP the/DT meowing/VBG cat/NN))))\n",
      "(S\n",
      "  (NP the/DT man/NN)\n",
      "  (VP\n",
      "    wants/VBZ\n",
      "    (INFCL\n",
      "      to/TO\n",
      "      (VP become/VB (NP assistant/NN managing/VBG director/NN)))))\n"
     ]
    }
   ],
   "source": [
    "\n",
    "grammar = r\"\"\"NP: {<DT>?<JJ|CD>*<NN|NNS>*<VBG>*<NN|NNS>}\n",
    "            PP: {<IN><NP>}\n",
    "            VP: {<VBD|VB><NP|PP|INFCL>}\n",
    "            INFCL: {<TO><VP>}\n",
    "            VP: {<VBZ><INFCL>}\"\"\"\n",
    "\n",
    "\n",
    "cp = nltk.RegexpParser(grammar)\n",
    "print(cp.parse(sentence4))\n",
    "print(cp.parse(sentence5))"
   ]
  },
  {
   "cell_type": "markdown",
   "metadata": {},
   "source": [
    "### Exercise 6\n",
    "\n",
    "Extend the multi-stage chunk grammar from Exercise 5 to also cover the test sentences from Exercise 3:\n",
    "\n",
    "    (S\n",
    "      (NP the/DT man/NN)\n",
    "      (VP\n",
    "        wants/VBZ\n",
    "        (INFCL\n",
    "          to/TO\n",
    "          (VP leave/VB (PP in/IN (NP July/NNP or/CC August/NNP))))))\n",
    "    (S\n",
    "      (NP Donald/NNP)\n",
    "      (VP\n",
    "        fired/VBD\n",
    "        (NP all/PDT your/PRP$ managers/NNS and/CC supervisors/NNS)))\n",
    "    (S\n",
    "      (NP company/NN personnel/NN policy/NN)\n",
    "      (VP\n",
    "        has/VBZ\n",
    "        always/RB\n",
    "        been/VBN\n",
    "        (NPRC\n",
    "          (NP the/DT law/NN)\n",
    "          (RELCL\n",
    "            that/WDT\n",
    "            (VP\n",
    "              rules/VBZ\n",
    "              (NP company/NN courts/NN and/CC adjudicators/NNS))))))"
   ]
  },
  {
   "cell_type": "code",
   "execution_count": 142,
   "metadata": {},
   "outputs": [
    {
     "name": "stdout",
     "output_type": "stream",
     "text": [
      "(S\n",
      "  (NP the/DT man/NN)\n",
      "  (VP\n",
      "    wants/VBZ\n",
      "    (INFCL\n",
      "      to/TO\n",
      "      (VP leave/VB (PP in/IN (NP July/NNP or/CC August/NNP))))))\n",
      "(S\n",
      "  (NP Donald/NNP)\n",
      "  (VP\n",
      "    fired/VBD\n",
      "    (NP all/PDT your/PRP$ managers/NNS and/CC supervisors/NNS)))\n",
      "(S\n",
      "  (NP company/NN personnel/NN policy/NN)\n",
      "  (VP\n",
      "    has/VBZ\n",
      "    always/RB\n",
      "    been/VBN\n",
      "    (NPRC\n",
      "      (NP the/DT law/NN)\n",
      "      (RELCL\n",
      "        that/WDT\n",
      "        (VP\n",
      "          rules/VBZ\n",
      "          (NP company/NN courts/NN and/CC adjudicators/NNS))))))\n"
     ]
    }
   ],
   "source": [
    "grammar = r\"\"\"\n",
    "            NP: {<DT|PDT>?<JJ|CD|PRP\\$>*<NN|NNS|NNP>*<VBG|CC>*<NN|NNS|NNP>}\n",
    "            PP: {<IN><NP>}\n",
    "            VP: {<VBD|VB|VBZ><NP|PP|INFCL>}\n",
    "            INFCL: {<TO><VP>}\n",
    "            VP: {<VBZ><INFCL>}\n",
    "            RELCL: {<WDT><VP>}\n",
    "            NPRC: {<NP><RELCL>}\n",
    "            VP: {<VBZ><RB><VBN><NPRC>}\n",
    "            \"\"\"\n",
    "\n",
    "\n",
    "cp = nltk.RegexpParser(grammar)\n",
    "print(cp.parse(sentence6))\n",
    "print(cp.parse(sentence7))\n",
    "print(cp.parse(sentence8))"
   ]
  },
  {
   "cell_type": "markdown",
   "metadata": {},
   "source": [
    "### Exercise 7\n",
    "\n",
    "Select the VP chunks from the \"train\" portion of the CoNLL 2000 Chunking Data Corpus. Create a list of all the tag sequences that occur with each instance of this chunk type. Use a `FreqDist` to display the 100 most common tag sequences.  "
   ]
  },
  {
   "cell_type": "code",
   "execution_count": 185,
   "metadata": {},
   "outputs": [],
   "source": [
    "def traverse(t):\n",
    "    try:\n",
    "        t.label()\n",
    "    except AttributeError:\n",
    "        print(t, end=\" \")\n",
    "    else:\n",
    "        # Now we know that t.node is defined\n",
    "        print('(', t.label(), end=\" \")\n",
    "        for child in t:\n",
    "            traverse(child)\n",
    "        print(')', end=\" \")"
   ]
  },
  {
   "cell_type": "code",
   "execution_count": 200,
   "metadata": {},
   "outputs": [
    {
     "name": "stderr",
     "output_type": "stream",
     "text": [
      "The Ghostscript executable isn't found.\n",
      "See http://web.mit.edu/ghostscript/www/Install.htm\n",
      "If you're using a Mac, you can try installing\n",
      "https://docs.brew.sh/Installation then `brew install ghostscript`\n"
     ]
    },
    {
     "ename": "LookupError",
     "evalue": "",
     "output_type": "error",
     "traceback": [
      "\u001b[1;31m---------------------------------------------------------------------------\u001b[0m",
      "\u001b[1;31mLookupError\u001b[0m                               Traceback (most recent call last)",
      "\u001b[1;32m~\\AppData\\Roaming\\Python\\Python39\\site-packages\\nltk\\tree.py\u001b[0m in \u001b[0;36m_repr_png_\u001b[1;34m(self)\u001b[0m\n\u001b[0;32m    813\u001b[0m                     [\n\u001b[1;32m--> 814\u001b[1;33m                         find_binary(\n\u001b[0m\u001b[0;32m    815\u001b[0m                             \u001b[1;34m\"gs\"\u001b[0m\u001b[1;33m,\u001b[0m\u001b[1;33m\u001b[0m\u001b[1;33m\u001b[0m\u001b[0m\n",
      "\u001b[1;32m~\\AppData\\Roaming\\Python\\Python39\\site-packages\\nltk\\internals.py\u001b[0m in \u001b[0;36mfind_binary\u001b[1;34m(name, path_to_bin, env_vars, searchpath, binary_names, url, verbose)\u001b[0m\n\u001b[0;32m    686\u001b[0m ):\n\u001b[1;32m--> 687\u001b[1;33m     return next(\n\u001b[0m\u001b[0;32m    688\u001b[0m         find_binary_iter(\n",
      "\u001b[1;32m~\\AppData\\Roaming\\Python\\Python39\\site-packages\\nltk\\internals.py\u001b[0m in \u001b[0;36mfind_binary_iter\u001b[1;34m(name, path_to_bin, env_vars, searchpath, binary_names, url, verbose)\u001b[0m\n\u001b[0;32m    672\u001b[0m     \"\"\"\n\u001b[1;32m--> 673\u001b[1;33m     yield from find_file_iter(\n\u001b[0m\u001b[0;32m    674\u001b[0m         \u001b[0mpath_to_bin\u001b[0m \u001b[1;32mor\u001b[0m \u001b[0mname\u001b[0m\u001b[1;33m,\u001b[0m \u001b[0menv_vars\u001b[0m\u001b[1;33m,\u001b[0m \u001b[0msearchpath\u001b[0m\u001b[1;33m,\u001b[0m \u001b[0mbinary_names\u001b[0m\u001b[1;33m,\u001b[0m \u001b[0murl\u001b[0m\u001b[1;33m,\u001b[0m \u001b[0mverbose\u001b[0m\u001b[1;33m\u001b[0m\u001b[1;33m\u001b[0m\u001b[0m\n",
      "\u001b[1;32m~\\AppData\\Roaming\\Python\\Python39\\site-packages\\nltk\\internals.py\u001b[0m in \u001b[0;36mfind_file_iter\u001b[1;34m(filename, env_vars, searchpath, file_names, url, verbose, finding_dir)\u001b[0m\n\u001b[0;32m    631\u001b[0m         \u001b[0mdiv\u001b[0m \u001b[1;33m=\u001b[0m \u001b[1;34m\"=\"\u001b[0m \u001b[1;33m*\u001b[0m \u001b[1;36m75\u001b[0m\u001b[1;33m\u001b[0m\u001b[1;33m\u001b[0m\u001b[0m\n\u001b[1;32m--> 632\u001b[1;33m         \u001b[1;32mraise\u001b[0m \u001b[0mLookupError\u001b[0m\u001b[1;33m(\u001b[0m\u001b[1;34mf\"\\n\\n{div}\\n{msg}\\n{div}\"\u001b[0m\u001b[1;33m)\u001b[0m\u001b[1;33m\u001b[0m\u001b[1;33m\u001b[0m\u001b[0m\n\u001b[0m\u001b[0;32m    633\u001b[0m \u001b[1;33m\u001b[0m\u001b[0m\n",
      "\u001b[1;31mLookupError\u001b[0m: \n\n===========================================================================\nNLTK was unable to find the gs file!\nUse software specific configuration parameters or set the PATH environment variable.\n===========================================================================",
      "\nThe above exception was the direct cause of the following exception:\n",
      "\u001b[1;31mLookupError\u001b[0m                               Traceback (most recent call last)",
      "\u001b[1;32m~\\AppData\\Local\\Programs\\Python\\Python39\\lib\\site-packages\\IPython\\core\\formatters.py\u001b[0m in \u001b[0;36m__call__\u001b[1;34m(self, obj)\u001b[0m\n\u001b[0;32m    343\u001b[0m             \u001b[0mmethod\u001b[0m \u001b[1;33m=\u001b[0m \u001b[0mget_real_method\u001b[0m\u001b[1;33m(\u001b[0m\u001b[0mobj\u001b[0m\u001b[1;33m,\u001b[0m \u001b[0mself\u001b[0m\u001b[1;33m.\u001b[0m\u001b[0mprint_method\u001b[0m\u001b[1;33m)\u001b[0m\u001b[1;33m\u001b[0m\u001b[1;33m\u001b[0m\u001b[0m\n\u001b[0;32m    344\u001b[0m             \u001b[1;32mif\u001b[0m \u001b[0mmethod\u001b[0m \u001b[1;32mis\u001b[0m \u001b[1;32mnot\u001b[0m \u001b[1;32mNone\u001b[0m\u001b[1;33m:\u001b[0m\u001b[1;33m\u001b[0m\u001b[1;33m\u001b[0m\u001b[0m\n\u001b[1;32m--> 345\u001b[1;33m                 \u001b[1;32mreturn\u001b[0m \u001b[0mmethod\u001b[0m\u001b[1;33m(\u001b[0m\u001b[1;33m)\u001b[0m\u001b[1;33m\u001b[0m\u001b[1;33m\u001b[0m\u001b[0m\n\u001b[0m\u001b[0;32m    346\u001b[0m             \u001b[1;32mreturn\u001b[0m \u001b[1;32mNone\u001b[0m\u001b[1;33m\u001b[0m\u001b[1;33m\u001b[0m\u001b[0m\n\u001b[0;32m    347\u001b[0m         \u001b[1;32melse\u001b[0m\u001b[1;33m:\u001b[0m\u001b[1;33m\u001b[0m\u001b[1;33m\u001b[0m\u001b[0m\n",
      "\u001b[1;32m~\\AppData\\Roaming\\Python\\Python39\\site-packages\\nltk\\tree.py\u001b[0m in \u001b[0;36m_repr_png_\u001b[1;34m(self)\u001b[0m\n\u001b[0;32m    831\u001b[0m                 )\n\u001b[0;32m    832\u001b[0m                 \u001b[0mprint\u001b[0m\u001b[1;33m(\u001b[0m\u001b[0mpre_error_message\u001b[0m\u001b[1;33m,\u001b[0m \u001b[0mfile\u001b[0m\u001b[1;33m=\u001b[0m\u001b[0msys\u001b[0m\u001b[1;33m.\u001b[0m\u001b[0mstderr\u001b[0m\u001b[1;33m)\u001b[0m\u001b[1;33m\u001b[0m\u001b[1;33m\u001b[0m\u001b[0m\n\u001b[1;32m--> 833\u001b[1;33m                 \u001b[1;32mraise\u001b[0m \u001b[0mLookupError\u001b[0m \u001b[1;32mfrom\u001b[0m \u001b[0me\u001b[0m\u001b[1;33m\u001b[0m\u001b[1;33m\u001b[0m\u001b[0m\n\u001b[0m\u001b[0;32m    834\u001b[0m \u001b[1;33m\u001b[0m\u001b[0m\n\u001b[0;32m    835\u001b[0m             \u001b[1;32mwith\u001b[0m \u001b[0mopen\u001b[0m\u001b[1;33m(\u001b[0m\u001b[0mout_path\u001b[0m\u001b[1;33m,\u001b[0m \u001b[1;34m\"rb\"\u001b[0m\u001b[1;33m)\u001b[0m \u001b[1;32mas\u001b[0m \u001b[0msr\u001b[0m\u001b[1;33m:\u001b[0m\u001b[1;33m\u001b[0m\u001b[1;33m\u001b[0m\u001b[0m\n",
      "\u001b[1;31mLookupError\u001b[0m: "
     ]
    },
    {
     "data": {
      "text/plain": [
       "Tree('S', [Tree('NP', [('Confidence', 'NN')]), ('in', 'IN'), Tree('NP', [('the', 'DT'), ('pound', 'NN')]), ('is', 'VBZ'), ('widely', 'RB'), ('expected', 'VBN'), ('to', 'TO'), ('take', 'VB'), Tree('NP', [('another', 'DT'), ('sharp', 'JJ'), ('dive', 'NN')]), ('if', 'IN'), Tree('NP', [('trade', 'NN'), ('figures', 'NNS')]), ('for', 'IN'), Tree('NP', [('September', 'NNP')]), (',', ','), ('due', 'JJ'), ('for', 'IN'), Tree('NP', [('release', 'NN')]), Tree('NP', [('tomorrow', 'NN')]), (',', ','), ('fail', 'VB'), ('to', 'TO'), ('show', 'VB'), Tree('NP', [('a', 'DT'), ('substantial', 'JJ'), ('improvement', 'NN')]), ('from', 'IN'), Tree('NP', [('July', 'NNP'), ('and', 'CC'), ('August', 'NNP')]), Tree('NP', [(\"'s\", 'POS'), ('near-record', 'JJ'), ('deficits', 'NNS')]), ('.', '.')])"
      ]
     },
     "execution_count": 200,
     "metadata": {},
     "output_type": "execute_result"
    }
   ],
   "source": [
    "from nltk.chunk import conllstr2tree\n",
    "from nltk.corpus import conll2000\n",
    "\n",
    "tree = conll2000.chunked_sents('train.txt',chunk_types=['NP'])[0]\n",
    "# traverse(tree[0])\n",
    "\n",
    "tree"
   ]
  }
 ],
 "metadata": {
  "interpreter": {
   "hash": "7691dc7e968cae2c1305b7cd748cf3c51f27e2f981106cfee5b02ab727978e13"
  },
  "kernelspec": {
   "display_name": "Python 3.9.7 64-bit",
   "name": "python3"
  },
  "language_info": {
   "codemirror_mode": {
    "name": "ipython",
    "version": 3
   },
   "file_extension": ".py",
   "mimetype": "text/x-python",
   "name": "python",
   "nbconvert_exporter": "python",
   "pygments_lexer": "ipython3",
   "version": "3.9.7"
  }
 },
 "nbformat": 4,
 "nbformat_minor": 2
}
