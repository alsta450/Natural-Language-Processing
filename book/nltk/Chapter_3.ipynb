{
 "cells": [
  {
   "cell_type": "markdown",
   "source": [
    "# 3   Processing Raw Text\r\n",
    "\r\n",
    "The most important source of texts is undoubtedly the Web. It's convenient to have existing text collections to explore, such as the corpora we saw in the previous chapters. However, you probably have your own text sources in mind, and need to learn how to access them.\r\n",
    "\r\n",
    "The goal of this chapter is to answer the following questions:\r\n",
    "\r\n",
    "- How can we write programs to access text from local files and from the web, in order to get hold of an unlimited range of language material?\r\n",
    "- How can we split documents up into individual words and punctuation symbols, so we can carry out the same kinds of analysis we did with text corpora in earlier chapters?\r\n",
    "- How can we write programs to produce formatted output and save it in a file?\r\n",
    "\r\n",
    "In order to address these questions, we will be covering key concepts in NLP, including tokenization and stemming. Along the way you will consolidate your Python knowledge and learn about strings, files, and regular expressions. Since so much text on the web is in HTML format, we will also see how to dispense with markup."
   ],
   "metadata": {}
  },
  {
   "cell_type": "code",
   "execution_count": 6,
   "source": [
    "import nltk, re, pprint\r\n",
    "from nltk import word_tokenize"
   ],
   "outputs": [],
   "metadata": {}
  },
  {
   "cell_type": "markdown",
   "source": [
    "## 3.1   Accessing Text from the Web and from Disk\n",
    "\n",
    "### Electronic Books\n",
    "\n",
    "A small sample of texts from Project Gutenberg appears in the NLTK corpus collection. However, you may be interested in analyzing other texts from Project Gutenberg. You can browse the catalog of 25,000 free online books at http://www.gutenberg.org/catalog/, and obtain a URL to an ASCII text file. Although 90% of the texts in Project Gutenberg are in English, it includes material in over 50 other languages, including Catalan, Chinese, Dutch, Finnish, French, German, Italian, Portuguese and Spanish (with more than 100 texts each).\n",
    "\n",
    "Text number 2554 is an English translation of *Crime and Punishment*, and we can access it as follows."
   ],
   "metadata": {}
  },
  {
   "cell_type": "code",
   "execution_count": 2,
   "source": [
    "from urllib import request\r\n",
    "url = \"http://www.gutenberg.org/files/2554/2554-0.txt\"\r\n",
    "response = request.urlopen(url)\r\n",
    "raw = response.read().decode('utf8')\r\n",
    "type(raw)"
   ],
   "outputs": [
    {
     "output_type": "execute_result",
     "data": {
      "text/plain": [
       "str"
      ]
     },
     "metadata": {},
     "execution_count": 2
    }
   ],
   "metadata": {}
  },
  {
   "cell_type": "code",
   "execution_count": 3,
   "source": [
    "len(raw)"
   ],
   "outputs": [
    {
     "output_type": "execute_result",
     "data": {
      "text/plain": [
       "1176812"
      ]
     },
     "metadata": {},
     "execution_count": 3
    }
   ],
   "metadata": {}
  },
  {
   "cell_type": "code",
   "execution_count": 4,
   "source": [
    "raw[:76]"
   ],
   "outputs": [
    {
     "output_type": "execute_result",
     "data": {
      "text/plain": [
       "'\\ufeffThe Project Gutenberg eBook of Crime and Punishment, by Fyodor Dostoevsky\\r\\n'"
      ]
     },
     "metadata": {},
     "execution_count": 4
    }
   ],
   "metadata": {}
  },
  {
   "cell_type": "markdown",
   "source": [
    "The variable `raw` contains a string with 1,176,967 characters. (We can see that it is a string, using `type(raw)`.) This is the raw content of the book, including many details we are not interested in such as whitespace, line breaks and blank lines. Notice the `\\r` and `\\n` in the opening line of the file, which is how Python displays the special carriage return and line feed characters (the file must have been created on a Windows machine). For our language processing, we want to break up the string into words and punctuation, as we saw in Chapter 1. This step is called **tokenization**, and it produces our familiar structure, a list of words and punctuation."
   ],
   "metadata": {}
  },
  {
   "cell_type": "code",
   "execution_count": 5,
   "source": [
    "tokens = word_tokenize(raw)\r\n",
    "type(tokens)"
   ],
   "outputs": [
    {
     "output_type": "execute_result",
     "data": {
      "text/plain": [
       "list"
      ]
     },
     "metadata": {},
     "execution_count": 5
    }
   ],
   "metadata": {}
  },
  {
   "cell_type": "code",
   "execution_count": null,
   "source": [
    "len(tokens)"
   ],
   "outputs": [],
   "metadata": {}
  },
  {
   "cell_type": "code",
   "execution_count": 6,
   "source": [
    "tokens[:10]"
   ],
   "outputs": [
    {
     "output_type": "execute_result",
     "data": {
      "text/plain": [
       "['\\ufeffThe',\n",
       " 'Project',\n",
       " 'Gutenberg',\n",
       " 'eBook',\n",
       " 'of',\n",
       " 'Crime',\n",
       " 'and',\n",
       " 'Punishment',\n",
       " ',',\n",
       " 'by']"
      ]
     },
     "metadata": {},
     "execution_count": 6
    }
   ],
   "metadata": {}
  },
  {
   "cell_type": "markdown",
   "source": [
    "Notice that NLTK was needed for tokenization, but not for any of the earlier tasks of opening a URL and reading it into a string. If we now take the further step of creating an NLTK text from this list, we can carry out all of the other linguistic processing we saw in Chapter 1, along with the regular list operations like slicing:"
   ],
   "metadata": {}
  },
  {
   "cell_type": "code",
   "execution_count": 7,
   "source": [
    "text = nltk.Text(tokens)\r\n",
    "type(text)"
   ],
   "outputs": [
    {
     "output_type": "execute_result",
     "data": {
      "text/plain": [
       "nltk.text.Text"
      ]
     },
     "metadata": {},
     "execution_count": 7
    }
   ],
   "metadata": {}
  },
  {
   "cell_type": "code",
   "execution_count": 8,
   "source": [
    "text[1025:1063]"
   ],
   "outputs": [
    {
     "output_type": "execute_result",
     "data": {
      "text/plain": [
       "['impresses',\n",
       " 'us',\n",
       " 'as',\n",
       " 'wisdom',\n",
       " '...',\n",
       " 'that',\n",
       " 'wisdom',\n",
       " 'of',\n",
       " 'the',\n",
       " 'heart',\n",
       " 'which',\n",
       " 'we',\n",
       " 'seek',\n",
       " 'that',\n",
       " 'we',\n",
       " 'may',\n",
       " 'learn',\n",
       " 'from',\n",
       " 'it',\n",
       " 'how',\n",
       " 'to',\n",
       " 'live',\n",
       " '.',\n",
       " 'All',\n",
       " 'his',\n",
       " 'other',\n",
       " 'gifts',\n",
       " 'came',\n",
       " 'to',\n",
       " 'him',\n",
       " 'from',\n",
       " 'nature',\n",
       " ',',\n",
       " 'this',\n",
       " 'he',\n",
       " 'won',\n",
       " 'for',\n",
       " 'himself']"
      ]
     },
     "metadata": {},
     "execution_count": 8
    }
   ],
   "metadata": {}
  },
  {
   "cell_type": "code",
   "execution_count": 9,
   "source": [
    "text.collocations()"
   ],
   "outputs": [
    {
     "output_type": "stream",
     "name": "stdout",
     "text": [
      "Katerina Ivanovna; Pyotr Petrovitch; Pulcheria Alexandrovna; Avdotya\n",
      "Romanovna; Rodion Romanovitch; Marfa Petrovna; Sofya Semyonovna; old\n",
      "woman; Project Gutenberg-tm; Porfiry Petrovitch; Amalia Ivanovna;\n",
      "great deal; young man; Nikodim Fomitch; Project Gutenberg; Ilya\n",
      "Petrovitch; Andrey Semyonovitch; Hay Market; Dmitri Prokofitch; Good\n",
      "heavens\n"
     ]
    }
   ],
   "metadata": {}
  },
  {
   "cell_type": "markdown",
   "source": [
    "Notice that *Project Gutenberg* appears as a collocation. This is because each text downloaded from Project Gutenberg contains a header with the name of the text, the author, the names of people who scanned and corrected the text, a license, and so on. Sometimes this information appears in a footer at the end of the file. We cannot reliably detect where the content begins and ends, and so have to resort to manual inspection of the file, to discover unique strings that mark the beginning and the end, before trimming `raw` to be just the content and nothing else:"
   ],
   "metadata": {}
  },
  {
   "cell_type": "code",
   "execution_count": 10,
   "source": [
    "raw.find(\"PART I\")"
   ],
   "outputs": [
    {
     "output_type": "execute_result",
     "data": {
      "text/plain": [
       "5575"
      ]
     },
     "metadata": {},
     "execution_count": 10
    }
   ],
   "metadata": {}
  },
  {
   "cell_type": "code",
   "execution_count": 11,
   "source": [
    "raw.rfind(\"End of Project Gutenberg’s Crime\")"
   ],
   "outputs": [
    {
     "output_type": "execute_result",
     "data": {
      "text/plain": [
       "-1"
      ]
     },
     "metadata": {},
     "execution_count": 11
    }
   ],
   "metadata": {}
  },
  {
   "cell_type": "code",
   "execution_count": 12,
   "source": [
    "raw[1157812:1157844]"
   ],
   "outputs": [
    {
     "output_type": "execute_result",
     "data": {
      "text/plain": [
       "'adual\\r\\nrenewal of a man, the sto'"
      ]
     },
     "metadata": {},
     "execution_count": 12
    }
   ],
   "metadata": {}
  },
  {
   "cell_type": "code",
   "execution_count": 13,
   "source": [
    "raw = raw[5336:1157812]"
   ],
   "outputs": [],
   "metadata": {}
  },
  {
   "cell_type": "code",
   "execution_count": 14,
   "source": [
    "raw.find(\"PART I\")"
   ],
   "outputs": [
    {
     "output_type": "execute_result",
     "data": {
      "text/plain": [
       "239"
      ]
     },
     "metadata": {},
     "execution_count": 14
    }
   ],
   "metadata": {}
  },
  {
   "cell_type": "markdown",
   "source": [
    "The `find()` and `rfind()` (\"reverse find\") methods help us get the right index values to use for slicing the string. We overwrite `raw` with this slice, so now it begins with \"PART I\" and goes up to (but not including) the phrase that marks the end of the content.\n",
    "\n",
    "This was our first brush with the reality of the web: texts found on the web may contain unwanted material, and there may not be an automatic way to remove it. But with a small amount of extra work we can extract the material we need."
   ],
   "metadata": {}
  },
  {
   "cell_type": "markdown",
   "source": [
    "### Dealing with HTML\n",
    "\n",
    "Much of the text on the web is in the form of HTML documents. You can use a web browser to save a page as text to a local file, then access this as described in the section on files below. However, if you're going to do this often, it's easiest to get Python to do the work directly. The first step is the same as before, using `urlopen`. For fun we'll pick a BBC News story called *Blondes to die out in 200 years*, an urban legend passed along by the BBC as established scientific fact:"
   ],
   "metadata": {}
  },
  {
   "cell_type": "code",
   "execution_count": 15,
   "source": [
    "url = \"http://news.bbc.co.uk/2/hi/health/2284783.stm\"\r\n",
    "html = request.urlopen(url).read().decode('utf8')\r\n",
    "html[:60]"
   ],
   "outputs": [
    {
     "output_type": "execute_result",
     "data": {
      "text/plain": [
       "'<!doctype html public \"-//W3C//DTD HTML 4.0 Transitional//EN'"
      ]
     },
     "metadata": {},
     "execution_count": 15
    }
   ],
   "metadata": {}
  },
  {
   "cell_type": "markdown",
   "source": [
    "You can type `print(html)` to see the HTML content in all its glory, including meta tags, an image map, JavaScript, forms, and tables.\n",
    "\n",
    "To get text out of HTML we will use a Python library called *BeautifulSoup*, available from http://www.crummy.com/software/BeautifulSoup/:"
   ],
   "metadata": {}
  },
  {
   "cell_type": "code",
   "execution_count": 16,
   "source": [
    "from bs4 import BeautifulSoup\r\n",
    "raw = BeautifulSoup(html, 'html.parser').get_text()\r\n",
    "tokens = word_tokenize(raw)\r\n",
    "tokens"
   ],
   "outputs": [
    {
     "output_type": "execute_result",
     "data": {
      "text/plain": [
       "['BBC',\n",
       " 'NEWS',\n",
       " '|',\n",
       " 'Health',\n",
       " '|',\n",
       " 'Blondes',\n",
       " \"'to\",\n",
       " 'die',\n",
       " 'out',\n",
       " 'in',\n",
       " '200',\n",
       " \"years'\",\n",
       " 'NEWS',\n",
       " 'SPORT',\n",
       " 'WEATHER',\n",
       " 'WORLD',\n",
       " 'SERVICE',\n",
       " 'A-Z',\n",
       " 'INDEX',\n",
       " 'SEARCH',\n",
       " 'You',\n",
       " 'are',\n",
       " 'in',\n",
       " ':',\n",
       " 'Health',\n",
       " 'News',\n",
       " 'Front',\n",
       " 'Page',\n",
       " 'Africa',\n",
       " 'Americas',\n",
       " 'Asia-Pacific',\n",
       " 'Europe',\n",
       " 'Middle',\n",
       " 'East',\n",
       " 'South',\n",
       " 'Asia',\n",
       " 'UK',\n",
       " 'Business',\n",
       " 'Entertainment',\n",
       " 'Science/Nature',\n",
       " 'Technology',\n",
       " 'Health',\n",
       " 'Medical',\n",
       " 'notes',\n",
       " '--',\n",
       " '--',\n",
       " '--',\n",
       " '--',\n",
       " '--',\n",
       " '--',\n",
       " '-',\n",
       " 'Talking',\n",
       " 'Point',\n",
       " '--',\n",
       " '--',\n",
       " '--',\n",
       " '--',\n",
       " '--',\n",
       " '--',\n",
       " '-',\n",
       " 'Country',\n",
       " 'Profiles',\n",
       " 'In',\n",
       " 'Depth',\n",
       " '--',\n",
       " '--',\n",
       " '--',\n",
       " '--',\n",
       " '--',\n",
       " '--',\n",
       " '-',\n",
       " 'Programmes',\n",
       " '--',\n",
       " '--',\n",
       " '--',\n",
       " '--',\n",
       " '--',\n",
       " '--',\n",
       " '-',\n",
       " 'SERVICES',\n",
       " 'Daily',\n",
       " 'E-mail',\n",
       " 'News',\n",
       " 'Ticker',\n",
       " 'Mobile/PDAs',\n",
       " '--',\n",
       " '--',\n",
       " '--',\n",
       " '--',\n",
       " '--',\n",
       " '--',\n",
       " '-',\n",
       " 'Text',\n",
       " 'Only',\n",
       " 'Feedback',\n",
       " 'Help',\n",
       " 'EDITIONS',\n",
       " 'Change',\n",
       " 'to',\n",
       " 'UK',\n",
       " 'Friday',\n",
       " ',',\n",
       " '27',\n",
       " 'September',\n",
       " ',',\n",
       " '2002',\n",
       " ',',\n",
       " '11:51',\n",
       " 'GMT',\n",
       " '12:51',\n",
       " 'UK',\n",
       " 'Blondes',\n",
       " \"'to\",\n",
       " 'die',\n",
       " 'out',\n",
       " 'in',\n",
       " '200',\n",
       " \"years'\",\n",
       " 'Scientists',\n",
       " 'believe',\n",
       " 'the',\n",
       " 'last',\n",
       " 'blondes',\n",
       " 'will',\n",
       " 'be',\n",
       " 'in',\n",
       " 'Finland',\n",
       " 'The',\n",
       " 'last',\n",
       " 'natural',\n",
       " 'blondes',\n",
       " 'will',\n",
       " 'die',\n",
       " 'out',\n",
       " 'within',\n",
       " '200',\n",
       " 'years',\n",
       " ',',\n",
       " 'scientists',\n",
       " 'believe',\n",
       " '.',\n",
       " 'A',\n",
       " 'study',\n",
       " 'by',\n",
       " 'experts',\n",
       " 'in',\n",
       " 'Germany',\n",
       " 'suggests',\n",
       " 'people',\n",
       " 'with',\n",
       " 'blonde',\n",
       " 'hair',\n",
       " 'are',\n",
       " 'an',\n",
       " 'endangered',\n",
       " 'species',\n",
       " 'and',\n",
       " 'will',\n",
       " 'become',\n",
       " 'extinct',\n",
       " 'by',\n",
       " '2202',\n",
       " '.',\n",
       " 'Researchers',\n",
       " 'predict',\n",
       " 'the',\n",
       " 'last',\n",
       " 'truly',\n",
       " 'natural',\n",
       " 'blonde',\n",
       " 'will',\n",
       " 'be',\n",
       " 'born',\n",
       " 'in',\n",
       " 'Finland',\n",
       " '-',\n",
       " 'the',\n",
       " 'country',\n",
       " 'with',\n",
       " 'the',\n",
       " 'highest',\n",
       " 'proportion',\n",
       " 'of',\n",
       " 'blondes',\n",
       " '.',\n",
       " 'The',\n",
       " 'frequency',\n",
       " 'of',\n",
       " 'blondes',\n",
       " 'may',\n",
       " 'drop',\n",
       " 'but',\n",
       " 'they',\n",
       " 'wo',\n",
       " \"n't\",\n",
       " 'disappear',\n",
       " 'Prof',\n",
       " 'Jonathan',\n",
       " 'Rees',\n",
       " ',',\n",
       " 'University',\n",
       " 'of',\n",
       " 'Edinburgh',\n",
       " 'But',\n",
       " 'they',\n",
       " 'say',\n",
       " 'too',\n",
       " 'few',\n",
       " 'people',\n",
       " 'now',\n",
       " 'carry',\n",
       " 'the',\n",
       " 'gene',\n",
       " 'for',\n",
       " 'blondes',\n",
       " 'to',\n",
       " 'last',\n",
       " 'beyond',\n",
       " 'the',\n",
       " 'next',\n",
       " 'two',\n",
       " 'centuries',\n",
       " '.',\n",
       " 'The',\n",
       " 'problem',\n",
       " 'is',\n",
       " 'that',\n",
       " 'blonde',\n",
       " 'hair',\n",
       " 'is',\n",
       " 'caused',\n",
       " 'by',\n",
       " 'a',\n",
       " 'recessive',\n",
       " 'gene',\n",
       " '.',\n",
       " 'In',\n",
       " 'order',\n",
       " 'for',\n",
       " 'a',\n",
       " 'child',\n",
       " 'to',\n",
       " 'have',\n",
       " 'blonde',\n",
       " 'hair',\n",
       " ',',\n",
       " 'it',\n",
       " 'must',\n",
       " 'have',\n",
       " 'the',\n",
       " 'gene',\n",
       " 'on',\n",
       " 'both',\n",
       " 'sides',\n",
       " 'of',\n",
       " 'the',\n",
       " 'family',\n",
       " 'in',\n",
       " 'the',\n",
       " 'grandparents',\n",
       " \"'\",\n",
       " 'generation',\n",
       " '.',\n",
       " 'Dyed',\n",
       " 'rivals',\n",
       " 'The',\n",
       " 'researchers',\n",
       " 'also',\n",
       " 'believe',\n",
       " 'that',\n",
       " 'so-called',\n",
       " 'bottle',\n",
       " 'blondes',\n",
       " 'may',\n",
       " 'be',\n",
       " 'to',\n",
       " 'blame',\n",
       " 'for',\n",
       " 'the',\n",
       " 'demise',\n",
       " 'of',\n",
       " 'their',\n",
       " 'natural',\n",
       " 'rivals',\n",
       " '.',\n",
       " 'They',\n",
       " 'suggest',\n",
       " 'that',\n",
       " 'dyed-blondes',\n",
       " 'are',\n",
       " 'more',\n",
       " 'attractive',\n",
       " 'to',\n",
       " 'men',\n",
       " 'who',\n",
       " 'choose',\n",
       " 'them',\n",
       " 'as',\n",
       " 'partners',\n",
       " 'over',\n",
       " 'true',\n",
       " 'blondes',\n",
       " '.',\n",
       " 'Bottle-blondes',\n",
       " 'like',\n",
       " 'Ann',\n",
       " 'Widdecombe',\n",
       " 'may',\n",
       " 'be',\n",
       " 'to',\n",
       " 'blame',\n",
       " 'But',\n",
       " 'Jonathan',\n",
       " 'Rees',\n",
       " ',',\n",
       " 'professor',\n",
       " 'of',\n",
       " 'dermatology',\n",
       " 'at',\n",
       " 'the',\n",
       " 'University',\n",
       " 'of',\n",
       " 'Edinburgh',\n",
       " 'said',\n",
       " 'it',\n",
       " 'was',\n",
       " 'unlikely',\n",
       " 'blondes',\n",
       " 'would',\n",
       " 'die',\n",
       " 'out',\n",
       " 'completely',\n",
       " '.',\n",
       " '``',\n",
       " 'Genes',\n",
       " 'do',\n",
       " \"n't\",\n",
       " 'die',\n",
       " 'out',\n",
       " 'unless',\n",
       " 'there',\n",
       " 'is',\n",
       " 'a',\n",
       " 'disadvantage',\n",
       " 'of',\n",
       " 'having',\n",
       " 'that',\n",
       " 'gene',\n",
       " 'or',\n",
       " 'by',\n",
       " 'chance',\n",
       " '.',\n",
       " 'They',\n",
       " 'do',\n",
       " \"n't\",\n",
       " 'disappear',\n",
       " ',',\n",
       " \"''\",\n",
       " 'he',\n",
       " 'told',\n",
       " 'BBC',\n",
       " 'News',\n",
       " 'Online',\n",
       " '.',\n",
       " '``',\n",
       " 'The',\n",
       " 'only',\n",
       " 'reason',\n",
       " 'blondes',\n",
       " 'would',\n",
       " 'disappear',\n",
       " 'is',\n",
       " 'if',\n",
       " 'having',\n",
       " 'the',\n",
       " 'gene',\n",
       " 'was',\n",
       " 'a',\n",
       " 'disadvantage',\n",
       " 'and',\n",
       " 'I',\n",
       " 'do',\n",
       " 'not',\n",
       " 'think',\n",
       " 'that',\n",
       " 'is',\n",
       " 'the',\n",
       " 'case',\n",
       " '.',\n",
       " '``',\n",
       " 'The',\n",
       " 'frequency',\n",
       " 'of',\n",
       " 'blondes',\n",
       " 'may',\n",
       " 'drop',\n",
       " 'but',\n",
       " 'they',\n",
       " 'wo',\n",
       " \"n't\",\n",
       " 'disappear',\n",
       " '.',\n",
       " \"''\",\n",
       " 'See',\n",
       " 'also',\n",
       " ':',\n",
       " '28',\n",
       " 'Mar',\n",
       " '01',\n",
       " '|',\n",
       " 'Education',\n",
       " 'What',\n",
       " 'is',\n",
       " 'it',\n",
       " 'about',\n",
       " 'blondes',\n",
       " '?',\n",
       " '09',\n",
       " 'Apr',\n",
       " '99',\n",
       " '|',\n",
       " 'Health',\n",
       " 'Platinum',\n",
       " 'blondes',\n",
       " 'are',\n",
       " 'labelled',\n",
       " 'as',\n",
       " 'dumb',\n",
       " '17',\n",
       " 'Apr',\n",
       " '02',\n",
       " '|',\n",
       " 'Health',\n",
       " 'Hair',\n",
       " 'dye',\n",
       " 'cancer',\n",
       " 'alert',\n",
       " 'Internet',\n",
       " 'links',\n",
       " ':',\n",
       " 'University',\n",
       " 'of',\n",
       " 'Edinburgh',\n",
       " 'The',\n",
       " 'BBC',\n",
       " 'is',\n",
       " 'not',\n",
       " 'responsible',\n",
       " 'for',\n",
       " 'the',\n",
       " 'content',\n",
       " 'of',\n",
       " 'external',\n",
       " 'internet',\n",
       " 'sites',\n",
       " 'Top',\n",
       " 'Health',\n",
       " 'stories',\n",
       " 'now',\n",
       " ':',\n",
       " 'Heart',\n",
       " 'risk',\n",
       " 'link',\n",
       " 'to',\n",
       " 'big',\n",
       " 'families',\n",
       " 'Back',\n",
       " 'pain',\n",
       " 'drug',\n",
       " \"'may\",\n",
       " 'aid',\n",
       " \"diabetics'\",\n",
       " 'Congo',\n",
       " 'Ebola',\n",
       " 'outbreak',\n",
       " 'confirmed',\n",
       " 'Vegetables',\n",
       " 'ward',\n",
       " 'off',\n",
       " \"Alzheimer's\",\n",
       " 'Polio',\n",
       " 'campaign',\n",
       " 'launched',\n",
       " 'in',\n",
       " 'Iraq',\n",
       " 'Gene',\n",
       " 'defect',\n",
       " 'explains',\n",
       " 'high',\n",
       " 'blood',\n",
       " 'pressure',\n",
       " 'Botox',\n",
       " \"'may\",\n",
       " 'cause',\n",
       " 'new',\n",
       " \"wrinkles'\",\n",
       " 'Alien',\n",
       " \"'abductees\",\n",
       " \"'\",\n",
       " 'show',\n",
       " 'real',\n",
       " 'symptoms',\n",
       " 'Links',\n",
       " 'to',\n",
       " 'more',\n",
       " 'Health',\n",
       " 'stories',\n",
       " 'are',\n",
       " 'at',\n",
       " 'the',\n",
       " 'foot',\n",
       " 'of',\n",
       " 'the',\n",
       " 'page',\n",
       " '.',\n",
       " 'E-mail',\n",
       " 'this',\n",
       " 'story',\n",
       " 'to',\n",
       " 'a',\n",
       " 'friend',\n",
       " 'Links',\n",
       " 'to',\n",
       " 'more',\n",
       " 'Health',\n",
       " 'stories',\n",
       " 'In',\n",
       " 'This',\n",
       " 'Section',\n",
       " 'Heart',\n",
       " 'risk',\n",
       " 'link',\n",
       " 'to',\n",
       " 'big',\n",
       " 'families',\n",
       " 'Back',\n",
       " 'pain',\n",
       " 'drug',\n",
       " \"'may\",\n",
       " 'aid',\n",
       " \"diabetics'\",\n",
       " 'Congo',\n",
       " 'Ebola',\n",
       " 'outbreak',\n",
       " 'confirmed',\n",
       " 'Vegetables',\n",
       " 'ward',\n",
       " 'off',\n",
       " \"Alzheimer's\",\n",
       " 'Polio',\n",
       " 'campaign',\n",
       " 'launched',\n",
       " 'in',\n",
       " 'Iraq',\n",
       " 'Gene',\n",
       " 'defect',\n",
       " 'explains',\n",
       " 'high',\n",
       " 'blood',\n",
       " 'pressure',\n",
       " 'Botox',\n",
       " \"'may\",\n",
       " 'cause',\n",
       " 'new',\n",
       " \"wrinkles'\",\n",
       " 'Alien',\n",
       " \"'abductees\",\n",
       " \"'\",\n",
       " 'show',\n",
       " 'real',\n",
       " 'symptoms',\n",
       " 'How',\n",
       " 'sperm',\n",
       " 'wriggle',\n",
       " 'Bollywood',\n",
       " 'told',\n",
       " 'to',\n",
       " 'stub',\n",
       " 'it',\n",
       " 'out',\n",
       " 'Fears',\n",
       " 'over',\n",
       " 'tuna',\n",
       " 'health',\n",
       " 'risk',\n",
       " 'to',\n",
       " 'babies',\n",
       " 'Public',\n",
       " 'can',\n",
       " 'be',\n",
       " 'taught',\n",
       " 'to',\n",
       " 'spot',\n",
       " 'strokes',\n",
       " '^^',\n",
       " 'Back',\n",
       " 'to',\n",
       " 'top',\n",
       " 'News',\n",
       " 'Front',\n",
       " 'Page',\n",
       " '|',\n",
       " 'Africa',\n",
       " '|',\n",
       " 'Americas',\n",
       " '|',\n",
       " 'Asia-Pacific',\n",
       " '|',\n",
       " 'Europe',\n",
       " '|',\n",
       " 'Middle',\n",
       " 'East',\n",
       " '|',\n",
       " 'South',\n",
       " 'Asia',\n",
       " '|',\n",
       " 'UK',\n",
       " '|',\n",
       " 'Business',\n",
       " '|',\n",
       " 'Entertainment',\n",
       " '|',\n",
       " 'Science/Nature',\n",
       " '|',\n",
       " 'Technology',\n",
       " '|',\n",
       " 'Health',\n",
       " '|',\n",
       " 'Talking',\n",
       " 'Point',\n",
       " '|',\n",
       " 'Country',\n",
       " 'Profiles',\n",
       " '|',\n",
       " 'In',\n",
       " 'Depth',\n",
       " '|',\n",
       " 'Programmes',\n",
       " '--',\n",
       " '--',\n",
       " '--',\n",
       " '--',\n",
       " '--',\n",
       " '--',\n",
       " '--',\n",
       " '--',\n",
       " '--',\n",
       " '--',\n",
       " '--',\n",
       " '--',\n",
       " '--',\n",
       " '--',\n",
       " '--',\n",
       " '--',\n",
       " '--',\n",
       " '--',\n",
       " '--',\n",
       " '--',\n",
       " '--',\n",
       " '--',\n",
       " '--',\n",
       " '--',\n",
       " '--',\n",
       " '--',\n",
       " '--',\n",
       " '--',\n",
       " '--',\n",
       " '--',\n",
       " '--',\n",
       " '--',\n",
       " '--',\n",
       " '--',\n",
       " '--',\n",
       " '--',\n",
       " '--',\n",
       " '--',\n",
       " '--',\n",
       " '--',\n",
       " '--',\n",
       " 'To',\n",
       " 'BBC',\n",
       " 'Sport',\n",
       " '>',\n",
       " '>',\n",
       " '|',\n",
       " 'To',\n",
       " 'BBC',\n",
       " 'Weather',\n",
       " '>',\n",
       " '>',\n",
       " '|',\n",
       " 'To',\n",
       " 'BBC',\n",
       " 'World',\n",
       " 'Service',\n",
       " '>',\n",
       " '>',\n",
       " '--',\n",
       " '--',\n",
       " '--',\n",
       " '--',\n",
       " '--',\n",
       " '--',\n",
       " '--',\n",
       " '--',\n",
       " '--',\n",
       " '--',\n",
       " '--',\n",
       " '--',\n",
       " '--',\n",
       " '--',\n",
       " '--',\n",
       " '--',\n",
       " '--',\n",
       " '--',\n",
       " '--',\n",
       " '--',\n",
       " '--',\n",
       " '--',\n",
       " '--',\n",
       " '--',\n",
       " '--',\n",
       " '--',\n",
       " '--',\n",
       " '--',\n",
       " '--',\n",
       " '--',\n",
       " '--',\n",
       " '--',\n",
       " '--',\n",
       " '--',\n",
       " '--',\n",
       " '--',\n",
       " '--',\n",
       " '--',\n",
       " '--',\n",
       " '--',\n",
       " '--',\n",
       " '©',\n",
       " 'MMIII',\n",
       " '|',\n",
       " 'News',\n",
       " 'Sources',\n",
       " '|',\n",
       " 'Privacy']"
      ]
     },
     "metadata": {},
     "execution_count": 16
    }
   ],
   "metadata": {}
  },
  {
   "cell_type": "markdown",
   "source": [
    "This still contains unwanted material concerning site navigation and related stories. With some trial and error you can find the start and end indexes of the content and select the tokens of interest, and initialize a text as before."
   ],
   "metadata": {}
  },
  {
   "cell_type": "code",
   "execution_count": 17,
   "source": [
    "tokens = tokens[110:390]\r\n",
    "text = nltk.Text(tokens)\r\n",
    "text.concordance('gene')"
   ],
   "outputs": [
    {
     "output_type": "stream",
     "name": "stdout",
     "text": [
      "Displaying 5 of 5 matches:\n",
      "hey say too few people now carry the gene for blondes to last beyond the next \n",
      "blonde hair is caused by a recessive gene . In order for a child to have blond\n",
      " have blonde hair , it must have the gene on both sides of the family in the g\n",
      "ere is a disadvantage of having that gene or by chance . They do n't disappear\n",
      "des would disappear is if having the gene was a disadvantage and I do not thin\n"
     ]
    }
   ],
   "metadata": {}
  },
  {
   "cell_type": "markdown",
   "source": [
    "### Processing Search Engine Results\r\n",
    "\r\n",
    "The web can be thought of as a huge corpus of unannotated text. Web search engines provide an efficient means of searching this large quantity of text for relevant linguistic examples. The main advantage of search engines is size: since you are searching such a large set of documents, you are more likely to find any linguistic pattern you are interested in. Furthermore, you can make use of very specific patterns, which would only match one or two examples on a smaller corpus, but which might match tens of thousands of examples when run on the web. A second advantage of web search engines is that they are very easy to use. Thus, they provide a very convenient tool for quickly checking a theory, to see if it is reasonable.\r\n",
    "\r\n",
    "*Google Hits for Collocations: The number of hits for collocations involving the words absolutely or definitely, followed by one of adore, love, like, or prefer.*\r\n",
    "\r\n",
    "|Google hits \t|*adore* \t|*love* \t|*like* \t|*prefer*|\r\n",
    "|:-|-:|-:|-:|-:|\r\n",
    "|*absolutely* \t|289,000 \t|905,000 \t|16,200 \t|644|\r\n",
    "|*definitely* \t|1,460 \t|51,000 \t|158,000 \t|62,600|\r\n",
    "|ratio \t|198:1 \t|18:1 \t|1:10 \t|1:97|\r\n",
    "\r\n",
    "Unfortunately, search engines have some significant shortcomings. First, the allowable range of search patterns is severely restricted. Unlike local corpora, where you write programs to search for arbitrarily complex patterns, search engines generally only allow you to search for individual words or strings of words, sometimes with wildcards. Second, search engines give inconsistent results, and can give widely different figures when used at different times or in different geographical regions. When content has been duplicated across multiple sites, search results may be boosted. Finally, the markup in the result returned by a search engine may change unpredictably, breaking any pattern-based method of locating particular content (a problem which is ameliorated by the use of search engine APIs)."
   ],
   "metadata": {}
  },
  {
   "cell_type": "markdown",
   "source": [
    "### Processing RSS Feeds\n",
    "\n",
    "The blogosphere is an important source of text, in both formal and informal registers. With the help of a Python library called the *Universal Feed Parser*, available from https://pypi.python.org/pypi/feedparser, we can access the content of a blog, as shown below:"
   ],
   "metadata": {}
  },
  {
   "cell_type": "code",
   "execution_count": 18,
   "source": [
    "import feedparser\r\n",
    "llog = feedparser.parse(\"http://languagelog.ldc.upenn.edu/nll/?feed=atom\")\r\n",
    "llog['feed']['title']"
   ],
   "outputs": [
    {
     "output_type": "execute_result",
     "data": {
      "text/plain": [
       "'Language Log'"
      ]
     },
     "metadata": {},
     "execution_count": 18
    }
   ],
   "metadata": {}
  },
  {
   "cell_type": "code",
   "execution_count": 19,
   "source": [
    "len(llog.entries)"
   ],
   "outputs": [
    {
     "output_type": "execute_result",
     "data": {
      "text/plain": [
       "13"
      ]
     },
     "metadata": {},
     "execution_count": 19
    }
   ],
   "metadata": {}
  },
  {
   "cell_type": "code",
   "execution_count": 20,
   "source": [
    "post = llog.entries[2]\r\n",
    "post.title"
   ],
   "outputs": [
    {
     "output_type": "execute_result",
     "data": {
      "text/plain": [
       "'Speaking Taiwanese as a Second Language in Taiwan'"
      ]
     },
     "metadata": {},
     "execution_count": 20
    }
   ],
   "metadata": {}
  },
  {
   "cell_type": "code",
   "execution_count": 21,
   "source": [
    "content = post.content[0].value\r\n",
    "content[:70]"
   ],
   "outputs": [
    {
     "output_type": "execute_result",
     "data": {
      "text/plain": [
       "'<p>Provocative Twitter thread:</p>\\n<p><blockquote class=\"twitter-tweet'"
      ]
     },
     "metadata": {},
     "execution_count": 21
    }
   ],
   "metadata": {}
  },
  {
   "cell_type": "code",
   "execution_count": 22,
   "source": [
    "raw = BeautifulSoup(content, 'html.parser').get_text()\r\n",
    "word_tokenize(raw)"
   ],
   "outputs": [
    {
     "output_type": "execute_result",
     "data": {
      "text/plain": [
       "['Provocative',\n",
       " 'Twitter',\n",
       " 'thread',\n",
       " ':',\n",
       " 'I',\n",
       " 'wanted',\n",
       " 'to',\n",
       " 'write',\n",
       " 'a',\n",
       " 'thread',\n",
       " 'documenting',\n",
       " 'my',\n",
       " 'experiences',\n",
       " 'as',\n",
       " 'a',\n",
       " 'millennial',\n",
       " 'Taiwanese-American',\n",
       " 'woman',\n",
       " 'speaking',\n",
       " 'Taiwanese',\n",
       " '台語',\n",
       " 'in',\n",
       " 'northern',\n",
       " 'Taiwan',\n",
       " '–',\n",
       " 'outside',\n",
       " 'the',\n",
       " 'family',\n",
       " ',',\n",
       " 'with',\n",
       " 'a',\n",
       " 'foreign',\n",
       " 'accent',\n",
       " '–',\n",
       " 'and',\n",
       " 'why',\n",
       " 'I',\n",
       " 'am',\n",
       " 'adamant',\n",
       " 'the',\n",
       " 'ROC',\n",
       " 'is',\n",
       " 'a',\n",
       " 'colonial',\n",
       " 'state',\n",
       " 'for',\n",
       " 'robbing',\n",
       " 'people',\n",
       " 'of',\n",
       " 'their',\n",
       " 'mother',\n",
       " 'languages',\n",
       " '1/—',\n",
       " 'Catie',\n",
       " 'Lilly',\n",
       " '(',\n",
       " '@',\n",
       " 'catielila',\n",
       " ')',\n",
       " 'September',\n",
       " '28',\n",
       " ',',\n",
       " '2021',\n",
       " 'The',\n",
       " 'lengthy',\n",
       " 'thread',\n",
       " 'goes',\n",
       " 'on',\n",
       " 'to',\n",
       " 'describe',\n",
       " 'various',\n",
       " 'people',\n",
       " \"'s\",\n",
       " 'reactions',\n",
       " 'to',\n",
       " 'her',\n",
       " 'speaking',\n",
       " 'Taiwanese',\n",
       " 'to',\n",
       " 'them',\n",
       " 'as',\n",
       " 'well',\n",
       " 'as',\n",
       " 'the',\n",
       " 'writer',\n",
       " \"'s\",\n",
       " 'own',\n",
       " 'thoughts',\n",
       " '.',\n",
       " 'It',\n",
       " 'takes',\n",
       " 'into',\n",
       " 'account',\n",
       " 'the',\n",
       " 'cultural',\n",
       " ',',\n",
       " 'economic',\n",
       " ',',\n",
       " 'political',\n",
       " ',',\n",
       " 'and',\n",
       " 'linguistic',\n",
       " 'dimensions',\n",
       " 'of',\n",
       " 'the',\n",
       " 'problem',\n",
       " '.',\n",
       " 'Highly',\n",
       " 'recommended',\n",
       " 'for',\n",
       " 'anyone',\n",
       " 'who',\n",
       " 'is',\n",
       " 'interested',\n",
       " 'in',\n",
       " 'the',\n",
       " 'future',\n",
       " 'of',\n",
       " 'Taiwanese',\n",
       " 'or',\n",
       " ',',\n",
       " 'for',\n",
       " 'that',\n",
       " 'matter',\n",
       " ',',\n",
       " 'the',\n",
       " 'future',\n",
       " 'of',\n",
       " 'local',\n",
       " 'languages',\n",
       " 'everywhere',\n",
       " '.',\n",
       " 'Selected',\n",
       " 'readings',\n",
       " \"''\",\n",
       " 'The',\n",
       " 'pain',\n",
       " 'of',\n",
       " 'forgetting',\n",
       " 'one',\n",
       " \"'s\",\n",
       " 'mother',\n",
       " '/',\n",
       " 'father',\n",
       " 'tongue',\n",
       " \"''\",\n",
       " '(',\n",
       " '9/4/21',\n",
       " ')',\n",
       " \"''\",\n",
       " 'Hong',\n",
       " 'Kong',\n",
       " 'Cantonese',\n",
       " 'in',\n",
       " 'jeopardy',\n",
       " \"''\",\n",
       " '(',\n",
       " '9/1921',\n",
       " ')',\n",
       " \"''\",\n",
       " 'The',\n",
       " 'Future',\n",
       " 'of',\n",
       " 'Cantonese',\n",
       " \"''\",\n",
       " '(',\n",
       " '5/27/18',\n",
       " ')',\n",
       " \"''\",\n",
       " 'The',\n",
       " 'future',\n",
       " 'of',\n",
       " 'Cantonese',\n",
       " ',',\n",
       " 'part',\n",
       " '2',\n",
       " \"''\",\n",
       " '(',\n",
       " '6/10/18',\n",
       " ')',\n",
       " \"''\",\n",
       " 'Mother',\n",
       " 'Tongue',\n",
       " ':',\n",
       " 'lost',\n",
       " 'and',\n",
       " 'found',\n",
       " \"''\",\n",
       " '(',\n",
       " '12/15/14',\n",
       " ')',\n",
       " \"''\",\n",
       " 'On',\n",
       " 'not',\n",
       " 'speaking',\n",
       " 'Taiwanese',\n",
       " \"''\",\n",
       " '(',\n",
       " '12/2/18',\n",
       " ')',\n",
       " 'Victor',\n",
       " 'H.',\n",
       " 'Mair',\n",
       " ',',\n",
       " '``',\n",
       " 'How',\n",
       " 'to',\n",
       " 'Forget',\n",
       " 'Your',\n",
       " 'Mother',\n",
       " 'Tongue',\n",
       " 'and',\n",
       " 'Remember',\n",
       " 'Your',\n",
       " 'National',\n",
       " 'Language',\n",
       " \"''\",\n",
       " '(',\n",
       " '2003',\n",
       " ')',\n",
       " '[',\n",
       " 'Thanks',\n",
       " 'to',\n",
       " 'Ciarán',\n",
       " ']']"
      ]
     },
     "metadata": {},
     "execution_count": 22
    }
   ],
   "metadata": {}
  },
  {
   "cell_type": "markdown",
   "source": [
    "With some further work, we can write programs to create a small corpus of blog posts, and use this as the basis for our NLP work."
   ],
   "metadata": {}
  },
  {
   "cell_type": "markdown",
   "source": [
    "### Reading Local Files\n",
    "\n",
    "In order to read a local file, we need to use Python's built-in `open()` function, followed by the `read()` method. Suppose you have a file `document.txt`, you can load its contents like this:"
   ],
   "metadata": {}
  },
  {
   "cell_type": "code",
   "execution_count": null,
   "source": [
    "f = open('document.txt')\r\n",
    "raw = f.read()\r\n",
    "raw"
   ],
   "outputs": [],
   "metadata": {}
  },
  {
   "cell_type": "markdown",
   "source": [
    "The `read()` method creates a string with the contents of the entire file. Recall that the `'\\n'` characters are **newlines**; this is equivalent to pressing *Enter* on a keyboard and starting a new line.\n",
    "\n",
    "We can also read a file one line at a time using a `for` loop:"
   ],
   "metadata": {}
  },
  {
   "cell_type": "code",
   "execution_count": null,
   "source": [
    "f = open('document.txt')\r\n",
    "for line in f:\r\n",
    "    print(line.strip())"
   ],
   "outputs": [],
   "metadata": {}
  },
  {
   "cell_type": "markdown",
   "source": [
    "Here we use the `strip()` method to remove the newline character at the end of the input line.\n",
    "\n",
    "NLTK's corpus files can also be accessed using these methods. We simply have to use `nltk.data.find()` to get the filename for any corpus item. Then we can open and read it in the way we just demonstrated above:"
   ],
   "metadata": {}
  },
  {
   "cell_type": "code",
   "execution_count": null,
   "source": [
    "path = nltk.data.find('corpora/gutenberg/melville-moby_dick.txt')\r\n",
    "open(path).read()"
   ],
   "outputs": [],
   "metadata": {}
  },
  {
   "cell_type": "markdown",
   "source": [
    "### Capturing User Input\n",
    "\n",
    "Sometimes we want to capture the text that a user inputs when she is interacting with our program. To prompt the user to type a line of input, call the Python function `input()`. After saving the input to a variable, we can manipulate it just as we have done for other strings.\n",
    "  \t"
   ],
   "metadata": {}
  },
  {
   "cell_type": "code",
   "execution_count": null,
   "source": [
    "#s = input(\"Enter some text: \")\r\n",
    "#print(\"You typed\", len(word_tokenize(s)), \"words.\")"
   ],
   "outputs": [],
   "metadata": {}
  },
  {
   "cell_type": "markdown",
   "source": [
    "### The NLP Pipeline\n",
    "\n",
    "The following figure summarizes what we have covered in this section, including the process of building a vocabulary that we saw in Chapter 1. (One step, normalization, will be discussed in Section 3.6.)\n",
    "\n",
    "<img src='images/pipeline1.png' width='600'/>\n",
    "\n",
    "*The Processing Pipeline: We open a URL and read its HTML content, remove the markup and select a slice of characters; this is then tokenized and optionally converted into an `nltk.Text` object; we can also lowercase all the words and extract the vocabulary.*\n",
    "\n",
    "There's a lot going on in this pipeline. To understand it properly, it helps to be clear about the type of each variable that it mentions. We find out the type of any Python object `x` using `type(x)`, e.g. `type(1)` is `<int>` since `1` is an integer.\n",
    "\n",
    "When we load the contents of a URL or file, and when we strip out HTML markup, we are dealing with strings, Python's `<str>` data type. (We will learn more about strings in Section 3.2):"
   ],
   "metadata": {}
  },
  {
   "cell_type": "code",
   "execution_count": null,
   "source": [
    "raw = open('document.txt').read()\r\n",
    "type(raw)"
   ],
   "outputs": [],
   "metadata": {}
  },
  {
   "cell_type": "markdown",
   "source": [
    "When we tokenize a string we produce a list (of words), and this is Python's `<list>` type. Normalizing and sorting lists produces other lists:"
   ],
   "metadata": {}
  },
  {
   "cell_type": "code",
   "execution_count": null,
   "source": [
    "tokens = word_tokenize(raw)\r\n",
    "type(tokens)"
   ],
   "outputs": [],
   "metadata": {}
  },
  {
   "cell_type": "code",
   "execution_count": null,
   "source": [
    "words = [w.lower() for w in tokens]\r\n",
    "type(words)"
   ],
   "outputs": [],
   "metadata": {}
  },
  {
   "cell_type": "code",
   "execution_count": null,
   "source": [
    "vocab = sorted(set(words))\r\n",
    "type(vocab)"
   ],
   "outputs": [],
   "metadata": {}
  },
  {
   "cell_type": "markdown",
   "source": [
    "The type of an object determines what operations you can perform on it. So, for example, we can append to a list but not to a string:"
   ],
   "metadata": {}
  },
  {
   "cell_type": "code",
   "execution_count": null,
   "source": [
    "vocab.append('blog')\r\n",
    "#raw.append('blog')"
   ],
   "outputs": [],
   "metadata": {}
  },
  {
   "cell_type": "markdown",
   "source": [
    "Similarly, we can concatenate strings with strings, and lists with lists, but we cannot concatenate strings with lists:"
   ],
   "metadata": {}
  },
  {
   "cell_type": "code",
   "execution_count": null,
   "source": [
    "query = 'Who knows?'\r\n",
    "beatles = ['john', 'paul', 'george', 'ringo']\r\n",
    "#query + beatles"
   ],
   "outputs": [],
   "metadata": {}
  },
  {
   "cell_type": "markdown",
   "source": [
    "## 3.2   Strings: Text Processing at the Lowest Level\n",
    "\n",
    "It's time to examine a fundamental data type that we've been studiously avoiding so far. In earlier chapters we focused on a text as a list of words. We didn't look too closely at words and how they are handled in the programming language. By using NLTK's corpus interface we were able to ignore the files that these texts had come from. The contents of a word, and of a file, are represented by programming languages as a fundamental data type known as a **string**. In this section we explore strings in detail, and show the connection between strings, words, texts and files.\n",
    "\n",
    "### Basic Operations with Strings\n",
    "\n",
    "Strings are specified using single quotes or double quotes, as shown below. If a string contains a single quote, we must backslash-escape the quote so Python knows a literal quote character is intended, or else put the string in double quotes. Otherwise, the quote inside the string will be interpreted as a close quote, and the Python interpreter will report a syntax error:"
   ],
   "metadata": {}
  },
  {
   "cell_type": "code",
   "execution_count": 30,
   "source": [
    "monty = 'Monty Python'\r\n",
    "monty"
   ],
   "outputs": [
    {
     "output_type": "execute_result",
     "data": {
      "text/plain": [
       "'Monty Python'"
      ]
     },
     "metadata": {},
     "execution_count": 30
    }
   ],
   "metadata": {}
  },
  {
   "cell_type": "code",
   "execution_count": null,
   "source": [
    "circus = \"Monty Python's Flying Circus\"\r\n",
    "circus"
   ],
   "outputs": [],
   "metadata": {}
  },
  {
   "cell_type": "code",
   "execution_count": null,
   "source": [
    "circus = 'Monty Python\\'s Flying Circus'\r\n",
    "circus"
   ],
   "outputs": [],
   "metadata": {}
  },
  {
   "cell_type": "code",
   "execution_count": null,
   "source": [
    "#circus = 'Monty Python's Flying Circus'"
   ],
   "outputs": [],
   "metadata": {}
  },
  {
   "cell_type": "markdown",
   "source": [
    "Sometimes strings go over several lines. Python provides us with various ways of entering them. In the next example, a sequence of two strings is joined into a single string. We need to use backslash or parentheses so that the interpreter knows that the statement is not complete after the first line.  \t"
   ],
   "metadata": {}
  },
  {
   "cell_type": "code",
   "execution_count": 23,
   "source": [
    "couplet = \"Shall I compare thee to a Summer's day?\"\\\r\n",
    "            \"Thou are more lovely and more temperate:\"\r\n",
    "print(couplet)"
   ],
   "outputs": [
    {
     "output_type": "stream",
     "name": "stdout",
     "text": [
      "Shall I compare thee to a Summer's day?Thou are more lovely and more temperate:\n"
     ]
    }
   ],
   "metadata": {}
  },
  {
   "cell_type": "code",
   "execution_count": 24,
   "source": [
    "couplet = (\"Rough winds do shake the darling buds of May,\"\r\n",
    "           \"And Summer's lease hath all too short a date:\")\r\n",
    "print(couplet)"
   ],
   "outputs": [
    {
     "output_type": "stream",
     "name": "stdout",
     "text": [
      "Rough winds do shake the darling buds of May,And Summer's lease hath all too short a date:\n"
     ]
    }
   ],
   "metadata": {}
  },
  {
   "cell_type": "markdown",
   "source": [
    "Unfortunately the above methods do not give us a newline between the two lines of the sonnet. Instead, we can use a triple-quoted string as follows:  \t"
   ],
   "metadata": {}
  },
  {
   "cell_type": "code",
   "execution_count": 25,
   "source": [
    "couplet = \"\"\"Shall I compare thee to a Summer's day?\r\n",
    "Thou are more lovely and more temperate:\"\"\"\r\n",
    "print(couplet)"
   ],
   "outputs": [
    {
     "output_type": "stream",
     "name": "stdout",
     "text": [
      "Shall I compare thee to a Summer's day?\n",
      "Thou are more lovely and more temperate:\n"
     ]
    }
   ],
   "metadata": {}
  },
  {
   "cell_type": "code",
   "execution_count": 26,
   "source": [
    "couplet = '''Rough winds do shake the darling buds of May,\r\n",
    "And Summer's lease hath all too short a date:'''\r\n",
    "print(couplet)"
   ],
   "outputs": [
    {
     "output_type": "stream",
     "name": "stdout",
     "text": [
      "Rough winds do shake the darling buds of May,\n",
      "And Summer's lease hath all too short a date:\n"
     ]
    }
   ],
   "metadata": {}
  },
  {
   "cell_type": "markdown",
   "source": [
    "Now that we can define strings, we can try some simple operations on them. First let's look at the `+` operation, known as **concatenation**. It produces a new string that is a copy of the two original strings pasted together end-to-end. Notice that concatenation doesn't do anything clever like insert a space between the words. We can even multiply strings:"
   ],
   "metadata": {}
  },
  {
   "cell_type": "code",
   "execution_count": 27,
   "source": [
    "'very' + 'very' + 'very'"
   ],
   "outputs": [
    {
     "output_type": "execute_result",
     "data": {
      "text/plain": [
       "'veryveryvery'"
      ]
     },
     "metadata": {},
     "execution_count": 27
    }
   ],
   "metadata": {}
  },
  {
   "cell_type": "code",
   "execution_count": 28,
   "source": [
    "'very' * 3"
   ],
   "outputs": [
    {
     "output_type": "execute_result",
     "data": {
      "text/plain": [
       "'veryveryvery'"
      ]
     },
     "metadata": {},
     "execution_count": 28
    }
   ],
   "metadata": {}
  },
  {
   "cell_type": "markdown",
   "source": [
    "We've seen that the addition and multiplication operations apply to strings, not just numbers. However, note that we cannot use subtraction or division with strings:  \t"
   ],
   "metadata": {}
  },
  {
   "cell_type": "code",
   "execution_count": null,
   "source": [
    "#'very' - 'y'"
   ],
   "outputs": [],
   "metadata": {}
  },
  {
   "cell_type": "code",
   "execution_count": null,
   "source": [
    "#'very' / 2"
   ],
   "outputs": [],
   "metadata": {}
  },
  {
   "cell_type": "markdown",
   "source": [
    "These error messages are another example of Python telling us that we have got our data types in a muddle. In the first case, we are told that the operation of subtraction (i.e., `-`) cannot apply to objects of type `str` (strings), while in the second, we are told that division cannot take `str` and `int` as its two operands."
   ],
   "metadata": {}
  },
  {
   "cell_type": "markdown",
   "source": [
    "### Printing Strings\n",
    "\n",
    "So far, when we have wanted to look at the contents of a variable or see the result of a calculation, we have just typed the variable name into the interpreter. We can also see the contents of a variable using the `print` statement: "
   ],
   "metadata": {}
  },
  {
   "cell_type": "code",
   "execution_count": null,
   "source": [
    "print(monty)"
   ],
   "outputs": [],
   "metadata": {}
  },
  {
   "cell_type": "markdown",
   "source": [
    "Notice that there are no quotation marks this time. When we inspect a variable by typing its name in the interpreter, the interpreter prints the Python representation of its value. Since it's a string, the result is quoted. However, when we tell the interpreter to `print` the contents of the variable, we don't see quotation characters since there are none inside the string.\n",
    "\n",
    "The `print` statement allows us to display more than one item on a line in various ways, as shown below:"
   ],
   "metadata": {}
  },
  {
   "cell_type": "code",
   "execution_count": null,
   "source": [
    "grail = 'Holy Grail'\r\n",
    "print(monty + grail)\r\n",
    "print(monty, grail)\r\n",
    "print(monty, \"and the\", grail)"
   ],
   "outputs": [],
   "metadata": {}
  },
  {
   "cell_type": "markdown",
   "source": [
    "### Accessing Individual Characters\n",
    "\n",
    "As we saw in Chapter 1 for lists, strings are indexed, starting from zero. When we index a string, we get one of its characters (or letters). A single character is nothing special — it's just a string of length `1`."
   ],
   "metadata": {}
  },
  {
   "cell_type": "code",
   "execution_count": null,
   "source": [
    "monty[0]"
   ],
   "outputs": [],
   "metadata": {}
  },
  {
   "cell_type": "code",
   "execution_count": null,
   "source": [
    "monty[3]"
   ],
   "outputs": [],
   "metadata": {}
  },
  {
   "cell_type": "code",
   "execution_count": null,
   "source": [
    "monty[5]"
   ],
   "outputs": [],
   "metadata": {}
  },
  {
   "cell_type": "markdown",
   "source": [
    "As with lists, if we try to access an index that is outside of the string we get an error:"
   ],
   "metadata": {}
  },
  {
   "cell_type": "code",
   "execution_count": null,
   "source": [
    "#monty[20]"
   ],
   "outputs": [],
   "metadata": {}
  },
  {
   "cell_type": "markdown",
   "source": [
    "Again as with lists, we can use negative indexes for strings, where `-1` is the index of the last character. Positive and negative indexes give us two ways to refer to any position in a string. In this case, when the string had a length of 12, indexes `5` and `-7` both refer to the same character (a space). (Notice that `5 = len(monty) - 7`.)"
   ],
   "metadata": {}
  },
  {
   "cell_type": "code",
   "execution_count": 33,
   "source": [
    "monty[-1]"
   ],
   "outputs": [
    {
     "output_type": "execute_result",
     "data": {
      "text/plain": [
       "'Monty Python'"
      ]
     },
     "metadata": {},
     "execution_count": 33
    }
   ],
   "metadata": {}
  },
  {
   "cell_type": "code",
   "execution_count": 34,
   "source": [
    "monty[5]"
   ],
   "outputs": [
    {
     "output_type": "execute_result",
     "data": {
      "text/plain": [
       "' '"
      ]
     },
     "metadata": {},
     "execution_count": 34
    }
   ],
   "metadata": {}
  },
  {
   "cell_type": "code",
   "execution_count": 35,
   "source": [
    "monty[-7]"
   ],
   "outputs": [
    {
     "output_type": "execute_result",
     "data": {
      "text/plain": [
       "' '"
      ]
     },
     "metadata": {},
     "execution_count": 35
    }
   ],
   "metadata": {}
  },
  {
   "cell_type": "markdown",
   "source": [
    "We can write `for` loops to iterate over the characters in strings. This `print` function includes the optional `end=' '` parameter, which is how we tell Python to print a space instead of a newline at the end."
   ],
   "metadata": {}
  },
  {
   "cell_type": "code",
   "execution_count": 36,
   "source": [
    "sent = 'colorless green ideas sleep furiously'\r\n",
    "for char in sent:\r\n",
    "    print(char, end=' ')"
   ],
   "outputs": [
    {
     "output_type": "stream",
     "name": "stdout",
     "text": [
      "c o l o r l e s s   g r e e n   i d e a s   s l e e p   f u r i o u s l y "
     ]
    }
   ],
   "metadata": {}
  },
  {
   "cell_type": "markdown",
   "source": [
    "We can count individual characters as well. We should ignore the case distinction by normalizing everything to lowercase, and filter out non-alphabetic characters:"
   ],
   "metadata": {}
  },
  {
   "cell_type": "code",
   "execution_count": 37,
   "source": [
    "from nltk.corpus import gutenberg\r\n",
    "raw = gutenberg.raw('melville-moby_dick.txt')\r\n",
    "fdist = nltk.FreqDist(ch.lower() for ch in raw if ch.isalpha())\r\n",
    "fdist.most_common(5)"
   ],
   "outputs": [
    {
     "output_type": "execute_result",
     "data": {
      "text/plain": [
       "[('e', 117092), ('t', 87996), ('a', 77916), ('o', 69326), ('n', 65617)]"
      ]
     },
     "metadata": {},
     "execution_count": 37
    }
   ],
   "metadata": {}
  },
  {
   "cell_type": "code",
   "execution_count": null,
   "source": [
    "[char for (char, count) in fdist.most_common()]"
   ],
   "outputs": [],
   "metadata": {}
  },
  {
   "cell_type": "markdown",
   "source": [
    "This gives us the letters of the alphabet, with the most frequently occurring letters listed first (this is quite complicated and we'll explain it more carefully below). You might like to visualize the distribution using `fdist.plot()`. The relative character frequencies of a text can be used in automatically identifying the language of the text."
   ],
   "metadata": {}
  },
  {
   "cell_type": "markdown",
   "source": [
    "### Accessing Substrings\n",
    "\n",
    "<img src='images/string-slicing.png' width='400' />\n",
    "\n",
    "*String Slicing: The string \"Monty Python\" is shown along with its positive and negative indexes; two substrings are selected using \"slice\" notation. The slice `[m,n]` contains the characters from position `m` through `n-1`.*\n",
    "\n",
    "A substring is any continuous section of a string that we want to pull out for further processing. We can easily access substrings using the same slice notation we used for lists. For example, the following code accesses the substring starting at index `6`, up to (but not including) index `10`:"
   ],
   "metadata": {}
  },
  {
   "cell_type": "code",
   "execution_count": null,
   "source": [
    "monty[6:10]"
   ],
   "outputs": [],
   "metadata": {}
  },
  {
   "cell_type": "markdown",
   "source": [
    "Here we see the characters are `'P'`, `'y'`, `'t'`, and `'h'` which correspond to `monty[6] ... monty[9]` but not `monty[10]`. This is because a slice *starts* at the first index but finishes *one before* the end index.\n",
    "\n",
    "We can also slice with negative indexes — the same basic rule of starting from the start index and stopping one before the end index applies; here we stop before the space character."
   ],
   "metadata": {}
  },
  {
   "cell_type": "code",
   "execution_count": 16,
   "source": [
    "monty[-12:-7]"
   ],
   "outputs": [
    {
     "output_type": "error",
     "ename": "NameError",
     "evalue": "name 'monty' is not defined",
     "traceback": [
      "\u001b[1;31m---------------------------------------------------------------------------\u001b[0m",
      "\u001b[1;31mNameError\u001b[0m                                 Traceback (most recent call last)",
      "\u001b[1;32m~\\AppData\\Local\\Temp/ipykernel_9036/1051461869.py\u001b[0m in \u001b[0;36m<module>\u001b[1;34m\u001b[0m\n\u001b[1;32m----> 1\u001b[1;33m \u001b[0mmonty\u001b[0m\u001b[1;33m[\u001b[0m\u001b[1;33m-\u001b[0m\u001b[1;36m12\u001b[0m\u001b[1;33m:\u001b[0m\u001b[1;33m-\u001b[0m\u001b[1;36m7\u001b[0m\u001b[1;33m]\u001b[0m\u001b[1;33m\u001b[0m\u001b[1;33m\u001b[0m\u001b[0m\n\u001b[0m",
      "\u001b[1;31mNameError\u001b[0m: name 'monty' is not defined"
     ]
    }
   ],
   "metadata": {}
  },
  {
   "cell_type": "markdown",
   "source": [
    "As with list slices, if we omit the first value, the substring begins at the start of the string. If we omit the second value, the substring continues to the end of the string:"
   ],
   "metadata": {}
  },
  {
   "cell_type": "code",
   "execution_count": null,
   "source": [
    "monty[:5]"
   ],
   "outputs": [],
   "metadata": {}
  },
  {
   "cell_type": "code",
   "execution_count": null,
   "source": [
    "monty[6:]"
   ],
   "outputs": [],
   "metadata": {}
  },
  {
   "cell_type": "markdown",
   "source": [
    "We test if a string contains a particular substring using the `in` operator, as follows:"
   ],
   "metadata": {}
  },
  {
   "cell_type": "code",
   "execution_count": null,
   "source": [
    "phrase = 'And now for something completely different'\r\n",
    "if 'thing' in phrase:\r\n",
    "    print('found \"thing\"')"
   ],
   "outputs": [],
   "metadata": {}
  },
  {
   "cell_type": "markdown",
   "source": [
    "We can also find the position of a substring within a string, using `find()`:"
   ],
   "metadata": {}
  },
  {
   "cell_type": "code",
   "execution_count": null,
   "source": [
    "monty.find('Python')"
   ],
   "outputs": [],
   "metadata": {}
  },
  {
   "cell_type": "markdown",
   "source": [
    "### More operations on strings\r\n",
    "\r\n",
    "Python has comprehensive support for processing strings. A summary, including some operations we haven't seen yet, is shown below. For more information on strings, type `help(str)` at the Python prompt.\r\n",
    "\r\n",
    "*Useful String Methods: operations on strings in addition to the string tests shown in Chapter 1; all methods produce a new string or list*\r\n",
    "\r\n",
    "|Method| \tFunctionality|\r\n",
    "|:-|:-|\r\n",
    "|`s.find(t)`| \tindex of first instance of string `t` inside `s` (`-1` if not found)|\r\n",
    "|`s.rfind(t)`| \tindex of last instance of string `t` inside `s` (`-1` if not found)|\r\n",
    "|`s.index(t)`| \tlike `s.find(t)` except it raises `ValueError` if not found|\r\n",
    "|`s.rindex(t)`| \tlike `s.rfind(t)` except it raises `ValueError` if not found|\r\n",
    "|`s.join(text)`| \tcombine the words of the text into a string using `s` as the glue|\r\n",
    "|`s.split(t)`| \tsplit `s` into a list wherever a `t` is found (whitespace by default)|\r\n",
    "|`s.splitlines()`| \tsplit `s` into a list of strings, one per line|\r\n",
    "|`s.lower()`| \ta lowercased version of the string `s`|\r\n",
    "|`s.upper()`| \tan uppercased version of the string `s`|\r\n",
    "|`s.title()`| \ta titlecased version of the string `s`|\r\n",
    "|`s.strip()`| \ta copy of `s` without leading or trailing whitespace|\r\n",
    "|`s.replace(t, u)`| \treplace instances of `t` with `u` inside `s`|"
   ],
   "metadata": {}
  },
  {
   "cell_type": "markdown",
   "source": [
    "### The Difference between Lists and Strings\r\n",
    "\r\n",
    "Strings and lists are both kinds of **sequence**. We can pull them apart by indexing and slicing them, and we can join them together by concatenating them. However, we cannot join strings and lists:"
   ],
   "metadata": {}
  },
  {
   "cell_type": "code",
   "execution_count": null,
   "source": [
    "query = 'Who knows?'\r\n",
    "beatles = ['John', 'Paul', 'George', 'Ringo']\r\n",
    "query[2]"
   ],
   "outputs": [],
   "metadata": {}
  },
  {
   "cell_type": "code",
   "execution_count": null,
   "source": [
    "beatles[2]"
   ],
   "outputs": [],
   "metadata": {}
  },
  {
   "cell_type": "code",
   "execution_count": null,
   "source": [
    "query[:2]"
   ],
   "outputs": [],
   "metadata": {}
  },
  {
   "cell_type": "code",
   "execution_count": null,
   "source": [
    "beatles[:2]"
   ],
   "outputs": [],
   "metadata": {}
  },
  {
   "cell_type": "code",
   "execution_count": null,
   "source": [
    "query + \" I don't\""
   ],
   "outputs": [],
   "metadata": {}
  },
  {
   "cell_type": "code",
   "execution_count": null,
   "source": [
    "#beatles + 'Brian'"
   ],
   "outputs": [],
   "metadata": {}
  },
  {
   "cell_type": "code",
   "execution_count": null,
   "source": [
    "beatles + ['Brian']"
   ],
   "outputs": [],
   "metadata": {}
  },
  {
   "cell_type": "markdown",
   "source": [
    "When we open a file for reading into a Python program, we get a string corresponding to the contents of the whole file. If we use a `for` loop to process the elements of this string, all we can pick out are the individual characters — we don't get to choose the granularity. By contrast, the elements of a list can be as big or small as we like: for example, they could be paragraphs, sentences, phrases, words, characters. So lists have the advantage that we can be flexible about the elements they contain, and correspondingly flexible about any downstream processing. Consequently, one of the first things we are likely to do in a piece of NLP code is tokenize a string into a list of strings (see Section 3.7). Conversely, when we want to write our results to a file, or to a terminal, we will usually format them as a string (see Section 3.9).\r\n",
    "\r\n",
    "Lists and strings do not have exactly the same functionality. Lists have the added power that you can change their elements:"
   ],
   "metadata": {}
  },
  {
   "cell_type": "code",
   "execution_count": null,
   "source": [
    "beatles[0] = \"John Lennon\"\r\n",
    "del beatles[-1]\r\n",
    "beatles"
   ],
   "outputs": [],
   "metadata": {}
  },
  {
   "cell_type": "markdown",
   "source": [
    "On the other hand if we try to do that with a *string* — changing the 0th character in `query` to `'F'` — we get:"
   ],
   "metadata": {}
  },
  {
   "cell_type": "code",
   "execution_count": null,
   "source": [
    "#query[0] = 'F'"
   ],
   "outputs": [],
   "metadata": {}
  },
  {
   "cell_type": "markdown",
   "source": [
    "This is because strings are **immutable** — you can't change a string once you have created it. However, lists are **mutable**, and their contents can be modified at any time. As a result, lists support operations that modify the original value rather than producing a new value."
   ],
   "metadata": {}
  },
  {
   "cell_type": "markdown",
   "source": [
    "## 3.3   Text Processing with Unicode\n",
    "\n",
    "Our programs will often need to deal with different languages, and different character sets. The concept of \"plain text\" is a fiction. If you live in the English-speaking world you probably use ASCII, possibly without realizing it. If you live in Europe you might use one of the extended Latin character sets, containing such characters as \"ø\" for Danish and Norwegian, \"ő\" for Hungarian, \"ñ\" for Spanish and Breton, and \"ň\" for Czech and Slovak. In this section, we will give an overview of how to use Unicode for processing texts that use non-ASCII character sets.\n",
    "\n",
    "### What is Unicode?\n",
    "\n",
    "Unicode supports over a million characters. Each character is assigned a number, called a **code point**. In Python, code points are written in the form \\uXXXX, where XXXX is the number in 4-digit hexadecimal form.\n",
    "\n",
    "Within a program, we can manipulate Unicode strings just like normal strings. However, when Unicode characters are stored in files or displayed on a terminal, they must be encoded as a stream of bytes. Some encodings (such as ASCII and Latin-2) use a single byte per code point, so they can only support a small subset of Unicode, enough for a single language. Other encodings (such as UTF-8) use multiple bytes and can represent the full range of Unicode characters.\n",
    "\n",
    "Text in files will be in a particular encoding, so we need some mechanism for translating it into Unicode — translation into Unicode is called **decoding**. Conversely, to write out Unicode to a file or a terminal, we first need to translate it into a suitable **encoding** — this translation out of Unicode is called encoding, and is illustrated below.\n",
    "\n",
    "<img src='images/unicode.png' width='400' />\n",
    "\n",
    "*Unicode Decoding and Encoding*\n",
    "\n",
    "From a Unicode perspective, characters are abstract entities which can be realized as one or more **glyphs**. Only glyphs can appear on a screen or be printed on paper. A font is a mapping from characters to glyphs."
   ],
   "metadata": {}
  },
  {
   "cell_type": "markdown",
   "source": [
    "### Extracting encoded text from files\r\n",
    "\r\n",
    "Let's assume that we have a small text file, and that we know how it is encoded. For example, `polish-lat2.txt`, as the name suggests, is a snippet of Polish text (from the Polish Wikipedia; see http://pl.wikipedia.org/wiki/Biblioteka_Pruska). This file is encoded as Latin-2, also known as ISO-8859-2. The function `nltk.data.find()` locates the file for us."
   ],
   "metadata": {}
  },
  {
   "cell_type": "code",
   "execution_count": null,
   "source": [
    "path = nltk.data.find('corpora/unicode_samples/polish-lat2.txt')"
   ],
   "outputs": [],
   "metadata": {}
  },
  {
   "cell_type": "markdown",
   "source": [
    "The Python `open()` function can read encoded data into Unicode strings, and write out Unicode strings in encoded form. It takes a parameter to specify the encoding of the file being read or written. So let's open our Polish file with the encoding `'latin2'` and inspect the contents of the file:"
   ],
   "metadata": {}
  },
  {
   "cell_type": "code",
   "execution_count": null,
   "source": [
    "f = open(path, encoding='latin2')\r\n",
    "for line in f:\r\n",
    "   line = line.strip()\r\n",
    "   print(line)"
   ],
   "outputs": [],
   "metadata": {}
  },
  {
   "cell_type": "markdown",
   "source": [
    "If we want to see the underlying numerical values (or \"codepoints\") of the characters, then we can convert all non-ASCII characters into their two-digit \\xXX and four-digit \\uXXXX representations:"
   ],
   "metadata": {}
  },
  {
   "cell_type": "code",
   "execution_count": null,
   "source": [
    "f = open(path, encoding='latin2')\r\n",
    "for line in f:\r\n",
    "    line = line.strip()\r\n",
    "    print(line.encode('unicode_escape'))"
   ],
   "outputs": [],
   "metadata": {}
  },
  {
   "cell_type": "markdown",
   "source": [
    "The first line above illustrates a Unicode escape string preceded by the `\\u` escape string, namely `\\u0144`. The relevant Unicode character will be displayed on the screen as the glyph ń. In the third line, we see `\\xf3`, which corresponds to the glyph ó, and is within the 128-255 range.\n",
    "\n",
    "In Python 3, source code is encoded using UTF-8 by default, and you can include Unicode characters in strings if you are using a program editor that supports Unicode. Arbitrary Unicode characters can be included using the \\uXXXX escape sequence. We find the integer ordinal of a character using `ord()`. For example:"
   ],
   "metadata": {}
  },
  {
   "cell_type": "code",
   "execution_count": 1,
   "source": [
    "ord('ń')"
   ],
   "outputs": [
    {
     "output_type": "execute_result",
     "data": {
      "text/plain": [
       "324"
      ]
     },
     "metadata": {},
     "execution_count": 1
    }
   ],
   "metadata": {}
  },
  {
   "cell_type": "markdown",
   "source": [
    "The hexadecimal 4 digit notation for 324 is 0144 (type `hex(324)` to discover this), and we can define a string with the appropriate escape sequence."
   ],
   "metadata": {}
  },
  {
   "cell_type": "code",
   "execution_count": 2,
   "source": [
    "nacute = '\\u0144'\r\n",
    "nacute"
   ],
   "outputs": [
    {
     "output_type": "execute_result",
     "data": {
      "text/plain": [
       "'ń'"
      ]
     },
     "metadata": {},
     "execution_count": 2
    }
   ],
   "metadata": {}
  },
  {
   "cell_type": "markdown",
   "source": [
    "We can also see how this character is represented as a sequence of bytes inside a text file:"
   ],
   "metadata": {}
  },
  {
   "cell_type": "code",
   "execution_count": 3,
   "source": [
    "nacute.encode('utf8')"
   ],
   "outputs": [
    {
     "output_type": "execute_result",
     "data": {
      "text/plain": [
       "b'\\xc5\\x84'"
      ]
     },
     "metadata": {},
     "execution_count": 3
    }
   ],
   "metadata": {}
  },
  {
   "cell_type": "markdown",
   "source": [
    "The module `unicodedata` lets us inspect the properties of Unicode characters. In the following example, we select all characters in the third line of our Polish text outside the ASCII range and print their UTF-8 byte sequence, followed by their code point integer using the standard Unicode convention (i.e., prefixing the hex digits with `U+`), followed by their Unicode name."
   ],
   "metadata": {}
  },
  {
   "cell_type": "code",
   "execution_count": 4,
   "source": [
    "import unicodedata\r\n",
    "lines = open(path, encoding='latin2').readlines()\r\n",
    "line = lines[2]\r\n",
    "print(line.encode('unicode_escape'))"
   ],
   "outputs": [
    {
     "output_type": "error",
     "ename": "NameError",
     "evalue": "name 'path' is not defined",
     "traceback": [
      "\u001b[1;31m---------------------------------------------------------------------------\u001b[0m",
      "\u001b[1;31mNameError\u001b[0m                                 Traceback (most recent call last)",
      "\u001b[1;32m~\\AppData\\Local\\Temp/ipykernel_9036/3024939752.py\u001b[0m in \u001b[0;36m<module>\u001b[1;34m\u001b[0m\n\u001b[0;32m      1\u001b[0m \u001b[1;32mimport\u001b[0m \u001b[0municodedata\u001b[0m\u001b[1;33m\u001b[0m\u001b[1;33m\u001b[0m\u001b[0m\n\u001b[1;32m----> 2\u001b[1;33m \u001b[0mlines\u001b[0m \u001b[1;33m=\u001b[0m \u001b[0mopen\u001b[0m\u001b[1;33m(\u001b[0m\u001b[0mpath\u001b[0m\u001b[1;33m,\u001b[0m \u001b[0mencoding\u001b[0m\u001b[1;33m=\u001b[0m\u001b[1;34m'latin2'\u001b[0m\u001b[1;33m)\u001b[0m\u001b[1;33m.\u001b[0m\u001b[0mreadlines\u001b[0m\u001b[1;33m(\u001b[0m\u001b[1;33m)\u001b[0m\u001b[1;33m\u001b[0m\u001b[1;33m\u001b[0m\u001b[0m\n\u001b[0m\u001b[0;32m      3\u001b[0m \u001b[0mline\u001b[0m \u001b[1;33m=\u001b[0m \u001b[0mlines\u001b[0m\u001b[1;33m[\u001b[0m\u001b[1;36m2\u001b[0m\u001b[1;33m]\u001b[0m\u001b[1;33m\u001b[0m\u001b[1;33m\u001b[0m\u001b[0m\n\u001b[0;32m      4\u001b[0m \u001b[0mprint\u001b[0m\u001b[1;33m(\u001b[0m\u001b[0mline\u001b[0m\u001b[1;33m.\u001b[0m\u001b[0mencode\u001b[0m\u001b[1;33m(\u001b[0m\u001b[1;34m'unicode_escape'\u001b[0m\u001b[1;33m)\u001b[0m\u001b[1;33m)\u001b[0m\u001b[1;33m\u001b[0m\u001b[1;33m\u001b[0m\u001b[0m\n",
      "\u001b[1;31mNameError\u001b[0m: name 'path' is not defined"
     ]
    }
   ],
   "metadata": {}
  },
  {
   "cell_type": "code",
   "execution_count": null,
   "source": [
    "for c in line: \r\n",
    "    if ord(c) > 127:\r\n",
    "        print('{} U+{:04x} {}'.format(c.encode('utf8'), ord(c), unicodedata.name(c)))"
   ],
   "outputs": [],
   "metadata": {}
  },
  {
   "cell_type": "markdown",
   "source": [
    "If you replace `c.encode('utf8')` with `c`, you should see an output like the following:"
   ],
   "metadata": {}
  },
  {
   "cell_type": "code",
   "execution_count": null,
   "source": [
    "for c in line: \r\n",
    "    if ord(c) > 127:\r\n",
    "        print('{} U+{:04x} {}'.format(c, ord(c), unicodedata.name(c)))"
   ],
   "outputs": [],
   "metadata": {}
  },
  {
   "cell_type": "markdown",
   "source": [
    "The next examples illustrate how Python string methods and the `re` module can work with Unicode characters. (We will take a close look at the `re` module in the following section. The `\\w` matches a \"word character\")."
   ],
   "metadata": {}
  },
  {
   "cell_type": "code",
   "execution_count": null,
   "source": [
    "line.find('zosta\\u0142y')"
   ],
   "outputs": [],
   "metadata": {}
  },
  {
   "cell_type": "code",
   "execution_count": null,
   "source": [
    "line = line.lower()\r\n",
    "line"
   ],
   "outputs": [],
   "metadata": {}
  },
  {
   "cell_type": "code",
   "execution_count": null,
   "source": [
    "line.encode('unicode_escape')"
   ],
   "outputs": [],
   "metadata": {}
  },
  {
   "cell_type": "code",
   "execution_count": null,
   "source": [
    "import re\r\n",
    "m = re.search('\\u015b\\w*', line)\r\n",
    "m.group()"
   ],
   "outputs": [],
   "metadata": {}
  },
  {
   "cell_type": "markdown",
   "source": [
    "NLTK tokenizers allow Unicode strings as input, and correspondingly yield Unicode strings as output."
   ],
   "metadata": {}
  },
  {
   "cell_type": "code",
   "execution_count": null,
   "source": [
    "word_tokenize(line)"
   ],
   "outputs": [],
   "metadata": {}
  },
  {
   "cell_type": "markdown",
   "source": [
    "## 3.4   Regular Expressions for Detecting Word Patterns\r\n",
    "\r\n",
    "Many linguistic processing tasks involve pattern matching. For example, we can find words ending with *ed* using `endswith('ed')`. We saw a variety of such \"word tests\" in Chapter 1. Regular expressions give us a more powerful and flexible method for describing the character patterns we are interested in.\r\n",
    "\r\n",
    "To use regular expressions in Python we need to import the `re` library using: `import re`. We also need a list of words to search; we'll use the Words Corpus again. We will preprocess it to remove any proper names."
   ],
   "metadata": {}
  },
  {
   "cell_type": "code",
   "execution_count": null,
   "source": [
    "import re\r\n",
    "wordlist = [w for w in nltk.corpus.words.words('en') if w.islower()]"
   ],
   "outputs": [],
   "metadata": {}
  },
  {
   "cell_type": "markdown",
   "source": [
    "### Using Basic Meta-Characters\r\n",
    "\r\n",
    "Let's find words ending with *ed* using the regular expression `«ed$»`. We will use the `re.search(p, s)` function to check whether the pattern `p` can be found somewhere inside the string `s`. We need to specify the characters of interest, and use the dollar sign which has a special behavior in the context of regular expressions in that it matches the end of the word:"
   ],
   "metadata": {}
  },
  {
   "cell_type": "code",
   "execution_count": null,
   "source": [
    "[w for w in wordlist if re.search('ed$', w)]"
   ],
   "outputs": [],
   "metadata": {}
  },
  {
   "cell_type": "markdown",
   "source": [
    "The `.` **wildcard** symbol matches any single character. Suppose we have room in a crossword puzzle for an 8-letter word with *j* as its third letter and *t* as its sixth letter. In place of each blank cell we use a period:"
   ],
   "metadata": {}
  },
  {
   "cell_type": "code",
   "execution_count": null,
   "source": [
    "[w for w in wordlist if re.search('^..j..t..$', w)]"
   ],
   "outputs": [],
   "metadata": {}
  },
  {
   "cell_type": "markdown",
   "source": [
    "Finally, the `?` symbol specifies that the previous character is optional. Thus `«^e-?mail$»` will match both `email` and `e-mail`. We could count the total number of occurrences of this word (in either spelling) in a text using `sum(1 for w in text if re.search('^e-?mail$', w))`."
   ],
   "metadata": {}
  },
  {
   "cell_type": "markdown",
   "source": [
    "### Ranges and Closures\r\n",
    "\r\n",
    "<img src=images/T9.png width='400' />\r\n",
    "\r\n",
    "*T9: Text on 9 Keys*\r\n",
    "\r\n",
    "The **T9** system is used for entering text on mobile phones. Two or more words that are entered with the same sequence of keystrokes are known as **textonyms**. For example, both *hole* and *golf* are entered by pressing the sequence 4653. What other words could be produced with the same sequence? Here we use the regular expression `«^[ghi][mno][jlk][def]$»`:"
   ],
   "metadata": {}
  },
  {
   "cell_type": "code",
   "execution_count": null,
   "source": [
    "[w for w in wordlist if re.search('^[ghi][mno][jlk][def]$', w)]"
   ],
   "outputs": [],
   "metadata": {}
  },
  {
   "cell_type": "markdown",
   "source": [
    "The first part of the expression, `«^[ghi]»`, matches the start of a word followed by *g*, *h*, or *i*. The next part of the expression, `«[mno]»`, constrains the second character to be *m*, *n*, or *o*. The third and fourth characters are also constrained. Only four words satisfy all these constraints. Note that the order of characters inside the square brackets is not significant, so we could have written `«^[hig][nom][ljk][fed]$»` and matched the same words.\r\n",
    "\r\n",
    "Let's explore the `+` symbol a bit further. Notice that it can be applied to individual letters, or to bracketed sets of letters:"
   ],
   "metadata": {}
  },
  {
   "cell_type": "code",
   "execution_count": null,
   "source": [
    "chat_words = sorted(set(w for w in nltk.corpus.nps_chat.words()))\r\n",
    "[w for w in chat_words if re.search('^m+i+n+e+$', w)]"
   ],
   "outputs": [],
   "metadata": {}
  },
  {
   "cell_type": "code",
   "execution_count": null,
   "source": [
    "[w for w in chat_words if re.search('^[ha]+$', w)]"
   ],
   "outputs": [],
   "metadata": {}
  },
  {
   "cell_type": "markdown",
   "source": [
    "It should be clear that `+` simply means \"one or more instances of the preceding item\", which could be an individual character like `m`, a set like `[fed]` or a range like `[d-f]`. Now let's replace `+` with `*`, which means \"zero or more instances of the preceding item\". The regular expression `«^m*i*n*e*$»` will match everything that we found using `«^m+i+n+e+$»`, but also words where some of the letters don't appear at all, e.g. *me*, *min*, and *mmmmm*. Note that the `+` and `*` symbols are sometimes referred to as **Kleene closures**, or simply **closures**.\r\n",
    "\r\n",
    "The `^` operator has another function when it appears as the first character inside square brackets. For example `«[^aeiouAEIOU]»` matches any character other than a vowel. We can search the NPS Chat Corpus for words that are made up entirely of non-vowel characters using `«^[^aeiouAEIOU]+$»` to find items like these: `:):):)`, `grrr`, `cyb3r` and `zzzzzzzz`. Notice this includes non-alphabetic characters.\r\n",
    "\r\n",
    "Here are some more examples of regular expressions being used to find tokens that match a particular pattern, illustrating the use of some new symbols: `\\`, `{}`, `()`, and `|`:"
   ],
   "metadata": {}
  },
  {
   "cell_type": "code",
   "execution_count": null,
   "source": [
    "wsj = sorted(set(nltk.corpus.treebank.words()))\r\n",
    "[w for w in wsj if re.search('^[0-9]+\\.[0-9]+$', w)]"
   ],
   "outputs": [],
   "metadata": {}
  },
  {
   "cell_type": "code",
   "execution_count": null,
   "source": [
    "[w for w in wsj if re.search('^[A-Z]+\\$$', w)]"
   ],
   "outputs": [],
   "metadata": {}
  },
  {
   "cell_type": "code",
   "execution_count": null,
   "source": [
    "[w for w in wsj if re.search('^[0-9]{4}$', w)]"
   ],
   "outputs": [],
   "metadata": {}
  },
  {
   "cell_type": "code",
   "execution_count": null,
   "source": [
    "[w for w in wsj if re.search('^[0-9]+-[a-z]{3,5}$', w)]"
   ],
   "outputs": [],
   "metadata": {}
  },
  {
   "cell_type": "code",
   "execution_count": null,
   "source": [
    "[w for w in wsj if re.search('^[a-z]{5,}-[a-z]{2,3}-[a-z]{,6}$', w)]"
   ],
   "outputs": [],
   "metadata": {}
  },
  {
   "cell_type": "code",
   "execution_count": null,
   "source": [
    "[w for w in wsj if re.search('(ed|ing)$', w)]"
   ],
   "outputs": [],
   "metadata": {}
  },
  {
   "cell_type": "markdown",
   "source": [
    "You probably worked out that a backslash means that the following character is deprived of its special powers and must literally match a specific character in the word. Thus, while `.` is special, `\\.` only matches a period. The braced expressions, like `{3,5}`, specify the number of repeats of the previous item. The pipe character indicates a choice between the material on its left or its right. Parentheses indicate the scope of an operator: they can be used together with the pipe (or disjunction) symbol like this: `«w(i|e|ai|oo)t»`, matching *wit*, *wet*, *wait*, and *woot*. It is instructive to see what happens when you omit the parentheses from the last expression above, and search for `«ed|ing$»`.\n",
    "\n",
    "The meta-characters we have seen are summarized below.\n",
    "\n",
    "*Basic Regular Expression Meta-Characters, Including Wildcards, Ranges and Closures*\n",
    "\n",
    "|Operator| \tBehavior|\n",
    "|:-|:-|\n",
    "|`.`| \tWildcard, matches any character|\n",
    "|`^abc`| \tMatches some pattern *abc* at the start of a string|\n",
    "|`abc$`| \tMatches some pattern *abc* at the end of a string|\n",
    "|`[abc]`| \tMatches one of a set of characters|\n",
    "|`[A-Z0-9]`| \tMatches one of a range of characters|\n",
    "|`ed\\|ing\\|s`| \tMatches one of the specified strings (disjunction)|\n",
    "|`*`| \tZero or more of previous item, e.g. `a*`, `[a-z]*` (also known as *Kleene Closure*)|\n",
    "|`+`| \tOne or more of previous item, e.g. `a+`, `[a-z]+`|\n",
    "|`?`| \tZero or one of the previous item (i.e. optional), e.g. `a?`, `[a-z]?`|\n",
    "|`{n}`| \tExactly *n* repeats where *n* is a non-negative integer|\n",
    "|`{n,}`| \tAt least *n* repeats|\n",
    "|`{,n}`| \tNo more than *n* repeats|\n",
    "|`{m,n}`| \tAt least m and no more than *n* repeats|\n",
    "|`a(b\\|c)+`| \tParentheses that indicate the scope of the operators|\n",
    "\n",
    "To the Python interpreter, a regular expression is just like any other string. If the string contains a backslash followed by particular characters, it will interpret these specially. For example `\\b` would be interpreted as the backspace character. In general, when using regular expressions containing backslash, we should instruct the interpreter not to look inside the string at all, but simply to pass it directly to the `re` library for processing. We do this by prefixing the string with the letter `r`, to indicate that it is a **raw string**. For example, the raw string `r'\\band\\b'` contains two `\\b` symbols that are interpreted by the `re` library as matching word boundaries instead of backspace characters. If you get into the habit of using `r'...'` for regular expressions — as we will do from now on — you will avoid having to think about these complications."
   ],
   "metadata": {}
  },
  {
   "cell_type": "markdown",
   "source": [
    "## 3.5   Useful Applications of Regular Expressions\r\n",
    "\r\n",
    "The above examples all involved searching for words *w* that match some regular expression *regexp* using `re.search(regexp, w)`. Apart from checking if a regular expression matches a word, we can use regular expressions to extract material from words, or to modify words in specific ways.\r\n",
    "\r\n",
    "### Extracting Word Pieces\r\n",
    "\r\n",
    "The `re.findall()` (\"find all\") method finds all (non-overlapping) matches of the given regular expression. Let's find all the vowels in a word, then count them:"
   ],
   "metadata": {}
  },
  {
   "cell_type": "code",
   "execution_count": null,
   "source": [
    "word = 'supercalifragilisticexpialidocious'\r\n",
    "re.findall(r'[aeiou]', word)"
   ],
   "outputs": [],
   "metadata": {}
  },
  {
   "cell_type": "code",
   "execution_count": null,
   "source": [
    "len(re.findall(r'[aeiou]', word))"
   ],
   "outputs": [],
   "metadata": {}
  },
  {
   "cell_type": "markdown",
   "source": [
    "Let's look for all sequences of two or more vowels in some text, and determine their relative frequency:"
   ],
   "metadata": {}
  },
  {
   "cell_type": "code",
   "execution_count": 12,
   "source": [
    "wsj = sorted(set(nltk.corpus.treebank.words()))\r\n",
    "fd = nltk.FreqDist(vs for word in wsj\r\n",
    "                       for vs in re.findall(r'[aeiou]{2,}', word))\r\n",
    "fd.most_common(12)"
   ],
   "outputs": [
    {
     "output_type": "execute_result",
     "data": {
      "text/plain": [
       "[('io', 549),\n",
       " ('ea', 476),\n",
       " ('ie', 331),\n",
       " ('ou', 329),\n",
       " ('ai', 261),\n",
       " ('ia', 253),\n",
       " ('ee', 217),\n",
       " ('oo', 174),\n",
       " ('ua', 109),\n",
       " ('au', 106),\n",
       " ('ue', 105),\n",
       " ('ui', 95)]"
      ]
     },
     "metadata": {},
     "execution_count": 12
    }
   ],
   "metadata": {}
  },
  {
   "cell_type": "markdown",
   "source": [
    "### Doing More with Word Pieces\r\n",
    "\r\n",
    "Once we can use `re.findall()` to extract material from words, there's interesting things to do with the pieces, like glue them back together or plot them.\r\n",
    "\r\n",
    "It is sometimes noted that English text is highly redundant, and it is still easy to read when word-internal vowels are left out. For example, *declaration* becomes *dclrtn*, and *inalienable* becomes *inlnble*, retaining any initial or final vowel sequences. The regular expression in our next example matches initial vowel sequences, final vowel sequences, and all consonants; everything else is ignored. This three-way disjunction is processed left-to-right, if one of the three parts matches the word, any later parts of the regular expression are ignored. We use `re.findall()` to extract all the matching pieces, and `''.join()` to join them together."
   ],
   "metadata": {}
  },
  {
   "cell_type": "code",
   "execution_count": 13,
   "source": [
    "regexp = r'^[AEIOUaeiou]+|[AEIOUaeiou]+$|[^AEIOUaeiou]'\r\n",
    "def compress(word):\r\n",
    "    pieces = re.findall(regexp, word)\r\n",
    "    return ''.join(pieces)\r\n",
    "\r\n",
    "english_udhr = nltk.corpus.udhr.words('English-Latin1')\r\n",
    "print(nltk.tokenwrap(compress(w) for w in english_udhr[:75]))"
   ],
   "outputs": [
    {
     "output_type": "stream",
     "name": "stdout",
     "text": [
      "Unvrsl Dclrtn of Hmn Rghts Prmble Whrs rcgntn of the inhrnt dgnty and\n",
      "of the eql and inlnble rghts of all mmbrs of the hmn fmly is the fndtn\n",
      "of frdm , jstce and pce in the wrld , Whrs dsrgrd and cntmpt fr hmn\n",
      "rghts hve rsltd in brbrs acts whch hve outrgd the cnscnce of mnknd ,\n",
      "and the advnt of a wrld in whch hmn bngs shll enjy frdm of spch and\n"
     ]
    }
   ],
   "metadata": {}
  },
  {
   "cell_type": "markdown",
   "source": [
    "Next, let's combine regular expressions with conditional frequency distributions. Here we will extract all consonant-vowel sequences from the words of Rotokas, such as *ka* and *si*. Since each of these is a pair, it can be used to initialize a conditional frequency distribution. We then tabulate the frequency of each pair:"
   ],
   "metadata": {}
  },
  {
   "cell_type": "code",
   "execution_count": 15,
   "source": [
    "rotokas_words = nltk.corpus.toolbox.words('rotokas.dic')\r\n",
    "cvs = [cv for w in rotokas_words for cv in re.findall(r'[ptksvr][aeiou]', w)]\r\n",
    "cfd = nltk.ConditionalFreqDist(cvs)\r\n",
    "cfd.tabulate()"
   ],
   "outputs": [
    {
     "output_type": "stream",
     "name": "stdout",
     "text": [
      "    a   e   i   o   u \n",
      "k 418 148  94 420 173 \n",
      "p  83  31 105  34  51 \n",
      "r 187  63  84  89  79 \n",
      "s   0   0 100   2   1 \n",
      "t  47   8   0 148  37 \n",
      "v  93  27 105  48  49 \n"
     ]
    },
    {
     "output_type": "execute_result",
     "data": {
      "text/plain": [
       "['ka',\n",
       " 'ka',\n",
       " 'ka',\n",
       " 'ka',\n",
       " 'ka',\n",
       " 'ro',\n",
       " 'ka',\n",
       " 'ka',\n",
       " 'vi',\n",
       " 'ko',\n",
       " 'ka',\n",
       " 'ka',\n",
       " 'vo',\n",
       " 'ka',\n",
       " 'ka',\n",
       " 'ko',\n",
       " 'ka',\n",
       " 'ka',\n",
       " 'si',\n",
       " 'ka',\n",
       " 'ka',\n",
       " 'ka',\n",
       " 'ka',\n",
       " 'ko',\n",
       " 'ka',\n",
       " 'ki',\n",
       " 'to',\n",
       " 'ka',\n",
       " 'ku',\n",
       " 'pa',\n",
       " 'to',\n",
       " 'ka',\n",
       " 'va',\n",
       " 'ka',\n",
       " 'pa',\n",
       " 'ka',\n",
       " 'pe',\n",
       " 'ka',\n",
       " 'pi',\n",
       " 'ka',\n",
       " 'pi',\n",
       " 'ka',\n",
       " 'pi',\n",
       " 'pa',\n",
       " 'to',\n",
       " 'ka',\n",
       " 'pi',\n",
       " 'si',\n",
       " 'ka',\n",
       " 'pi',\n",
       " 'si',\n",
       " 'vi',\n",
       " 'ra',\n",
       " 'ka',\n",
       " 'po',\n",
       " 'ka',\n",
       " 'po',\n",
       " 'pa',\n",
       " 'to',\n",
       " 'ka',\n",
       " 'ra',\n",
       " 'ka',\n",
       " 're',\n",
       " 'ka',\n",
       " 're',\n",
       " 'ko',\n",
       " 'ka',\n",
       " 're',\n",
       " 'ko',\n",
       " 'pi',\n",
       " 'ka',\n",
       " 're',\n",
       " 'to',\n",
       " 're',\n",
       " 'va',\n",
       " 'ka',\n",
       " 'va',\n",
       " 'ka',\n",
       " 'va',\n",
       " 'ka',\n",
       " 've',\n",
       " 'ka',\n",
       " 'ka',\n",
       " 've',\n",
       " 'ka',\n",
       " 'pi',\n",
       " 'ka',\n",
       " 've',\n",
       " 'ka',\n",
       " 'pi',\n",
       " 'vi',\n",
       " 'ra',\n",
       " 'ka',\n",
       " 've',\n",
       " 'ka',\n",
       " 'vi',\n",
       " 'ra',\n",
       " 'ka',\n",
       " 'ka',\n",
       " 'ka',\n",
       " 'ka',\n",
       " 'ka',\n",
       " 'ka',\n",
       " 'ka',\n",
       " 'ka',\n",
       " 'ro',\n",
       " 'ka',\n",
       " 'ka',\n",
       " 'ka',\n",
       " 'ka',\n",
       " 'so',\n",
       " 'to',\n",
       " 'ka',\n",
       " 'ka',\n",
       " 'vi',\n",
       " 'ra',\n",
       " 'ka',\n",
       " 'ke',\n",
       " 'ru',\n",
       " 'ka',\n",
       " 'pa',\n",
       " 'ka',\n",
       " 'pi',\n",
       " 'ka',\n",
       " 'pi',\n",
       " 'ka',\n",
       " 'pi',\n",
       " 'vi',\n",
       " 'ra',\n",
       " 'ka',\n",
       " 're',\n",
       " 'si',\n",
       " 'ka',\n",
       " 're',\n",
       " 'si',\n",
       " 'vi',\n",
       " 'ra',\n",
       " 'ka',\n",
       " 'tu',\n",
       " 'ka',\n",
       " 'tu',\n",
       " 'pi',\n",
       " 'ka',\n",
       " 'tu',\n",
       " 'vi',\n",
       " 'ra',\n",
       " 'ka',\n",
       " 'vi',\n",
       " 'ro',\n",
       " 'ka',\n",
       " 've',\n",
       " 'ka',\n",
       " 'ka',\n",
       " 'ka',\n",
       " 'ka',\n",
       " 'ka',\n",
       " 'po',\n",
       " 'ri',\n",
       " 'ka',\n",
       " 'po',\n",
       " 'ri',\n",
       " 'pi',\n",
       " 'ka',\n",
       " 'po',\n",
       " 'ri',\n",
       " 'vi',\n",
       " 'ra',\n",
       " 'ka',\n",
       " 'ri',\n",
       " 'ka',\n",
       " 'ri',\n",
       " 'ro',\n",
       " 'ka',\n",
       " 'ro',\n",
       " 'ka',\n",
       " 'ta',\n",
       " 'ka',\n",
       " 'tu',\n",
       " 'tu',\n",
       " 'ka',\n",
       " 'tu',\n",
       " 'tu',\n",
       " 'pi',\n",
       " 'ka',\n",
       " 'tu',\n",
       " 'tu',\n",
       " 'vi',\n",
       " 'ra',\n",
       " 'ka',\n",
       " 'ka',\n",
       " 'ka',\n",
       " 'ka',\n",
       " 'ka',\n",
       " 'ka',\n",
       " 'ka',\n",
       " 'ka',\n",
       " 'vi',\n",
       " 'ra',\n",
       " 'ka',\n",
       " 'ka',\n",
       " 'pi',\n",
       " 'ko',\n",
       " 'ka',\n",
       " 'ka',\n",
       " 'pi',\n",
       " 'ko',\n",
       " 'to',\n",
       " 'ka',\n",
       " 'ka',\n",
       " 'pu',\n",
       " 'ka',\n",
       " 'ka',\n",
       " 'pu',\n",
       " 'ka',\n",
       " 'ka',\n",
       " 'ra',\n",
       " 'ka',\n",
       " 'ra',\n",
       " 'pa',\n",
       " 'ka',\n",
       " 'ka',\n",
       " 'ra',\n",
       " 'ka',\n",
       " 're',\n",
       " 'ra',\n",
       " 'ka',\n",
       " 'ka',\n",
       " 'ta',\n",
       " 'ka',\n",
       " 'ka',\n",
       " 'te',\n",
       " 'ka',\n",
       " 'ka',\n",
       " 'tu',\n",
       " 'ra',\n",
       " 'ka',\n",
       " 'ka',\n",
       " 'ka',\n",
       " 'ka',\n",
       " 'ka',\n",
       " 'ka',\n",
       " 've',\n",
       " 'ka',\n",
       " 'ka',\n",
       " 'vo',\n",
       " 'ro',\n",
       " 'ka',\n",
       " 'ka',\n",
       " 'vu',\n",
       " 'ka',\n",
       " 'ke',\n",
       " 'to',\n",
       " 'ka',\n",
       " 'ki',\n",
       " 'ka',\n",
       " 'ki',\n",
       " 'ka',\n",
       " 'ki',\n",
       " 'ki',\n",
       " 'ka',\n",
       " 'ki',\n",
       " 'ri',\n",
       " 'ka',\n",
       " 'ki',\n",
       " 'ka',\n",
       " 'ku',\n",
       " 'ka',\n",
       " 'ku',\n",
       " 'ka',\n",
       " 'ku',\n",
       " 'ku',\n",
       " 'ka',\n",
       " 'ku',\n",
       " 'pa',\n",
       " 'ka',\n",
       " 'ku',\n",
       " 'pa',\n",
       " 're',\n",
       " 'ka',\n",
       " 'ku',\n",
       " 'pa',\n",
       " 'to',\n",
       " 'ka',\n",
       " 'ku',\n",
       " 'pi',\n",
       " 'ka',\n",
       " 'ku',\n",
       " 'pu',\n",
       " 'te',\n",
       " 'ka',\n",
       " 'ku',\n",
       " 'ta',\n",
       " 'ka',\n",
       " 'ku',\n",
       " 'to',\n",
       " 'ka',\n",
       " 'ku',\n",
       " 'tu',\n",
       " 'to',\n",
       " 'ka',\n",
       " 'ku',\n",
       " 'va',\n",
       " 'ka',\n",
       " 'ku',\n",
       " 'vi',\n",
       " 'ra',\n",
       " 'ka',\n",
       " 'ro',\n",
       " 'ka',\n",
       " 'ra',\n",
       " 'ka',\n",
       " 'ka',\n",
       " 'ka',\n",
       " 'ka',\n",
       " 'ra',\n",
       " 'ka',\n",
       " 'ka',\n",
       " 'to',\n",
       " 'ka',\n",
       " 'pa',\n",
       " 'ka',\n",
       " 'pa',\n",
       " 'ka',\n",
       " 'pa',\n",
       " 'va',\n",
       " 'ka',\n",
       " 'pa',\n",
       " 'ka',\n",
       " 'pa',\n",
       " 'ra',\n",
       " 'ka',\n",
       " 'pa',\n",
       " 'ru',\n",
       " 'ka',\n",
       " 'pa',\n",
       " 'ru',\n",
       " 'vi',\n",
       " 'ra',\n",
       " 'ka',\n",
       " 'pa',\n",
       " 'ta',\n",
       " 'ka',\n",
       " 'pa',\n",
       " 'to',\n",
       " 'ro',\n",
       " 'ka',\n",
       " 'pa',\n",
       " 'to',\n",
       " 'ro',\n",
       " 'to',\n",
       " 'ka',\n",
       " 'pe',\n",
       " 'ka',\n",
       " 'pe',\n",
       " 'ka',\n",
       " 'pe',\n",
       " 'ka',\n",
       " 'pe',\n",
       " 'vi',\n",
       " 'ra',\n",
       " 'ka',\n",
       " 'pe',\n",
       " 'ka',\n",
       " 'pe',\n",
       " 'ka',\n",
       " 'pe',\n",
       " 'ka',\n",
       " 'pe',\n",
       " 'vi',\n",
       " 'ra',\n",
       " 'ka',\n",
       " 'pe',\n",
       " 're',\n",
       " 'ka',\n",
       " 'pe',\n",
       " 're',\n",
       " 'pi',\n",
       " 'ka',\n",
       " 'pi',\n",
       " 'ka',\n",
       " 'pi',\n",
       " 'ka',\n",
       " 'pi',\n",
       " 'vi',\n",
       " 'ra',\n",
       " 'ka',\n",
       " 'pi',\n",
       " 'ka',\n",
       " 'pi',\n",
       " 'ka',\n",
       " 'pi',\n",
       " 'ro',\n",
       " 'ka',\n",
       " 'pi',\n",
       " 'ro',\n",
       " 'ka',\n",
       " 'pi',\n",
       " 'ro',\n",
       " 'ko',\n",
       " 'ka',\n",
       " 'pi',\n",
       " 'si',\n",
       " 'ka',\n",
       " 'pi',\n",
       " 'si',\n",
       " 'to',\n",
       " 'ka',\n",
       " 'pi',\n",
       " 'ka',\n",
       " 'pi',\n",
       " 'ka',\n",
       " 'po',\n",
       " 'ka',\n",
       " 'po',\n",
       " 'ka',\n",
       " 'po',\n",
       " 'ka',\n",
       " 'ka',\n",
       " 'po',\n",
       " 'ka',\n",
       " 'po',\n",
       " 'ka',\n",
       " 'po',\n",
       " 'ka',\n",
       " 'po',\n",
       " 'ka',\n",
       " 'po',\n",
       " 'ka',\n",
       " 'po',\n",
       " 'ra',\n",
       " 'ka',\n",
       " 'po',\n",
       " 'ka',\n",
       " 'po',\n",
       " 'ro',\n",
       " 'ka',\n",
       " 'po',\n",
       " 'ka',\n",
       " 'ri',\n",
       " 'ka',\n",
       " 'po',\n",
       " 'ka',\n",
       " 'ri',\n",
       " 'to',\n",
       " 'ka',\n",
       " 'po',\n",
       " 'ko',\n",
       " 'ka',\n",
       " 'po',\n",
       " 'ka',\n",
       " 'po',\n",
       " 'to',\n",
       " 'ka',\n",
       " 'po',\n",
       " 'vi',\n",
       " 'ra',\n",
       " 'ka',\n",
       " 'po',\n",
       " 'pa',\n",
       " 'ka',\n",
       " 'po',\n",
       " 'ro',\n",
       " 'ka',\n",
       " 'po',\n",
       " 'ro',\n",
       " 'ka',\n",
       " 'po',\n",
       " 'ro',\n",
       " 'pa',\n",
       " 'ka',\n",
       " 'po',\n",
       " 'ro',\n",
       " 'to',\n",
       " 'ka',\n",
       " 'po',\n",
       " 'to',\n",
       " 'ka',\n",
       " 'pu',\n",
       " 'ka',\n",
       " 'pu',\n",
       " 'ka',\n",
       " 'pu',\n",
       " 'ka',\n",
       " 'pu',\n",
       " 'pa',\n",
       " 'to',\n",
       " 'ka',\n",
       " 'pu',\n",
       " 'pi',\n",
       " 'ka',\n",
       " 'pu',\n",
       " 'si',\n",
       " 'si',\n",
       " 'ka',\n",
       " 'pu',\n",
       " 'pi',\n",
       " 'ka',\n",
       " 'pu',\n",
       " 'pi',\n",
       " 'ka',\n",
       " 'pu',\n",
       " 'pi',\n",
       " 'pa',\n",
       " 'ka',\n",
       " 'pu',\n",
       " 'ka',\n",
       " 'pu',\n",
       " 'pi',\n",
       " 'ka',\n",
       " 'pu',\n",
       " 'pi',\n",
       " 'pa',\n",
       " 'ra',\n",
       " 'ka',\n",
       " 'ra',\n",
       " 'ka',\n",
       " 'ra',\n",
       " 'va',\n",
       " 'ka',\n",
       " 'ra',\n",
       " 'ka',\n",
       " 'ra',\n",
       " 'ka',\n",
       " 'ra',\n",
       " 'ka',\n",
       " 'ra',\n",
       " 'ka',\n",
       " 'ra',\n",
       " 'ka',\n",
       " 'ra',\n",
       " 'to',\n",
       " 'ka',\n",
       " 'ra',\n",
       " 'ka',\n",
       " 'ra',\n",
       " 'vi',\n",
       " 'ra',\n",
       " 'ka',\n",
       " 'ra',\n",
       " 'ka',\n",
       " 'ro',\n",
       " 'to',\n",
       " 'ka',\n",
       " 'ra',\n",
       " 'ku',\n",
       " 'ku',\n",
       " 'ka',\n",
       " 'ra',\n",
       " 'va',\n",
       " 'ka',\n",
       " 'ra',\n",
       " 'pi',\n",
       " 'ka',\n",
       " 'ra',\n",
       " 'pi',\n",
       " 'vi',\n",
       " 'ra',\n",
       " 'ka',\n",
       " 'ra',\n",
       " 'ra',\n",
       " 'ka',\n",
       " 'ra',\n",
       " 'ta',\n",
       " 'ka',\n",
       " 'ra',\n",
       " 'to',\n",
       " 'ka',\n",
       " 'ra',\n",
       " 'va',\n",
       " 'ka',\n",
       " 'ra',\n",
       " 'vi',\n",
       " 'si',\n",
       " 'ka',\n",
       " 'ra',\n",
       " 'vi',\n",
       " 'si',\n",
       " 'to',\n",
       " 'ka',\n",
       " 'ra',\n",
       " 'vu',\n",
       " 'ru',\n",
       " 'ka',\n",
       " 're',\n",
       " 'ka',\n",
       " 're',\n",
       " 'ka',\n",
       " 're',\n",
       " 'ka',\n",
       " 're',\n",
       " 'ka',\n",
       " 're',\n",
       " 'ka',\n",
       " 're',\n",
       " 'ka',\n",
       " 're',\n",
       " 'ka',\n",
       " 're',\n",
       " 're',\n",
       " 'ra',\n",
       " 'va',\n",
       " 'ka',\n",
       " 're',\n",
       " 'ka',\n",
       " 're',\n",
       " 'to',\n",
       " 'ka',\n",
       " 're',\n",
       " 'ke',\n",
       " 'ka',\n",
       " 're',\n",
       " 'ke',\n",
       " 'pi',\n",
       " 'ka',\n",
       " 're',\n",
       " 'ko',\n",
       " 'va',\n",
       " 'ka',\n",
       " 're',\n",
       " 'ka',\n",
       " 're',\n",
       " 'vi',\n",
       " 'ra',\n",
       " 'ka',\n",
       " 're',\n",
       " 'pi',\n",
       " 'ka',\n",
       " 're',\n",
       " 'pi',\n",
       " 'to',\n",
       " 're',\n",
       " 'pi',\n",
       " 'ri',\n",
       " 'ka',\n",
       " 'ri',\n",
       " 'ka',\n",
       " 'ri',\n",
       " 'ka',\n",
       " 'ri',\n",
       " 'va',\n",
       " 'ka',\n",
       " 'ri',\n",
       " 'ka',\n",
       " 'ri',\n",
       " 'ka',\n",
       " 'ri',\n",
       " 'ra',\n",
       " 'pa',\n",
       " 'ka',\n",
       " 'ri',\n",
       " 'si',\n",
       " 'to',\n",
       " 'ka',\n",
       " 'ri',\n",
       " 'va',\n",
       " 'ka',\n",
       " 'ri',\n",
       " 'va',\n",
       " 'to',\n",
       " 'ka',\n",
       " 'ri',\n",
       " 'va',\n",
       " 'ra',\n",
       " 'ka',\n",
       " 'ro',\n",
       " 'ka',\n",
       " 'ro',\n",
       " 'ka',\n",
       " 'ro',\n",
       " 'po',\n",
       " 'ka',\n",
       " 'ro',\n",
       " 'pa',\n",
       " 'to',\n",
       " 'ka',\n",
       " 'ro',\n",
       " 'po',\n",
       " 'ka',\n",
       " 'ro',\n",
       " 'ka',\n",
       " 'ro',\n",
       " 'to',\n",
       " 'ka',\n",
       " 'ro',\n",
       " 'va',\n",
       " 'ka',\n",
       " 'ru',\n",
       " 'ka',\n",
       " 'ru',\n",
       " 'ka',\n",
       " 'ka',\n",
       " 'ru',\n",
       " 'ka',\n",
       " 'ru',\n",
       " 'ka',\n",
       " 'ru',\n",
       " 'ka',\n",
       " 'va',\n",
       " 'ru',\n",
       " 'ru',\n",
       " 'ka',\n",
       " 'ru',\n",
       " 'tu',\n",
       " 'ka',\n",
       " 'ru',\n",
       " 'vi',\n",
       " 'ra',\n",
       " 'ka',\n",
       " 'si',\n",
       " 'ka',\n",
       " 'si',\n",
       " 'ka',\n",
       " 'si',\n",
       " 'ka',\n",
       " 'si',\n",
       " 'ra',\n",
       " 'ka',\n",
       " 'si',\n",
       " 'va',\n",
       " 'ka',\n",
       " 'si',\n",
       " 'ka',\n",
       " 'si',\n",
       " 'si',\n",
       " 'ka',\n",
       " 'si',\n",
       " 'ka',\n",
       " 'si',\n",
       " 'pi',\n",
       " 'ka',\n",
       " 'si',\n",
       " 'pu',\n",
       " 'ka',\n",
       " 'si',\n",
       " 'pu',\n",
       " 'pi',\n",
       " 'ka',\n",
       " 'si',\n",
       " 'pu',\n",
       " 'vi',\n",
       " 'ra',\n",
       " 'ka',\n",
       " 'si',\n",
       " 'ra',\n",
       " 'ka',\n",
       " 'si',\n",
       " 'ra',\n",
       " 'pi',\n",
       " 'ka',\n",
       " 'si',\n",
       " 'ra',\n",
       " 'vi',\n",
       " 'ra',\n",
       " 'ka',\n",
       " 'si',\n",
       " 'ka',\n",
       " 'si',\n",
       " 'ra',\n",
       " 'ka',\n",
       " 'si',\n",
       " 'va',\n",
       " 'ri',\n",
       " 'ka',\n",
       " 'su',\n",
       " 'ri',\n",
       " 'ka',\n",
       " 'ta',\n",
       " 'ka',\n",
       " 'ta',\n",
       " 'ka',\n",
       " 'ta',\n",
       " 'to',\n",
       " 're',\n",
       " 'ka',\n",
       " 'ta',\n",
       " 'ka',\n",
       " 'ta',\n",
       " 'ka',\n",
       " 'ta',\n",
       " 'ka',\n",
       " 'ta',\n",
       " 'vi',\n",
       " 'ra',\n",
       " 'ka',\n",
       " 'ta',\n",
       " 'ra',\n",
       " 'ka',\n",
       " 'ta',\n",
       " 'ra',\n",
       " 'to',\n",
       " 'ka',\n",
       " 'ta',\n",
       " 'vi',\n",
       " 'ra',\n",
       " 'ka',\n",
       " 'to',\n",
       " 'ka',\n",
       " 'to',\n",
       " 'ka',\n",
       " 'to',\n",
       " 'ka',\n",
       " 'to',\n",
       " 'to',\n",
       " 'ka',\n",
       " 'to',\n",
       " 'ka',\n",
       " 'to',\n",
       " 'vi',\n",
       " 'ra',\n",
       " 'ka',\n",
       " 'to',\n",
       " 'ko',\n",
       " 'ka',\n",
       " 'to',\n",
       " 'pa',\n",
       " 'to',\n",
       " 'ka',\n",
       " 'to',\n",
       " 'to',\n",
       " 'ka',\n",
       " 'tu',\n",
       " 'ra',\n",
       " 'ka',\n",
       " 'tu',\n",
       " 'ra',\n",
       " 'to',\n",
       " 'ka',\n",
       " 'tu',\n",
       " 'ka',\n",
       " 'tu',\n",
       " 'ka',\n",
       " 'tu',\n",
       " 'ta',\n",
       " 'ka',\n",
       " 'ka',\n",
       " 'ka',\n",
       " 'ka',\n",
       " 'ka',\n",
       " 'pi',\n",
       " 'ka',\n",
       " 'ka',\n",
       " 'vi',\n",
       " 'ra',\n",
       " 'ka',\n",
       " 'ko',\n",
       " 'vo',\n",
       " 'ka',\n",
       " 'ka',\n",
       " 'ka',\n",
       " 'ka',\n",
       " 're',\n",
       " 'ka',\n",
       " 're',\n",
       " 'to',\n",
       " 'ka',\n",
       " 'si',\n",
       " 'pa',\n",
       " 'ka',\n",
       " 'si',\n",
       " 'vi',\n",
       " 'ra',\n",
       " 'va',\n",
       " 'ka',\n",
       " 'va',\n",
       " 'ka',\n",
       " 'va',\n",
       " 'ka',\n",
       " 'va',\n",
       " 'ta',\n",
       " 'va',\n",
       " 'ta',\n",
       " 'ra',\n",
       " 'ka',\n",
       " 'va',\n",
       " 'ka',\n",
       " 'va',\n",
       " 'ka',\n",
       " 'va',\n",
       " 'si',\n",
       " 'va',\n",
       " 'ka',\n",
       " 've',\n",
       " 'ka',\n",
       " 've',\n",
       " 'ka',\n",
       " 've',\n",
       " 'pa',\n",
       " 'ka',\n",
       " 've',\n",
       " 'ru',\n",
       " 'ka',\n",
       " 've',\n",
       " 'ru',\n",
       " 'ko',\n",
       " 'ka',\n",
       " 've',\n",
       " 'si',\n",
       " 'ka',\n",
       " 'vi',\n",
       " 'ka',\n",
       " 'vi',\n",
       " 'ka',\n",
       " 'vi',\n",
       " 'ka',\n",
       " 'vi',\n",
       " 'ru',\n",
       " 'ka',\n",
       " 'vi',\n",
       " 'ka',\n",
       " 'vi',\n",
       " 'ru',\n",
       " 'ka',\n",
       " 'vi',\n",
       " 'ko',\n",
       " 'ka',\n",
       " 'vi',\n",
       " 'ko',\n",
       " 'ka',\n",
       " 'vi',\n",
       " 'ru',\n",
       " 'ka',\n",
       " 'vi',\n",
       " 'ru',\n",
       " 'ka',\n",
       " 'vi',\n",
       " 'ru',\n",
       " 'to',\n",
       " 'ka',\n",
       " 'vi',\n",
       " 'ru',\n",
       " 'vi',\n",
       " 'ra',\n",
       " 'ka',\n",
       " 'vo',\n",
       " 'ka',\n",
       " 'vo',\n",
       " 'ka',\n",
       " 'vo',\n",
       " 'ka',\n",
       " 'vo',\n",
       " 'ka',\n",
       " 'vo',\n",
       " 'ka',\n",
       " 'vo',\n",
       " 'ka',\n",
       " 'vo',\n",
       " 'to',\n",
       " 'ka',\n",
       " 'vo',\n",
       " 'ra',\n",
       " 'ka',\n",
       " 'vo',\n",
       " 'ra',\n",
       " 'to',\n",
       " 'ka',\n",
       " 'vo',\n",
       " 'ri',\n",
       " 'ka',\n",
       " 'vo',\n",
       " 'ri',\n",
       " 'ka',\n",
       " 'vo',\n",
       " 'ro',\n",
       " 'ka',\n",
       " 'vo',\n",
       " 'vo',\n",
       " 'ka',\n",
       " 'vo',\n",
       " 'vo',\n",
       " 'vi',\n",
       " 'ra',\n",
       " 'ka',\n",
       " 'vu',\n",
       " 'ka',\n",
       " 'vu',\n",
       " 'ka',\n",
       " 'vu',\n",
       " 'va',\n",
       " 'ka',\n",
       " 'vu',\n",
       " 'pi',\n",
       " 'ka',\n",
       " 'vu',\n",
       " 'ra',\n",
       " 'ka',\n",
       " 'vu',\n",
       " 'ra',\n",
       " 'ka',\n",
       " 'vu',\n",
       " 'si',\n",
       " 'ka',\n",
       " 'vu',\n",
       " 'vo',\n",
       " 'ke',\n",
       " 'ke',\n",
       " 'ke',\n",
       " 'ke',\n",
       " 'ke',\n",
       " 'to',\n",
       " 'ke',\n",
       " ...]"
      ]
     },
     "metadata": {},
     "execution_count": 15
    }
   ],
   "metadata": {}
  },
  {
   "cell_type": "markdown",
   "source": [
    "Examining the rows for *s* and *t*, we see they are in partial \"complementary distribution\", which is evidence that they are not distinct phonemes in the language. Thus, we could conceivably drop *s* from the Rotokas alphabet and simply have a pronunciation rule that the letter *t* is pronounced *s* when followed by *i*. (Note that the single entry having *su*, namely *kasuari*, 'cassowary' is borrowed from English.)\r\n",
    "\r\n",
    "If we want to be able to inspect the words behind the numbers in the above table, it would be helpful to have an index, allowing us to quickly find the list of words that contains a given consonant-vowel pair, e.g. `cv_index['su']` should give us all words containing *su*. Here's how we can do this:"
   ],
   "metadata": {}
  },
  {
   "cell_type": "code",
   "execution_count": null,
   "source": [
    "cv_word_pairs = [(cv, w) for w in rotokas_words\r\n",
    "                         for cv in re.findall(r'[ptksvr][aeiou]', w)]\r\n",
    "cv_index = nltk.Index(cv_word_pairs)\r\n",
    "cv_index['su']"
   ],
   "outputs": [],
   "metadata": {}
  },
  {
   "cell_type": "code",
   "execution_count": null,
   "source": [
    "cv_index['po']"
   ],
   "outputs": [],
   "metadata": {}
  },
  {
   "cell_type": "markdown",
   "source": [
    "This program processes each word `w` in turn, and for each one, finds every substring that matches the regular expression `«[ptksvr][aeiou]»`. In the case of the word *kasuari*, it finds *ka*, *su* and *ri*. Therefore, the `cv_word_pairs` list will contain `('ka', 'kasuari')`, `('su', 'kasuari')` and `('ri', 'kasuari')`. One further step, using `nltk.Index()`, converts this into a useful index."
   ],
   "metadata": {}
  },
  {
   "cell_type": "markdown",
   "source": [
    "### Finding Word Stems\n",
    "\n",
    "When we use a web search engine, we usually don't mind (or even notice) if the words in the document differ from our search terms in having different endings. A query for *laptops* finds documents containing *laptop* and vice versa. Indeed, *laptop* and *laptops* are just two forms of the same dictionary word (or lemma). For some language processing tasks we want to ignore word endings, and just deal with word stems.\n",
    "\n",
    "There are various ways we can pull out the stem of a word. Here's a simple-minded approach which just strips off anything that looks like a suffix:"
   ],
   "metadata": {}
  },
  {
   "cell_type": "code",
   "execution_count": null,
   "source": [
    "def stem(word):\r\n",
    "    for suffix in ['ing', 'ly', 'ed', 'ious', 'ies', 'ive', 'es', 's', 'ment']:\r\n",
    "        if word.endswith(suffix):\r\n",
    "            return word[:-len(suffix)]\r\n",
    "    return word"
   ],
   "outputs": [],
   "metadata": {}
  },
  {
   "cell_type": "markdown",
   "source": [
    "Although we will ultimately use NLTK's built-in stemmers, it's interesting to see how we can use regular expressions for this task. Our first step is to build up a disjunction of all the suffixes. We need to enclose it in parentheses in order to limit the scope of the disjunction."
   ],
   "metadata": {}
  },
  {
   "cell_type": "code",
   "execution_count": null,
   "source": [
    "re.findall(r'^.*(ing|ly|ed|ious|ies|ive|es|s|ment)$', 'processing')"
   ],
   "outputs": [],
   "metadata": {}
  },
  {
   "cell_type": "markdown",
   "source": [
    "Here, `re.findall()` just gave us the suffix even though the regular expression matched the entire word. This is because the parentheses have a second function, to select substrings to be extracted. If we want to use the parentheses to specify the scope of the disjunction, but not to select the material to be output, we have to add `?:`, which is just one of many arcane subtleties of regular expressions. Here's the revised version."
   ],
   "metadata": {}
  },
  {
   "cell_type": "code",
   "execution_count": null,
   "source": [
    "re.findall(r'^.*(?:ing|ly|ed|ious|ies|ive|es|s|ment)$', 'processing')"
   ],
   "outputs": [],
   "metadata": {}
  },
  {
   "cell_type": "markdown",
   "source": [
    "However, we'd actually like to split the word into stem and suffix. So we should just parenthesize both parts of the regular expression:"
   ],
   "metadata": {}
  },
  {
   "cell_type": "code",
   "execution_count": null,
   "source": [
    "re.findall(r'^(.*)(ing|ly|ed|ious|ies|ive|es|s|ment)$', 'processing')"
   ],
   "outputs": [],
   "metadata": {}
  },
  {
   "cell_type": "markdown",
   "source": [
    "This looks promising, but still has a problem. Let's look at a different word, *processes*:"
   ],
   "metadata": {}
  },
  {
   "cell_type": "code",
   "execution_count": null,
   "source": [
    "re.findall(r'^(.*)(ing|ly|ed|ious|ies|ive|es|s|ment)$', 'processes')"
   ],
   "outputs": [],
   "metadata": {}
  },
  {
   "cell_type": "markdown",
   "source": [
    "The regular expression incorrectly found an *-s* suffix instead of an *-es* suffix. This demonstrates another subtlety: the star operator is \"greedy\" and the `.*` part of the expression tries to consume as much of the input as possible. If we use the \"non-greedy\" version of the star operator, written `*?`, we get what we want:"
   ],
   "metadata": {}
  },
  {
   "cell_type": "code",
   "execution_count": null,
   "source": [
    "re.findall(r'^(.*?)(ing|ly|ed|ious|ies|ive|es|s|ment)$', 'processes')"
   ],
   "outputs": [],
   "metadata": {}
  },
  {
   "cell_type": "markdown",
   "source": [
    "This works even when we allow an empty suffix, by making the content of the second parentheses optional:"
   ],
   "metadata": {}
  },
  {
   "cell_type": "code",
   "execution_count": null,
   "source": [
    "re.findall(r'^(.*?)(ing|ly|ed|ious|ies|ive|es|s|ment)?$', 'language')"
   ],
   "outputs": [],
   "metadata": {}
  },
  {
   "cell_type": "markdown",
   "source": [
    "This approach still has many problems (can you spot them?) but we will move on to define a function to perform stemming, and apply it to a whole text:"
   ],
   "metadata": {}
  },
  {
   "cell_type": "code",
   "execution_count": null,
   "source": [
    "def stem(word):\r\n",
    "    regexp = r'^(.*?)(ing|ly|ed|ious|ies|ive|es|s|ment)?$'\r\n",
    "    stem, suffix = re.findall(regexp, word)[0]\r\n",
    "    return stem\r\n",
    "\r\n",
    "raw = \"\"\"DENNIS: Listen, strange women lying in ponds distributing swords\r\n",
    "is no basis for a system of government.  Supreme executive power derives from\r\n",
    "a mandate from the masses, not from some farcical aquatic ceremony.\"\"\"\r\n",
    "tokens = word_tokenize(raw)\r\n",
    "[stem(t) for t in tokens]"
   ],
   "outputs": [],
   "metadata": {}
  },
  {
   "cell_type": "markdown",
   "source": [
    "Notice that our regular expression removed the *s* from *ponds* but also from *is* and *basis*. It produced some non-words like *distribut* and *deriv*, but these are acceptable stems in some applications."
   ],
   "metadata": {}
  },
  {
   "cell_type": "markdown",
   "source": [
    "### Searching Tokenized Text\n",
    "\n",
    "You can use a special kind of regular expression for searching across multiple words in a text (where a text is a list of tokens). For example, `\"<a> <man>\"` finds all instances of *a man* in the text. The angle brackets are used to mark token boundaries, and any whitespace between the angle brackets is ignored (behaviors that are unique to NLTK's `findall()` method for texts). In the following example, we include `<.*>` which will match any single token, and enclose it in parentheses so only the matched word (e.g. *monied*) and not the matched phrase (e.g. *a monied man*) is produced. The second example finds three-word phrases ending with the word *bro*. The last example finds sequences of three or more words starting with the letter *l*."
   ],
   "metadata": {}
  },
  {
   "cell_type": "code",
   "execution_count": null,
   "source": [
    "from nltk.corpus import gutenberg, nps_chat\r\n",
    "moby = nltk.Text(gutenberg.words('melville-moby_dick.txt'))\r\n",
    "moby.findall(r\"<a> (<.*>) <man>\")"
   ],
   "outputs": [],
   "metadata": {}
  },
  {
   "cell_type": "code",
   "execution_count": null,
   "source": [
    "chat = nltk.Text(nps_chat.words())\r\n",
    "chat.findall(r\"<.*> <.*> <bro>\")"
   ],
   "outputs": [],
   "metadata": {}
  },
  {
   "cell_type": "code",
   "execution_count": null,
   "source": [
    "chat.findall(r\"<l.*>{3,}\")"
   ],
   "outputs": [],
   "metadata": {}
  },
  {
   "cell_type": "markdown",
   "source": [
    "It is easy to build search patterns when the linguistic phenomenon we're studying is tied to particular words. In some cases, a little creativity will go a long way. For instance, searching a large text corpus for expressions of the form *x and other ys* allows us to discover hypernyms:"
   ],
   "metadata": {}
  },
  {
   "cell_type": "code",
   "execution_count": null,
   "source": [
    "from nltk.corpus import brown\r\n",
    "hobbies_learned = nltk.Text(brown.words(categories=['hobbies', 'learned']))\r\n",
    "hobbies_learned.findall(r\"<\\w*> <and> <other> <\\w*s>\")"
   ],
   "outputs": [],
   "metadata": {}
  },
  {
   "cell_type": "markdown",
   "source": [
    "With enough text, this approach would give us a useful store of information about the taxonomy of objects, without the need for any manual labor. However, our search results will usually contain false positives, i.e. cases that we would want to exclude. For example, the result: *demands and other factors* suggests that *demand* is an instance of the type *factor*, but this sentence is actually about wage demands. Nevertheless, we could construct our own ontology of English concepts by manually correcting the output of such searches."
   ],
   "metadata": {}
  },
  {
   "cell_type": "markdown",
   "source": [
    "Searching corpora also suffers from the problem of false negatives, i.e. omitting cases that we would want to include. It is risky to conclude that some linguistic phenomenon doesn't exist in a corpus just because we couldn't find any instances of a search pattern. Perhaps we just didn't think carefully enough about suitable patterns."
   ],
   "metadata": {}
  },
  {
   "cell_type": "markdown",
   "source": [
    "## 3.6   Normalizing Text\n",
    "\n",
    "In earlier program examples we have often converted text to lowercase before doing anything with its words, e.g. `set(w.lower() for w in text)`. By using `lower()`, we have **normalized** the text to lowercase so that the distinction between *The* and *the* is ignored. Often we want to go further than this, and strip off any affixes, a task known as stemming. A further step is to make sure that the resulting form is a known word in a dictionary, a task known as lemmatization. We discuss each of these in turn. First, we need to define the data we will use in this section:"
   ],
   "metadata": {}
  },
  {
   "cell_type": "code",
   "execution_count": null,
   "source": [
    "raw = \"\"\"DENNIS: Listen, strange women lying in ponds distributing swords\r\n",
    "is no basis for a system of government.  Supreme executive power derives from\r\n",
    "a mandate from the masses, not from some farcical aquatic ceremony.\"\"\"\r\n",
    "tokens = word_tokenize(raw)"
   ],
   "outputs": [],
   "metadata": {}
  },
  {
   "cell_type": "markdown",
   "source": [
    "### Stemmers\n",
    "\n",
    "NLTK includes several off-the-shelf stemmers, and if you ever need a stemmer you should use one of these in preference to crafting your own using regular expressions, since these handle a wide range of irregular cases. The Porter and Lancaster stemmers follow their own rules for stripping affixes. Observe that the Porter stemmer correctly handles the word *lying* (mapping it to *lie*), while the Lancaster stemmer does not."
   ],
   "metadata": {}
  },
  {
   "cell_type": "code",
   "execution_count": null,
   "source": [
    "porter = nltk.PorterStemmer()\r\n",
    "lancaster = nltk.LancasterStemmer()\r\n",
    "[porter.stem(t) for t in tokens]"
   ],
   "outputs": [],
   "metadata": {}
  },
  {
   "cell_type": "code",
   "execution_count": null,
   "source": [
    "[lancaster.stem(t) for t in tokens]"
   ],
   "outputs": [],
   "metadata": {}
  },
  {
   "cell_type": "markdown",
   "source": [
    "Stemming is not a well-defined process, and we typically pick the stemmer that best suits the application we have in mind. The Porter Stemmer is a good choice if you are indexing some texts and want to support search using alternative forms of words (illustrated in the code below, which uses *object oriented* programming techniques that are outside the scope of this book, string formatting techniques to be covered in Section 3.9, and the `enumerate()` function to be explained in Chapter 4)."
   ],
   "metadata": {}
  },
  {
   "cell_type": "code",
   "execution_count": null,
   "source": [
    "class IndexedText(object):\r\n",
    "\r\n",
    "    def __init__(self, stemmer, text):\r\n",
    "        self._text = text\r\n",
    "        self._stemmer = stemmer\r\n",
    "        self._index = nltk.Index((self._stem(word), i)\r\n",
    "                                 for (i, word) in enumerate(text))\r\n",
    "\r\n",
    "    def concordance(self, word, width=40):\r\n",
    "        key = self._stem(word)\r\n",
    "        wc = int(width/4)                # words of context\r\n",
    "        for i in self._index[key]:\r\n",
    "            lcontext = ' '.join(self._text[i-wc:i])\r\n",
    "            rcontext = ' '.join(self._text[i:i+wc])\r\n",
    "            ldisplay = '{:>{width}}'.format(lcontext[-width:], width=width)\r\n",
    "            rdisplay = '{:{width}}'.format(rcontext[:width], width=width)\r\n",
    "            print(ldisplay, rdisplay)\r\n",
    "\r\n",
    "    def _stem(self, word):\r\n",
    "        return self._stemmer.stem(word).lower()\r\n",
    "\r\n",
    "porter = nltk.PorterStemmer()\r\n",
    "grail = nltk.corpus.webtext.words('grail.txt')\r\n",
    "text = IndexedText(porter, grail)\r\n",
    "text.concordance('lie')"
   ],
   "outputs": [],
   "metadata": {}
  },
  {
   "cell_type": "markdown",
   "source": [
    "### Lemmatization\n",
    "\n",
    "The WordNet lemmatizer only removes affixes if the resulting word is in its dictionary. This additional checking process makes the lemmatizer slower than the above stemmers. Notice that it doesn't handle *lying*, but it converts *women* to *woman*."
   ],
   "metadata": {}
  },
  {
   "cell_type": "code",
   "execution_count": null,
   "source": [
    "wnl = nltk.WordNetLemmatizer()\r\n",
    "[wnl.lemmatize(t) for t in tokens]"
   ],
   "outputs": [],
   "metadata": {}
  },
  {
   "cell_type": "markdown",
   "source": [
    "The WordNet lemmatizer is a good choice if you want to compile the vocabulary of some texts and want a list of valid lemmas (or lexicon headwords)."
   ],
   "metadata": {}
  },
  {
   "cell_type": "markdown",
   "source": [
    "## 3.7   Regular Expressions for Tokenizing Text\r\n",
    "\r\n",
    "Tokenization is the task of cutting a string into identifiable linguistic units that constitute a piece of language data. Although it is a fundamental task, we have been able to delay it until now because many corpora are already tokenized, and because NLTK includes some tokenizers. Now that you are familiar with regular expressions, you can learn how to use them to tokenize text, and to have much more control over the process.\r\n",
    "\r\n",
    "### Simple Approaches to Tokenization\r\n",
    "\r\n",
    "The very simplest method for tokenizing text is to split on whitespace. Consider the following text from *Alice's Adventures in Wonderland*:"
   ],
   "metadata": {}
  },
  {
   "cell_type": "code",
   "execution_count": 9,
   "source": [
    "raw = \"\"\"'When I'M a Duchess,' she said to herself, (not in a very hopeful tone\r\n",
    "though), 'I won't have any pepper in my kitchen AT ALL. Soup does very\r\n",
    "well without--Maybe it's always pepper that makes people hot-tempered,'...\"\"\""
   ],
   "outputs": [],
   "metadata": {}
  },
  {
   "cell_type": "markdown",
   "source": [
    "We could split this raw text on whitespace using `raw.split()`. To do the same using a regular expression, it is not enough to match any space characters in the string since this results in tokens that contain a `\\n` newline character; instead we need to match any number of spaces, tabs, or newlines:"
   ],
   "metadata": {}
  },
  {
   "cell_type": "code",
   "execution_count": 10,
   "source": [
    "re.split(r' ', raw)"
   ],
   "outputs": [
    {
     "output_type": "execute_result",
     "data": {
      "text/plain": [
       "[\"'When\",\n",
       " \"I'M\",\n",
       " 'a',\n",
       " \"Duchess,'\",\n",
       " 'she',\n",
       " 'said',\n",
       " 'to',\n",
       " 'herself,',\n",
       " '(not',\n",
       " 'in',\n",
       " 'a',\n",
       " 'very',\n",
       " 'hopeful',\n",
       " 'tone\\nthough),',\n",
       " \"'I\",\n",
       " \"won't\",\n",
       " 'have',\n",
       " 'any',\n",
       " 'pepper',\n",
       " 'in',\n",
       " 'my',\n",
       " 'kitchen',\n",
       " 'AT',\n",
       " 'ALL.',\n",
       " 'Soup',\n",
       " 'does',\n",
       " 'very\\nwell',\n",
       " 'without--Maybe',\n",
       " \"it's\",\n",
       " 'always',\n",
       " 'pepper',\n",
       " 'that',\n",
       " 'makes',\n",
       " 'people',\n",
       " \"hot-tempered,'...\"]"
      ]
     },
     "metadata": {},
     "execution_count": 10
    }
   ],
   "metadata": {}
  },
  {
   "cell_type": "code",
   "execution_count": 11,
   "source": [
    "re.split(r'[ \\t\\n]+', raw)"
   ],
   "outputs": [
    {
     "output_type": "execute_result",
     "data": {
      "text/plain": [
       "[\"'When\",\n",
       " \"I'M\",\n",
       " 'a',\n",
       " \"Duchess,'\",\n",
       " 'she',\n",
       " 'said',\n",
       " 'to',\n",
       " 'herself,',\n",
       " '(not',\n",
       " 'in',\n",
       " 'a',\n",
       " 'very',\n",
       " 'hopeful',\n",
       " 'tone',\n",
       " 'though),',\n",
       " \"'I\",\n",
       " \"won't\",\n",
       " 'have',\n",
       " 'any',\n",
       " 'pepper',\n",
       " 'in',\n",
       " 'my',\n",
       " 'kitchen',\n",
       " 'AT',\n",
       " 'ALL.',\n",
       " 'Soup',\n",
       " 'does',\n",
       " 'very',\n",
       " 'well',\n",
       " 'without--Maybe',\n",
       " \"it's\",\n",
       " 'always',\n",
       " 'pepper',\n",
       " 'that',\n",
       " 'makes',\n",
       " 'people',\n",
       " \"hot-tempered,'...\"]"
      ]
     },
     "metadata": {},
     "execution_count": 11
    }
   ],
   "metadata": {}
  },
  {
   "cell_type": "markdown",
   "source": [
    "The regular expression `«[ \\t\\n]+»` matches one or more space, tab (`\\t`) or newline (`\\n`). Other whitespace characters, such as carriage-return and form-feed should really be included too. Instead, we will use a built-in `re` abbreviation, `\\s`, which means any whitespace character. The above statement can be rewritten as `re.split(r'\\s+', raw)`.\r\n",
    "\r\n",
    "Splitting on whitespace gives us tokens like `'(not'` and `'herself,'`. An alternative is to use the fact that Python provides us with a character class `\\w` for word characters, equivalent to `[a-zA-Z0-9_]`. It also defines the complement of this class `\\W`, i.e. all characters other than letters, digits or underscore. We can use `\\W` in a simple regular expression to split the input on anything *other* than a word character:"
   ],
   "metadata": {}
  },
  {
   "cell_type": "code",
   "execution_count": null,
   "source": [
    "re.split(r'\\W+', raw)"
   ],
   "outputs": [],
   "metadata": {}
  },
  {
   "cell_type": "markdown",
   "source": [
    "Observe that this gives us empty strings at the start and the end (to understand why, try doing `'xx'.split('x')`). We get the same tokens, but without the empty strings, with `re.findall(r'\\w+', raw)`, using a pattern that matches the words instead of the spaces. Now that we're matching the words, we're in a position to extend the regular expression to cover a wider range of cases. The regular expression `«\\w+|\\S\\w*»` will first try to match any sequence of word characters. If no match is found, it will try to match any non-whitespace character (`\\S` is the complement of `\\s`) followed by further word characters. This means that punctuation is grouped with any following letters (e.g. *'s*) but that sequences of two or more punctuation characters are separated."
   ],
   "metadata": {}
  },
  {
   "cell_type": "code",
   "execution_count": null,
   "source": [
    "re.findall(r'\\w+|\\S\\w*', raw)"
   ],
   "outputs": [],
   "metadata": {}
  },
  {
   "cell_type": "markdown",
   "source": [
    "Let's generalize the `\\w+` in the above expression to permit word-internal hyphens and apostrophes: `«\\w+([-']\\w+)*»`. This expression means `\\w+` followed by zero or more instances of `[-']\\w+`; it would match *hot-tempered* and *it's*. (We need to include `?:` in this expression for reasons discussed earlier.) We'll also add a pattern to match quote characters so these are kept separate from the text they enclose."
   ],
   "metadata": {}
  },
  {
   "cell_type": "code",
   "execution_count": null,
   "source": [
    "print(re.findall(r\"\\w+(?:[-']\\w+)*|'|[-.(]+|\\S\\w*\", raw))"
   ],
   "outputs": [],
   "metadata": {}
  },
  {
   "cell_type": "markdown",
   "source": [
    "The above expression also included `«[-.(]+»` which causes the double hyphen, ellipsis, and open parenthesis to be tokenized separately.\r\n",
    "\r\n",
    "Below we list the regular expression character class symbols we have seen in this section, in addition to some other useful symbols.\r\n",
    "\r\n",
    "*Regular Expression Symbols*\r\n",
    "\r\n",
    "|Symbol| \tFunction|\r\n",
    "|:-|:-|\r\n",
    "|`\\b`| \tWord boundary (zero width)|\r\n",
    "|`\\d`| \tAny decimal digit (equivalent to `[0-9]`)|\r\n",
    "|`\\D`| \tAny non-digit character (equivalent to `[^0-9]`)|\r\n",
    "|`\\s`| \tAny whitespace character (equivalent to `[ \\t\\n\\r\\f\\v]`)|\r\n",
    "|`\\S`| \tAny non-whitespace character (equivalent to `[^ \\t\\n\\r\\f\\v]`)|\r\n",
    "|`\\w`| \tAny alphanumeric character (equivalent to `[a-zA-Z0-9_]`)|\r\n",
    "|`\\W`| \tAny non-alphanumeric character (equivalent to `[^a-zA-Z0-9_]`)|\r\n",
    "|`\\t`| \tThe tab character|\r\n",
    "|`\\n`| \tThe newline character|"
   ],
   "metadata": {}
  },
  {
   "cell_type": "markdown",
   "source": [
    "### NLTK's Regular Expression Tokenizer\n",
    "\n",
    "The function `nltk.regexp_tokenize()` is similar to `re.findall()` (as we've been using it for tokenization). However, `nltk.regexp_tokenize()` is more efficient for this task, and avoids the need for special treatment of parentheses. For readability we break up the regular expression over several lines and add a comment about each line. The special `(?x)` \"verbose flag\" tells Python to strip out the embedded whitespace and comments."
   ],
   "metadata": {}
  },
  {
   "cell_type": "code",
   "execution_count": null,
   "source": [
    "text = 'That U.S.A. poster-print costs $12.40...'\r\n",
    "pattern = r'''(?x)     # set flag to allow verbose regexps\r\n",
    "    (?:[A-Z]\\.)+       # abbreviations, e.g. U.S.A.\r\n",
    "  | \\w+(?:-\\w+)*       # words with optional internal hyphens\r\n",
    "  | \\$?\\d+(?:\\.\\d+)?%? # currency and percentages, e.g. $12.40, 82%\r\n",
    "  | \\.\\.\\.             # ellipsis\r\n",
    "  | [][.,;\"'?():-_`]   # these are separate tokens; includes ], [\r\n",
    "'''\r\n",
    "nltk.regexp_tokenize(text, pattern)"
   ],
   "outputs": [],
   "metadata": {}
  },
  {
   "cell_type": "markdown",
   "source": [
    "When using the verbose flag, you can no longer use `' '` to match a space character; use `\\s` instead. The `regexp_tokenize()` function has an optional `gaps` parameter. When set to `True`, the regular expression specifies the gaps between tokens, as with `re.split()`."
   ],
   "metadata": {}
  },
  {
   "cell_type": "markdown",
   "source": [
    "### Further Issues with Tokenization\n",
    "\n",
    "Tokenization turns out to be a far more difficult task than you might have expected. No single solution works well across-the-board, and we must decide what counts as a token depending on the application domain.\n",
    "\n",
    "When developing a tokenizer it helps to have access to raw text which has been manually tokenized, in order to compare the output of your tokenizer with high-quality (or \"gold-standard\") tokens. The NLTK corpus collection includes a sample of Penn Treebank data, including the raw Wall Street Journal text (`nltk.corpus.treebank_raw.raw()`) and the tokenized version (`nltk.corpus.treebank.words()`).\n",
    "\n",
    "A final issue for tokenization is the presence of contractions, such as *didn't*. If we are analyzing the meaning of a sentence, it would probably be more useful to normalize this form to two separate forms: *did* and *n't* (or *not*). We can do this work with the help of a lookup table."
   ],
   "metadata": {}
  },
  {
   "cell_type": "markdown",
   "source": [
    "## 3.8   Segmentation\n",
    "\n",
    "This section discusses more advanced concepts, which you may prefer to skip on the first time through this chapter.\n",
    "\n",
    "Tokenization is an instance of a more general problem of **segmentation**. In this section we will look at two other instances of this problem, which use radically different techniques to the ones we have seen so far in this chapter.\n"
   ],
   "metadata": {}
  },
  {
   "cell_type": "markdown",
   "source": [
    "### Sentence Segmentation\n",
    "\n",
    "Manipulating texts at the level of individual words often presupposes the ability to divide a text into individual sentences. As we have seen, some corpora already provide access at the sentence level. In the following example, we compute the average number of words per sentence in the Brown Corpus:"
   ],
   "metadata": {}
  },
  {
   "cell_type": "code",
   "execution_count": null,
   "source": [
    "len(nltk.corpus.brown.words()) / len(nltk.corpus.brown.sents())"
   ],
   "outputs": [],
   "metadata": {}
  },
  {
   "cell_type": "markdown",
   "source": [
    "In other cases, the text is only available as a stream of characters. Before tokenizing the text into words, we need to segment it into sentences. NLTK facilitates this by including the Punkt sentence segmenter. Here is an example of its use in segmenting the text of a novel:"
   ],
   "metadata": {}
  },
  {
   "cell_type": "code",
   "execution_count": null,
   "source": [
    "text = nltk.corpus.gutenberg.raw('chesterton-thursday.txt')\r\n",
    "sents = nltk.sent_tokenize(text)\r\n",
    "pprint.pprint(sents[79:89])"
   ],
   "outputs": [],
   "metadata": {}
  },
  {
   "cell_type": "markdown",
   "source": [
    "Notice that this example is really a single sentence, reporting the speech of Mr Lucian Gregory. However, the quoted speech contains several sentences, and these have been split into individual strings. This is reasonable behavior for most applications.\n",
    "\n",
    "Sentence segmentation is difficult because period is used to mark abbreviations, and some periods simultaneously mark an abbreviation and terminate a sentence, as often happens with acronyms like *U.S.A.*\n",
    "\n",
    "For another approach to sentence segmentation, see Chapter 6."
   ],
   "metadata": {}
  },
  {
   "cell_type": "markdown",
   "source": [
    "### Word Segmentation\r\n",
    "\r\n",
    "For some writing systems, tokenizing text is made more difficult by the fact that there is no visual representation of word boundaries. For example, in Chinese, the three-character string: 爱国人 (ai4 \"love\" (verb), guo2 \"country\", ren2 \"person\") could be tokenized as 爱国 / 人, \"country-loving person\" or as 爱 / 国人, \"love country-person.\"\r\n",
    "\r\n",
    "A similar problem arises in the processing of spoken language, where the hearer must segment a continuous speech stream into individual words. A particularly challenging version of this problem arises when we don't know the words in advance. This is the problem faced by a language learner, such as a child hearing utterances from a parent. Consider the following artificial example, where word boundaries have been removed:\r\n",
    "\r\n",
    "(1a) doyouseethekitty\r\n",
    "\r\n",
    "(1b)\t\tseethedoggy\r\n",
    "\r\n",
    "(1c)\t\tdoyoulikethekitty\r\n",
    "\r\n",
    "(1d)\t\tlikethedoggy"
   ],
   "metadata": {}
  },
  {
   "cell_type": "markdown",
   "source": [
    "Our first challenge is simply to represent the problem: we need to find a way to separate text content from the segmentation. We can do this by annotating each character with a boolean value to indicate whether or not a word-break appears after the character (an idea that will be used heavily for \"chunking\" in Chapter 7). Let's assume that the learner is given the utterance breaks, since these often correspond to extended pauses. Here is a possible representation, including the initial and target segmentations:"
   ],
   "metadata": {}
  },
  {
   "cell_type": "code",
   "execution_count": null,
   "source": [
    "text = \"doyouseethekittyseethedoggydoyoulikethekittylikethedoggy\"\r\n",
    "seg1 = \"0000000000000001000000000010000000000000000100000000000\"\r\n",
    "seg2 = \"0100100100100001001001000010100100010010000100010010000\""
   ],
   "outputs": [],
   "metadata": {}
  },
  {
   "cell_type": "markdown",
   "source": [
    "Observe that the segmentation strings consist of zeros and ones. They are one character shorter than the source text, since a text of length *n* can only be broken up in *n-1* places. The `segment()` function demonstrates that we can get back to the original segmented text from the above representation."
   ],
   "metadata": {}
  },
  {
   "cell_type": "code",
   "execution_count": null,
   "source": [
    "def segment(text, segs):\r\n",
    "    words = []\r\n",
    "    last = 0\r\n",
    "    for i in range(len(segs)):\r\n",
    "        if segs[i] == '1':\r\n",
    "            words.append(text[last:i+1])\r\n",
    "            last = i+1\r\n",
    "    words.append(text[last:])\r\n",
    "    return words\r\n",
    "\r\n",
    "text = \"doyouseethekittyseethedoggydoyoulikethekittylikethedoggy\"\r\n",
    "seg1 = \"0000000000000001000000000010000000000000000100000000000\"\r\n",
    "seg2 = \"0100100100100001001001000010100100010010000100010010000\"\r\n",
    "segment(text, seg1)"
   ],
   "outputs": [],
   "metadata": {}
  },
  {
   "cell_type": "code",
   "execution_count": null,
   "source": [
    "segment(text, seg2)"
   ],
   "outputs": [],
   "metadata": {}
  },
  {
   "cell_type": "markdown",
   "source": [
    "Now the segmentation task becomes a search problem: find the bit string that causes the text string to be correctly segmented into words. We assume the learner is acquiring words and storing them in an internal lexicon. Given a suitable lexicon, it is possible to reconstruct the source text as a sequence of lexical items. We can define an **objective function**, a scoring function whose value we will try to optimize, based on the size of the lexicon (number of characters in the words plus an extra delimiter character to mark the end of each word) and the amount of information needed to reconstruct the source text from the lexicon. We illustrate this in the following figure.\r\n",
    "\r\n",
    "<img src= 'images/brent.png' width='600' />\r\n",
    "\r\n",
    "*Calculation of Objective Function: Given a hypothetical segmentation of the source text (on the left), derive a lexicon and a derivation table that permit the source text to be reconstructed, then total up the number of characters used by each lexical item (including a boundary marker) and the number of lexical items used by each derivation, to serve as a score of the quality of the segmentation; smaller values of the score indicate a better segmentation.*\r\n",
    "\r\n",
    "It is a simple matter to implement this objective function:"
   ],
   "metadata": {}
  },
  {
   "cell_type": "code",
   "execution_count": null,
   "source": [
    "def evaluate(text, segs):\r\n",
    "    words = segment(text, segs)\r\n",
    "    text_size = len(words)\r\n",
    "    lexicon_size = sum(len(word) + 1 for word in set(words))\r\n",
    "    return text_size + lexicon_size\r\n",
    "\r\n",
    "text = \"doyouseethekittyseethedoggydoyoulikethekittylikethedoggy\"\r\n",
    "seg1 = \"0000000000000001000000000010000000000000000100000000000\"\r\n",
    "seg2 = \"0100100100100001001001000010100100010010000100010010000\"\r\n",
    "seg3 = \"0000100100000011001000000110000100010000001100010000001\"\r\n",
    "segment(text, seg3)"
   ],
   "outputs": [],
   "metadata": {}
  },
  {
   "cell_type": "code",
   "execution_count": null,
   "source": [
    "evaluate(text, seg3)"
   ],
   "outputs": [],
   "metadata": {}
  },
  {
   "cell_type": "code",
   "execution_count": null,
   "source": [
    "evaluate(text, seg2)"
   ],
   "outputs": [],
   "metadata": {}
  },
  {
   "cell_type": "code",
   "execution_count": null,
   "source": [
    "evaluate(text, seg1)"
   ],
   "outputs": [],
   "metadata": {}
  },
  {
   "cell_type": "markdown",
   "source": [
    "The final step is to search for the pattern of zeros and ones that minimizes this objective function. Notice that the best segmentation includes \"words\" like *thekitty*, since there's not enough evidence in the data to split this any further."
   ],
   "metadata": {}
  },
  {
   "cell_type": "code",
   "execution_count": null,
   "source": [
    "from random import randint\r\n",
    "\r\n",
    "def flip(segs, pos):\r\n",
    "    return segs[:pos] + str(1-int(segs[pos])) + segs[pos+1:]\r\n",
    "\r\n",
    "def flip_n(segs, n):\r\n",
    "    for i in range(n):\r\n",
    "        segs = flip(segs, randint(0, len(segs)-1))\r\n",
    "    return segs\r\n",
    "\r\n",
    "def anneal(text, segs, iterations, cooling_rate):\r\n",
    "    temperature = float(len(segs))\r\n",
    "    while temperature > 0.5:\r\n",
    "        best_segs, best = segs, evaluate(text, segs)\r\n",
    "        for i in range(iterations):\r\n",
    "            guess = flip_n(segs, round(temperature))\r\n",
    "            score = evaluate(text, guess)\r\n",
    "            if score < best:\r\n",
    "                best, best_segs = score, guess\r\n",
    "        score, segs = best, best_segs\r\n",
    "        temperature = temperature / cooling_rate\r\n",
    "        print(evaluate(text, segs), segment(text, segs))\r\n",
    "    print()\r\n",
    "    return segs\r\n",
    "\r\n",
    "text = \"doyouseethekittyseethedoggydoyoulikethekittylikethedoggy\"\r\n",
    "seg1 = \"0000000000000001000000000010000000000000000100000000000\"\r\n",
    "anneal(text, seg1, 5000, 1.2)"
   ],
   "outputs": [],
   "metadata": {}
  },
  {
   "cell_type": "markdown",
   "source": [
    "This is an example of non-deterministic search using **simulated annealing**: begin searching with phrase segmentations only; randomly perturb the zeros and ones proportional to the \"temperature\"; with each iteration the temperature is lowered and the perturbation of boundaries is reduced.\r\n",
    "\r\n",
    "With enough data, it is possible to automatically segment text into words with a reasonable degree of accuracy. Such methods can be applied to tokenization for writing systems that don't have any visual representation of word boundaries."
   ],
   "metadata": {}
  },
  {
   "cell_type": "markdown",
   "source": [
    "## 3.9   Formatting: From Lists to Strings\r\n",
    "\r\n",
    "Often we write a program to report a single data item, such as a particular element in a corpus that meets some complicated criterion, or a single summary statistic such as a word-count or the performance of a tagger. More often, we write a program to produce a structured result; for example, a tabulation of numbers or linguistic forms, or a reformatting of the original data. When the results to be presented are linguistic, textual output is usually the most natural choice. However, when the results are numerical, it may be preferable to produce graphical output. In this section you will learn about a variety of ways to present program output.\r\n",
    "\r\n",
    "### From Lists to Strings\r\n",
    "\r\n",
    "The simplest kind of structured object we use for text processing is lists of words. When we want to output these to a display or a file, we must convert these lists into strings. To do this in Python we use the `join()` method, and specify the string to be used as the \"glue\"."
   ],
   "metadata": {}
  },
  {
   "cell_type": "code",
   "execution_count": null,
   "source": [
    "silly = ['We', 'called', 'him', 'Tortoise', 'because', 'he', 'taught', 'us', '.']\r\n",
    "' '.join(silly)"
   ],
   "outputs": [],
   "metadata": {}
  },
  {
   "cell_type": "code",
   "execution_count": null,
   "source": [
    "';'.join(silly)"
   ],
   "outputs": [],
   "metadata": {}
  },
  {
   "cell_type": "code",
   "execution_count": null,
   "source": [
    "''.join(silly)"
   ],
   "outputs": [],
   "metadata": {}
  },
  {
   "cell_type": "markdown",
   "source": [
    "So `' '.join(silly)` means: take all the items in `silly` and concatenate them as one big string, using `' '` as a spacer between the items. I.e. `join()` is a method of the string that you want to use as the glue. (Many people find this notation for `join()` counter-intuitive.) The `join()` method only works on a list of strings — what we have been calling a text — a complex type that enjoys some privileges in Python."
   ],
   "metadata": {}
  },
  {
   "cell_type": "markdown",
   "source": [
    "### Strings and Formats\n",
    "\n",
    "We have seen that there are two ways to display the contents of an object:"
   ],
   "metadata": {}
  },
  {
   "cell_type": "code",
   "execution_count": null,
   "source": [
    "word = 'cat'\r\n",
    "sentence = \"\"\"hello\r\n",
    "world\"\"\"\r\n",
    "print(word)"
   ],
   "outputs": [],
   "metadata": {}
  },
  {
   "cell_type": "code",
   "execution_count": null,
   "source": [
    "print(sentence)"
   ],
   "outputs": [],
   "metadata": {}
  },
  {
   "cell_type": "code",
   "execution_count": null,
   "source": [
    "word"
   ],
   "outputs": [],
   "metadata": {}
  },
  {
   "cell_type": "code",
   "execution_count": null,
   "source": [
    "sentence"
   ],
   "outputs": [],
   "metadata": {}
  },
  {
   "cell_type": "markdown",
   "source": [
    "The `print` command yields Python's attempt to produce the most human-readable form of an object. The second method — naming the variable at a prompt — shows us a string that can be used to recreate this object. It is important to keep in mind that both of these are just strings, displayed for the benefit of you, the user. They do not give us any clue as to the actual internal representation of the object.\r\n",
    "\r\n",
    "There are many other useful ways to display an object as a string of characters. This may be for the benefit of a human reader, or because we want to **export** our data to a particular file format for use in an external program.\r\n",
    "\r\n",
    "Formatted output typically contains a combination of variables and pre-specified strings, e.g. given a frequency distribution `fdist` we could do:"
   ],
   "metadata": {}
  },
  {
   "cell_type": "code",
   "execution_count": null,
   "source": [
    "fdist = nltk.FreqDist(['dog', 'cat', 'dog', 'cat', 'dog', 'snake', 'dog', 'cat'])\r\n",
    "for word in sorted(fdist):\r\n",
    "    print(word, '->', fdist[word], end='; ')"
   ],
   "outputs": [],
   "metadata": {}
  },
  {
   "cell_type": "markdown",
   "source": [
    "Print statements that contain alternating variables and constants can be difficult to read and maintain. Another solution is to use **string formatting**."
   ],
   "metadata": {}
  },
  {
   "cell_type": "code",
   "execution_count": null,
   "source": [
    "for word in sorted(fdist):\n",
    "   print('{}->{};'.format(word, fdist[word]), end=' ')"
   ],
   "outputs": [],
   "metadata": {}
  },
  {
   "cell_type": "markdown",
   "source": [
    "To understand what is going on here, let's test out the format string on its own. (By now this will be your usual method of exploring new syntax.)"
   ],
   "metadata": {}
  },
  {
   "cell_type": "code",
   "execution_count": null,
   "source": [
    "'{}->{};'.format ('cat', 3)"
   ],
   "outputs": [],
   "metadata": {}
  },
  {
   "cell_type": "markdown",
   "source": [
    "The curly brackets `'{}'` mark the presence of a **replacement field**: this acts as a placeholder for the string values of objects that are passed to the `str.format()` method. We can embed occurrences of `'{}'` inside a string, then replace them with strings by calling `format()` with appropriate arguments. A string containing replacement fields is called a **format string**.\n",
    "\n",
    "Let's unpack the above code further, in order to see this behavior up close:"
   ],
   "metadata": {}
  },
  {
   "cell_type": "code",
   "execution_count": null,
   "source": [
    "'{}->'.format('cat')"
   ],
   "outputs": [],
   "metadata": {}
  },
  {
   "cell_type": "code",
   "execution_count": null,
   "source": [
    "'{}'.format(3)"
   ],
   "outputs": [],
   "metadata": {}
  },
  {
   "cell_type": "code",
   "execution_count": null,
   "source": [
    "'I want a {} right now'.format('coffee')"
   ],
   "outputs": [],
   "metadata": {}
  },
  {
   "cell_type": "markdown",
   "source": [
    "We can have any number of placeholders, but the `str.format` method must be called with exactly the same number of arguments."
   ],
   "metadata": {}
  },
  {
   "cell_type": "code",
   "execution_count": null,
   "source": [
    "'{} wants a {} {}'.format ('Lee', 'sandwich', 'for lunch')"
   ],
   "outputs": [],
   "metadata": {}
  },
  {
   "cell_type": "code",
   "execution_count": null,
   "source": [
    "#'{} wants a {} {}'.format ('sandwich', 'for lunch')"
   ],
   "outputs": [],
   "metadata": {}
  },
  {
   "cell_type": "markdown",
   "source": [
    "Arguments to `format()` are consumed left to right, and any superfluous arguments are simply ignored."
   ],
   "metadata": {}
  },
  {
   "cell_type": "code",
   "execution_count": null,
   "source": [
    "'{} wants a {}'.format ('Lee', 'sandwich', 'for lunch')"
   ],
   "outputs": [],
   "metadata": {}
  },
  {
   "cell_type": "markdown",
   "source": [
    "The field name in a format string can start with a number, which refers to a positional argument of `format()`. Something like `'from {} to {}'` is equivalent to `'from {0} to {1}'`, but we can use the numbers to get non-default orders:"
   ],
   "metadata": {}
  },
  {
   "cell_type": "code",
   "execution_count": null,
   "source": [
    "'from {1} to {0}'.format('A', 'B')"
   ],
   "outputs": [],
   "metadata": {}
  },
  {
   "cell_type": "markdown",
   "source": [
    "We can also provide the values for the placeholders indirectly. Here's an example using a `for` loop:"
   ],
   "metadata": {}
  },
  {
   "cell_type": "code",
   "execution_count": null,
   "source": [
    "template = 'Lee wants a {} right now'\n",
    "menu = ['sandwich', 'spam fritter', 'pancake']\n",
    "for snack in menu:\n",
    "    print(template.format(snack))"
   ],
   "outputs": [],
   "metadata": {}
  },
  {
   "cell_type": "markdown",
   "source": [
    "### Lining Things Up\n",
    "\n",
    "So far our format strings generated output of arbitrary width on the page (or screen). We can add padding to obtain output of a given width by inserting into the brackets a colon `':'` followed by an integer. So `{:6}` specifies that we want a string that is padded to width 6. It is right-justified by default for numbers, but we can precede the width specifier with a `'<'` alignment option to make numbers left-justified."
   ],
   "metadata": {}
  },
  {
   "cell_type": "code",
   "execution_count": null,
   "source": [
    "'{:6}'.format(41)"
   ],
   "outputs": [],
   "metadata": {}
  },
  {
   "cell_type": "code",
   "execution_count": null,
   "source": [
    "'{:<6}' .format(41) "
   ],
   "outputs": [],
   "metadata": {}
  },
  {
   "cell_type": "markdown",
   "source": [
    "Strings are left-justified by default, but can be right-justified with the `'>'` alignment option."
   ],
   "metadata": {}
  },
  {
   "cell_type": "code",
   "execution_count": null,
   "source": [
    "'{:6}'.format('dog')"
   ],
   "outputs": [],
   "metadata": {}
  },
  {
   "cell_type": "code",
   "execution_count": null,
   "source": [
    "'{:>6}'.format('dog') "
   ],
   "outputs": [],
   "metadata": {}
  },
  {
   "cell_type": "markdown",
   "source": [
    "Other control characters can be used to specify the sign and precision of floating point numbers; for example `{:.4f}` indicates that four digits should be displayed after the decimal point for a floating point number."
   ],
   "metadata": {}
  },
  {
   "cell_type": "code",
   "execution_count": null,
   "source": [
    "import math\n",
    "'{:.4f}'.format(math.pi)"
   ],
   "outputs": [],
   "metadata": {}
  },
  {
   "cell_type": "markdown",
   "source": [
    "The string formatting is smart enough to know that if you include a `'%'` in your format specification, then you want to represent the value as a percentage; there's no need to multiply by 100."
   ],
   "metadata": {}
  },
  {
   "cell_type": "code",
   "execution_count": null,
   "source": [
    "count, total = 3205, 9375\n",
    "\"accuracy for {} words: {:.4%}\".format(total, count / total)"
   ],
   "outputs": [],
   "metadata": {}
  },
  {
   "cell_type": "markdown",
   "source": [
    "An important use of formatting strings is for tabulating data. Recall that in Chapter 1 we saw data being tabulated from a conditional frequency distribution. Let's perform the tabulation ourselves, exercising full control of headings and column widths. Note the clear separation between the language processing work, and the tabulation of results."
   ],
   "metadata": {}
  },
  {
   "cell_type": "code",
   "execution_count": null,
   "source": [
    "def tabulate(cfdist, words, categories):\n",
    "    print('{:16}'.format('Category'), end=' ')                    # column headings\n",
    "    for word in words:\n",
    "        print('{:>6}'.format(word), end=' ')\n",
    "    print()\n",
    "    for category in categories:\n",
    "        print('{:16}'.format(category), end=' ')                  # row heading\n",
    "        for word in words:                                        # for each word\n",
    "            print('{:6}'.format(cfdist[category][word]), end=' ') # print table cell\n",
    "        print()                                                   # end the row\n",
    "\n",
    "from nltk.corpus import brown\n",
    "cfd = nltk.ConditionalFreqDist(\n",
    "          (genre, word)\n",
    "          for genre in brown.categories()\n",
    "          for word in brown.words(categories=genre))\n",
    "genres = ['news', 'religion', 'hobbies', 'science_fiction', 'romance', 'humor']\n",
    "modals = ['can', 'could', 'may', 'might', 'must', 'will']\n",
    "tabulate(cfd, modals, genres)"
   ],
   "outputs": [],
   "metadata": {}
  },
  {
   "cell_type": "markdown",
   "source": [
    "Recall from Section 3.6 that we used a format string `'{:{width}}'` and bound a value to the `width` parameter in `format()`. This allows us to specify the width of a field using a variable:"
   ],
   "metadata": {}
  },
  {
   "cell_type": "code",
   "execution_count": null,
   "source": [
    "'{:{width}}'.format('Monty Python', width=15)"
   ],
   "outputs": [],
   "metadata": {}
  },
  {
   "cell_type": "markdown",
   "source": [
    "We could use this to automatically customize the column to be just wide enough to accommodate all the words, using `width = max(len(w) for w in words).`"
   ],
   "metadata": {}
  },
  {
   "cell_type": "markdown",
   "source": [
    "### Writing Results to a File\n",
    "\n",
    "We have seen how to read text from files (Section 3.1). It is often useful to write output to files as well. The following code opens a file `output.txt` for writing, and saves the program output to the file."
   ],
   "metadata": {}
  },
  {
   "cell_type": "code",
   "execution_count": null,
   "source": [
    "output_file = open('output.txt', 'w')\n",
    "words = set(nltk.corpus.genesis.words('english-kjv.txt'))\n",
    "for word in sorted(words):\n",
    "    print(word, file=output_file)"
   ],
   "outputs": [],
   "metadata": {}
  },
  {
   "cell_type": "markdown",
   "source": [
    "When we write non-text data to a file we must convert it to a string first. We can do this conversion using formatting strings, as we saw above. Let's write the total number of words to our file:"
   ],
   "metadata": {}
  },
  {
   "cell_type": "code",
   "execution_count": null,
   "source": [
    "len(words)"
   ],
   "outputs": [],
   "metadata": {}
  },
  {
   "cell_type": "code",
   "execution_count": null,
   "source": [
    "str(len(words))"
   ],
   "outputs": [],
   "metadata": {}
  },
  {
   "cell_type": "code",
   "execution_count": null,
   "source": [
    "print(str(len(words)), file=output_file)\n",
    "output_file.close()"
   ],
   "outputs": [],
   "metadata": {}
  },
  {
   "cell_type": "markdown",
   "source": [
    "### Text Wrapping\n",
    "\n",
    "When the output of our program is text-like, instead of tabular, it will usually be necessary to wrap it so that it can be displayed conveniently. Consider the following output, which overflows its line, and which uses a complicated `print` statement:"
   ],
   "metadata": {}
  },
  {
   "cell_type": "code",
   "execution_count": null,
   "source": [
    "saying = ['After', 'all', 'is', 'said', 'and', 'done', ',',\n",
    "          'more', 'is', 'said', 'than', 'done', '.']\n",
    "for word in saying:\n",
    "    print(word, '(' + str(len(word)) + '),', end=' ')"
   ],
   "outputs": [],
   "metadata": {}
  },
  {
   "cell_type": "markdown",
   "source": [
    "We can take care of line wrapping with the help of Python's `textwrap` module. For maximum clarity we will separate each step onto its own line:"
   ],
   "metadata": {}
  },
  {
   "cell_type": "code",
   "execution_count": null,
   "source": [
    "from textwrap import fill\r\n",
    "pieces = [\"{} ({}),\".format(word, len(word)) for word in saying]\r\n",
    "output = ' '.join(pieces)\r\n",
    "wrapped = fill(output)\r\n",
    "print(wrapped)"
   ],
   "outputs": [],
   "metadata": {}
  },
  {
   "cell_type": "markdown",
   "source": [
    "Notice that there is a linebreak between `more` and its following number. If we wanted to avoid this, we could redefine the formatting string so that it contained no spaces, e.g. `'%s_(%d),'`, then instead of printing the value of `wrapped`, we could print `wrapped.replace('_', ' ')`."
   ],
   "metadata": {}
  },
  {
   "cell_type": "markdown",
   "source": [
    "## 3.10   Summary\r\n",
    "\r\n",
    "- In this book we view a text as a list of words. A \"raw text\" is a potentially long string containing words and whitespace formatting, and is how we typically store and visualize a text.\r\n",
    "- A string is specified in Python using single or double quotes: `'Monty Python'`, `\"Monty Python\"`.\r\n",
    "- The characters of a string are accessed using indexes, counting from zero: `'Monty Python'[0]` gives the value `M`. The length of a string is found using `len()`.\r\n",
    "- Substrings are accessed using slice notation: `'Monty Python'[1:5]` gives the value `onty`. If the start index is omitted, the substring begins at the start of the string; if the end index is omitted, the slice continues to the end of the string.\r\n",
    "- Strings can be split into lists: `'Monty Python'.split()` gives `['Monty', 'Python']`. Lists can be joined into strings: `'/'.join(['Monty', 'Python'])` gives `'Monty/Python'`.\r\n",
    "- We can read text from a file `input.txt` using `text = open('input.txt').read()`. We can read text from `url` using `text = request.urlopen(url).read().decode('utf8')`. We can iterate over the lines of a text file using `for line in open(f)`.\r\n",
    "- We can write text to a file by opening the file for writing `output_file = open('output.txt', 'w')`, then adding content to the file `print(\"Monty Python\", file=output_file)`.\r\n",
    "- Texts found on the web may contain unwanted material (such as headers, footers, markup), that need to be removed before we do any linguistic processing.\r\n",
    "- Tokenization is the segmentation of a text into basic units — or tokens — such as words and punctuation. Tokenization based on whitespace is inadequate for many applications because it bundles punctuation together with words. NLTK provides an off-the-shelf tokenizer `nltk.word_tokenize()`.\r\n",
    "- Lemmatization is a process that maps the various forms of a word (such as *appeared*, *appears*) to the canonical or citation form of the word, also known as the lexeme or lemma (e.g. *appear*).\r\n",
    "- Regular expressions are a powerful and flexible method of specifying patterns. Once we have imported the `re` module, we can use `re.findall()` to find all substrings in a string that match a pattern.\r\n",
    "- If a regular expression string includes a backslash, you should tell Python not to preprocess the string, by using a raw string with an `r` prefix: `r'regexp'`.\r\n",
    "- When backslash is used before certain characters, e.g. `\\n`, this takes on a special meaning (newline character); however, when backslash is used before regular expression wildcards and operators, e.g. `\\.`, `\\|`, `\\$`, these characters *lose* their special meaning and are matched literally.\r\n",
    "- A string formatting expression `template % arg_tuple` consists of a format string `template` that contains conversion specifiers like `%-6s` and `%0.2d`.\r\n",
    "\r\n"
   ],
   "metadata": {}
  }
 ],
 "metadata": {
  "kernelspec": {
   "name": "python3",
   "display_name": "Python 3.9.7 64-bit"
  },
  "language_info": {
   "codemirror_mode": {
    "name": "ipython",
    "version": 3
   },
   "file_extension": ".py",
   "mimetype": "text/x-python",
   "name": "python",
   "nbconvert_exporter": "python",
   "pygments_lexer": "ipython3",
   "version": "3.9.7"
  },
  "interpreter": {
   "hash": "7691dc7e968cae2c1305b7cd748cf3c51f27e2f981106cfee5b02ab727978e13"
  }
 },
 "nbformat": 4,
 "nbformat_minor": 2
}