{
 "cells": [
  {
   "cell_type": "markdown",
   "source": [
    "# 5. Categorizing and Tagging Words\n",
    "\n",
    "Back in elementary school you learnt the difference between nouns, verbs, adjectives, and adverbs. These \"word classes\" are not just the idle invention of grammarians, but are useful categories for many language processing tasks. As we will see, they arise from simple analysis of the distribution of words in text. The goal of this chapter is to answer the following questions:\n",
    "\n",
    "1. What are lexical categories and how are they used in natural language processing?\n",
    "2. What is a good Python data structure for storing words and their categories?\n",
    "3. How can we automatically tag each word of a text with its word class?\n",
    "\n",
    "Along the way, we'll cover some fundamental techniques in NLP, including sequence labeling, n-gram models, backoff, and evaluation. These techniques are useful in many areas, and tagging gives us a simple context in which to present them. We will also see how tagging is the second step in the typical NLP pipeline, following tokenization.\n",
    "\n",
    "The process of classifying words into their **parts of speech** and labeling them accordingly is known as **part-of-speech tagging**, **POS-tagging**, or simply **tagging**. Parts of speech are also known as **word classes** or **lexical categories**. The collection of tags used for a particular task is known as a **tagset**. Our emphasis in this chapter is on exploiting tags, and tagging text automatically."
   ],
   "metadata": {}
  },
  {
   "cell_type": "markdown",
   "source": [
    "## 1   Using a Tagger\n",
    "\n",
    "A part-of-speech tagger, or **POS-tagger**, processes a sequence of words, and attaches a part of speech tag to each word:"
   ],
   "metadata": {}
  },
  {
   "cell_type": "code",
   "execution_count": 1,
   "source": [
    "import nltk\r\n",
    "from nltk import word_tokenize\r\n",
    "text = word_tokenize(\"And now for something completely different\")\r\n",
    "nltk.pos_tag(text)"
   ],
   "outputs": [
    {
     "output_type": "execute_result",
     "data": {
      "text/plain": [
       "[('And', 'CC'),\n",
       " ('now', 'RB'),\n",
       " ('for', 'IN'),\n",
       " ('something', 'NN'),\n",
       " ('completely', 'RB'),\n",
       " ('different', 'JJ')]"
      ]
     },
     "metadata": {},
     "execution_count": 1
    }
   ],
   "metadata": {}
  },
  {
   "cell_type": "markdown",
   "source": [
    "Here we see that *and* is `CC`, a coordinating conjunction; *now* and *completely* are `RB`, or adverbs; *for* is `IN`, a preposition; *something* is `NN`, a noun; and *different* is `JJ`, an adjective.\n",
    "\n",
    "Let's look at another example, this time including some homonyms:"
   ],
   "metadata": {}
  },
  {
   "cell_type": "code",
   "execution_count": 2,
   "source": [
    "text = word_tokenize(\"They refuse to permit us to obtain the refuse permit\")\r\n",
    "nltk.pos_tag(text)"
   ],
   "outputs": [
    {
     "output_type": "execute_result",
     "data": {
      "text/plain": [
       "[('They', 'PRP'),\n",
       " ('refuse', 'VBP'),\n",
       " ('to', 'TO'),\n",
       " ('permit', 'VB'),\n",
       " ('us', 'PRP'),\n",
       " ('to', 'TO'),\n",
       " ('obtain', 'VB'),\n",
       " ('the', 'DT'),\n",
       " ('refuse', 'NN'),\n",
       " ('permit', 'NN')]"
      ]
     },
     "metadata": {},
     "execution_count": 2
    }
   ],
   "metadata": {}
  },
  {
   "cell_type": "markdown",
   "source": [
    "Notice that *refuse* and *permit* both appear as a present tense verb (`VBP`) and a noun (`NN`). E.g. *refUSE* is a verb meaning \"deny,\" while *REFuse* is a noun meaning \"trash\" (i.e. they are not homophones). Thus, we need to know which word is being used in order to pronounce the text correctly. (For this reason, text-to-speech systems usually perform POS-tagging.)\n",
    "\n",
    "Lexical categories like \"noun\" and part-of-speech tags like `NN` seem to have their uses, but the details will be obscure to many readers. You might wonder what justification there is for introducing this extra level of information. Many of these categories arise from superficial analysis of the distribution of words in text. Consider the following analysis involving *woman* (a noun), *bought* (a verb), *over* (a preposition), and *the* (a determiner). The `text.similar()` method takes a word $w$, finds all contexts $w_1ww_2$, then finds all words $w'$ that appear in the same context, i.e. $w_1w'w_2$."
   ],
   "metadata": {}
  },
  {
   "cell_type": "code",
   "execution_count": null,
   "source": [
    "text = nltk.Text(word.lower() for word in nltk.corpus.brown.words())\r\n",
    "text.similar('woman')"
   ],
   "outputs": [],
   "metadata": {}
  },
  {
   "cell_type": "code",
   "execution_count": null,
   "source": [
    "text.similar('bought')"
   ],
   "outputs": [],
   "metadata": {}
  },
  {
   "cell_type": "code",
   "execution_count": null,
   "source": [
    "text.similar('over')"
   ],
   "outputs": [],
   "metadata": {}
  },
  {
   "cell_type": "code",
   "execution_count": null,
   "source": [
    "text.similar('the')"
   ],
   "outputs": [],
   "metadata": {}
  },
  {
   "cell_type": "markdown",
   "source": [
    "Observe that searching for *woman* finds nouns; searching for *bought* mostly finds verbs; searching for *over* generally finds prepositions; searching for *the* finds several determiners. A tagger can correctly identify the tags on these words in the context of a sentence, e.g. *The woman bought over $150,000 worth of clothes*.\n",
    "\n",
    "A tagger can also model our knowledge of unknown words, e.g. we can guess that *scrobbling* is probably a verb, with the root *scrobble*, and likely to occur in contexts like *he was scrobbling*."
   ],
   "metadata": {}
  },
  {
   "cell_type": "markdown",
   "source": [
    "## 2   Tagged Corpora\n",
    "\n",
    "### 2.1   Representing Tagged Tokens\n",
    "\n",
    "By convention in NLTK, a tagged token is represented using a tuple consisting of the token and the tag. We can create one of these special tuples from the standard string representation of a tagged token, using the function `str2tuple()`:"
   ],
   "metadata": {}
  },
  {
   "cell_type": "code",
   "execution_count": null,
   "source": [
    "tagged_token = nltk.tag.str2tuple('fly/NN')\r\n",
    "tagged_token"
   ],
   "outputs": [],
   "metadata": {}
  },
  {
   "cell_type": "code",
   "execution_count": null,
   "source": [
    "tagged_token[0]"
   ],
   "outputs": [],
   "metadata": {}
  },
  {
   "cell_type": "code",
   "execution_count": null,
   "source": [
    "tagged_token[1]"
   ],
   "outputs": [],
   "metadata": {}
  },
  {
   "cell_type": "markdown",
   "source": [
    "We can construct a list of tagged tokens directly from a string. The first step is to tokenize the string to access the individual `word/tag` strings, and then to convert each of these into a tuple (using `str2tuple()`)."
   ],
   "metadata": {}
  },
  {
   "cell_type": "code",
   "execution_count": null,
   "source": [
    "sent = '''\r\n",
    "The/AT grand/JJ jury/NN commented/VBD on/IN a/AT number/NN of/IN\r\n",
    "other/AP topics/NNS ,/, AMONG/IN them/PPO the/AT Atlanta/NP and/CC\r\n",
    "Fulton/NP-tl County/NN-tl purchasing/VBG departments/NNS which/WDT it/PPS\r\n",
    "said/VBD ``/`` ARE/BER well/QL operated/VBN and/CC follow/VB generally/RB\r\n",
    "accepted/VBN practices/NNS which/WDT inure/VB to/IN the/AT best/JJT\r\n",
    "interest/NN of/IN both/ABX governments/NNS ''/'' ./.\r\n",
    "'''\r\n",
    "[nltk.tag.str2tuple(t) for t in sent.split()]"
   ],
   "outputs": [],
   "metadata": {}
  },
  {
   "cell_type": "markdown",
   "source": [
    "### 2.2   Reading Tagged Corpora\n",
    "\n",
    "Several of the corpora included with NLTK have been **tagged** for their part-of-speech. Here's an example of what you might see if you opened a file from the Brown Corpus with a text editor:\n",
    "\n",
    "    The/at Fulton/np-tl County/nn-tl Grand/jj-tl Jury/nn-tl said/vbd Friday/nr an/at investigation/nn of/in Atlanta's/np$ recent/jj primary/nn election/nn produced/vbd / no/at evidence/nn ''/'' that/cs any/dti irregularities/nns took/vbd place/nn ./.\n",
    "\n",
    "Other corpora use a variety of formats for storing part-of-speech tags. NLTK's corpus readers provide a uniform interface so that you don't have to be concerned with the different file formats. In contrast with the file fragment shown above, the corpus reader for the Brown Corpus represents the data as shown below. Note that part-of-speech tags have been converted to uppercase, since this has become standard practice since the Brown Corpus was published."
   ],
   "metadata": {}
  },
  {
   "cell_type": "code",
   "execution_count": null,
   "source": [
    "nltk.corpus.brown.tagged_words()"
   ],
   "outputs": [],
   "metadata": {}
  },
  {
   "cell_type": "code",
   "execution_count": null,
   "source": [
    "nltk.corpus.brown.tagged_words(tagset='universal')"
   ],
   "outputs": [],
   "metadata": {}
  },
  {
   "cell_type": "markdown",
   "source": [
    "Whenever a corpus contains tagged text, the NLTK corpus interface will have a `tagged_words()` method. Here are some more examples, again using the output format illustrated for the Brown Corpus:"
   ],
   "metadata": {}
  },
  {
   "cell_type": "code",
   "execution_count": 3,
   "source": [
    "print(nltk.corpus.nps_chat.tagged_words())"
   ],
   "outputs": [
    {
     "output_type": "stream",
     "name": "stdout",
     "text": [
      "[('now', 'RB'), ('im', 'PRP'), ('left', 'VBD'), ...]\n"
     ]
    }
   ],
   "metadata": {}
  },
  {
   "cell_type": "code",
   "execution_count": null,
   "source": [
    "nltk.corpus.conll2000.tagged_words()"
   ],
   "outputs": [],
   "metadata": {}
  },
  {
   "cell_type": "code",
   "execution_count": null,
   "source": [
    "nltk.corpus.treebank.tagged_words()"
   ],
   "outputs": [],
   "metadata": {}
  },
  {
   "cell_type": "markdown",
   "source": [
    "Not all corpora employ the same set of tags; see the tagset help functionality and the `readme()` methods mentioned above for documentation. Initially we want to avoid the complications of these tagsets, so we use a built-in mapping to the \"Universal Tagset\":"
   ],
   "metadata": {}
  },
  {
   "cell_type": "code",
   "execution_count": null,
   "source": [
    "nltk.corpus.brown.tagged_words(tagset='universal')"
   ],
   "outputs": [],
   "metadata": {}
  },
  {
   "cell_type": "code",
   "execution_count": null,
   "source": [
    "nltk.corpus.treebank.tagged_words(tagset='universal')"
   ],
   "outputs": [],
   "metadata": {}
  },
  {
   "cell_type": "markdown",
   "source": [
    "Tagged corpora for several other languages are distributed with NLTK, including Chinese, Hindi, Portuguese, Spanish, Dutch and Catalan. "
   ],
   "metadata": {}
  },
  {
   "cell_type": "code",
   "execution_count": null,
   "source": [
    "nltk.corpus.sinica_treebank.tagged_words()"
   ],
   "outputs": [],
   "metadata": {}
  },
  {
   "cell_type": "code",
   "execution_count": null,
   "source": [
    "nltk.corpus.indian.tagged_words()"
   ],
   "outputs": [],
   "metadata": {}
  },
  {
   "cell_type": "code",
   "execution_count": null,
   "source": [
    "nltk.corpus.mac_morpho.tagged_words()"
   ],
   "outputs": [],
   "metadata": {}
  },
  {
   "cell_type": "code",
   "execution_count": null,
   "source": [
    "nltk.corpus.conll2002.tagged_words()"
   ],
   "outputs": [],
   "metadata": {}
  },
  {
   "cell_type": "code",
   "execution_count": null,
   "source": [
    "nltk.corpus.cess_cat.tagged_words()"
   ],
   "outputs": [],
   "metadata": {}
  },
  {
   "cell_type": "markdown",
   "source": [
    "If your environment is set up correctly, with appropriate editors and fonts, you should be able to display individual strings in a human-readable way. For example, the following figure shows data accessed using `nltk.corpus.indian`.\n",
    "\n",
    "<img src='images/tag-indian.png' width='500' />\n",
    "\n",
    "*POS-Tagged Data from Four Indian Languages: Bangla, Hindi, Marathi, and Telugu*\n",
    "\n",
    "If the corpus is also segmented into sentences, it will have a `tagged_sents()` method that divides up the tagged words into sentences rather than presenting them as one big list. This will be useful when we come to developing automatic taggers, as they are trained and tested on lists of sentences, not words."
   ],
   "metadata": {}
  },
  {
   "cell_type": "markdown",
   "source": [
    "### 2.3   A Universal Part-of-Speech Tagset\n",
    "\n",
    "Tagged corpora use many different conventions for tagging words. To help us get started, we will be looking at a simplified tagset:\n",
    "\n",
    "*Universal Part-of-Speech Tagset*\n",
    "\n",
    "|Tag \t|Meaning \t|English Examples|\n",
    "|:-|:-|:-|\n",
    "|`ADJ`| \tadjective \t|*new, good, high, special, big, local*|\n",
    "|`ADP`| \tadposition \t|*on, of, at, with, by, into, under*|\n",
    "|`ADV`| \tadverb \t|*really, already, still, early, now*|\n",
    "|`CONJ`| \tconjunction \t|*and, or, but, if, while, although*|\n",
    "|`DET`| \tdeterminer, article \t|*the, a, some, most, every, no, which*|\n",
    "|`NOUN`| \tnoun \t|*year, home, costs, time, Africa*|\n",
    "|`NUM`| \tnumeral \t|*twenty-four, fourth, 1991, 14:24*|\n",
    "|`PRT`| \tparticle \t|*at, on, out, over per, that, up, with*|\n",
    "|`PRON`| \tpronoun \t|*he, their, her, its, my, I, us*|\n",
    "|`VERB`| \tverb \t|*is, say, told, given, playing, would*|\n",
    "|`.`| \tpunctuation marks \t|*. , ; !*|\n",
    "|`X`| \tother \t|*ersatz, esprit, dunno, gr8, univeristy*|\n",
    "\n",
    "Let's see which of these tags are the most common in the news category of the Brown corpus:"
   ],
   "metadata": {}
  },
  {
   "cell_type": "code",
   "execution_count": 4,
   "source": [
    "from nltk.corpus import brown\r\n",
    "brown_news_tagged = brown.tagged_words(categories='news', tagset='universal')\r\n",
    "tag_fd = nltk.FreqDist(tag for (word, tag) in brown_news_tagged)\r\n",
    "tag_fd.most_common()"
   ],
   "outputs": [
    {
     "output_type": "execute_result",
     "data": {
      "text/plain": [
       "[('NOUN', 30654),\n",
       " ('VERB', 14399),\n",
       " ('ADP', 12355),\n",
       " ('.', 11928),\n",
       " ('DET', 11389),\n",
       " ('ADJ', 6706),\n",
       " ('ADV', 3349),\n",
       " ('CONJ', 2717),\n",
       " ('PRON', 2535),\n",
       " ('PRT', 2264),\n",
       " ('NUM', 2166),\n",
       " ('X', 92)]"
      ]
     },
     "metadata": {},
     "execution_count": 4
    }
   ],
   "metadata": {}
  },
  {
   "cell_type": "markdown",
   "source": [
    "### 2.4   Nouns\n",
    "\n",
    "Nouns generally refer to people, places, things, or concepts, e.g.: *woman, Scotland, book, intelligence*. Nouns can appear after determiners and adjectives, and can be the subject or object of the verb:\n",
    "\n",
    "*Syntactic Patterns involving some Nouns*\n",
    "\n",
    "|Word \t|After a determiner \t|Subject of the verb|\n",
    "|:-|:-|:-|\n",
    "|woman \t|*the* woman who I saw yesterday ... \t|the woman *sat* down|\n",
    "|Scotland \t|*the* Scotland I remember as a child ... \t|Scotland *has* five million people|\n",
    "|book \t|*the* book I bought yesterday ... \t|this book *recounts* the colonization of Australia|\n",
    "|intelligence \t|*the* intelligence displayed by the child ... \t|Mary's intelligence *impressed* her teachers|\n",
    "\n",
    "The simplified noun tags are `N` for common nouns like *book*, and `NP` for proper nouns like *Scotland*.\n",
    "\n",
    "Let's inspect some tagged text to see what parts of speech occur before a noun, with the most frequent ones first. To begin with, we construct a list of bigrams whose members are themselves word-tag pairs such as `(('The', 'DET'), ('Fulton', 'NP'))` and `(('Fulton', 'NP'), ('County', 'N'))`. Then we construct a `FreqDist` from the tag parts of the bigrams."
   ],
   "metadata": {}
  },
  {
   "cell_type": "code",
   "execution_count": 5,
   "source": [
    "word_tag_pairs = nltk.bigrams(brown_news_tagged)\r\n",
    "noun_preceders = [a[1] for (a, b) in word_tag_pairs if b[1] == 'NOUN']\r\n",
    "fdist = nltk.FreqDist(noun_preceders)\r\n",
    "[tag for (tag, _) in fdist.most_common()]"
   ],
   "outputs": [
    {
     "output_type": "execute_result",
     "data": {
      "text/plain": [
       "['NOUN',\n",
       " 'DET',\n",
       " 'ADJ',\n",
       " 'ADP',\n",
       " '.',\n",
       " 'VERB',\n",
       " 'CONJ',\n",
       " 'NUM',\n",
       " 'ADV',\n",
       " 'PRT',\n",
       " 'PRON',\n",
       " 'X']"
      ]
     },
     "metadata": {},
     "execution_count": 5
    }
   ],
   "metadata": {}
  },
  {
   "cell_type": "markdown",
   "source": [
    "This confirms our assertion that nouns occur after determiners and adjectives, including numeral adjectives (tagged as `NUM`)."
   ],
   "metadata": {}
  },
  {
   "cell_type": "markdown",
   "source": [
    "### 2.5   Verbs\n",
    "\n",
    "Verbs are words that describe events and actions, e.g. *fall*, *eat*. In the context of a sentence, verbs typically express a relation involving the referents of one or more noun phrases.\n",
    "\n",
    "*Syntactic Patterns involving some Verbs*\n",
    "\n",
    "|Word \t|Simple \t|With modifiers and adjuncts (italicized)|\n",
    "|:-|:-|:-|\n",
    "|fall \t|Rome fell| \tDot com stocks *suddenly* fell *like a stone*|\n",
    "|eat \t|Mice eat cheese| \tJohn ate the pizza *with gusto*|\n",
    "\n",
    "What are the most common verbs in news text? Let's sort all the verbs by frequency:"
   ],
   "metadata": {}
  },
  {
   "cell_type": "code",
   "execution_count": 6,
   "source": [
    "wsj = nltk.corpus.treebank.tagged_words(tagset='universal')\r\n",
    "word_tag_fd = nltk.FreqDist(wsj)\r\n",
    "[wt[0] for (wt, _) in word_tag_fd.most_common() if wt[1] == 'VERB']"
   ],
   "outputs": [
    {
     "output_type": "execute_result",
     "data": {
      "text/plain": [
       "['is',\n",
       " 'said',\n",
       " 'was',\n",
       " 'are',\n",
       " 'be',\n",
       " 'has',\n",
       " 'have',\n",
       " 'will',\n",
       " 'says',\n",
       " 'would',\n",
       " 'were',\n",
       " 'had',\n",
       " 'been',\n",
       " 'could',\n",
       " \"'s\",\n",
       " 'can',\n",
       " 'do',\n",
       " 'say',\n",
       " 'make',\n",
       " 'may',\n",
       " 'did',\n",
       " 'rose',\n",
       " 'made',\n",
       " 'does',\n",
       " 'expected',\n",
       " 'buy',\n",
       " 'take',\n",
       " 'get',\n",
       " 'might',\n",
       " 'sell',\n",
       " 'added',\n",
       " 'sold',\n",
       " 'help',\n",
       " 'including',\n",
       " 'should',\n",
       " 'reported',\n",
       " 'according',\n",
       " 'pay',\n",
       " 'compared',\n",
       " 'being',\n",
       " 'fell',\n",
       " 'began',\n",
       " 'based',\n",
       " 'used',\n",
       " 'closed',\n",
       " \"'re\",\n",
       " 'want',\n",
       " 'see',\n",
       " 'took',\n",
       " 'yield',\n",
       " 'offered',\n",
       " 'set',\n",
       " 'priced',\n",
       " 'approved',\n",
       " 'come',\n",
       " 'noted',\n",
       " 'cut',\n",
       " 'ended',\n",
       " 'found',\n",
       " 'increased',\n",
       " 'become',\n",
       " 'think',\n",
       " 'named',\n",
       " 'go',\n",
       " 'trying',\n",
       " 'proposed',\n",
       " 'received',\n",
       " 'growing',\n",
       " 'declined',\n",
       " 'held',\n",
       " 'give',\n",
       " 'came',\n",
       " 'use',\n",
       " 'put',\n",
       " 'making',\n",
       " 'continue',\n",
       " 'raise',\n",
       " 'estimated',\n",
       " 'called',\n",
       " 'paid',\n",
       " 'designed',\n",
       " 'going',\n",
       " 'expects',\n",
       " 'seeking',\n",
       " 'must',\n",
       " 'plans',\n",
       " 'wo',\n",
       " 'increasing',\n",
       " 'saying',\n",
       " 'got',\n",
       " 'owns',\n",
       " 'trading',\n",
       " 'acquired',\n",
       " 'gained',\n",
       " 'fined',\n",
       " 'reached',\n",
       " 'holding',\n",
       " 'announced',\n",
       " 'filed',\n",
       " 'became',\n",
       " 'seek',\n",
       " 'included',\n",
       " 'using',\n",
       " 'led',\n",
       " 'decided',\n",
       " 'keep',\n",
       " 'disclosed',\n",
       " 'agreed',\n",
       " 'find',\n",
       " 'failed',\n",
       " 'run',\n",
       " 'taken',\n",
       " 'know',\n",
       " 'coming',\n",
       " \"'ve\",\n",
       " 'completed',\n",
       " 'built',\n",
       " 'raised',\n",
       " 'traded',\n",
       " 'lost',\n",
       " 'continued',\n",
       " 'paying',\n",
       " 'include',\n",
       " 'believe',\n",
       " 'receive',\n",
       " 'posted',\n",
       " 'wants',\n",
       " 'scheduled',\n",
       " 'went',\n",
       " 'indicated',\n",
       " 'provide',\n",
       " 'helped',\n",
       " 'needed',\n",
       " 'goes',\n",
       " 'told',\n",
       " 'result',\n",
       " 'need',\n",
       " 'caused',\n",
       " 'continues',\n",
       " 'dropped',\n",
       " 'showed',\n",
       " 'ordered',\n",
       " 'changed',\n",
       " 'face',\n",
       " 'continuing',\n",
       " 'launched',\n",
       " 'gives',\n",
       " 'reduce',\n",
       " \"'m\",\n",
       " 'lead',\n",
       " 'planned',\n",
       " 'wanted',\n",
       " 'following',\n",
       " 'remains',\n",
       " 'followed',\n",
       " 'remain',\n",
       " 'meet',\n",
       " 'believes',\n",
       " 'trade',\n",
       " 'includes',\n",
       " 'improve',\n",
       " 'buying',\n",
       " 'issued',\n",
       " 'rise',\n",
       " 'leading',\n",
       " 'ca',\n",
       " 'involved',\n",
       " 'known',\n",
       " 'like',\n",
       " 'makes',\n",
       " 'having',\n",
       " 'rejected',\n",
       " 'rising',\n",
       " 'increase',\n",
       " 'turned',\n",
       " 'operating',\n",
       " 'read',\n",
       " 'feel',\n",
       " 'win',\n",
       " 'given',\n",
       " 'prevent',\n",
       " 'offset',\n",
       " 'barred',\n",
       " 'earned',\n",
       " 'consented',\n",
       " 'support',\n",
       " 'gave',\n",
       " 'totaled',\n",
       " 'acquire',\n",
       " 'required',\n",
       " 'begin',\n",
       " 'require',\n",
       " 'offer',\n",
       " 'preferred',\n",
       " 'produced',\n",
       " 'bought',\n",
       " 'offering',\n",
       " 'asked',\n",
       " 'carry',\n",
       " 'build',\n",
       " 'takes',\n",
       " 'seem',\n",
       " 'introduced',\n",
       " 'taking',\n",
       " 'won',\n",
       " 'aimed',\n",
       " 'hurt',\n",
       " 'adds',\n",
       " 'cited',\n",
       " 'sought',\n",
       " 'bring',\n",
       " 'remaining',\n",
       " 'considered',\n",
       " 'suspended',\n",
       " 'prove',\n",
       " 'looking',\n",
       " 'doing',\n",
       " 'involving',\n",
       " 'opened',\n",
       " 'working',\n",
       " 'close',\n",
       " 'own',\n",
       " 'report',\n",
       " 'left',\n",
       " 'boosted',\n",
       " 'giving',\n",
       " 'fixed',\n",
       " 'listed',\n",
       " 'runs',\n",
       " 'purchasing',\n",
       " 'consider',\n",
       " 'prepared',\n",
       " 'hit',\n",
       " 'getting',\n",
       " 'alleged',\n",
       " 'look',\n",
       " 'allowed',\n",
       " 'approve',\n",
       " 'wrote',\n",
       " 'reduced',\n",
       " 'fall',\n",
       " 'advanced',\n",
       " 'appears',\n",
       " 'mixed',\n",
       " 'described',\n",
       " 'expect',\n",
       " 'manufacturing',\n",
       " 'spent',\n",
       " 'According',\n",
       " 'hopes',\n",
       " 'underlying',\n",
       " 'produce',\n",
       " 'work',\n",
       " 'placed',\n",
       " 'allow',\n",
       " 'sells',\n",
       " 'operate',\n",
       " 'extend',\n",
       " 'surged',\n",
       " 'jumped',\n",
       " 'boost',\n",
       " 'slowing',\n",
       " 'provided',\n",
       " 'seems',\n",
       " 'ending',\n",
       " 'selling',\n",
       " 'opposed',\n",
       " 'created',\n",
       " 'move',\n",
       " 'seen',\n",
       " 'comment',\n",
       " 'valued',\n",
       " 'losing',\n",
       " 'mature',\n",
       " 'provides',\n",
       " 'let',\n",
       " 'stopped',\n",
       " 'worked',\n",
       " 'thought',\n",
       " 'watch',\n",
       " 'introduce',\n",
       " 'related',\n",
       " 'improved',\n",
       " 'raising',\n",
       " 'seemed',\n",
       " 'force',\n",
       " 'beginning',\n",
       " 'leave',\n",
       " 'believed',\n",
       " 'stand',\n",
       " 'developed',\n",
       " 'decline',\n",
       " 'expire',\n",
       " 'managing',\n",
       " 'hold',\n",
       " 'invested',\n",
       " 'suggests',\n",
       " 'represent',\n",
       " 'settle',\n",
       " 'change',\n",
       " 'contributed',\n",
       " 'indicates',\n",
       " 'asking',\n",
       " 'elaborate',\n",
       " 'shows',\n",
       " 'refused',\n",
       " 'quoted',\n",
       " 'comes',\n",
       " 'ease',\n",
       " 'passed',\n",
       " 'Says',\n",
       " 'avoid',\n",
       " 'threatened',\n",
       " 'cause',\n",
       " 'end',\n",
       " 'violate',\n",
       " 'operates',\n",
       " 'kept',\n",
       " \"'ll\",\n",
       " 'soared',\n",
       " 'eliminated',\n",
       " 'becomes',\n",
       " 'create',\n",
       " 'print',\n",
       " 'shall',\n",
       " 'show',\n",
       " 'replaced',\n",
       " 'owned',\n",
       " 'argue',\n",
       " 'beat',\n",
       " 'elected',\n",
       " 'complete',\n",
       " 'issue',\n",
       " 'act',\n",
       " 'return',\n",
       " 'registered',\n",
       " 'suffer',\n",
       " 'worried',\n",
       " 'succeed',\n",
       " 'block',\n",
       " 'contain',\n",
       " 'occur',\n",
       " 'pursue',\n",
       " 'combined',\n",
       " 'requires',\n",
       " 'met',\n",
       " 'brought',\n",
       " 'started',\n",
       " 'covered',\n",
       " 'turn',\n",
       " 'running',\n",
       " 'eliminate',\n",
       " 'file',\n",
       " 'plunged',\n",
       " 'fallen',\n",
       " 'ran',\n",
       " 'fired',\n",
       " 'becoming',\n",
       " 'contained',\n",
       " 'managed',\n",
       " 'Take',\n",
       " 'suggested',\n",
       " 'accused',\n",
       " 'appeared',\n",
       " 'slow',\n",
       " 'helping',\n",
       " 'discovered',\n",
       " 'add',\n",
       " 'referred',\n",
       " 'oppose',\n",
       " 'stop',\n",
       " 'claim',\n",
       " 'sent',\n",
       " 'formed',\n",
       " 'resulting',\n",
       " 'turning',\n",
       " 'limited',\n",
       " 'shipped',\n",
       " 'forced',\n",
       " 'send',\n",
       " 'attract',\n",
       " 'admitting',\n",
       " 'denying',\n",
       " 'disgorge',\n",
       " 'attributed',\n",
       " 'causing',\n",
       " 'studied',\n",
       " 'resigned',\n",
       " 'cutting',\n",
       " 'voted',\n",
       " 'settled',\n",
       " 'expand',\n",
       " 'stood',\n",
       " 'retired',\n",
       " 'moved',\n",
       " 'pending',\n",
       " 'providing',\n",
       " 'anticipated',\n",
       " 'decide',\n",
       " 'creating',\n",
       " 'prompted',\n",
       " 'developing',\n",
       " 'start',\n",
       " 'maintained',\n",
       " 'expanding',\n",
       " 'follows',\n",
       " 'ranged',\n",
       " 'focused',\n",
       " 'climbed',\n",
       " 'reflect',\n",
       " 'insist',\n",
       " 'owed',\n",
       " 'happen',\n",
       " 'adjusted',\n",
       " 'awarded',\n",
       " 'reporting',\n",
       " 'talk',\n",
       " 'offers',\n",
       " 'written',\n",
       " 'urged',\n",
       " 'carried',\n",
       " 'identified',\n",
       " 'confirmed',\n",
       " 'playing',\n",
       " 'thinking',\n",
       " 'calls',\n",
       " 'means',\n",
       " 'tried',\n",
       " 'lying',\n",
       " 'asks',\n",
       " 'building',\n",
       " 'suggest',\n",
       " 'falling',\n",
       " 'discuss',\n",
       " 'matched',\n",
       " 'concluded',\n",
       " 'keeping',\n",
       " \"'d\",\n",
       " 'returned',\n",
       " 'withdrawn',\n",
       " 'bid',\n",
       " 'saw',\n",
       " 'signed',\n",
       " 'financing',\n",
       " 'assuming',\n",
       " 'adopted',\n",
       " 'attempting',\n",
       " 'accepted',\n",
       " 'cover',\n",
       " 'facing',\n",
       " 'risk',\n",
       " 'expanded',\n",
       " 'leaving',\n",
       " 'raises',\n",
       " 'declared',\n",
       " 'exercise',\n",
       " 'finished',\n",
       " 'regarding',\n",
       " 'finance',\n",
       " 'charge',\n",
       " 'starting',\n",
       " 'realize',\n",
       " 'felt',\n",
       " 'remained',\n",
       " 'expressed',\n",
       " 'done',\n",
       " 'replace',\n",
       " 'veto',\n",
       " 'stay',\n",
       " 'delivered',\n",
       " 'join',\n",
       " 'publishing',\n",
       " 'enters',\n",
       " 'appear',\n",
       " 'talking',\n",
       " 'heard',\n",
       " 'dumped',\n",
       " 'imported',\n",
       " 'assume',\n",
       " 'declining',\n",
       " 'capture',\n",
       " 'grew',\n",
       " 'holds',\n",
       " 'lift',\n",
       " 'treat',\n",
       " 'receiving',\n",
       " 'joined',\n",
       " 'reflecting',\n",
       " 'released',\n",
       " 'maintaining',\n",
       " 'cost',\n",
       " 'lowered',\n",
       " 'costs',\n",
       " 'exceed',\n",
       " 'gaining',\n",
       " 'considering',\n",
       " 'determined',\n",
       " 'ruled',\n",
       " 'hope',\n",
       " 'located',\n",
       " 'tied',\n",
       " 'heads',\n",
       " 'applied',\n",
       " 'failing',\n",
       " 'showing',\n",
       " 'apply',\n",
       " 'protecting',\n",
       " 'tells',\n",
       " 'complained',\n",
       " 'ask',\n",
       " 'triggered',\n",
       " 'entered',\n",
       " 'total',\n",
       " 'producing',\n",
       " 'denied',\n",
       " 'reducing',\n",
       " 'reflects',\n",
       " 'account',\n",
       " 'predicting',\n",
       " 'intended',\n",
       " 'purchased',\n",
       " 'blamed',\n",
       " 'worry',\n",
       " 'broken',\n",
       " 'carries',\n",
       " 'learned',\n",
       " 'renewed',\n",
       " 'walk',\n",
       " 'viewed',\n",
       " 'die',\n",
       " 'speculated',\n",
       " 'needs',\n",
       " 'gets',\n",
       " 'wait',\n",
       " 'caught',\n",
       " 'claims',\n",
       " 'choose',\n",
       " 'fail',\n",
       " 'insists',\n",
       " 'knows',\n",
       " 'pass',\n",
       " 'grown',\n",
       " 'gotten',\n",
       " 'grows',\n",
       " 'responded',\n",
       " 'play',\n",
       " 'try',\n",
       " 'mean',\n",
       " 'encourage',\n",
       " 'chosen',\n",
       " 'admits',\n",
       " 'Do',\n",
       " 'dismissed',\n",
       " 'realized',\n",
       " 'serve',\n",
       " 'associated',\n",
       " 'slipped',\n",
       " 'argued',\n",
       " 'citing',\n",
       " 'seeks',\n",
       " 'preventing',\n",
       " 'sparked',\n",
       " 'review',\n",
       " 'opening',\n",
       " 'fueled',\n",
       " 'negotiate',\n",
       " 'drop',\n",
       " 'pleased',\n",
       " 'spend',\n",
       " 'care',\n",
       " 'represents',\n",
       " 'spread',\n",
       " 'explains',\n",
       " 'push',\n",
       " 'divided',\n",
       " 'proposing',\n",
       " 'gain',\n",
       " 'representing',\n",
       " 'financed',\n",
       " 'execute',\n",
       " 'existing',\n",
       " 'discussed',\n",
       " 'uses',\n",
       " 'live',\n",
       " 'ring',\n",
       " 'signal',\n",
       " 'focus',\n",
       " 'hired',\n",
       " 'limit',\n",
       " 'begins',\n",
       " 'reflected',\n",
       " 'hear',\n",
       " 'determine',\n",
       " 'profit',\n",
       " 'marketed',\n",
       " 'warned',\n",
       " 'qualified',\n",
       " 'died',\n",
       " 'surviving',\n",
       " 'study',\n",
       " 'explained',\n",
       " 'imposed',\n",
       " 'recognize',\n",
       " 'eased',\n",
       " 'indicate',\n",
       " 'permit',\n",
       " 'retain',\n",
       " 'yielding',\n",
       " 'boosts',\n",
       " 'obtain',\n",
       " 'employs',\n",
       " 'banned',\n",
       " 'pointed',\n",
       " 'leaves',\n",
       " 'withdraw',\n",
       " 'refund',\n",
       " 'collected',\n",
       " 'upheld',\n",
       " 'benefited',\n",
       " 'doubled',\n",
       " 'attached',\n",
       " 'jump',\n",
       " 'compete',\n",
       " 'incurred',\n",
       " 'removed',\n",
       " 'honor',\n",
       " 'varying',\n",
       " 'marketing',\n",
       " 'protect',\n",
       " 'reach',\n",
       " 'share',\n",
       " 'requested',\n",
       " 'grant',\n",
       " 'stepping',\n",
       " 'direct',\n",
       " 'curb',\n",
       " 'controlling',\n",
       " 'snapped',\n",
       " 'tend',\n",
       " 'cast',\n",
       " 'clear',\n",
       " 'permitted',\n",
       " 'remove',\n",
       " 'revive',\n",
       " 'draw',\n",
       " 'predicted',\n",
       " 'suspect',\n",
       " 'coupled',\n",
       " 'belong',\n",
       " 'call',\n",
       " 'describes',\n",
       " 'played',\n",
       " 'committed',\n",
       " 'advertising',\n",
       " 'tested',\n",
       " 'revived',\n",
       " 'earns',\n",
       " 'feeling',\n",
       " 'turns',\n",
       " 'executed',\n",
       " 'killed',\n",
       " 'presented',\n",
       " 'deserve',\n",
       " 'mention',\n",
       " 'seeing',\n",
       " 'discussing',\n",
       " 'convicted',\n",
       " 'telling',\n",
       " 'agree',\n",
       " 'denies',\n",
       " 'pursued',\n",
       " 'spurred',\n",
       " 'accommodate',\n",
       " 'surrendered',\n",
       " 'gone',\n",
       " 'teach',\n",
       " 'booming',\n",
       " 'serving',\n",
       " 'restore',\n",
       " 'restructured',\n",
       " 'taught',\n",
       " 'feared',\n",
       " 'meant',\n",
       " 'adding',\n",
       " 'publishes',\n",
       " 'improving',\n",
       " 'ignoring',\n",
       " 'represented',\n",
       " 'funded',\n",
       " 'involve',\n",
       " 'charged',\n",
       " 'fared',\n",
       " 'eliminates',\n",
       " 'tumbled',\n",
       " 'redeemed',\n",
       " 'resolve',\n",
       " 'stem',\n",
       " 'hire',\n",
       " 'obtained',\n",
       " 'develop',\n",
       " 'employed',\n",
       " 'prohibits',\n",
       " 'promote',\n",
       " 'impose',\n",
       " 'consist',\n",
       " 'investigating',\n",
       " 'accepting',\n",
       " 'plan',\n",
       " 'insisted',\n",
       " 'contacted',\n",
       " 'note',\n",
       " 'driving',\n",
       " 'contends',\n",
       " 'cites',\n",
       " 'point',\n",
       " 'sign',\n",
       " 'printed',\n",
       " 'advertise',\n",
       " 'breaks',\n",
       " 'damaged',\n",
       " 'check',\n",
       " 'thinks',\n",
       " 'looming',\n",
       " 'expecting',\n",
       " 'exercised',\n",
       " 'auctioned',\n",
       " 'disappointed',\n",
       " 'subordinated',\n",
       " 'respond',\n",
       " 'secured',\n",
       " 'integrated',\n",
       " 'performed',\n",
       " 'targeting',\n",
       " 'stepped',\n",
       " 'moving',\n",
       " 'split',\n",
       " 'Buy',\n",
       " 'stemming',\n",
       " 'executing',\n",
       " 'shut',\n",
       " 'writing',\n",
       " 'regulated',\n",
       " 'stands',\n",
       " 'attend',\n",
       " 'reopen',\n",
       " 'drawn',\n",
       " 'Put',\n",
       " 'notes',\n",
       " 'weaken',\n",
       " 'trailed',\n",
       " 'deliver',\n",
       " 'occurred',\n",
       " 'changing',\n",
       " 'accept',\n",
       " 'expelled',\n",
       " 'amounted',\n",
       " 'scrutinizing',\n",
       " 'suspend',\n",
       " 'compares',\n",
       " 'backed',\n",
       " 'vote',\n",
       " 'covers',\n",
       " 'knew',\n",
       " 'joining',\n",
       " 'record',\n",
       " 'regarded',\n",
       " 'copy',\n",
       " 'conclude',\n",
       " 'ought',\n",
       " 'dominated',\n",
       " 'pushed',\n",
       " 'closing',\n",
       " 'rumored',\n",
       " 'respected',\n",
       " 'specified',\n",
       " 'understand',\n",
       " 'supported',\n",
       " 'perform',\n",
       " 'declaring',\n",
       " 'struggling',\n",
       " 'abandoned',\n",
       " 'considers',\n",
       " 'warning',\n",
       " 'offsetting',\n",
       " 'break',\n",
       " 'follow',\n",
       " 'figure',\n",
       " 'increases',\n",
       " 'proving',\n",
       " 'edged',\n",
       " 'Buying',\n",
       " 'forecast',\n",
       " 'specify',\n",
       " 'extended',\n",
       " 'tendered',\n",
       " 'unveiled',\n",
       " 'treating',\n",
       " 'exposed',\n",
       " 'industrialized',\n",
       " 'regulate',\n",
       " 'contracted',\n",
       " 'blip',\n",
       " 'vary',\n",
       " 'slid',\n",
       " 'succeeds',\n",
       " 'lifted',\n",
       " 'acts',\n",
       " 'welcomed',\n",
       " 'squeezed',\n",
       " 'fed',\n",
       " 'casting',\n",
       " 'prolonged',\n",
       " 'recorded',\n",
       " 'announce',\n",
       " 'reward',\n",
       " 'bowed',\n",
       " 'justify',\n",
       " 'asserted',\n",
       " 'appealing',\n",
       " 'faces',\n",
       " 'rule',\n",
       " 'inched',\n",
       " 'manufacture',\n",
       " 'fund',\n",
       " 'anticipates',\n",
       " 'link',\n",
       " 'describe',\n",
       " 'roll',\n",
       " 'calculate',\n",
       " 'transferring',\n",
       " 'favored',\n",
       " 'claiming',\n",
       " 'hurting',\n",
       " 'investing',\n",
       " 'trained',\n",
       " 'instituted',\n",
       " 'introducing',\n",
       " 'vowed',\n",
       " 'deemed',\n",
       " 'pose',\n",
       " 'concerned',\n",
       " 'accelerated',\n",
       " 'feels',\n",
       " 'solved',\n",
       " 'forgiven',\n",
       " 'stored',\n",
       " 'assembled',\n",
       " 'totaling',\n",
       " 'linked',\n",
       " 'forces',\n",
       " 'attempts',\n",
       " 'advertised',\n",
       " 'marks',\n",
       " 'sweeping',\n",
       " 'invest',\n",
       " 'kicked',\n",
       " 'brings',\n",
       " 'scrambled',\n",
       " 'diversify',\n",
       " 'swing',\n",
       " 'skyrocketed',\n",
       " 'targeted',\n",
       " 'repaid',\n",
       " 'open',\n",
       " 'crippled',\n",
       " 'lent',\n",
       " 'belongs',\n",
       " 'stressed',\n",
       " 'leveling',\n",
       " 'manufactured',\n",
       " 'pick',\n",
       " 'cite',\n",
       " 'provoke',\n",
       " 'last',\n",
       " 'climbing',\n",
       " 'Excluding',\n",
       " 'adjusting',\n",
       " 'counts',\n",
       " 'handle',\n",
       " 'polled',\n",
       " 'drink',\n",
       " 'sets',\n",
       " 'sidestep',\n",
       " 'fare',\n",
       " 'letting',\n",
       " 'entering',\n",
       " 'ban',\n",
       " 'visiting',\n",
       " 'endorsed',\n",
       " 'balked',\n",
       " 'compensate',\n",
       " 'terminated',\n",
       " 'modify',\n",
       " 'operated',\n",
       " 'entitles',\n",
       " 'romanticized',\n",
       " 'spends',\n",
       " 'condemned',\n",
       " 'competing',\n",
       " 'returning',\n",
       " 'murdered',\n",
       " 'load',\n",
       " 'lives',\n",
       " 'recommend',\n",
       " 'fighting',\n",
       " 'fills',\n",
       " 'charges',\n",
       " 'exist',\n",
       " 'Stung',\n",
       " 'banning',\n",
       " 'admitted',\n",
       " 'talks',\n",
       " 'launch',\n",
       " 'attracted',\n",
       " 'featured',\n",
       " 'devote',\n",
       " 'featuring',\n",
       " 'suing',\n",
       " 'shrinks',\n",
       " 'tripled',\n",
       " 'pumping',\n",
       " 'contributing',\n",
       " 'spur',\n",
       " 'concentrated',\n",
       " 'export',\n",
       " 'pull',\n",
       " 'approach',\n",
       " 'step',\n",
       " 'regard',\n",
       " 'breach',\n",
       " 'pleaded',\n",
       " 'inspired',\n",
       " 'defended',\n",
       " 'treated',\n",
       " 'casts',\n",
       " 'violated',\n",
       " 'enforce',\n",
       " 'surfaced',\n",
       " 'concentrate',\n",
       " 'stressing',\n",
       " 'suffered',\n",
       " 'loved',\n",
       " 'advised',\n",
       " 'studying',\n",
       " 'pushing',\n",
       " 'earn',\n",
       " 'save',\n",
       " 'interviewed',\n",
       " 'explain',\n",
       " 'gauge',\n",
       " 'measured',\n",
       " 'deny',\n",
       " 'hampered',\n",
       " 'fill',\n",
       " 'nominated',\n",
       " 'assured',\n",
       " 'finding',\n",
       " 'conducting',\n",
       " 'tracks',\n",
       " 'merge',\n",
       " 'merged',\n",
       " 'banking',\n",
       " 'achieve',\n",
       " 'acquiring',\n",
       " 'post',\n",
       " 'wish',\n",
       " 'retained',\n",
       " 'spark',\n",
       " 'chaired',\n",
       " 'deal',\n",
       " 'submit',\n",
       " 'sending',\n",
       " 'test',\n",
       " 'relegated',\n",
       " 'alleging',\n",
       " 'mounted',\n",
       " 'harass',\n",
       " 'crossing',\n",
       " 'involves',\n",
       " 'assist',\n",
       " 'killing',\n",
       " 'served',\n",
       " 'understood',\n",
       " 'touch',\n",
       " 'Asked',\n",
       " 'design',\n",
       " 'retaining',\n",
       " 'belonging',\n",
       " 'compiled',\n",
       " 'Guaranteed',\n",
       " 'positioned',\n",
       " 'plunging',\n",
       " 'locked',\n",
       " 'starts',\n",
       " 'waiting',\n",
       " 'rolled',\n",
       " 'lock',\n",
       " 'drifted',\n",
       " 'measures',\n",
       " 'Estimated',\n",
       " ...]"
      ]
     },
     "metadata": {},
     "execution_count": 6
    }
   ],
   "metadata": {}
  },
  {
   "cell_type": "markdown",
   "source": [
    "Note that the items being counted in the frequency distribution are word-tag pairs. Since words and tags are paired, we can treat the word as a condition and the tag as an event, and initialize a conditional frequency distribution with a list of condition-event pairs. This lets us see a frequency-ordered list of tags given a word:"
   ],
   "metadata": {}
  },
  {
   "cell_type": "code",
   "execution_count": null,
   "source": [
    "cfd1 = nltk.ConditionalFreqDist(wsj)\r\n",
    "cfd1['yield'].most_common()"
   ],
   "outputs": [],
   "metadata": {}
  },
  {
   "cell_type": "code",
   "execution_count": null,
   "source": [
    "cfd1['cut'].most_common()"
   ],
   "outputs": [],
   "metadata": {}
  },
  {
   "cell_type": "markdown",
   "source": [
    "We can reverse the order of the pairs, so that the tags are the conditions, and the words are the events. Now we can see likely words for a given tag. We will do this for the WSJ tagset rather than the universal tagset:"
   ],
   "metadata": {}
  },
  {
   "cell_type": "code",
   "execution_count": null,
   "source": [
    "wsj = nltk.corpus.treebank.tagged_words()\r\n",
    "cfd2 = nltk.ConditionalFreqDist((tag, word) for (word, tag) in wsj)\r\n",
    "list(cfd2['VBN'])"
   ],
   "outputs": [],
   "metadata": {}
  },
  {
   "cell_type": "markdown",
   "source": [
    "To clarify the distinction between `VBD` (past tense) and `VBN` (past participle), let's find words which can be both `VBD` and `VBN`, and see some surrounding text:"
   ],
   "metadata": {}
  },
  {
   "cell_type": "code",
   "execution_count": null,
   "source": [
    "cfd1 = nltk.ConditionalFreqDist(wsj)\r\n",
    "sorted(w for w in cfd1.conditions() if 'VBD' in cfd1[w] and 'VBN' in cfd1[w])"
   ],
   "outputs": [],
   "metadata": {}
  },
  {
   "cell_type": "code",
   "execution_count": null,
   "source": [
    "idx1 = wsj.index(('kicked', 'VBD'))\r\n",
    "wsj[idx1-4:idx1+1]"
   ],
   "outputs": [],
   "metadata": {}
  },
  {
   "cell_type": "code",
   "execution_count": null,
   "source": [
    "idx2 = wsj.index(('kicked', 'VBN'))\r\n",
    "wsj[idx2-4:idx2+1]"
   ],
   "outputs": [],
   "metadata": {}
  },
  {
   "cell_type": "markdown",
   "source": [
    "In this case, we see that the past participle of *kicked* is preceded by a form of the auxiliary verb *have*. Is this generally true?"
   ],
   "metadata": {}
  },
  {
   "cell_type": "markdown",
   "source": [
    "### 2.6   Adjectives and Adverbs\n",
    "\n",
    "Two other important word classes are **adjectives** and **adverbs**. Adjectives describe nouns, and can be used as modifiers (e.g. *large* in *the large pizza*), or in predicates (e.g. *the pizza is large*). English adjectives can have internal structure (e.g. *fall*+*ing* in *the falling stocks*). Adverbs modify verbs to specify the time, manner, place or direction of the event described by the verb (e.g. *quickly* in *the stocks fell quickly*). Adverbs may also modify adjectives (e.g. *really* in *Mary's teacher was really nice*).\n",
    "\n",
    "English has several categories of closed class words in addition to prepositions, such as **articles** (also often called **determiners**) (e.g., *the*, *a*), **modals** (e.g., *should*, *may*), and **personal pronouns** (e.g., *she*, *they*). Each dictionary and grammar classifies these words differently."
   ],
   "metadata": {}
  },
  {
   "cell_type": "markdown",
   "source": [
    "### 2.7   Unsimplified Tags\r\n",
    "\r\n",
    "Let's find the most frequent nouns of each noun part-of-speech type. The following program finds all tags starting with `NN`, and provides a few example words for each one. You will see that there are many variants of `NN`; the most important contain `$` for possessive nouns, `S` for plural nouns (since plural nouns typically end in *s*) and `P` for proper nouns. In addition, most of the tags have suffix modifiers: `-NC` for citations, `-HL` for words in headlines and `-TL` for titles (a feature of Brown tags)."
   ],
   "metadata": {}
  },
  {
   "cell_type": "code",
   "execution_count": 7,
   "source": [
    "def findtags(tag_prefix, tagged_text):\r\n",
    "    cfd = nltk.ConditionalFreqDist((tag, word) for (word, tag) in tagged_text\r\n",
    "                                  if tag.startswith(tag_prefix))\r\n",
    "    return dict((tag, cfd[tag].most_common(5)) for tag in cfd.conditions())\r\n",
    "\r\n",
    "tagdict = findtags('NN', nltk.corpus.brown.tagged_words(categories='news'))\r\n",
    "for tag in sorted(tagdict):\r\n",
    "    print(tag, tagdict[tag])"
   ],
   "outputs": [
    {
     "output_type": "stream",
     "name": "stdout",
     "text": [
      "NN [('year', 137), ('time', 97), ('state', 88), ('week', 85), ('man', 72)]\n",
      "NN$ [(\"year's\", 13), (\"world's\", 8), (\"state's\", 7), (\"nation's\", 6), (\"city's\", 6)]\n",
      "NN$-HL [(\"Golf's\", 1), (\"Navy's\", 1)]\n",
      "NN$-TL [(\"President's\", 11), (\"Administration's\", 3), (\"Army's\", 3), (\"League's\", 3), (\"University's\", 3)]\n",
      "NN-HL [('sp.', 2), ('problem', 2), ('Question', 2), ('cut', 2), ('party', 2)]\n",
      "NN-NC [('ova', 1), ('eva', 1), ('aya', 1)]\n",
      "NN-TL [('President', 88), ('House', 68), ('State', 59), ('University', 42), ('City', 41)]\n",
      "NN-TL-HL [('Fort', 2), ('Mayor', 1), ('Commissioner', 1), ('City', 1), ('Oak', 1)]\n",
      "NNS [('years', 101), ('members', 69), ('people', 52), ('sales', 51), ('men', 46)]\n",
      "NNS$ [(\"children's\", 7), (\"women's\", 5), (\"men's\", 3), (\"janitors'\", 3), (\"taxpayers'\", 2)]\n",
      "NNS$-HL [(\"Dealers'\", 1), (\"Idols'\", 1)]\n",
      "NNS$-TL [(\"Women's\", 4), (\"States'\", 3), (\"Giants'\", 2), (\"Princes'\", 1), (\"Bombers'\", 1)]\n",
      "NNS-HL [('Wards', 1), ('deputies', 1), ('bonds', 1), ('aspects', 1), ('Decisions', 1)]\n",
      "NNS-TL [('States', 38), ('Nations', 11), ('Masters', 10), ('Communists', 9), ('Rules', 9)]\n",
      "NNS-TL-HL [('Nations', 1)]\n"
     ]
    }
   ],
   "metadata": {}
  },
  {
   "cell_type": "markdown",
   "source": [
    "When we come to constructing part-of-speech taggers later in this chapter, we will use the unsimplified tags."
   ],
   "metadata": {}
  },
  {
   "cell_type": "markdown",
   "source": [
    "### 2.8   Exploring Tagged Corpora\n",
    "\n",
    "Let's briefly return to the kinds of exploration of corpora we saw in previous chapters, this time exploiting POS tags.\n",
    "\n",
    "Suppose we're studying the word *often* and want to see how it is used in text. We could ask to see the words that follow *often*:"
   ],
   "metadata": {}
  },
  {
   "cell_type": "code",
   "execution_count": null,
   "source": [
    "brown_learned_text = brown.words(categories='learned')\r\n",
    "sorted(set(b for (a, b) in nltk.bigrams(brown_learned_text) if a == 'often'))"
   ],
   "outputs": [],
   "metadata": {}
  },
  {
   "cell_type": "markdown",
   "source": [
    "However, it's probably more instructive to use the `tagged_words()` method to look at the part-of-speech tag of the following words:"
   ],
   "metadata": {}
  },
  {
   "cell_type": "code",
   "execution_count": null,
   "source": [
    "brown_lrnd_tagged = brown.tagged_words(categories='learned', tagset='universal')\r\n",
    "tags = [b[1] for (a, b) in nltk.bigrams(brown_lrnd_tagged) if a[0] == 'often']\r\n",
    "fd = nltk.FreqDist(tags)\r\n",
    "fd.tabulate()"
   ],
   "outputs": [],
   "metadata": {}
  },
  {
   "cell_type": "markdown",
   "source": [
    "Notice that the most high-frequency parts of speech following *often* are verbs. Nouns never appear in this position (in this particular corpus).\n",
    "\n",
    "Next, let's look at some larger context, and find words involving particular sequences of tags and words (in this case `\"<Verb> to <Verb>\"`). In the following code we consider each three-word window in the sentence, and check if they meet our criterion. If the tags match, we print the corresponding words."
   ],
   "metadata": {}
  },
  {
   "cell_type": "code",
   "execution_count": null,
   "source": [
    "from nltk.corpus import brown\r\n",
    "def process(sentence):\r\n",
    "    for (w1,t1), (w2,t2), (w3,t3) in nltk.trigrams(sentence): \r\n",
    "        if (t1.startswith('V') and t2 == 'TO' and t3.startswith('V')):\r\n",
    "            print(w1, w2, w3)\r\n",
    "\r\n",
    "for tagged_sent in brown.tagged_sents():\r\n",
    "    process(tagged_sent)"
   ],
   "outputs": [],
   "metadata": {}
  },
  {
   "cell_type": "markdown",
   "source": [
    "Finally, let's look for words that are highly ambiguous as to their part of speech tag. Understanding why such words are tagged as they are in each context can help us clarify the distinctions between the tags."
   ],
   "metadata": {}
  },
  {
   "cell_type": "code",
   "execution_count": null,
   "source": [
    "brown_news_tagged = brown.tagged_words(categories='news', tagset='universal')\r\n",
    "data = nltk.ConditionalFreqDist((word.lower(), tag)\r\n",
    "                                for (word, tag) in brown_news_tagged)\r\n",
    "for word in sorted(data.conditions()):\r\n",
    "    if len(data[word]) > 2:\r\n",
    "        tags = [tag for (tag, _) in data[word].most_common()]\r\n",
    "        print(word, ' '.join(tags))"
   ],
   "outputs": [],
   "metadata": {}
  },
  {
   "cell_type": "markdown",
   "source": [
    "## 3   Mapping Words to Properties Using Python Dictionaries\n",
    "\n",
    "As we have seen, a tagged word of the form `(word, tag)` is an association between a word and a part-of-speech tag. Once we start doing part-of-speech tagging, we will be creating programs that assign a tag to a word, the tag which is most likely in a given context. We can think of this process as **mapping** from words to tags. The most natural way to store mappings in Python uses the so-called **dictionary** data type (also known as an **associative array** or **hash array** in other programming languages). In this section we look at dictionaries and see how they can represent a variety of language information, including parts of speech."
   ],
   "metadata": {}
  },
  {
   "cell_type": "markdown",
   "source": [
    "### 3.1   Indexing Lists vs Dictionaries\n",
    "\n",
    "A text, as we have seen, is treated in Python as a list of words. An important property of lists is that we can \"look up\" a particular item by giving its index, e.g. `text1[100]`. Notice how we specify a number, and get back a word. We can think of a list as a simple kind of table:\n",
    "\n",
    "<img src='images/maps01.png' width='100' />\n",
    "\n",
    "*List Look-up: we access the contents of a Python list with the help of an integer index.*\n",
    "\n",
    "Contrast this situation with frequency distributions, where we specify a word, and get back a number, e.g. `fdist['monstrous']`, which tells us the number of times a given word has occurred in a text. Look-up using words is familiar to anyone who has used a dictionary. Some more examples are shown below:\n",
    "\n",
    "<img src='images/maps02.png' width='500' />\n",
    "\n",
    "*Dictionary Look-up: we access the entry of a dictionary using a key such as someone's name, a web domain, or an English word; other names for dictionary are map, hashmap, hash, and associative array.*\n",
    "\n",
    "In the case of a phonebook, we look up an entry using a name, and get back a number. When we type a domain name in a web browser, the computer looks this up to get back an IP address. A word frequency table allows us to look up a word and find its frequency in a text collection. In all these cases, we are mapping from names to numbers, rather than the other way around as with a list. In general, we would like to be able to map between arbitrary types of information:\n",
    "\n",
    "*Linguistic Objects as Mappings from Keys to Values*\n",
    "\n",
    "|Linguistic Object \t|Maps From \t|Maps To|\n",
    "|:-|:-|:-|\n",
    "|Document Index \t|Word \t|List of pages (where word is found)|\n",
    "|Thesaurus \t|Word sense \t|List of synonyms|\n",
    "|Dictionary \t|Headword \t|Entry (part-of-speech, sense definitions, etymology)|\n",
    "|Comparative Wordlist \t|Gloss term \t|Cognates (list of words, one per language)|\n",
    "|Morph Analyzer \t|Surface form \t|Morphological analysis (list of component morphemes)|\n",
    "\n",
    "Most often, we are mapping from a \"word\" to some structured object. For example, a document index maps from a word (which we can represent as a string), to a list of pages (represented as a list of integers). In this section, we will see how to represent such mappings in Python.\n"
   ],
   "metadata": {}
  },
  {
   "cell_type": "markdown",
   "source": [
    "### 3.2   Dictionaries in Python\n",
    "\n",
    "Python provides a **dictionary data** type that can be used for mapping between arbitrary types. It is like a conventional dictionary, in that it gives you an efficient way to look things up. However, as we see from the previous table, it has a much wider range of uses.\n",
    "\n",
    "To illustrate, we define `pos` to be an empty dictionary and then add four entries to it, specifying the part-of-speech of some words. We add entries to a dictionary using the familiar square bracket notation:"
   ],
   "metadata": {}
  },
  {
   "cell_type": "code",
   "execution_count": null,
   "source": [
    "pos = {}\r\n",
    "pos"
   ],
   "outputs": [],
   "metadata": {}
  },
  {
   "cell_type": "code",
   "execution_count": null,
   "source": [
    "pos['colorless'] = 'ADJ'\r\n",
    "pos"
   ],
   "outputs": [],
   "metadata": {}
  },
  {
   "cell_type": "code",
   "execution_count": null,
   "source": [
    "pos['ideas'] = 'N'\r\n",
    "pos['sleep'] = 'V'\r\n",
    "pos['furiously'] = 'ADV'\r\n",
    "pos"
   ],
   "outputs": [],
   "metadata": {}
  },
  {
   "cell_type": "markdown",
   "source": [
    "So, for example, we say that the part-of-speech of *colorless* is adjective, or more specifically, that the **key** `'colorless'` is assigned the value `'ADJ'` in dictionary `pos`. When we inspect the value of `pos` we see a set of key-value pairs. Once we have populated the dictionary in this way, we can employ the keys to retrieve values:"
   ],
   "metadata": {}
  },
  {
   "cell_type": "code",
   "execution_count": null,
   "source": [
    "pos['ideas']"
   ],
   "outputs": [],
   "metadata": {}
  },
  {
   "cell_type": "code",
   "execution_count": null,
   "source": [
    "pos['colorless']"
   ],
   "outputs": [],
   "metadata": {}
  },
  {
   "cell_type": "markdown",
   "source": [
    "Of course, we might accidentally use a key that hasn't been assigned a value."
   ],
   "metadata": {}
  },
  {
   "cell_type": "code",
   "execution_count": null,
   "source": [
    "#pos['green']"
   ],
   "outputs": [],
   "metadata": {}
  },
  {
   "cell_type": "markdown",
   "source": [
    "This raises an important question. Unlike lists and strings, where we can use `len()` to work out which integers will be legal indexes, how do we work out the legal keys for a dictionary? If the dictionary is not too big, we can simply inspect its contents by evaluating the variable `pos`. As we saw above, this gives us the key-value pairs. Notice that they are not in the same order they were originally entered; this is because dictionaries are not sequences but mappings, and the keys are not inherently ordered.\n",
    "\n",
    "Alternatively, to just find the keys, we can convert the dictionary to a list — or use the dictionary in a context where a list is expected, as the parameter of `sorted()`, or in a `for` loop."
   ],
   "metadata": {}
  },
  {
   "cell_type": "code",
   "execution_count": null,
   "source": [
    "list(pos)"
   ],
   "outputs": [],
   "metadata": {}
  },
  {
   "cell_type": "code",
   "execution_count": null,
   "source": [
    "sorted(pos)"
   ],
   "outputs": [],
   "metadata": {}
  },
  {
   "cell_type": "code",
   "execution_count": null,
   "source": [
    "[w for w in pos if w.endswith('s')] "
   ],
   "outputs": [],
   "metadata": {}
  },
  {
   "cell_type": "markdown",
   "source": [
    "As well as iterating over all keys in the dictionary with a `for` loop, we can use the `for` loop as we did for printing lists:"
   ],
   "metadata": {}
  },
  {
   "cell_type": "code",
   "execution_count": null,
   "source": [
    "for word in sorted(pos):\r\n",
    "    print(word + \":\", pos[word])"
   ],
   "outputs": [],
   "metadata": {}
  },
  {
   "cell_type": "markdown",
   "source": [
    "Finally, the dictionary methods `keys()`, `values()` and `items()` allow us to access the keys, values, and key-value pairs as separate lists. We can even sort tuples, which orders them according to their first element (and if the first elements are the same, it uses their second elements)."
   ],
   "metadata": {}
  },
  {
   "cell_type": "code",
   "execution_count": null,
   "source": [
    "list(pos.keys())"
   ],
   "outputs": [],
   "metadata": {}
  },
  {
   "cell_type": "code",
   "execution_count": null,
   "source": [
    "list(pos.values())"
   ],
   "outputs": [],
   "metadata": {}
  },
  {
   "cell_type": "code",
   "execution_count": null,
   "source": [
    "list(pos.items())"
   ],
   "outputs": [],
   "metadata": {}
  },
  {
   "cell_type": "code",
   "execution_count": null,
   "source": [
    "for key, val in sorted(pos.items()):\r\n",
    "    print(key + \":\", val)"
   ],
   "outputs": [],
   "metadata": {}
  },
  {
   "cell_type": "markdown",
   "source": [
    "We want to be sure that when we look something up in a dictionary, we only get one value for each key. Now suppose we try to use a dictionary to store the fact that the word *sleep* can be used as both a verb and a noun:"
   ],
   "metadata": {}
  },
  {
   "cell_type": "code",
   "execution_count": null,
   "source": [
    "pos['sleep'] = 'V'\r\n",
    "pos['sleep']"
   ],
   "outputs": [],
   "metadata": {}
  },
  {
   "cell_type": "code",
   "execution_count": null,
   "source": [
    "pos['sleep'] = 'N'\r\n",
    "pos['sleep']"
   ],
   "outputs": [],
   "metadata": {}
  },
  {
   "cell_type": "markdown",
   "source": [
    "Initially, `pos['sleep']` is given the value `'V'`. But this is immediately overwritten with the new value `'N'`. In other words, there can only be one entry in the dictionary for `'sleep'`. However, there is a way of storing multiple values in that entry: we use a list value, e.g. `pos['sleep'] = ['N', 'V']`. In fact, this is what we saw in Chapter 2 for the CMU Pronouncing Dictionary, which stores multiple pronunciations for a single word."
   ],
   "metadata": {}
  },
  {
   "cell_type": "markdown",
   "source": [
    "### 3.3   Defining Dictionaries\n",
    "\n",
    "We can use the same key-value pair format to create a dictionary. There's a couple of ways to do this, and we will normally use the first:"
   ],
   "metadata": {}
  },
  {
   "cell_type": "code",
   "execution_count": null,
   "source": [
    "pos = {'colorless': 'ADJ', 'ideas': 'N', 'sleep': 'V', 'furiously': 'ADV'}\r\n",
    "pos = dict(colorless='ADJ', ideas='N', sleep='V', furiously='ADV')"
   ],
   "outputs": [],
   "metadata": {}
  },
  {
   "cell_type": "markdown",
   "source": [
    "Note that dictionary keys must be immutable types, such as strings and tuples. If we try to define a dictionary using a mutable key, we get a `TypeError`:"
   ],
   "metadata": {}
  },
  {
   "cell_type": "code",
   "execution_count": null,
   "source": [
    "#pos = {['ideas', 'blogs', 'adventures']: 'N'}"
   ],
   "outputs": [],
   "metadata": {}
  },
  {
   "cell_type": "markdown",
   "source": [
    "### 3.4   Default Dictionaries\n",
    "\n",
    "If we try to access a key that is not in a dictionary, we get an error. However, it's often useful if a dictionary can automatically create an entry for this new key and give it a default value, such as zero or the empty list. For this reason, a special kind of dictionary called a `defaultdict` is available. In order to use it, we have to supply a parameter which can be used to create the default value, e.g. `int, float, str, list, dict, tuple`."
   ],
   "metadata": {}
  },
  {
   "cell_type": "code",
   "execution_count": null,
   "source": [
    "from collections import defaultdict\r\n",
    "frequency = defaultdict(int)\r\n",
    "frequency['colorless'] = 4\r\n",
    "frequency['ideas']"
   ],
   "outputs": [],
   "metadata": {}
  },
  {
   "cell_type": "code",
   "execution_count": null,
   "source": [
    "pos = defaultdict(list)\r\n",
    "pos['sleep'] = ['NOUN', 'VERB']\r\n",
    "pos['ideas']"
   ],
   "outputs": [],
   "metadata": {}
  },
  {
   "cell_type": "markdown",
   "source": [
    "The above examples specified the default value of a dictionary entry to be the default value of a particular data type. However, we can specify any default value we like, simply by providing the name of a function that can be called with no arguments to create the required value. Let's return to our part-of-speech example, and create a dictionary whose default value for any entry is `'NOUN'`. When we access a non-existent entry, it is automatically added to the dictionary."
   ],
   "metadata": {}
  },
  {
   "cell_type": "code",
   "execution_count": null,
   "source": [
    "pos = defaultdict(lambda: 'NOUN')\r\n",
    "pos['colorless'] = 'ADJ'\r\n",
    "pos['blog']"
   ],
   "outputs": [],
   "metadata": {}
  },
  {
   "cell_type": "code",
   "execution_count": null,
   "source": [
    "list(pos.items())"
   ],
   "outputs": [],
   "metadata": {}
  },
  {
   "cell_type": "markdown",
   "source": [
    "Let's see how default dictionaries could be used in a more substantial language processing task. Many language processing tasks — including tagging — struggle to correctly process the hapaxes of a text. They can perform better with a fixed vocabulary and a guarantee that no new words will appear. We can preprocess a text to replace low-frequency words with a special \"out of vocabulary\" token `UNK`, with the help of a default dictionary. (Can you work out how to do this without reading on?)\n",
    "\n",
    "We need to create a default dictionary that maps each word to its replacement. The most frequent *n* words will be mapped to themselves. Everything else will be mapped to `UNK`."
   ],
   "metadata": {}
  },
  {
   "cell_type": "code",
   "execution_count": null,
   "source": [
    "import nltk\r\n",
    "alice = nltk.corpus.gutenberg.words('carroll-alice.txt')\r\n",
    "vocab = nltk.FreqDist(alice)\r\n",
    "v1000 = [word for (word, _) in vocab.most_common(1000)]\r\n",
    "mapping = defaultdict(lambda: 'UNK')\r\n",
    "for v in v1000:\r\n",
    "    mapping[v] = v\r\n",
    "\r\n",
    "alice2 = [mapping[v] for v in alice]\r\n",
    "alice2[:100]"
   ],
   "outputs": [],
   "metadata": {}
  },
  {
   "cell_type": "code",
   "execution_count": null,
   "source": [
    "len(set(alice2))"
   ],
   "outputs": [],
   "metadata": {}
  },
  {
   "cell_type": "markdown",
   "source": [
    "### 3.5   Incrementally Updating a Dictionary\n",
    "\n",
    "We can employ dictionaries to count occurrences, emulating the method for tallying words shown in Chapter 1. We begin by initializing an empty `defaultdict`, then process each part-of-speech tag in the text. If the tag hasn't been seen before, it will have a zero count by default. Each time we encounter a tag, we increment its count using the `+=` operator."
   ],
   "metadata": {}
  },
  {
   "cell_type": "code",
   "execution_count": null,
   "source": [
    "from collections import defaultdict\r\n",
    "counts = defaultdict(int)\r\n",
    "from nltk.corpus import brown\r\n",
    "for (word, tag) in brown.tagged_words(categories='news', tagset='universal'):\r\n",
    "    counts[tag] += 1\r\n",
    "\r\n",
    "counts['NOUN']"
   ],
   "outputs": [],
   "metadata": {}
  },
  {
   "cell_type": "code",
   "execution_count": null,
   "source": [
    "sorted(counts)"
   ],
   "outputs": [],
   "metadata": {}
  },
  {
   "cell_type": "code",
   "execution_count": null,
   "source": [
    "sorted(counts.items(), key=lambda x:x[1], reverse=True)"
   ],
   "outputs": [],
   "metadata": {}
  },
  {
   "cell_type": "code",
   "execution_count": null,
   "source": [
    "[t for t, c in sorted(counts.items(), key=lambda x:x[1], reverse=True)]"
   ],
   "outputs": [],
   "metadata": {}
  },
  {
   "cell_type": "markdown",
   "source": [
    "There's a useful programming idiom at the beginning of the listing, where we initialize a `defaultdict` and then use a `for` loop to update its values. Here's a schematic version:\n",
    "\n",
    "`my_dictionary = defaultdict(` *function to create default value* `)`  \n",
    "`for` *item* `in` *sequence* `:`  \n",
    "`...  my_dictionary[` *item_key* `]` *is updated with information about item*\n",
    "\n",
    "Here's another instance of this pattern, where we index words according to their last two letters:"
   ],
   "metadata": {}
  },
  {
   "cell_type": "code",
   "execution_count": null,
   "source": [
    "last_letters = defaultdict(list)\r\n",
    "words = nltk.corpus.words.words('en')\r\n",
    "for word in words:\r\n",
    "    key = word[-2:]\r\n",
    "    last_letters[key].append(word)\r\n",
    "\r\n",
    "last_letters['ly']"
   ],
   "outputs": [],
   "metadata": {}
  },
  {
   "cell_type": "code",
   "execution_count": null,
   "source": [
    "last_letters['zy']"
   ],
   "outputs": [],
   "metadata": {}
  },
  {
   "cell_type": "markdown",
   "source": [
    "The following example uses the same pattern to create an anagram dictionary. (You might experiment with the third line to get an idea of why this program works.)"
   ],
   "metadata": {}
  },
  {
   "cell_type": "code",
   "execution_count": null,
   "source": [
    "anagrams = defaultdict(list)\r\n",
    "for word in words:\r\n",
    "    key = ''.join(sorted(word))\r\n",
    "    anagrams[key].append(word)\r\n",
    "\r\n",
    "anagrams['aeilnrt']"
   ],
   "outputs": [],
   "metadata": {}
  },
  {
   "cell_type": "markdown",
   "source": [
    "Since accumulating words like this is such a common task, NLTK provides a more convenient way of creating a `defaultdict(list)`, in the form of `nltk.Index()`."
   ],
   "metadata": {}
  },
  {
   "cell_type": "code",
   "execution_count": null,
   "source": [
    "anagrams = nltk.Index((''.join(sorted(w)), w) for w in words)\r\n",
    "anagrams['aeilnrt']"
   ],
   "outputs": [],
   "metadata": {}
  },
  {
   "cell_type": "markdown",
   "source": [
    "### 3.6   Complex Keys and Values\n",
    "\n",
    "We can use default dictionaries with complex keys and values. Let's study the range of possible tags for a word, given the word itself, and the tag of the previous word. We will see how this information can be used by a POS tagger."
   ],
   "metadata": {}
  },
  {
   "cell_type": "code",
   "execution_count": null,
   "source": [
    "pos = defaultdict(lambda: defaultdict(int))\r\n",
    "brown_news_tagged = brown.tagged_words(categories='news', tagset='universal')\r\n",
    "for ((w1, t1), (w2, t2)) in nltk.bigrams(brown_news_tagged): \r\n",
    "    pos[(t1, w2)][t2] += 1 \r\n",
    "\r\n",
    "pos[('DET', 'right')]"
   ],
   "outputs": [],
   "metadata": {}
  },
  {
   "cell_type": "markdown",
   "source": [
    "This example uses a dictionary whose default value for an entry is a dictionary (whose default value is `int()`, i.e. zero). Notice how we iterated over the bigrams of the tagged corpus, processing a pair of word-tag pairs for each iteration. Each time through the loop we updated our `pos` dictionary's entry for `(t1, w2)`, a tag and its *following word*. When we look up an item in `pos` we must specify a compound key, and we get back a dictionary object. A POS tagger could use such information to decide that the word *right*, when preceded by a determiner, should be tagged as `ADJ`."
   ],
   "metadata": {}
  },
  {
   "cell_type": "markdown",
   "source": [
    "### 3.7   Inverting a Dictionary\n",
    "\n",
    "Dictionaries support efficient lookup, so long as you want to get the value for any key. If `d` is a dictionary and `k` is a key, we type `d[k]` and immediately obtain the value. Finding a key given a value is slower and more cumbersome:"
   ],
   "metadata": {}
  },
  {
   "cell_type": "code",
   "execution_count": null,
   "source": [
    "counts = defaultdict(int)\r\n",
    "for word in nltk.corpus.gutenberg.words('milton-paradise.txt'):\r\n",
    "    counts[word] += 1\r\n",
    "\r\n",
    "[key for (key, value) in counts.items() if value == 32]"
   ],
   "outputs": [],
   "metadata": {}
  },
  {
   "cell_type": "markdown",
   "source": [
    "If we expect to do this kind of \"reverse lookup\" often, it helps to construct a dictionary that maps values to keys. In the case that no two keys have the same value, this is an easy thing to do. We just get all the key-value pairs in the dictionary, and create a new dictionary of value-key pairs. The next example also illustrates another way of initializing a dictionary `pos` with key-value pairs."
   ],
   "metadata": {}
  },
  {
   "cell_type": "code",
   "execution_count": null,
   "source": [
    "pos = {'colorless': 'ADJ', 'ideas': 'N', 'sleep': 'V', 'furiously': 'ADV'}\r\n",
    "pos2 = dict((value, key) for (key, value) in pos.items())\r\n",
    "pos2['N']"
   ],
   "outputs": [],
   "metadata": {}
  },
  {
   "cell_type": "markdown",
   "source": [
    "Let's first make our part-of-speech dictionary a bit more realistic and add some more words to `pos` using the dictionary `update()` method, to create the situation where multiple keys have the same value. Then the technique just shown for reverse lookup will no longer work (why not?). Instead, we have to use `append()` to accumulate the words for each part-of-speech, as follows:"
   ],
   "metadata": {}
  },
  {
   "cell_type": "code",
   "execution_count": null,
   "source": [
    "pos.update({'cats': 'N', 'scratch': 'V', 'peacefully': 'ADV', 'old': 'ADJ'})\r\n",
    "pos2 = defaultdict(list)\r\n",
    "for key, value in pos.items():\r\n",
    "    pos2[value].append(key)\r\n",
    "\r\n",
    "pos2['ADV']"
   ],
   "outputs": [],
   "metadata": {}
  },
  {
   "cell_type": "markdown",
   "source": [
    "Now we have inverted the `pos` dictionary, and can look up any part-of-speech and find all words having that part-of-speech. We can do the same thing even more simply using NLTK's support for indexing as follows:"
   ],
   "metadata": {}
  },
  {
   "cell_type": "code",
   "execution_count": null,
   "source": [
    "pos2 = nltk.Index((value, key) for (key, value) in pos.items())\r\n",
    "pos2['ADV']"
   ],
   "outputs": [],
   "metadata": {}
  },
  {
   "cell_type": "markdown",
   "source": [
    "A summary of Python's dictionary methods is given below.\n",
    "\n",
    "*Python's Dictionary Methods: A summary of commonly-used methods and idioms involving dictionaries.*\n",
    "\n",
    "|Example \t|Description|\n",
    "|:-|:-|\n",
    "|`d = {}`| \tcreate an empty dictionary and assign it to `d`|\n",
    "|`d[key] = value`| \tassign a value to a given dictionary key|\n",
    "|`d.keys()`| \tthe list of keys of the dictionary|\n",
    "|`list(d)`| \tthe list of keys of the dictionary|\n",
    "|`sorted(d)`| \tthe keys of the dictionary, sorted|\n",
    "|`key in d`| \ttest whether a particular key is in the dictionary|\n",
    "|`for key in d`| \titerate over the keys of the dictionary|\n",
    "|`d.values()`| \tthe list of values in the dictionary|\n",
    "|`dict([(k1,v1), (k2,v2), ...])`| \tcreate a dictionary from a list of key-value pairs|\n",
    "|`d1.update(d2)`| \tadd all items from `d2` to `d1`|\n",
    "|`defaultdict(int)`| \ta dictionary whose default value is zero|"
   ],
   "metadata": {}
  },
  {
   "cell_type": "markdown",
   "source": [
    "## 4   Automatic Tagging\n",
    "\n",
    "In the rest of this chapter we will explore various ways to automatically add part-of-speech tags to text. We will see that the tag of a word depends on the word and its context within a sentence. For this reason, we will be working with data at the level of (tagged) sentences rather than words. We'll begin by loading the data we will be using."
   ],
   "metadata": {}
  },
  {
   "cell_type": "code",
   "execution_count": null,
   "source": [
    "from nltk.corpus import brown\r\n",
    "brown_tagged_sents = brown.tagged_sents(categories='news')\r\n",
    "brown_sents = brown.sents(categories='news')"
   ],
   "outputs": [],
   "metadata": {}
  },
  {
   "cell_type": "markdown",
   "source": [
    "### 4.1   The Default Tagger\n",
    "\n",
    "The simplest possible tagger assigns the same tag to each token. This may seem to be a rather banal step, but it establishes an important baseline for tagger performance. In order to get the best result, we tag each word with the most likely tag. Let's find out which tag is most likely (now using the unsimplified tagset):"
   ],
   "metadata": {}
  },
  {
   "cell_type": "code",
   "execution_count": null,
   "source": [
    "tags = [tag for (word, tag) in brown.tagged_words(categories='news')]\r\n",
    "nltk.FreqDist(tags).max()"
   ],
   "outputs": [],
   "metadata": {}
  },
  {
   "cell_type": "markdown",
   "source": [
    "Now we can create a tagger that tags everything as `NN`."
   ],
   "metadata": {}
  },
  {
   "cell_type": "code",
   "execution_count": null,
   "source": [
    "raw = 'I do not like green eggs and ham, I do not like them Sam I am!'\r\n",
    "tokens = nltk.word_tokenize(raw)\r\n",
    "default_tagger = nltk.DefaultTagger('NN')\r\n",
    "default_tagger.tag(tokens)"
   ],
   "outputs": [],
   "metadata": {}
  },
  {
   "cell_type": "markdown",
   "source": [
    "Unsurprisingly, this method performs rather poorly. On a typical corpus, it will tag only about an eighth of the tokens correctly, as we see below:"
   ],
   "metadata": {}
  },
  {
   "cell_type": "code",
   "execution_count": null,
   "source": [
    "default_tagger.evaluate(brown_tagged_sents)"
   ],
   "outputs": [],
   "metadata": {}
  },
  {
   "cell_type": "markdown",
   "source": [
    "Default taggers assign their tag to every single word, even words that have never been encountered before. As it happens, once we have processed several thousand words of English text, most new words will be nouns. As we will see, this means that default taggers can help to improve the robustness of a language processing system. We will return to them shortly."
   ],
   "metadata": {}
  },
  {
   "cell_type": "markdown",
   "source": [
    "### 4.2   The Regular Expression Tagger\n",
    "\n",
    "The regular expression tagger assigns tags to tokens on the basis of matching patterns. For instance, we might guess that any word ending in `ed` is the past participle of a verb, and any word ending with `'s` is a possessive noun. We can express these as a list of regular expressions:"
   ],
   "metadata": {}
  },
  {
   "cell_type": "code",
   "execution_count": null,
   "source": [
    "patterns = [\r\n",
    "    (r'.*ing$', 'VBG'),                # gerunds\r\n",
    "    (r'.*ed$', 'VBD'),                 # simple past\r\n",
    "    (r'.*es$', 'VBZ'),                 # 3rd singular present\r\n",
    "    (r'.*ould$', 'MD'),                # modals\r\n",
    "    (r'.*\\'s$', 'NN$'),                # possessive nouns\r\n",
    "    (r'.*s$', 'NNS'),                  # plural nouns\r\n",
    "    (r'^-?[0-9]+(\\.[0-9]+)?$', 'CD'),  # cardinal numbers\r\n",
    "    (r'.*', 'NN')                      # nouns (default)\r\n",
    "]"
   ],
   "outputs": [],
   "metadata": {}
  },
  {
   "cell_type": "markdown",
   "source": [
    "Note that these are processed in order, and the first one that matches is applied. Now we can set up a tagger and use it to tag a sentence. Now it's right about a fifth of the time."
   ],
   "metadata": {}
  },
  {
   "cell_type": "code",
   "execution_count": null,
   "source": [
    "regexp_tagger = nltk.RegexpTagger(patterns)\r\n",
    "regexp_tagger.tag(brown_sents[3])"
   ],
   "outputs": [],
   "metadata": {}
  },
  {
   "cell_type": "code",
   "execution_count": null,
   "source": [
    "regexp_tagger.evaluate(brown_tagged_sents)"
   ],
   "outputs": [],
   "metadata": {}
  },
  {
   "cell_type": "markdown",
   "source": [
    "The final regular expression `«.*»` is a catch-all that tags everything as a noun. This is equivalent to the default tagger (only much less efficient). Instead of re-specifying this as part of the regular expression tagger, is there a way to combine this tagger with the default tagger? We will see how to do this shortly."
   ],
   "metadata": {}
  },
  {
   "cell_type": "markdown",
   "source": [
    "### 4.3   The Lookup Tagger\n",
    "\n",
    "A lot of high-frequency words do not have the `NN` tag. Let's find the hundred most frequent words and store their most likely tag. We can then use this information as the model for a \"lookup tagger\" (an NLTK `UnigramTagger`):"
   ],
   "metadata": {}
  },
  {
   "cell_type": "code",
   "execution_count": null,
   "source": [
    "fd = nltk.FreqDist(brown.words(categories='news'))\r\n",
    "cfd = nltk.ConditionalFreqDist(brown.tagged_words(categories='news'))\r\n",
    "most_freq_words = fd.most_common(100)\r\n",
    "likely_tags = dict((word, cfd[word].max()) for (word, _) in most_freq_words)\r\n",
    "baseline_tagger = nltk.UnigramTagger(model=likely_tags)\r\n",
    "baseline_tagger.evaluate(brown_tagged_sents)"
   ],
   "outputs": [],
   "metadata": {}
  },
  {
   "cell_type": "markdown",
   "source": [
    "It should come as no surprise by now that simply knowing the tags for the 100 most frequent words enables us to tag a large fraction of tokens correctly (nearly half in fact). Let's see what it does on some untagged input text:"
   ],
   "metadata": {}
  },
  {
   "cell_type": "code",
   "execution_count": null,
   "source": [
    "sent = brown.sents(categories='news')[3]\r\n",
    "baseline_tagger.tag(sent)"
   ],
   "outputs": [],
   "metadata": {}
  },
  {
   "cell_type": "markdown",
   "source": [
    "Many words have been assigned a tag of None, because they were not among the 100 most frequent words. In these cases we would like to assign the default tag of `NN`. In other words, we want to use the lookup table first, and if it is unable to assign a tag, then use the default tagger, a process known as **backoff**. We do this by specifying one tagger as a parameter to the other, as shown below. Now the lookup tagger will only store word-tag pairs for words other than nouns, and whenever it cannot assign a tag to a word it will invoke the default tagger."
   ],
   "metadata": {}
  },
  {
   "cell_type": "code",
   "execution_count": null,
   "source": [
    "baseline_tagger = nltk.UnigramTagger(model=likely_tags,\r\n",
    "                                     backoff=nltk.DefaultTagger('NN'))"
   ],
   "outputs": [],
   "metadata": {}
  },
  {
   "cell_type": "markdown",
   "source": [
    "Let's put all this together and write a program to create and evaluate lookup taggers having a range of sizes:"
   ],
   "metadata": {}
  },
  {
   "cell_type": "code",
   "execution_count": null,
   "source": [
    "def performance(cfd, wordlist):\r\n",
    "    lt = dict((word, cfd[word].max()) for word in wordlist)\r\n",
    "    baseline_tagger = nltk.UnigramTagger(model=lt, backoff=nltk.DefaultTagger('NN'))\r\n",
    "    return baseline_tagger.evaluate(brown.tagged_sents(categories='news'))\r\n",
    "\r\n",
    "def display():\r\n",
    "    import pylab\r\n",
    "    word_freqs = nltk.FreqDist(brown.words(categories='news')).most_common()\r\n",
    "    words_by_freq = [w for (w, _) in word_freqs]\r\n",
    "    cfd = nltk.ConditionalFreqDist(brown.tagged_words(categories='news'))\r\n",
    "    sizes = 2 ** pylab.arange(15)\r\n",
    "    perfs = [performance(cfd, words_by_freq[:size]) for size in sizes]\r\n",
    "    pylab.plot(sizes, perfs, '-bo')\r\n",
    "    pylab.title('Lookup Tagger Performance with Varying Model Size')\r\n",
    "    pylab.xlabel('Model Size')\r\n",
    "    pylab.ylabel('Performance')\r\n",
    "    pylab.show()\r\n",
    "\r\n",
    "display()"
   ],
   "outputs": [],
   "metadata": {}
  },
  {
   "cell_type": "markdown",
   "source": [
    "Observe that performance initially increases rapidly as the model size grows, eventually reaching a plateau, when large increases in model size yield little improvement in performance. (This example used the `pylab` plotting package, discussed in Chapter 4)"
   ],
   "metadata": {}
  },
  {
   "cell_type": "markdown",
   "source": [
    "### 4.4   Evaluation\n",
    "\n",
    "In the above examples, you will have noticed an emphasis on accuracy scores. In fact, evaluating the performance of such tools is a central theme in NLP. Recall the processing pipeline in Chapter 1; any errors in the output of one module are greatly multiplied in the downstream modules.\n",
    "\n",
    "We evaluate the performance of a tagger relative to the tags a human expert would assign. Since we don't usually have access to an expert and impartial human judge, we make do instead with **gold standard** test data. This is a corpus which has been manually annotated and which is accepted as a standard against which the guesses of an automatic system are assessed. The tagger is regarded as being correct if the tag it guesses for a given word is the same as the gold standard tag.\n",
    "\n",
    "Of course, the humans who designed and carried out the original gold standard annotation were only human. Further analysis might show mistakes in the gold standard, or may eventually lead to a revised tagset and more elaborate guidelines. Nevertheless, the gold standard is by definition \"correct\" as far as the evaluation of an automatic tagger is concerned."
   ],
   "metadata": {}
  },
  {
   "cell_type": "markdown",
   "source": [
    "## 5   N-Gram Tagging\n",
    "\n",
    "### 5.1   Unigram Tagging\n",
    "\n",
    "Unigram taggers are based on a simple statistical algorithm: for each token, assign the tag that is most likely for that particular token. For example, it will assign the tag `JJ` to any occurrence of the word *frequent*, since *frequent* is used as an adjective (e.g. *a frequent word*) more often than it is used as a verb (e.g. *I frequent this cafe*). A unigram tagger behaves just like a lookup tagger, except there is a more convenient technique for setting it up, called **training**. In the following code sample, we train a unigram tagger, use it to tag a sentence, then evaluate:"
   ],
   "metadata": {}
  },
  {
   "cell_type": "code",
   "execution_count": null,
   "source": [
    "from nltk.corpus import brown\r\n",
    "brown_tagged_sents = brown.tagged_sents(categories='news')\r\n",
    "brown_sents = brown.sents(categories='news')\r\n",
    "unigram_tagger = nltk.UnigramTagger(brown_tagged_sents)\r\n",
    "unigram_tagger.tag(brown_sents[2007])"
   ],
   "outputs": [],
   "metadata": {}
  },
  {
   "cell_type": "code",
   "execution_count": null,
   "source": [
    "unigram_tagger.evaluate(brown_tagged_sents)"
   ],
   "outputs": [],
   "metadata": {}
  },
  {
   "cell_type": "markdown",
   "source": [
    "We **train** a `UnigramTagger` by specifying tagged sentence data as a parameter when we initialize the tagger. The training process involves inspecting the tag of each word and storing the most likely tag for any word in a dictionary, stored inside the tagger."
   ],
   "metadata": {}
  },
  {
   "cell_type": "markdown",
   "source": [
    "### 5.2   Separating the Training and Testing Data\n",
    "\n",
    "Now that we are training a tagger on some data, we must be careful not to test it on the same data, as we did in the above example. A tagger that simply memorized its training data and made no attempt to construct a general model would get a perfect score, but would also be useless for tagging new text. Instead, we should split the data, training on 90% and testing on the remaining 10%:"
   ],
   "metadata": {}
  },
  {
   "cell_type": "code",
   "execution_count": null,
   "source": [
    "size = int(len(brown_tagged_sents) * 0.9)\r\n",
    "size"
   ],
   "outputs": [],
   "metadata": {}
  },
  {
   "cell_type": "code",
   "execution_count": null,
   "source": [
    "train_sents = brown_tagged_sents[:size]\r\n",
    "test_sents = brown_tagged_sents[size:]\r\n",
    "unigram_tagger = nltk.UnigramTagger(train_sents)\r\n",
    "unigram_tagger.evaluate(test_sents)"
   ],
   "outputs": [],
   "metadata": {}
  },
  {
   "cell_type": "markdown",
   "source": [
    "Although the score is worse, we now have a better picture of the usefulness of this tagger, i.e. its performance on previously unseen text."
   ],
   "metadata": {}
  },
  {
   "cell_type": "markdown",
   "source": [
    "### 5.3   General N-Gram Tagging\n",
    "\n",
    "When we perform a language processing task based on unigrams, we are using one item of context. In the case of tagging, we only consider the current token, in isolation from any larger context. Given such a model, the best we can do is tag each word with its *a priori* most likely tag. This means we would tag a word such as *wind* with the same tag, regardless of whether it appears in the context *the wind* or *to wind*.\n",
    "\n",
    "An **n-gram tagger** is a generalization of a unigram tagger whose context is the current word together with the part-of-speech tags of the $n$-1 preceding tokens as shown in the following figure. The tag to be chosen, $t_n$, is circled, and the context is shaded in grey. In the example of this n-gram tagger, we have $n$=3; that is, we consider the tags of the two preceding words in addition to the current word. An n-gram tagger picks the tag that is most likely in the given context.\n",
    "\n",
    "<img src='images/tag-context.png' width='400' />\n",
    "\n",
    "*Tagger Context*\n",
    "\n",
    "The `NgramTagger` class uses a tagged training corpus to determine which part-of-speech tag is most likely for each context. Here we see a special case of an n-gram tagger, namely a bigram tagger. First we train it, then use it to tag untagged sentences:"
   ],
   "metadata": {}
  },
  {
   "cell_type": "code",
   "execution_count": null,
   "source": [
    "bigram_tagger = nltk.BigramTagger(train_sents)\r\n",
    "bigram_tagger.tag(brown_sents[2007])"
   ],
   "outputs": [],
   "metadata": {}
  },
  {
   "cell_type": "code",
   "execution_count": null,
   "source": [
    "unseen_sent = brown_sents[4203]\r\n",
    "bigram_tagger.tag(unseen_sent)"
   ],
   "outputs": [],
   "metadata": {}
  },
  {
   "cell_type": "markdown",
   "source": [
    "Notice that the bigram tagger manages to tag every word in a sentence it saw during training, but does badly on an unseen sentence. As soon as it encounters a new word (i.e., *13.5*), it is unable to assign a tag. It cannot tag the following word (i.e., *million*) even if it was seen during training, simply because it never saw it during training with a `None` tag on the previous word. Consequently, the tagger fails to tag the rest of the sentence. Its overall accuracy score is very low:"
   ],
   "metadata": {}
  },
  {
   "cell_type": "code",
   "execution_count": null,
   "source": [
    "bigram_tagger.evaluate(test_sents)"
   ],
   "outputs": [],
   "metadata": {}
  },
  {
   "cell_type": "markdown",
   "source": [
    "As $n$ gets larger, the specificity of the contexts increases, as does the chance that the data we wish to tag contains contexts that were not present in the training data. This is known as the *sparse data* problem, and is quite pervasive in NLP. As a consequence, there is a trade-off between the accuracy and the coverage of our results (and this is related to the **precision/recall trade-off** in information retrieval)."
   ],
   "metadata": {}
  },
  {
   "cell_type": "markdown",
   "source": [
    "### 5.4   Combining Taggers\n",
    "\n",
    "One way to address the trade-off between accuracy and coverage is to use the more accurate algorithms when we can, but to fall back on algorithms with wider coverage when necessary. For example, we could combine the results of a bigram tagger, a unigram tagger, and a default tagger, as follows:\n",
    "\n",
    "1.    Try tagging the token with the bigram tagger.\n",
    "2.    If the bigram tagger is unable to find a tag for the token, try the unigram tagger.\n",
    "3.    If the unigram tagger is also unable to find a tag, use a default tagger.\n",
    "\n",
    "Most NLTK taggers permit a backoff-tagger to be specified. The backoff-tagger may itself have a backoff tagger:"
   ],
   "metadata": {}
  },
  {
   "cell_type": "code",
   "execution_count": null,
   "source": [
    "t0 = nltk.DefaultTagger('NN')\r\n",
    "t1 = nltk.UnigramTagger(train_sents, backoff=t0)\r\n",
    "t2 = nltk.BigramTagger(train_sents, backoff=t1)\r\n",
    "t2.evaluate(test_sents)"
   ],
   "outputs": [],
   "metadata": {}
  },
  {
   "cell_type": "markdown",
   "source": [
    "Note that we specify the backoff tagger when the tagger is initialized so that training can take advantage of the backoff tagger. Thus, if the bigram tagger would assign the same tag as its unigram backoff tagger in a certain context, the bigram tagger discards the training instance. This keeps the bigram tagger model as small as possible. We can further specify that a tagger needs to see more than one instance of a context in order to retain it, e.g. `nltk.BigramTagger(sents, cutoff=2, backoff=t1)` will discard contexts that have only been seen once or twice."
   ],
   "metadata": {}
  },
  {
   "cell_type": "markdown",
   "source": [
    "### 5.5   Tagging Unknown Words\n",
    "\n",
    "Our approach to tagging unknown words still uses backoff to a regular-expression tagger or a default tagger. These are unable to make use of context. Thus, if our tagger encountered the word *blog*, not seen during training, it would assign it the same tag, regardless of whether this word appeared in the context *the blog* or *to blog*. How can we do better with these unknown words, or **out-of-vocabulary** items?\n",
    "\n",
    "A useful method to tag unknown words based on context is to limit the vocabulary of a tagger to the most frequent *n* words, and to replace every other word with a special word *UNK* using the method shown in Section 3. During training, a unigram tagger will probably learn that *UNK* is usually a noun. However, the n-gram taggers will detect contexts in which it has some other tag. For example, if the preceding word is *to* (tagged `TO`), then *UNK* will probably be tagged as a verb."
   ],
   "metadata": {}
  },
  {
   "cell_type": "markdown",
   "source": [
    "### 5.6   Storing Taggers\n",
    "\n",
    "Training a tagger on a large corpus may take a significant time. Instead of training a tagger every time we need one, it is convenient to save a trained tagger in a file for later re-use. Let's save our tagger `t2` to a file `t2.pkl`."
   ],
   "metadata": {}
  },
  {
   "cell_type": "code",
   "execution_count": null,
   "source": [
    "from pickle import dump\r\n",
    "output = open('t2.pkl', 'wb')\r\n",
    "dump(t2, output, -1)\r\n",
    "output.close()"
   ],
   "outputs": [],
   "metadata": {}
  },
  {
   "cell_type": "markdown",
   "source": [
    "Now, in a separate Python process, we can load our saved tagger."
   ],
   "metadata": {}
  },
  {
   "cell_type": "code",
   "execution_count": null,
   "source": [
    "from pickle import load\r\n",
    "input = open('t2.pkl', 'rb')\r\n",
    "tagger = load(input)\r\n",
    "input.close()"
   ],
   "outputs": [],
   "metadata": {}
  },
  {
   "cell_type": "markdown",
   "source": [
    "Now let's check that it can be used for tagging."
   ],
   "metadata": {}
  },
  {
   "cell_type": "code",
   "execution_count": null,
   "source": [
    "text = \"\"\"The board's action shows what free enterprise\r\n",
    "    is up against in our complex maze of regulatory laws .\"\"\"\r\n",
    "tokens = text.split()\r\n",
    "tagger.tag(tokens)"
   ],
   "outputs": [],
   "metadata": {}
  },
  {
   "cell_type": "markdown",
   "source": [
    "### 5.7   Performance Limitations\n",
    "\n",
    "What is the upper limit to the performance of an n-gram tagger? Consider the case of a trigram tagger. How many cases of part-of-speech ambiguity does it encounter? We can determine the answer to this question empirically:"
   ],
   "metadata": {}
  },
  {
   "cell_type": "code",
   "execution_count": null,
   "source": [
    "cfd = nltk.ConditionalFreqDist(\r\n",
    "           ((x[1], y[1], z[0]), z[1])\r\n",
    "           for sent in brown_tagged_sents\r\n",
    "           for x, y, z in nltk.trigrams(sent))\r\n",
    "ambiguous_contexts = [c for c in cfd.conditions() if len(cfd[c]) > 1]\r\n",
    "sum(cfd[c].N() for c in ambiguous_contexts) / cfd.N()"
   ],
   "outputs": [],
   "metadata": {}
  },
  {
   "cell_type": "markdown",
   "source": [
    "Thus, one out of twenty trigrams is ambiguous. Given the current word and the previous two tags, in 5% of cases there is more than one tag that could be legitimately assigned to the current word according to the training data. Assuming we always pick the most likely tag in such ambiguous contexts, we can derive a lower bound on the performance of a trigram tagger.\n",
    "\n",
    "Another way to investigate the performance of a tagger is to study its mistakes. Some tags may be harder than others to assign, and it might be possible to treat them specially by pre- or post-processing the data. A convenient way to look at tagging errors is the **confusion matrix**. It charts expected tags (the gold standard) against actual tags generated by a tagger:"
   ],
   "metadata": {}
  },
  {
   "cell_type": "markdown",
   "source": [
    "    test_tags = [tag for sent in brown.sents(categories='editorial')\n",
    "                     for (word, tag) in t2.tag(sent)]\n",
    "    gold_tags = [tag for (word, tag) in brown.tagged_words(categories='editorial')]\n",
    "    print(nltk.ConfusionMatrix(gold_tags, test_tags))           "
   ],
   "metadata": {}
  },
  {
   "cell_type": "markdown",
   "source": [
    "Based on such analysis we may decide to modify the tagset. Perhaps a distinction between tags that is difficult to make can be dropped, since it is not important in the context of some larger processing task.\n",
    "\n",
    "Another way to analyze the performance bound on a tagger comes from the less than 100% agreement between human annotators.\n",
    "\n",
    "In general, observe that the tagging process collapses distinctions: e.g. lexical identity is usually lost when all personal pronouns are tagged `PRP`. At the same time, the tagging process introduces new distinctions and removes ambiguities: e.g. *deal* tagged as `VB` or `NN`. This characteristic of collapsing certain distinctions and introducing new distinctions is an important feature of tagging which facilitates classification and prediction. When we introduce finer distinctions in a tagset, an n-gram tagger gets more detailed information about the left-context when it is deciding what tag to assign to a particular word. However, the tagger simultaneously has to do more work to classify the current token, simply because there are more tags to choose from. Conversely, with fewer distinctions (as with the simplified tagset), the tagger has less information about context, and it has a smaller range of choices in classifying the current token.\n",
    "\n",
    "We have seen that ambiguity in the training data leads to an upper limit in tagger performance. Sometimes more context will resolve the ambiguity. In other cases however, the ambiguity can only be resolved with reference to syntax, or to world knowledge. Despite these imperfections, part-of-speech tagging has played a central role in the rise of statistical approaches to natural language processing. In the early 1990s, the surprising accuracy of statistical taggers was a striking demonstration that it was possible to solve one small part of the language understanding problem, namely part-of-speech disambiguation, without reference to deeper sources of linguistic knowledge. Can this idea be pushed further? In Chapter 7, we shall see that it can."
   ],
   "metadata": {}
  },
  {
   "cell_type": "markdown",
   "source": [
    "## 6   Transformation-Based Tagging\n",
    "\n",
    "A potential issue with n-gram taggers is the size of their n-gram table (or language model). If tagging is to be employed in a variety of language technologies deployed on mobile computing devices, it is important to strike a balance between model size and tagger performance. An n-gram tagger with backoff may store trigram and bigram tables, large sparse arrays which may have hundreds of millions of entries.\n",
    "\n",
    "A second issue concerns context. The only information an n-gram tagger considers from prior context is tags, even though words themselves might be a useful source of information. It is simply impractical for n-gram models to be conditioned on the identities of words in the context. In this section we examine Brill tagging, an inductive tagging method which performs very well using models that are only a tiny fraction of the size of n-gram taggers.\n",
    "\n",
    "Brill tagging is a kind of *transformation-based learning*, named after its inventor. The general idea is very simple: guess the tag of each word, then go back and fix the mistakes. In this way, a Brill tagger successively transforms a bad tagging of a text into a better one. As with n-gram tagging, this is a *supervised learning* method, since we need annotated training data to figure out whether the tagger's guess is a mistake or not. However, unlike n-gram tagging, it does not count observations but compiles a list of transformational correction rules.\n",
    "\n",
    "The process of Brill tagging is usually explained by analogy with painting. Suppose we were painting a tree, with all its details of boughs, branches, twigs and leaves, against a uniform sky-blue background. Instead of painting the tree first then trying to paint blue in the gaps, it is simpler to paint the whole canvas blue, then \"correct\" the tree section by over-painting the blue background. In the same fashion we might paint the trunk a uniform brown before going back to over-paint further details with even finer brushes. Brill tagging uses the same idea: begin with broad brush strokes then fix up the details, with successively finer changes. Let's look at an example involving the following sentence:\n",
    "\n",
    "(1)\t\tThe President said he will ask Congress to increase grants to states for vocational rehabilitation\n",
    "\n",
    "We will examine the operation of two rules: (a) Replace `NN` with `VB` when the previous word is `TO`; (b) Replace `TO` with `IN` when the next tag is `NNS`. The following table illustrates this process, first tagging with the unigram tagger, then applying the rules to fix the errors.\n",
    "\n",
    "*Steps in Brill Tagging*\n",
    "\n",
    "|Phrase \t|*to* \t|*increase* |*grants* \t|*to* \t|*states* \t|*for* \t|*vocational* \t|*rehabilitation*|\n",
    "|:----------|:------|:----------|:----------|:------|:----------|:------|:--------------|:-------------|\n",
    "|Unigram \t|TO \t|*NN* \t    |NNS        |*TO* \t| NNS \t    |IN \t|JJ \t        |NN            |\n",
    "|Rule 1 \t| \t    |*VB* \t    |  \t        |\t  \t|  \t  \t    |       |               |              |\n",
    "|Rule 2 \t| \t  \t| \t        |           |*IN*   |\t  \t    |  \t  \t|               |              |\n",
    "|Output \t|TO \t|VB \t    |NNS        |IN \t| NNS \t    |IN \t|JJ \t        |NN            |\n",
    "|Gold \t    |TO \t|VB \t    |NNS        |IN \t| NNS \t    |IN \t|JJ \t        |NN            |\n",
    "\n",
    "In this table we see two rules. All such rules are generated from a template of the following form: \"replace $T_1$ with $T_2$ in the context $C$\". Typical contexts are the identity or the tag of the preceding or following word, or the appearance of a specific tag within 2-3 words of the current word. During its training phase, the tagger guesses values for $T_1$, $T_2$ and $C$, to create thousands of candidate rules. Each rule is scored according to its net benefit: the number of incorrect tags that it corrects, less the number of correct tags it incorrectly modifies.\n",
    "\n",
    "Brill taggers have another interesting property: the rules are linguistically interpretable. Compare this with the n-gram taggers, which employ a potentially massive table of n-grams. We cannot learn much from direct inspection of such a table, in comparison to the rules learned by the Brill tagger."
   ],
   "metadata": {}
  },
  {
   "cell_type": "code",
   "execution_count": null,
   "source": [
    "from nltk.tbl import demo as brill_demo\r\n",
    "brill_demo.demo()"
   ],
   "outputs": [],
   "metadata": {}
  },
  {
   "cell_type": "markdown",
   "source": [
    "## 7   How to Determine the Category of a Word\n",
    "\n",
    "Now that we have examined word classes in detail, we turn to a more basic question: how do we decide what category a word belongs to in the first place? In general, linguists use morphological, syntactic, and semantic clues to determine the category of a word."
   ],
   "metadata": {}
  },
  {
   "cell_type": "markdown",
   "source": [
    "### 7.1   Morphological Clues\n",
    "\n",
    "The internal structure of a word may give useful clues as to the word's category. For example, *-ness* is a suffix that combines with an adjective to produce a noun, e.g. *happy* → *happiness*, *ill* → *illness*. So if we encounter a word that ends in *-ness*, this is very likely to be a noun. Similarly, *-ment* is a suffix that combines with some verbs to produce a noun, e.g. *govern* → *government* and *establish* → *establishment*.\n",
    "\n",
    "English verbs can also be morphologically complex. For instance, the **present participle** of a verb ends in *-ing*, and expresses the idea of ongoing, incomplete action (e.g. *falling*, *eating*). The *-ing* suffix also appears on nouns derived from verbs, e.g. *the falling of the leaves* (this is known as the **gerund**)."
   ],
   "metadata": {}
  },
  {
   "cell_type": "markdown",
   "source": [
    "### 7.2   Syntactic Clues\n",
    "\n",
    "Another source of information is the typical contexts in which a word can occur. For example, assume that we have already determined the category of nouns. Then we might say that a syntactic criterion for an adjective in English is that it can occur immediately before a noun, or immediately following the words *be* or *very*. According to these tests, *near* should be categorized as an adjective:\n",
    "\n",
    "(2a)\tthe near window\n",
    "\n",
    "(2b)\tThe end is (very) near.\n"
   ],
   "metadata": {}
  },
  {
   "cell_type": "markdown",
   "source": [
    "### 7.3   Semantic Clues\n",
    "\n",
    "Finally, the meaning of a word is a useful clue as to its lexical category. For example, the best-known definition of a noun is semantic: \"the name of a person, place or thing\". Within modern linguistics, semantic criteria for word classes are treated with suspicion, mainly because they are hard to formalize. Nevertheless, semantic criteria underpin many of our intuitions about word classes, and enable us to make a good guess about the categorization of words in languages that we are unfamiliar with. For example, if all we know about the Dutch word *verjaardag* is that it means the same as the English word *birthday*, then we can guess that *verjaardag* is a noun in Dutch. However, some care is needed: although we might translate *zij is vandaag jarig* as *it's her birthday today*, the word *jarig* is in fact an adjective in Dutch, and has no exact equivalent in English.\n"
   ],
   "metadata": {}
  },
  {
   "cell_type": "markdown",
   "source": [
    "### 7.4   New Words\n",
    "\n",
    "All languages acquire new lexical items. A list of words recently added to the Oxford Dictionary of English includes *cyberslacker, fatoush, blamestorm, SARS, cantopop, bupkis, noughties, muggle*, and *robata*. Notice that all these new words are nouns, and this is reflected in calling nouns an **open class**. By contrast, prepositions are regarded as a closed class. That is, there is a limited set of words belonging to the class (e.g., *above, along, at, below, beside, between, during, for, from, in, near, on, outside, over, past, through, towards, under, up, with*), and membership of the set only changes very gradually over time."
   ],
   "metadata": {}
  },
  {
   "cell_type": "markdown",
   "source": [
    "### 7.5   Morphology in Part of Speech Tagsets\n",
    "\n",
    "Common tagsets often capture some **morpho-syntactic** information; that is, information about the kind of morphological markings that words receive by virtue of their syntactic role. Consider, for example, the selection of distinct grammatical forms of the word *go* illustrated in the following sentences:\n",
    "\n",
    "(3a)\t\t*Go* away!\n",
    "\n",
    "(3b)\t\tHe sometimes *goes* to the cafe.\n",
    "\n",
    "(3c)\t\tAll the cakes have *gone*.\n",
    "\n",
    "(3d)\t\tWe *went* on the excursion.\n",
    "\n",
    "Each of these forms — *go, goes, gone*, and *went* — is morphologically distinct from the others. Consider the form, *goes*. This occurs in a restricted set of grammatical contexts, and requires a third person singular subject. Thus, the following sentences are ungrammatical.\n",
    "\n",
    "(4a)\t\t\\*They sometimes *goes* to the cafe.\n",
    "\n",
    "(4b)\t\t\\*I sometimes *goes* to the cafe.\n",
    "\n",
    "By contrast, *gone* is the past participle form; it is required after *have* (and cannot be replaced in this context by *goes*), and cannot occur as the main verb of a clause.\n",
    "\n",
    "(5a)\t\t\\*All the cakes have *goes*.\n",
    "\n",
    "(5b)\t\t\\*He sometimes *gone* to the cafe.\n",
    "\n",
    "We can easily imagine a tagset in which the four distinct grammatical forms just discussed were all tagged as `VB`. Although this would be adequate for some purposes, a more fine-grained tagset provides useful information about these forms that can help other processors that try to detect patterns in tag sequences. The Brown tagset captures these distinctions:\n",
    "\n",
    "*Some morphosyntactic distinctions in the Brown tagset*\n",
    "\n",
    "|Form \t|Category \t            |Tag|\n",
    "|:------|:----------------------|:--|\n",
    "|go \t|base \t                |VB |\n",
    "|goes \t|3rd singular present \t|VBZ|\n",
    "|gone \t|past participle \t    |VBN|\n",
    "|going \t|gerund \t            |VBG|\n",
    "|went \t|simple past \t        |VBD|\n",
    "\n",
    "In addition to this set of verb tags, the various forms of the verb *to be* have special tags: `be/BE`, `being/BEG`, `am/BEM`, `are/BER`, `is/BEZ`, `been/BEN`, `were/BED` and `was/BEDZ` (plus extra tags for negative forms of the verb). All told, this fine-grained tagging of verbs means that an automatic tagger that uses this tagset is effectively carrying out a limited amount of **morphological analysis**.\n",
    "\n",
    "Most part-of-speech tagsets make use of the same basic categories, such as noun, verb, adjective, and preposition. However, tagsets differ both in how finely they divide words into categories, and in how they define their categories. For example, *is* might be tagged simply as a verb in one tagset; but as a distinct form of the lexeme *be* in another tagset (as in the Brown Corpus). This variation in tagsets is unavoidable, since part-of-speech tags are used in different ways for different tasks. In other words, there is no one 'right way' to assign tags, only more or less useful ways depending on one's goals."
   ],
   "metadata": {}
  },
  {
   "cell_type": "markdown",
   "source": [
    "## 8   Summary\n",
    "\n",
    "-    Words can be grouped into classes, such as nouns, verbs, adjectives, and adverbs. These classes are known as lexical categories or parts of speech. Parts of speech are assigned short labels, or tags, such as `NN`, `VB`.\n",
    "-    The process of automatically assigning parts of speech to words in text is called part-of-speech tagging, POS tagging, or just tagging.\n",
    "-    Automatic tagging is an important step in the NLP pipeline, and is useful in a variety of situations including: predicting the behavior of previously unseen words, analyzing word usage in corpora, and text-to-speech systems.\n",
    "-    Some linguistic corpora, such as the Brown Corpus, have been POS tagged.\n",
    "-    A variety of tagging methods are possible, e.g. default tagger, regular expression tagger, unigram tagger and n-gram taggers. These can be combined using a technique known as backoff.\n",
    "-    Taggers can be trained and evaluated using tagged corpora.\n",
    "-    Backoff is a method for combining models: when a more specialized model (such as a bigram tagger) cannot assign a tag in a given context, we backoff to a more general model (such as a unigram tagger).\n",
    "-    Part-of-speech tagging is an important, early example of a sequence classification task in NLP: a classification decision at any one point in the sequence makes use of words and tags in the local context.\n",
    "-    A dictionary is used to map between arbitrary types of information, such as a string and a number: `freq['cat'] = 12`. We create dictionaries using the brace notation: `pos = {}`, `pos = {'furiously': 'adv', 'ideas': 'n', 'colorless': 'adj'}`.\n",
    "-    N-gram taggers can be defined for large values of *n*, but once *n* is larger than 3 we usually encounter the sparse data problem; even with a large quantity of training data we only see a tiny fraction of possible contexts.\n",
    "-    Transformation-based tagging involves learning a series of repair rules of the form \"change tag *s* to tag *t* in context *c*\", where each rule fixes mistakes and possibly introduces a (smaller) number of errors.\n",
    "\n"
   ],
   "metadata": {}
  }
 ],
 "metadata": {
  "kernelspec": {
   "name": "python3",
   "display_name": "Python 3.9.7 64-bit"
  },
  "language_info": {
   "codemirror_mode": {
    "name": "ipython",
    "version": 3
   },
   "file_extension": ".py",
   "mimetype": "text/x-python",
   "name": "python",
   "nbconvert_exporter": "python",
   "pygments_lexer": "ipython3",
   "version": "3.9.7"
  },
  "interpreter": {
   "hash": "7691dc7e968cae2c1305b7cd748cf3c51f27e2f981106cfee5b02ab727978e13"
  }
 },
 "nbformat": 4,
 "nbformat_minor": 2
}